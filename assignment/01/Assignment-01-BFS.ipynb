{
 "cells": [
  {
   "cell_type": "code",
   "execution_count": 2,
   "metadata": {},
   "outputs": [],
   "source": [
    "connection_2 = {\n",
    "    0: [1, 5], \n",
    "    1: [0, 2], \n",
    "    2: [1, 3], \n",
    "    3: [2, 4], \n",
    "    4: [3],\n",
    "    5: [0, 6], \n",
    "    6: [5, 7],\n",
    "    7: [6]\n",
    "}"
   ]
  },
  {
   "cell_type": "code",
   "execution_count": 10,
   "metadata": {},
   "outputs": [],
   "source": [
    "BEIJING, CHANGCHUN, MULUMUQI, WUHAN, GUNAGHZOU, SHENZHEN, BANGKOK, SHANGHAI, NEWYORK = \"\"\"\n",
    "BEIJING CHANGCHUN MULUMUQI WUHAN GUANGZHOU SHENZHEN BANGKOK SHANGHAI NEWYORK\n",
    "\"\"\".split()\n",
    "connection = {\n",
    "    CHANGCHUN: [BEIJING],\n",
    "    MULUMUQI: [BEIJING], \n",
    "    BEIJING: [MULUMUQI, CHANGCHUN, WUHAN, SHENZHEN, NEWYORK],\n",
    "    NEWYORK: [BEIJING, SHANGHAI],\n",
    "    SHANGHAI: [NEWYORK, WUHAN],\n",
    "    WUHAN: [SHANGHAI, BEIJING, GUNAGHZOU],\n",
    "    GUNAGHZOU: [WUHAN, BANGKOK],\n",
    "    SHENZHEN: [WUHAN, BANGKOK],\n",
    "    BANGKOK: [SHENZHEN, GUNAGHZOU]\n",
    "}"
   ]
  },
  {
   "cell_type": "code",
   "execution_count": 12,
   "metadata": {},
   "outputs": [
    {
     "data": {
      "text/plain": [
       "['BEIJING',\n",
       " 'MULUMUQI',\n",
       " 'CHANGCHUN',\n",
       " 'WUHAN',\n",
       " 'SHANGHAI',\n",
       " 'NEWYORK',\n",
       " 'GUANGZHOU',\n",
       " 'BANGKOK']"
      ]
     },
     "execution_count": 12,
     "metadata": {},
     "output_type": "execute_result"
    }
   ],
   "source": [
    "def get_path_BFS(src, des, graph):\n",
    "    pathes = [src]\n",
    "    seen = set()\n",
    "    path = []\n",
    "    \n",
    "    while len(pathes)>0 :\n",
    "        frontier = pathes.pop(0)\n",
    "        if frontier in seen:\n",
    "            continue\n",
    "        seen.add(frontier)    \n",
    "        path.append(frontier)\n",
    "        if frontier==des:\n",
    "            break\n",
    "        successors = graph[frontier]\n",
    "        pathes = successors + pathes\n",
    "    \n",
    "    return path  \n",
    "   \n",
    "get_path_BFS(BEIJING, BANGKOK, connection)"
   ]
  },
  {
   "cell_type": "code",
   "execution_count": null,
   "metadata": {},
   "outputs": [],
   "source": []
  }
 ],
 "metadata": {
  "kernelspec": {
   "display_name": "Python 3",
   "language": "python",
   "name": "python3"
  },
  "language_info": {
   "codemirror_mode": {
    "name": "ipython",
    "version": 3
   },
   "file_extension": ".py",
   "mimetype": "text/x-python",
   "name": "python",
   "nbconvert_exporter": "python",
   "pygments_lexer": "ipython3",
   "version": "3.7.1"
  }
 },
 "nbformat": 4,
 "nbformat_minor": 2
}
