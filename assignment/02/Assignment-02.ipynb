{
 "cells": [
  {
   "cell_type": "markdown",
   "metadata": {},
   "source": [
    "# Assignment-02, Probability Model A First Look: An Introduction of Language Model"
   ]
  },
  {
   "cell_type": "markdown",
   "metadata": {},
   "source": [
    "## Assignment\n",
    "\n",
    "1. Review the course online programming code; \n",
    "2. Review the main questions; \n",
    "3. Using wikipedia corpus to build a language model. "
   ]
  },
  {
   "cell_type": "markdown",
   "metadata": {},
   "source": [
    "## 1. Review the course online programming code. "
   ]
  },
  {
   "cell_type": "markdown",
   "metadata": {},
   "source": [
    "*In this part, you should re-code the programming task in our online course.*\n",
    "\n",
    "> 正则表达式\n",
    "    > 1. 读语料库\n",
    "    > 2. 爬虫"
   ]
  },
  {
   "cell_type": "code",
   "execution_count": 37,
   "metadata": {},
   "outputs": [],
   "source": [
    "import pandas as pd\n",
    "course_corpus = pd.read_csv('sqlResult_1558435.csv', encoding='gb18030')\n",
    "all_articles = course_corpus.content.tolist()"
   ]
  },
  {
   "cell_type": "code",
   "execution_count": 38,
   "metadata": {},
   "outputs": [],
   "source": [
    "import re\n",
    "def token(string):\n",
    "    return ' '.join(re.findall('[\\w|\\d]+', string))\n",
    "\n",
    "TEXT = ''.join([token(str(string)) for string in all_articles])"
   ]
  },
  {
   "cell_type": "code",
   "execution_count": 39,
   "metadata": {},
   "outputs": [
    {
     "name": "stdout",
     "output_type": "stream",
     "text": [
      "length of TEXT is: 37412506\n"
     ]
    }
   ],
   "source": [
    "print('length of TEXT is: {}'.format(len(TEXT)))"
   ]
  },
  {
   "cell_type": "code",
   "execution_count": 40,
   "metadata": {},
   "outputs": [
    {
     "name": "stdout",
     "output_type": "stream",
     "text": [
      "length of txt_from_reduce is: 12164\n"
     ]
    }
   ],
   "source": [
    "# or use reduce to combine\n",
    "from functools import reduce\n",
    "txt_from_reduce = reduce(lambda a1, a2: token(str(a1)) + token(str(a2)), all_articles[:10])\n",
    "print('length of txt_from_reduce is: {}'.format(len(txt_from_reduce)))\n",
    "assert(TEXT[:len(txt_from_reduce)]==txt_from_reduce)"
   ]
  },
  {
   "cell_type": "markdown",
   "metadata": {},
   "source": [
    "> 分词，获取语料库中所有词语\n"
   ]
  },
  {
   "cell_type": "code",
   "execution_count": 41,
   "metadata": {},
   "outputs": [],
   "source": [
    "import jieba\n",
    "def cut(string):\n",
    "    return list(jieba.cut(string))\n",
    "\n",
    "ALL_TOKENS = cut(TEXT)\n",
    "VALID_TOKENS = [token for token in ALL_TOKENS if token.strip() and token!='n'] "
   ]
  },
  {
   "cell_type": "code",
   "execution_count": 42,
   "metadata": {},
   "outputs": [
    {
     "data": {
      "text/plain": [
       "17221785"
      ]
     },
     "execution_count": 42,
     "metadata": {},
     "output_type": "execute_result"
    }
   ],
   "source": [
    "len(VALID_TOKENS)"
   ]
  },
  {
   "cell_type": "markdown",
   "metadata": {},
   "source": [
    "> 计算词频"
   ]
  },
  {
   "cell_type": "code",
   "execution_count": 68,
   "metadata": {},
   "outputs": [],
   "source": [
    "from collections import Counter\n",
    "word_counts = Counter(VALID_TOKENS)\n",
    "\n",
    "frequence_all = [f for w,f in word_counts.most_common()]\n",
    "frequence_sum = sum(frequence_all)"
   ]
  },
  {
   "cell_type": "code",
   "execution_count": 33,
   "metadata": {},
   "outputs": [],
   "source": [
    "def get_prob(word):\n",
    "    esp = 1 / frequence_sum\n",
    "    if word in word_counts:\n",
    "        return word_counts[word] / frequence_sum\n",
    "    else:\n",
    "        return esp\n",
    "    "
   ]
  },
  {
   "cell_type": "code",
   "execution_count": 34,
   "metadata": {},
   "outputs": [],
   "source": [
    "def product(numbers):\n",
    "    return reduce(lambda n1, n2: n1 * n2, numbers)\n"
   ]
  },
  {
   "cell_type": "markdown",
   "metadata": {},
   "source": [
    "> one gram language model"
   ]
  },
  {
   "cell_type": "code",
   "execution_count": 35,
   "metadata": {},
   "outputs": [],
   "source": [
    "def language_model_one_gram(string):\n",
    "    words = cut(string)\n",
    "    return product([get_prob(word) for word in words])"
   ]
  },
  {
   "cell_type": "code",
   "execution_count": 44,
   "metadata": {},
   "outputs": [
    {
     "name": "stdout",
     "output_type": "stream",
     "text": [
      "小明毕业于清华大学 3.039960976514903e-18\n",
      "小明毕业于秦华大学 5.813337476916057e-24\n",
      "今晚我去吃火锅 is more possible\n",
      "---- 我去吃火锅，今晚 with probility 6.876097222574346e-26\n",
      "---- 今晚我去吃火锅 with probility 1.1841866800627252e-18\n",
      "小明今天吃了一架飞机 is more possible\n",
      "---- 小明今天吃了一架飞机 with probility 1.1408998714380734e-24\n",
      "---- 小明今天吃了一架喷气式飞机 with probility 4.5710761764374054e-30\n",
      "小明今天吃了一个苹果 is more possible\n",
      "---- 小明今天吃了一个苹果 with probility 1.3072549452850427e-23\n",
      "---- 小明今天吃了一架喷气式飞机 with probility 4.5710761764374054e-30\n"
     ]
    }
   ],
   "source": [
    "sentences = \"\"\"\n",
    "小明毕业于清华大学\n",
    "小明毕业于秦华大学\n",
    "\"\"\".split()\n",
    "\n",
    "for s in sentences:\n",
    "    print(s, language_model_one_gram(s))\n",
    "    \n",
    "# 句子越长，出现频率越低\n",
    "# 未考虑顺序\n",
    "\n",
    "need_compared = [\n",
    "    \"我去吃火锅，今晚 今晚我去吃火锅\",\n",
    "    \"小明今天吃了一架飞机 小明今天吃了一架喷气式飞机\",\n",
    "    \"小明今天吃了一个苹果 小明今天吃了一架喷气式飞机\"\n",
    "]\n",
    "\n",
    "def sentence_compare(pairs, sentence_prob_func=language_model_one_gram):\n",
    "    for s in pairs:\n",
    "        s1, s2 = s.split()\n",
    "        p1, p2 = sentence_prob_func(s1), sentence_prob_func(s2)\n",
    "    \n",
    "        better = s1 if p1 > p2 else s2\n",
    "    \n",
    "        print('{} is more possible'.format(better))\n",
    "        print('-'*4 + ' {} with probility {}'.format(s1, p1))\n",
    "        print('-'*4 + ' {} with probility {}'.format(s2, p2))\n",
    "        \n",
    "sentence_compare(need_compared)"
   ]
  },
  {
   "cell_type": "markdown",
   "metadata": {},
   "source": [
    "> two gram language model"
   ]
  },
  {
   "cell_type": "code",
   "execution_count": 65,
   "metadata": {},
   "outputs": [],
   "source": [
    "all_2_gram_words = [''.join(VALID_TOKENS[i:i+2]) for i in range(len(VALID_TOKENS)-2)]\n",
    "_2_gram_sum = len(all_2_gram_words)\n",
    "_2_gram_counter = Counter(all_2_gram_words)\n",
    "def get_combination_prob(word1, word2):\n",
    "    if word1 + word2 in _2_gram_counter:\n",
    "        return _2_gram_counter[word1 + word2] / _2_gram_sum\n",
    "    else:\n",
    "        return 1/_2_gram_sum\n",
    "\n",
    "def get_prob_2_gram(word1, word2):\n",
    "    return get_combination_prob(word1, word2) / get_prob(word1)\n",
    "    "
   ]
  },
  {
   "cell_type": "code",
   "execution_count": 67,
   "metadata": {},
   "outputs": [
    {
     "name": "stdout",
     "output_type": "stream",
     "text": [
      "3.783269766877993e-16\n",
      "5.4435542535779205e-19\n",
      "1.1122954608247838e-16\n",
      "4.401644598329534e-20\n"
     ]
    }
   ],
   "source": [
    "def language_model_of_2_gram(sentence):\n",
    "    words = cut(sentence)\n",
    "    sentence_prob = get_prob(words[0])\n",
    "    for i in range(len(words)-2):\n",
    "        sentence_prob *= get_prob_2_gram(words[i], words[i+1])\n",
    "    \n",
    "    return sentence_prob\n",
    "\n",
    "print(language_model_of_2_gram('小明今天吃了一架飞机'))\n",
    "print(language_model_of_2_gram('小明今天吃了一架喷气式飞机'))\n",
    "print(language_model_of_2_gram('小明今天抽奖抽到一台苹果手机'))\n",
    "print(language_model_of_2_gram('小明今天今天抽奖抽到一台波音飞机'))"
   ]
  },
  {
   "cell_type": "code",
   "execution_count": 69,
   "metadata": {},
   "outputs": [
    {
     "name": "stdout",
     "output_type": "stream",
     "text": [
      "今晚我去吃火锅 is more possible\n",
      "---- 我去吃火锅，今晚 with probility 1.0580831504965566e-10\n",
      "---- 今晚我去吃火锅 with probility 4.974106155814898e-10\n",
      "养乐多绿来一杯 is more possible\n",
      "---- 洋葱奶昔来一杯 with probility 1.1613200748517083e-08\n",
      "---- 养乐多绿来一杯 with probility 5.8065996999265405e-08\n",
      "小明今天吃了一个苹果 is more possible\n",
      "---- 小明今天吃了一架飞机 with probility 3.783269766877993e-16\n",
      "---- 小明今天吃了一个苹果 with probility 2.3624417877615912e-14\n"
     ]
    }
   ],
   "source": [
    "need_compared = [\n",
    "    \"我去吃火锅，今晚 今晚我去吃火锅\",\n",
    "    \"洋葱奶昔来一杯 养乐多绿来一杯\",\n",
    "    \"小明今天吃了一架飞机 小明今天吃了一个苹果\"\n",
    "]\n",
    "\n",
    "for s in need_compared:\n",
    "    s1, s2 = s.split()\n",
    "    p1, p2 = language_model_of_2_gram(s1), language_model_of_2_gram(s2)\n",
    "    \n",
    "    better = s1 if p1 > p2 else s2\n",
    "    \n",
    "    print('{} is more possible'.format(better))\n",
    "    print('-'*4 + ' {} with probility {}'.format(s1, p1))\n",
    "    print('-'*4 + ' {} with probility {}'.format(s2, p2))"
   ]
  },
  {
   "cell_type": "markdown",
   "metadata": {},
   "source": [
    "## 2. Review the main points of this lesson. "
   ]
  },
  {
   "cell_type": "markdown",
   "metadata": {},
   "source": [
    "##### 1. How to Github and Why do we use Jupyter and Pycharm; "
   ]
  },
  {
   "cell_type": "markdown",
   "metadata": {},
   "source": [
    "Ans: \n",
    "\n",
    "**github:**\n",
    "+ 复制远程仓库到本地：git clone 远程仓库地址\n",
    "+ 创建本地仓库：git init\n",
    "+ 创建远程仓库：在github页面新建\n",
    "+ 本地仓库连接到远程：git remote add origin 远程仓库地址\n",
    "+ 提交代码：git add，git commit，git push\n",
    "+ 拉取最新代码：git pull\n",
    "\n",
    "**Why do we use Jupyter and Pycharm:**\n",
    "\n",
    "Jupyter可以即时看到每行代码的效果，方便进行快速的实验，而且其中可以嵌入markdown，在代码中穿插讲解和图示、公式都很方便，适合作为向其他人展示结果或想法的载体；\n",
    "Pycharm中有调试和代码分析的工具，而且可以清晰的展示项目结构，适合开发比较大的项目。"
   ]
  },
  {
   "cell_type": "markdown",
   "metadata": {},
   "source": [
    "##### 2. What's the Probability Model?"
   ]
  },
  {
   "cell_type": "markdown",
   "metadata": {},
   "source": [
    "Ans:概率模型是对随机事件建模，研究事件发生的概率。"
   ]
  },
  {
   "cell_type": "markdown",
   "metadata": {},
   "source": [
    "##### 3. Can you came up with some sceneraies at which we could use Probability Model?"
   ]
  },
  {
   "cell_type": "markdown",
   "metadata": {},
   "source": [
    "Ans:赌博中胜率的计算，或朴素贝叶斯模型，也是基于概率的，常用于垃圾邮件分类"
   ]
  },
  {
   "cell_type": "markdown",
   "metadata": {},
   "source": [
    "##### 4. Why do we use probability and what's the difficult points for programming based on parsing and pattern match? \n"
   ]
  },
  {
   "cell_type": "markdown",
   "metadata": {},
   "source": [
    "Ans:\n",
    "\n",
    "概率可以描述对一类事件的概括，可以帮助我们跳出对单个事件的分析（或减少分析的复杂性），帮助我们理解整体的规律。\n",
    "\n",
    "基于解析和模式匹配的编程，需要人工从任务中总结出规律和规则，这个总结的过程本身就很复杂和繁琐，而用规则列举出所有可能的情况，也是很困难的，最后，用代码实现这些规则，也是一个复杂的过程，很容易出错。"
   ]
  },
  {
   "cell_type": "markdown",
   "metadata": {},
   "source": [
    "##### 5. What's the Language Model;"
   ]
  },
  {
   "cell_type": "markdown",
   "metadata": {},
   "source": [
    "Ans: 对一个句子成立的可能性建模。"
   ]
  },
  {
   "cell_type": "markdown",
   "metadata": {},
   "source": [
    "#####  6. Can you came up with some sceneraies at which we could use Language Model?"
   ]
  },
  {
   "cell_type": "markdown",
   "metadata": {},
   "source": [
    "Ans: 语音识别、机器翻译。"
   ]
  },
  {
   "cell_type": "markdown",
   "metadata": {},
   "source": [
    "##### 7. What's the 1-gram language model;"
   ]
  },
  {
   "cell_type": "markdown",
   "metadata": {},
   "source": [
    "Ans:句子成立的概率等于句子中所有词同时出现的概率，1-gram认为句子的中每个词出现的概率不受其他词的影响。"
   ]
  },
  {
   "cell_type": "markdown",
   "metadata": {},
   "source": [
    "##### 8. What's the disadvantages and advantages of 1-gram language model;"
   ]
  },
  {
   "cell_type": "markdown",
   "metadata": {},
   "source": [
    "Ans:1-gram的假设比较强，优点是简化了模型，容易实现，缺点是出错的可能性也更大，因为现实中存在很多与假设不相容的情况。"
   ]
  },
  {
   "cell_type": "markdown",
   "metadata": {},
   "source": [
    "##### 9.  What't the 2-gram models; "
   ]
  },
  {
   "cell_type": "markdown",
   "metadata": {},
   "source": [
    "Ans:句子成立的概率等于句子中所有词同时出现的概率，2-gram认为句子的中每个词出现的概率仅受他前面1个词的影响。"
   ]
  },
  {
   "cell_type": "markdown",
   "metadata": {},
   "source": [
    "##### 10. what's the web crawler, and can you implement a simple crawler? "
   ]
  },
  {
   "cell_type": "markdown",
   "metadata": {},
   "source": [
    "Ans:爬虫就是从网页或应用爬取数据的工具。\n",
    "> 实现:豆瓣图书榜单TOP250爬取"
   ]
  },
  {
   "cell_type": "code",
   "execution_count": 110,
   "metadata": {},
   "outputs": [],
   "source": [
    "import requests\n",
    "from bs4 import BeautifulSoup\n"
   ]
  },
  {
   "cell_type": "code",
   "execution_count": 275,
   "metadata": {},
   "outputs": [],
   "source": [
    "# 豆瓣读书榜单TOP250爬取\n",
    "import requests\n",
    "url = 'https://book.douban.com/top250?start='\n",
    "tag_p = re.compile('<.*?>')\n",
    "books = []\n",
    "\n",
    "for page in range(10):  # 每页25个\n",
    "    url_content = requests.get(url+str(page))\n",
    "    soup = BeautifulSoup(url_content.text)\n",
    "    book_infos = [tr.select('div')[:2] for tr in soup.select('div #content')[0].find_all('tr')]\n",
    "    for book_raw in book_infos:\n",
    "        title = ' '.join([tag_p.sub('', str(t)).strip() for t in book_raw[0].select('a')[0].contents])\n",
    "    \n",
    "        rate = book_raw[1].select('span')[1].string.strip()\n",
    "        rate_people = re.search('\\d+', book_raw[1].select('span')[2].string.strip()).group()\n",
    "        books.append((title, rate, rate_people))\n",
    "    \n",
    "    "
   ]
  },
  {
   "cell_type": "code",
   "execution_count": 277,
   "metadata": {},
   "outputs": [
    {
     "data": {
      "text/plain": [
       "[('追风筝的人', '8.9', '429859'),\n",
       " ('解忧杂货店', '8.5', '415928'),\n",
       " ('小王子', '9.0', '352285'),\n",
       " ('白夜行', '9.1', '307373'),\n",
       " ('围城', '8.9', '258855'),\n",
       " ('三体 : “地球往事”三部曲之一 ', '8.8', '254334'),\n",
       " ('嫌疑人X的献身', '8.9', '251389'),\n",
       " ('活着', '9.3', '211133'),\n",
       " ('挪威的森林', '8.0', '243039'),\n",
       " ('百年孤独', '9.2', '188639'),\n",
       " ('红楼梦', '9.6', '179288'),\n",
       " ('看见', '8.8', '183508'),\n",
       " ('平凡的世界（全三部）', '9.0', '155592'),\n",
       " ('三体Ⅱ : 黑暗森林 ', '9.3', '150060'),\n",
       " ('不能承受的生命之轻', '8.5', '165204'),\n",
       " ('三体Ⅲ : 死神永生 ', '9.2', '148169'),\n",
       " ('达·芬奇密码', '8.2', '162640'),\n",
       " ('我们仨', '8.7', '140479'),\n",
       " ('天才在左 疯子在右 : 国内第一本精神病人访谈手记 ', '8.1', '148488'),\n",
       " ('简爱（英文全本）', '8.5', '137407'),\n",
       " ('哈利·波特与魔法石', '9.0', '121909'),\n",
       " ('明朝那些事儿（壹） : 洪武大帝 ', '8.7', '123393'),\n",
       " ('傲慢与偏见', '8.8', '122811'),\n",
       " ('目送', '8.7', '123586'),\n",
       " ('恶意', '8.4', '119000'),\n",
       " ('解忧杂货店', '8.5', '415928'),\n",
       " ('小王子', '9.0', '352285'),\n",
       " ('白夜行', '9.1', '307373'),\n",
       " ('围城', '8.9', '258855'),\n",
       " ('三体 : “地球往事”三部曲之一 ', '8.8', '254334'),\n",
       " ('嫌疑人X的献身', '8.9', '251389'),\n",
       " ('活着', '9.3', '211133'),\n",
       " ('挪威的森林', '8.0', '243039'),\n",
       " ('百年孤独', '9.2', '188639'),\n",
       " ('红楼梦', '9.6', '179288'),\n",
       " ('看见', '8.8', '183508'),\n",
       " ('平凡的世界（全三部）', '9.0', '155592'),\n",
       " ('三体Ⅱ : 黑暗森林 ', '9.3', '150060'),\n",
       " ('不能承受的生命之轻', '8.5', '165204'),\n",
       " ('三体Ⅲ : 死神永生 ', '9.2', '148169'),\n",
       " ('达·芬奇密码', '8.2', '162640'),\n",
       " ('我们仨', '8.7', '140479'),\n",
       " ('天才在左 疯子在右 : 国内第一本精神病人访谈手记 ', '8.1', '148488'),\n",
       " ('简爱（英文全本）', '8.5', '137407'),\n",
       " ('哈利·波特与魔法石', '9.0', '121909'),\n",
       " ('明朝那些事儿（壹） : 洪武大帝 ', '8.7', '123393'),\n",
       " ('傲慢与偏见', '8.8', '122811'),\n",
       " ('目送', '8.7', '123586'),\n",
       " ('恶意', '8.4', '119000'),\n",
       " ('撒哈拉的故事', '9.0', '109489'),\n",
       " ('小王子', '9.0', '352285'),\n",
       " ('白夜行', '9.1', '307373'),\n",
       " ('围城', '8.9', '258855'),\n",
       " ('三体 : “地球往事”三部曲之一 ', '8.8', '254334'),\n",
       " ('嫌疑人X的献身', '8.9', '251389'),\n",
       " ('活着', '9.3', '211133'),\n",
       " ('挪威的森林', '8.0', '243039'),\n",
       " ('百年孤独', '9.2', '188639'),\n",
       " ('红楼梦', '9.6', '179288'),\n",
       " ('看见', '8.8', '183508'),\n",
       " ('平凡的世界（全三部）', '9.0', '155592'),\n",
       " ('三体Ⅱ : 黑暗森林 ', '9.3', '150060'),\n",
       " ('不能承受的生命之轻', '8.5', '165204'),\n",
       " ('三体Ⅲ : 死神永生 ', '9.2', '148169'),\n",
       " ('达·芬奇密码', '8.2', '162640'),\n",
       " ('我们仨', '8.7', '140479'),\n",
       " ('天才在左 疯子在右 : 国内第一本精神病人访谈手记 ', '8.1', '148488'),\n",
       " ('简爱（英文全本）', '8.5', '137407'),\n",
       " ('哈利·波特与魔法石', '9.0', '121909'),\n",
       " ('明朝那些事儿（壹） : 洪武大帝 ', '8.7', '123393'),\n",
       " ('傲慢与偏见', '8.8', '122811'),\n",
       " ('目送', '8.7', '123586'),\n",
       " ('恶意', '8.4', '119000'),\n",
       " ('撒哈拉的故事', '9.0', '109489'),\n",
       " ('飘', '9.3', '106534'),\n",
       " ('白夜行', '9.1', '307373'),\n",
       " ('围城', '8.9', '258855'),\n",
       " ('三体 : “地球往事”三部曲之一 ', '8.8', '254334'),\n",
       " ('嫌疑人X的献身', '8.9', '251389'),\n",
       " ('活着', '9.3', '211133'),\n",
       " ('挪威的森林', '8.0', '243039'),\n",
       " ('百年孤独', '9.2', '188639'),\n",
       " ('红楼梦', '9.6', '179288'),\n",
       " ('看见', '8.8', '183508'),\n",
       " ('平凡的世界（全三部）', '9.0', '155592'),\n",
       " ('三体Ⅱ : 黑暗森林 ', '9.3', '150060'),\n",
       " ('不能承受的生命之轻', '8.5', '165204'),\n",
       " ('三体Ⅲ : 死神永生 ', '9.2', '148169'),\n",
       " ('达·芬奇密码', '8.2', '162640'),\n",
       " ('我们仨', '8.7', '140479'),\n",
       " ('天才在左 疯子在右 : 国内第一本精神病人访谈手记 ', '8.1', '148488'),\n",
       " ('简爱（英文全本）', '8.5', '137407'),\n",
       " ('哈利·波特与魔法石', '9.0', '121909'),\n",
       " ('明朝那些事儿（壹） : 洪武大帝 ', '8.7', '123393'),\n",
       " ('傲慢与偏见', '8.8', '122811'),\n",
       " ('目送', '8.7', '123586'),\n",
       " ('恶意', '8.4', '119000'),\n",
       " ('撒哈拉的故事', '9.0', '109489'),\n",
       " ('飘', '9.3', '106534'),\n",
       " ('霍乱时期的爱情', '9.0', '109879'),\n",
       " ('围城', '8.9', '258855'),\n",
       " ('三体 : “地球往事”三部曲之一 ', '8.8', '254334'),\n",
       " ('嫌疑人X的献身', '8.9', '251389'),\n",
       " ('活着', '9.3', '211133'),\n",
       " ('挪威的森林', '8.0', '243039'),\n",
       " ('百年孤独', '9.2', '188639'),\n",
       " ('红楼梦', '9.6', '179288'),\n",
       " ('看见', '8.8', '183508'),\n",
       " ('平凡的世界（全三部）', '9.0', '155592'),\n",
       " ('三体Ⅱ : 黑暗森林 ', '9.3', '150060'),\n",
       " ('不能承受的生命之轻', '8.5', '165204'),\n",
       " ('三体Ⅲ : 死神永生 ', '9.2', '148169'),\n",
       " ('达·芬奇密码', '8.2', '162640'),\n",
       " ('我们仨', '8.7', '140479'),\n",
       " ('天才在左 疯子在右 : 国内第一本精神病人访谈手记 ', '8.1', '148488'),\n",
       " ('简爱（英文全本）', '8.5', '137407'),\n",
       " ('哈利·波特与魔法石', '9.0', '121909'),\n",
       " ('明朝那些事儿（壹） : 洪武大帝 ', '8.7', '123393'),\n",
       " ('傲慢与偏见', '8.8', '122811'),\n",
       " ('目送', '8.7', '123586'),\n",
       " ('恶意', '8.4', '119000'),\n",
       " ('撒哈拉的故事', '9.0', '109489'),\n",
       " ('飘', '9.3', '106534'),\n",
       " ('霍乱时期的爱情', '9.0', '109879'),\n",
       " ('许三观卖血记', '8.7', '109038'),\n",
       " ('三体 : “地球往事”三部曲之一 ', '8.8', '254334'),\n",
       " ('嫌疑人X的献身', '8.9', '251389'),\n",
       " ('活着', '9.3', '211133'),\n",
       " ('挪威的森林', '8.0', '243039'),\n",
       " ('百年孤独', '9.2', '188639'),\n",
       " ('红楼梦', '9.6', '179288'),\n",
       " ('看见', '8.8', '183508'),\n",
       " ('平凡的世界（全三部）', '9.0', '155592'),\n",
       " ('三体Ⅱ : 黑暗森林 ', '9.3', '150060'),\n",
       " ('不能承受的生命之轻', '8.5', '165204'),\n",
       " ('三体Ⅲ : 死神永生 ', '9.2', '148169'),\n",
       " ('达·芬奇密码', '8.2', '162640'),\n",
       " ('我们仨', '8.7', '140479'),\n",
       " ('天才在左 疯子在右 : 国内第一本精神病人访谈手记 ', '8.1', '148488'),\n",
       " ('简爱（英文全本）', '8.5', '137407'),\n",
       " ('哈利·波特与魔法石', '9.0', '121909'),\n",
       " ('明朝那些事儿（壹） : 洪武大帝 ', '8.7', '123393'),\n",
       " ('傲慢与偏见', '8.8', '122811'),\n",
       " ('目送', '8.7', '123586'),\n",
       " ('恶意', '8.4', '119000'),\n",
       " ('撒哈拉的故事', '9.0', '109489'),\n",
       " ('飘', '9.3', '106534'),\n",
       " ('霍乱时期的爱情', '9.0', '109879'),\n",
       " ('许三观卖血记', '8.7', '109038'),\n",
       " ('倾城之恋', '8.5', '114064'),\n",
       " ('嫌疑人X的献身', '8.9', '251389'),\n",
       " ('活着', '9.3', '211133'),\n",
       " ('挪威的森林', '8.0', '243039'),\n",
       " ('百年孤独', '9.2', '188639'),\n",
       " ('红楼梦', '9.6', '179288'),\n",
       " ('看见', '8.8', '183508'),\n",
       " ('平凡的世界（全三部）', '9.0', '155592'),\n",
       " ('三体Ⅱ : 黑暗森林 ', '9.3', '150060'),\n",
       " ('不能承受的生命之轻', '8.5', '165204'),\n",
       " ('三体Ⅲ : 死神永生 ', '9.2', '148169'),\n",
       " ('达·芬奇密码', '8.2', '162640'),\n",
       " ('我们仨', '8.7', '140479'),\n",
       " ('天才在左 疯子在右 : 国内第一本精神病人访谈手记 ', '8.1', '148488'),\n",
       " ('简爱（英文全本）', '8.5', '137407'),\n",
       " ('哈利·波特与魔法石', '9.0', '121909'),\n",
       " ('明朝那些事儿（壹） : 洪武大帝 ', '8.7', '123393'),\n",
       " ('傲慢与偏见', '8.8', '122811'),\n",
       " ('目送', '8.7', '123586'),\n",
       " ('恶意', '8.4', '119000'),\n",
       " ('撒哈拉的故事', '9.0', '109489'),\n",
       " ('飘', '9.3', '106534'),\n",
       " ('霍乱时期的爱情', '9.0', '109879'),\n",
       " ('许三观卖血记', '8.7', '109038'),\n",
       " ('倾城之恋', '8.5', '114064'),\n",
       " ('边城', '8.6', '110933'),\n",
       " ('活着', '9.3', '211133'),\n",
       " ('挪威的森林', '8.0', '243039'),\n",
       " ('百年孤独', '9.2', '188639'),\n",
       " ('红楼梦', '9.6', '179288'),\n",
       " ('看见', '8.8', '183508'),\n",
       " ('平凡的世界（全三部）', '9.0', '155592'),\n",
       " ('三体Ⅱ : 黑暗森林 ', '9.3', '150060'),\n",
       " ('不能承受的生命之轻', '8.5', '165204'),\n",
       " ('三体Ⅲ : 死神永生 ', '9.2', '148169'),\n",
       " ('达·芬奇密码', '8.2', '162640'),\n",
       " ('我们仨', '8.7', '140479'),\n",
       " ('天才在左 疯子在右 : 国内第一本精神病人访谈手记 ', '8.1', '148488'),\n",
       " ('简爱（英文全本）', '8.5', '137407'),\n",
       " ('哈利·波特与魔法石', '9.0', '121909'),\n",
       " ('明朝那些事儿（壹） : 洪武大帝 ', '8.7', '123393'),\n",
       " ('傲慢与偏见', '8.8', '122811'),\n",
       " ('目送', '8.7', '123586'),\n",
       " ('恶意', '8.4', '119000'),\n",
       " ('撒哈拉的故事', '9.0', '109489'),\n",
       " ('飘', '9.3', '106534'),\n",
       " ('霍乱时期的爱情', '9.0', '109879'),\n",
       " ('许三观卖血记', '8.7', '109038'),\n",
       " ('倾城之恋', '8.5', '114064'),\n",
       " ('边城', '8.6', '110933'),\n",
       " ('送你一颗子弹', '8.6', '106945'),\n",
       " ('挪威的森林', '8.0', '243039'),\n",
       " ('百年孤独', '9.2', '188639'),\n",
       " ('红楼梦', '9.6', '179288'),\n",
       " ('看见', '8.8', '183508'),\n",
       " ('平凡的世界（全三部）', '9.0', '155592'),\n",
       " ('三体Ⅱ : 黑暗森林 ', '9.3', '150060'),\n",
       " ('不能承受的生命之轻', '8.5', '165204'),\n",
       " ('三体Ⅲ : 死神永生 ', '9.2', '148169'),\n",
       " ('达·芬奇密码', '8.2', '162640'),\n",
       " ('我们仨', '8.7', '140479'),\n",
       " ('天才在左 疯子在右 : 国内第一本精神病人访谈手记 ', '8.1', '148488'),\n",
       " ('简爱（英文全本）', '8.5', '137407'),\n",
       " ('哈利·波特与魔法石', '9.0', '121909'),\n",
       " ('明朝那些事儿（壹） : 洪武大帝 ', '8.7', '123393'),\n",
       " ('傲慢与偏见', '8.8', '122811'),\n",
       " ('目送', '8.7', '123586'),\n",
       " ('恶意', '8.4', '119000'),\n",
       " ('撒哈拉的故事', '9.0', '109489'),\n",
       " ('飘', '9.3', '106534'),\n",
       " ('霍乱时期的爱情', '9.0', '109879'),\n",
       " ('许三观卖血记', '8.7', '109038'),\n",
       " ('倾城之恋', '8.5', '114064'),\n",
       " ('边城', '8.6', '110933'),\n",
       " ('送你一颗子弹', '8.6', '106945'),\n",
       " ('狼图腾', '8.2', '107640'),\n",
       " ('百年孤独', '9.2', '188639'),\n",
       " ('红楼梦', '9.6', '179288'),\n",
       " ('看见', '8.8', '183508'),\n",
       " ('平凡的世界（全三部）', '9.0', '155592'),\n",
       " ('三体Ⅱ : 黑暗森林 ', '9.3', '150060'),\n",
       " ('不能承受的生命之轻', '8.5', '165204'),\n",
       " ('三体Ⅲ : 死神永生 ', '9.2', '148169'),\n",
       " ('达·芬奇密码', '8.2', '162640'),\n",
       " ('我们仨', '8.7', '140479'),\n",
       " ('天才在左 疯子在右 : 国内第一本精神病人访谈手记 ', '8.1', '148488'),\n",
       " ('简爱（英文全本）', '8.5', '137407'),\n",
       " ('哈利·波特与魔法石', '9.0', '121909'),\n",
       " ('明朝那些事儿（壹） : 洪武大帝 ', '8.7', '123393'),\n",
       " ('傲慢与偏见', '8.8', '122811'),\n",
       " ('目送', '8.7', '123586'),\n",
       " ('恶意', '8.4', '119000'),\n",
       " ('撒哈拉的故事', '9.0', '109489'),\n",
       " ('飘', '9.3', '106534'),\n",
       " ('霍乱时期的爱情', '9.0', '109879'),\n",
       " ('许三观卖血记', '8.7', '109038'),\n",
       " ('倾城之恋', '8.5', '114064'),\n",
       " ('边城', '8.6', '110933'),\n",
       " ('送你一颗子弹', '8.6', '106945'),\n",
       " ('狼图腾', '8.2', '107640'),\n",
       " ('哈利·波特与阿兹卡班的囚徒', '8.9', '98237')]"
      ]
     },
     "execution_count": 277,
     "metadata": {},
     "output_type": "execute_result"
    }
   ],
   "source": [
    "books  #(标题，评分，评分人数)"
   ]
  },
  {
   "cell_type": "markdown",
   "metadata": {},
   "source": [
    "##### 11.  There may be some issues to make our crwaler programming difficult, what are these, and how do we solve them?"
   ]
  },
  {
   "cell_type": "markdown",
   "metadata": {},
   "source": [
    "Ans:网站可能会有很多反爬机制，如禁止某些cookie或agent或不带cookie的请求，封锁过于频繁请求的ip，或者存在很多页面跳转；解决方法：在爬虫中带上真实浏览器的cookie和agent，用多个ip轮流访问，或者用selenium模拟真实用户的操作。"
   ]
  },
  {
   "cell_type": "markdown",
   "metadata": {},
   "source": [
    "##### 12. What't the Regular Expression and how to use?"
   ]
  },
  {
   "cell_type": "markdown",
   "metadata": {},
   "source": [
    "Ans:正则表达式描述了一个字符串的构成或者模式，可以用来做字符串的模式匹配。"
   ]
  },
  {
   "cell_type": "markdown",
   "metadata": {},
   "source": [
    "## 3. Using Wikipedia dataset to finish the language model. "
   ]
  },
  {
   "cell_type": "markdown",
   "metadata": {},
   "source": [
    "Step 1: You need to download the corpus from wikipedis:\n",
    "> https://dumps.wikimedia.org/zhwiki/20190401/\n",
    "\n",
    "Step 2: You may need the help of wiki-extractor:\n",
    "\n",
    "> https://github.com/attardi/wikiextractor"
   ]
  },
  {
   "cell_type": "code",
   "execution_count": 2,
   "metadata": {
    "collapsed": true
   },
   "outputs": [
    {
     "name": "stdout",
     "output_type": "stream",
     "text": [
      "../wikiextractor/WikiExtractor.py:2432: DeprecationWarning: Flags not at the start of the expression '\\\\[(((?i)bitcoin:|ftp' (truncated)\n",
      "  re.S | re.U)\n",
      "../wikiextractor/WikiExtractor.py:2439: DeprecationWarning: Flags not at the start of the expression '^(http://|https://)(' (truncated)\n",
      "  re.X | re.S | re.U)\n",
      "../wikiextractor/WikiExtractor.py:645: DeprecationWarning: The 'warn' function is deprecated, use 'warning' instead\n",
      "  self.title, self.id, *errs)\n",
      "WARNING: Template errors in article 'J·K·罗琳' (40039): title(1) recursion(0, 0, 0)\n",
      "../wikiextractor/WikiExtractor.py:645: DeprecationWarning: The 'warn' function is deprecated, use 'warning' instead\n",
      "  self.title, self.id, *errs)\n",
      "WARNING: Template errors in article '单元素集合' (93854): title(1) recursion(0, 0, 0)\n",
      "WARNING: Template errors in article '护国法轮寺' (162351): title(1) recursion(0, 0, 0)\n",
      "WARNING: Template errors in article '中華統一促進黨' (220402): title(1) recursion(0, 0, 0)\n",
      "WARNING: Template errors in article '自然演绎' (292517): title(2) recursion(0, 0, 0)\n",
      "../wikiextractor/WikiExtractor.py:645: DeprecationWarning: The 'warn' function is deprecated, use 'warning' instead\n",
      "  self.title, self.id, *errs)\n",
      "WARNING: Template errors in article '2008年夏季奧林匹克運動會網球比賽' (353877): title(1) recursion(0, 0, 0)\n",
      "WARNING: Template errors in article '2008年夏季奧林匹克運動會足球比賽' (355106): title(1) recursion(0, 0, 0)\n",
      "WARNING: Template errors in article '2008年夏季奧林匹克運動會鐵人三項比賽' (355169): title(1) recursion(0, 0, 0)\n",
      "WARNING: Template errors in article '2008年夏季奧林匹克運動會帆船比賽' (356645): title(1) recursion(0, 0, 0)\n",
      "WARNING: Template errors in article '2008年夏季奧林匹克運動會現代五項比賽' (357473): title(1) recursion(0, 0, 0)\n",
      "WARNING: Template errors in article '2008年夏季奧林匹克運動會壘球比賽' (357492): title(1) recursion(0, 0, 0)\n",
      "WARNING: Template errors in article '2008年夏季奧林匹克運動會棒球比賽' (357512): title(1) recursion(0, 0, 0)\n",
      "WARNING: Template errors in article '2008年夏季奥林匹克运动会乒乓球比赛' (358213): title(1) recursion(0, 0, 0)\n",
      "WARNING: Template errors in article '2008年夏季奧林匹克運動會籃球比賽' (358447): title(1) recursion(0, 0, 0)\n",
      "WARNING: Template errors in article '2008年夏季奧林匹克運動會曲棍球比賽' (358465): title(1) recursion(0, 0, 0)\n",
      "WARNING: Template errors in article '2008年夏季奧林匹克運動會手球比賽' (359382): title(1) recursion(0, 0, 0)\n",
      "WARNING: Template errors in article '2008年夏季奧林匹克運動會水球比賽' (359391): title(1) recursion(0, 0, 0)\n",
      "WARNING: Template errors in article '2008年夏季奧林匹克運動會排球比賽' (360964): title(2) recursion(0, 0, 0)\n",
      "WARNING: Template errors in article '2008年夏季奧林匹克運動會跆拳道比賽' (376215): title(1) recursion(0, 0, 0)\n",
      "WARNING: Template errors in article '湯之花隧道列車槍擊事件' (387932): title(1) recursion(0, 0, 0)\n",
      "WARNING: Template errors in article '2008年夏季奧林匹克運動會拳擊比賽' (388217): title(1) recursion(0, 0, 0)\n",
      "WARNING: Template errors in article '2008年夏季奧林匹克運動會摔跤比賽' (399032): title(1) recursion(0, 0, 0)\n",
      "WARNING: Template errors in article '二元集合' (405063): title(1) recursion(0, 0, 0)\n",
      "WARNING: Template errors in article '2008年夏季奧林匹克運動會體操比賽' (411007): title(3) recursion(0, 0, 0)\n",
      "WARNING: Template errors in article '2008年夏季奧林匹克運動會蹦床比賽' (411617): title(1) recursion(0, 0, 0)\n",
      "WARNING: Template errors in article '2008年夏季奧林匹克運動會藝術體操比賽' (411638): title(1) recursion(0, 0, 0)\n",
      "WARNING: Template errors in article '2008年夏季奧林匹克運動會皮划艇比賽' (424989): title(1) recursion(0, 0, 0)\n",
      "WARNING: Template errors in article '2008年夏季奧林匹克運動會花樣游泳比賽' (429645): title(1) recursion(0, 0, 0)\n",
      "WARNING: Template errors in article '2008年夏季奧林匹克運動會賽艇比賽' (442080): title(1) recursion(0, 0, 0)\n",
      "WARNING: Template errors in article 'AIM-132先進短程空對空飛彈' (498106): title(1) recursion(0, 0, 0)\n",
      "WARNING: Template errors in article '愛因斯坦-嘉當理論' (539852): title(16) recursion(0, 0, 0)\n",
      "WARNING: Template errors in article '刻赤' (659351): title(1) recursion(0, 0, 0)\n",
      "WARNING: Template errors in article '氢化锂' (733624): title(1) recursion(0, 0, 0)\n",
      "WARNING: Template errors in article '等化器' (789846): title(1) recursion(0, 0, 0)\n",
      "WARNING: Template errors in article '2008年夏季残奥会射箭比赛' (797674): title(1) recursion(0, 0, 0)\n",
      "WARNING: Template errors in article '2008年夏季残奥会田径比赛' (797789): title(1) recursion(0, 0, 0)\n",
      "WARNING: Template errors in article '2008年夏季残奥会马术比赛' (797949): title(1) recursion(0, 0, 0)\n",
      "WARNING: Template errors in article '2008年夏季残奥会柔道比赛' (798804): title(1) recursion(0, 0, 0)\n",
      "WARNING: Template errors in article '2008年夏季残奥会自行车比赛' (798794): title(2) recursion(0, 0, 0)\n",
      "WARNING: Template errors in article '2008年夏季残奥会举重比赛' (798815): title(1) recursion(0, 0, 0)\n",
      "WARNING: Template errors in article '2008年夏季残奥会帆船比赛' (798852): title(1) recursion(0, 0, 0)\n",
      "WARNING: Template errors in article '2008年夏季残奥会射击比赛' (798870): title(1) recursion(0, 0, 0)\n",
      "WARNING: Template errors in article '2008年夏季残奥会游泳比赛' (798900): title(1) recursion(0, 0, 0)\n",
      "WARNING: Template errors in article '2008年夏季残奥会轮椅击剑比赛' (799154): title(1) recursion(0, 0, 0)\n",
      "WARNING: Template errors in article '2008年夏季残奥会轮椅网球比赛' (799239): title(1) recursion(0, 0, 0)\n",
      "WARNING: Template errors in article '2010年冬季奥林匹克运动会高山滑雪比赛' (928845): title(1) recursion(0, 0, 0)\n",
      "WARNING: Template errors in article '2010年冬季残奥会高山滑雪比赛' (930806): title(1) recursion(0, 0, 0)\n",
      "WARNING: Template errors in article '2010年亞洲運動會棋類比賽' (932237): title(3) recursion(0, 0, 0)\n",
      "WARNING: Template errors in article '2010年冬季奥林匹克运动会冬季两项比赛' (943696): title(1) recursion(0, 0, 0)\n",
      "WARNING: Template errors in article '2010年冬季残奥会冬季两项比赛' (943703): title(1) recursion(0, 0, 0)\n",
      "WARNING: Template errors in article '2010年冬季奥林匹克运动会有舵雪橇比赛' (944611): title(1) recursion(0, 0, 0)\n",
      "WARNING: Template errors in article '2010年冬季奥林匹克运动会冰壶比赛' (944659): title(1) recursion(0, 0, 0)\n",
      "WARNING: Template errors in article '2010年冬季残奥会越野滑雪比赛' (944627): title(1) recursion(0, 0, 0)\n",
      "WARNING: Template errors in article '2010年冬季奥林匹克运动会花样滑冰比赛' (956193): title(1) recursion(0, 0, 0)\n",
      "WARNING: Template errors in article '2010年冬季奥林匹克运动会冰球比赛' (956406): title(1) recursion(0, 0, 0)\n",
      "WARNING: Template errors in article '2010年冬季奥林匹克运动会自由式滑雪比赛' (956395): title(1) recursion(0, 0, 0)\n",
      "WARNING: Template errors in article '峰值因數' (956856): title(1) recursion(0, 0, 0)\n",
      "WARNING: Template errors in article '2010年冬季奥林匹克运动会无舵雪橇比赛' (965148): title(1) recursion(0, 0, 0)\n",
      "WARNING: Template errors in article '2010年冬季奥林匹克运动会北欧两项比赛' (967267): title(1) recursion(0, 0, 0)\n",
      "WARNING: Template errors in article '2010年冬季奥林匹克运动会俯式冰撬比赛' (967352): title(1) recursion(0, 0, 0)\n",
      "WARNING: Template errors in article '2010年冬季奥林匹克运动会速度滑冰比赛' (967409): title(1) recursion(0, 0, 0)\n",
      "WARNING: Template errors in article '2010年亞洲運動會羽毛球比賽' (968499): title(1) recursion(0, 0, 0)\n",
      "WARNING: Template errors in article '2010年亞洲運動會網球比賽' (968521): title(1) recursion(0, 0, 0)\n",
      "WARNING: Template errors in article '2010年亞洲運動會田徑比賽' (968532): title(1) recursion(0, 0, 0)\n",
      "WARNING: Template errors in article '2010年亞洲運動會水球比賽' (971313): title(1) recursion(0, 0, 0)\n",
      "WARNING: Template errors in article '2010年亞洲運動會籃球比賽' (971317): title(1) recursion(0, 0, 0)\n",
      "WARNING: Template errors in article '2010年亞洲運動會曲棍球比賽' (971351): title(1) recursion(0, 0, 0)\n",
      "WARNING: Template errors in article '2010年亞洲運動會足球比賽' (971355): title(1) recursion(0, 0, 0)\n",
      "WARNING: Template errors in article '2010年亞洲運動會高爾夫球比賽' (971359): title(1) recursion(0, 0, 0)\n",
      "WARNING: Template errors in article '2010年亞洲運動會柔道比賽' (971374): title(1) recursion(0, 0, 0)\n",
      "WARNING: Template errors in article '2010年亞洲運動會跳水比賽' (971431): title(1) recursion(0, 0, 0)\n",
      "WARNING: Template errors in article '2010年亞洲運動會手球比賽' (971371): title(1) recursion(0, 0, 0)\n",
      "WARNING: Template errors in article '2010年亞洲運動會划船比賽' (971604): title(1) recursion(0, 0, 0)\n",
      "WARNING: Template errors in article '2010年亞洲運動會帆船比賽' (971613): title(1) recursion(0, 0, 0)\n",
      "WARNING: Template errors in article '2010年亞洲運動會板球比賽' (971662): title(1) recursion(0, 0, 0)\n",
      "WARNING: Template errors in article '2010年亞洲運動會跆拳道比賽' (971675): title(1) recursion(0, 0, 0)\n",
      "WARNING: Template errors in article '2010年亞洲運動會摔跤比賽' (971688): title(1) recursion(0, 0, 0)\n",
      "WARNING: Template errors in article '2010年亞洲運動會龍舟比賽' (971758): title(1) recursion(0, 0, 0)\n",
      "WARNING: Template errors in article '世界冰壶锦标赛' (1016861): title(1) recursion(0, 0, 0)\n",
      "WARNING: Template errors in article '纽博格林赛道' (1088876): title(1) recursion(0, 0, 0)\n",
      "WARNING: Template errors in article '2009年世界運動會壘球比賽' (1091499): title(1) recursion(0, 0, 0)\n",
      "WARNING: Template errors in article 'HK P2000手槍' (1213726): title(1) recursion(0, 0, 0)\n"
     ]
    },
    {
     "name": "stdout",
     "output_type": "stream",
     "text": [
      "WARNING: Template errors in article '2010年亞洲運動會圍棋比賽' (1348735): title(1) recursion(0, 0, 0)\n",
      "WARNING: Template errors in article '2010年亞洲運動會壘球比賽' (1466147): title(1) recursion(0, 0, 0)\n",
      "WARNING: Template errors in article '2010年亞洲運動會象棋比賽' (1466642): title(1) recursion(0, 0, 0)\n",
      "WARNING: Template errors in article '2010年亞洲運動會國際象棋比賽' (1466639): title(1) recursion(0, 0, 0)\n",
      "WARNING: Template errors in article '2010年亞洲運動會跳水比賽－男子雙人10米跳台' (1498483): title(1) recursion(0, 0, 0)\n",
      "WARNING: Template errors in article '2010年亞洲運動會跳水比賽－女子雙人10米跳台' (1498484): title(1) recursion(0, 0, 0)\n",
      "WARNING: Template errors in article '2010年亞洲運動會跳水比賽－男子雙人3米跳板' (1498485): title(1) recursion(0, 0, 0)\n",
      "WARNING: Template errors in article '2010年亞洲運動會跳水比賽－女子雙人3米跳板' (1498487): title(1) recursion(0, 0, 0)\n",
      "WARNING: Template errors in article '2010年亞洲運動會跳水比賽－男子1米跳板' (1498491): title(1) recursion(0, 0, 0)\n",
      "WARNING: Template errors in article '2010年亞洲運動會跳水比賽－女子1米跳板' (1498494): title(1) recursion(0, 0, 0)\n",
      "WARNING: Template errors in article '2010年亞洲運動會跳水比賽－女子10米跳台' (1498535): title(1) recursion(0, 0, 0)\n",
      "WARNING: Template errors in article '2010年亞洲運動會跳水比賽－女子3米跳板' (1499056): title(1) recursion(0, 0, 0)\n",
      "WARNING: Template errors in article '2010年亞洲運動會跳水比賽－男子3米跳板' (1499138): title(1) recursion(0, 0, 0)\n",
      "WARNING: Template errors in article '2010年亞洲運動會跳水比賽－男子10米跳台' (1499156): title(1) recursion(0, 0, 0)\n",
      "WARNING: Template errors in article '2006年亞洲運動會花樣游泳比賽' (1546329): title(1) recursion(0, 0, 0)\n",
      "WARNING: Template errors in article '後牛頓形式論' (1590636): title(12) recursion(0, 0, 0)\n",
      "WARNING: Template errors in article '亞洲運動會軟式網球比賽' (1596973): title(1) recursion(0, 0, 0)\n",
      "WARNING: Template errors in article '1988年夏季奧林匹克運動會手球比賽' (1603569): title(1) recursion(0, 0, 0)\n",
      "WARNING: Template errors in article '1984年夏季奧林匹克運動會手球比賽' (1603580): title(1) recursion(0, 0, 0)\n",
      "WARNING: Template errors in article '1980年夏季奧林匹克運動會手球比賽' (1603587): title(1) recursion(0, 0, 0)\n",
      "WARNING: Template errors in article '1976年夏季奧林匹克運動會手球比賽' (1603885): title(1) recursion(0, 0, 0)\n",
      "WARNING: Template errors in article '1972年夏季奧林匹克運動會手球比賽' (1603938): title(1) recursion(0, 0, 0)\n",
      "WARNING: Template errors in article '1936年夏季奧林匹克運動會手球比賽' (1604021): title(1) recursion(0, 0, 0)\n",
      "WARNING: Template errors in article 'ECT理论-牛顿引力理论' (1605966): title(4) recursion(0, 0, 0)\n",
      "WARNING: Template errors in article '1988年夏季奧林匹克運動會水球比賽' (1606996): title(1) recursion(0, 0, 0)\n",
      "WARNING: Template errors in article '1984年夏季奧林匹克運動會水球比賽' (1607010): title(1) recursion(0, 0, 0)\n",
      "WARNING: Template errors in article '1980年夏季奧林匹克運動會水球比賽' (1607035): title(1) recursion(0, 0, 0)\n",
      "WARNING: Template errors in article '1976年夏季奧林匹克運動會水球比賽' (1607052): title(1) recursion(0, 0, 0)\n",
      "WARNING: Template errors in article '1972年夏季奧林匹克運動會水球比賽' (1607184): title(1) recursion(0, 0, 0)\n",
      "WARNING: Template errors in article '1968年夏季奧林匹克運動會水球比賽' (1607663): title(1) recursion(0, 0, 0)\n",
      "WARNING: Template errors in article '1964年夏季奧林匹克運動會水球比賽' (1607670): title(1) recursion(0, 0, 0)\n",
      "WARNING: Template errors in article '1960年夏季奧林匹克運動會水球比賽' (1607675): title(1) recursion(0, 0, 0)\n",
      "WARNING: Template errors in article '1956年夏季奧林匹克運動會水球比賽' (1607689): title(1) recursion(0, 0, 0)\n",
      "WARNING: Template errors in article '1952年夏季奧林匹克運動會水球比賽' (1608495): title(1) recursion(0, 0, 0)\n",
      "WARNING: Template errors in article '1936年夏季奧林匹克運動會水球比賽' (1608505): title(1) recursion(0, 0, 0)\n",
      "WARNING: Template errors in article '1932年夏季奧林匹克運動會水球比賽' (1608507): title(1) recursion(0, 0, 0)\n",
      "WARNING: Template errors in article '1948年夏季奧林匹克運動會水球比賽' (1608502): title(1) recursion(0, 0, 0)\n",
      "WARNING: Template errors in article '1924年夏季奧林匹克運動會水球比賽' (1608520): title(1) recursion(0, 0, 0)\n",
      "WARNING: Template errors in article '1920年夏季奧林匹克運動會水球比賽' (1608530): title(1) recursion(0, 0, 0)\n",
      "WARNING: Template errors in article '1928年夏季奧林匹克運動會水球比賽' (1608511): title(1) recursion(0, 0, 0)\n",
      "WARNING: Template errors in article '1908年夏季奧林匹克運動會水球比賽' (1608547): title(1) recursion(0, 0, 0)\n",
      "WARNING: Template errors in article '1912年夏季奧林匹克運動會水球比賽' (1608533): title(1) recursion(0, 0, 0)\n",
      "WARNING: Template errors in article '1904年夏季奧林匹克運動會水球比賽' (1608554): title(1) recursion(0, 0, 0)\n",
      "WARNING: Template errors in article '台灣摩天大樓列表' (1731881): title(1) recursion(0, 0, 0)\n",
      "WARNING: Template errors in article '愛情闖進門' (1795362): title(1) recursion(0, 0, 0)\n",
      "WARNING: Template errors in article '钟公庙街道' (1900923): title(2) recursion(0, 0, 0)\n",
      "WARNING: Template errors in article '焦家庄乡' (1906808): title(1) recursion(0, 0, 0)\n",
      "WARNING: Template errors in article '吉珠沟' (1920625): title(1) recursion(0, 0, 0)\n",
      "WARNING: Template errors in article '最小哈希' (2812987): title(1) recursion(0, 0, 0)\n",
      "WARNING: Template errors in article 'The Pretty Reckless' (2894306): title(1) recursion(0, 0, 0)\n",
      "WARNING: Template errors in article '雷千瑩' (2938572): title(1) recursion(0, 0, 0)\n",
      "WARNING: Template errors in article '潘金英' (3038983): title(1) recursion(0, 0, 0)\n",
      "WARNING: Template errors in article '变异铁角蕨' (3274495): title(1) recursion(0, 0, 0)\n",
      "WARNING: Template errors in article '泰安县衙' (3339249): title(1) recursion(0, 0, 0)\n",
      "WARNING: Template errors in article '少年悍將GO！' (3724500): title(1) recursion(0, 0, 0)\n",
      "WARNING: Template errors in article '广义超几何函数' (4193439): title(1) recursion(0, 0, 0)\n",
      "WARNING: Template errors in article '歷任橫綱列表' (5569536): title(1) recursion(0, 0, 0)\n",
      "WARNING: Template errors in article '安娜·泰瑞莎·姬爾美可' (5649929): title(1) recursion(0, 0, 0)\n",
      "WARNING: Template errors in article '拟松螺属' (5714447): title(1) recursion(0, 0, 0)\n",
      "WARNING: Template errors in article '雅卡尔指数' (6295389): title(2) recursion(0, 0, 0)\n",
      "WARNING: Template errors in article '2019年SBL明星賽' (6460477): title(3) recursion(0, 0, 0)\n"
     ]
    }
   ],
   "source": [
    "!../wikiextractor/WikiExtractor.py -o wiki_expand_corpus -b 250K -q ../../../data/zhwiki-20190401-pages-articles.xml"
   ]
  },
  {
   "cell_type": "code",
   "execution_count": 6,
   "metadata": {
    "collapsed": true
   },
   "outputs": [
    {
     "name": "stdout",
     "output_type": "stream",
     "text": [
      " 24M\twiki_expand_corpus/AX\n",
      " 24M\twiki_expand_corpus/BW\n",
      " 24M\twiki_expand_corpus/BP\n",
      " 24M\twiki_expand_corpus/BY\n",
      " 24M\twiki_expand_corpus/AV\n",
      " 24M\twiki_expand_corpus/AQ\n",
      " 24M\twiki_expand_corpus/BL\n",
      " 24M\twiki_expand_corpus/AC\n",
      " 24M\twiki_expand_corpus/BK\n",
      " 24M\twiki_expand_corpus/AD\n",
      " 24M\twiki_expand_corpus/AM\n",
      " 24M\twiki_expand_corpus/BB\n",
      " 24M\twiki_expand_corpus/AJ\n",
      " 24M\twiki_expand_corpus/BE\n",
      " 24M\twiki_expand_corpus/AP\n",
      " 24M\twiki_expand_corpus/BX\n",
      " 24M\twiki_expand_corpus/AW\n",
      " 24M\twiki_expand_corpus/BQ\n",
      " 24M\twiki_expand_corpus/AY\n",
      " 24M\twiki_expand_corpus/BV\n",
      " 24M\twiki_expand_corpus/AK\n",
      " 24M\twiki_expand_corpus/BD\n",
      " 24M\twiki_expand_corpus/AL\n",
      " 24M\twiki_expand_corpus/BC\n",
      " 24M\twiki_expand_corpus/BJ\n",
      " 24M\twiki_expand_corpus/AE\n",
      " 24M\twiki_expand_corpus/BM\n",
      " 23M\twiki_expand_corpus/AB\n",
      " 15M\twiki_expand_corpus/CA\n",
      " 25M\twiki_expand_corpus/BH\n",
      " 24M\twiki_expand_corpus/AG\n",
      " 24M\twiki_expand_corpus/BO\n",
      " 24M\twiki_expand_corpus/AI\n",
      " 24M\twiki_expand_corpus/BF\n",
      " 24M\twiki_expand_corpus/AN\n",
      " 24M\twiki_expand_corpus/BA\n",
      " 24M\twiki_expand_corpus/BS\n",
      " 24M\twiki_expand_corpus/BT\n",
      " 24M\twiki_expand_corpus/AR\n",
      " 24M\twiki_expand_corpus/BZ\n",
      " 24M\twiki_expand_corpus/AU\n",
      " 24M\twiki_expand_corpus/AO\n",
      " 24M\twiki_expand_corpus/AH\n",
      " 24M\twiki_expand_corpus/BG\n",
      " 24M\twiki_expand_corpus/BN\n",
      " 22M\twiki_expand_corpus/AA\n",
      " 24M\twiki_expand_corpus/BI\n",
      " 24M\twiki_expand_corpus/AF\n",
      " 24M\twiki_expand_corpus/AT\n",
      " 24M\twiki_expand_corpus/AS\n",
      " 24M\twiki_expand_corpus/AZ\n",
      " 24M\twiki_expand_corpus/BU\n",
      " 24M\twiki_expand_corpus/BR\n",
      "1.2G\twiki_expand_corpus\n"
     ]
    }
   ],
   "source": [
    "!du -h wiki_expand_corpus"
   ]
  },
  {
   "cell_type": "code",
   "execution_count": 12,
   "metadata": {},
   "outputs": [
    {
     "name": "stdout",
     "output_type": "stream",
     "text": [
      "      53\r\n"
     ]
    }
   ],
   "source": [
    "!ls -Aq wiki_expand_corpus | wc -l"
   ]
  },
  {
   "cell_type": "markdown",
   "metadata": {},
   "source": [
    "Step 3: Using the technologies and methods to finish the language model; \n",
    "> \n"
   ]
  },
  {
   "cell_type": "code",
   "execution_count": 1,
   "metadata": {},
   "outputs": [],
   "source": [
    "# 1. read file\n",
    "import os\n",
    "wiki_articles = []\n",
    "for sub_folder in os.listdir('wiki_expand_corpus/'):\n",
    "    if sub_folder[0]!='.':\n",
    "        for fname in os.listdir('wiki_expand_corpus/'+sub_folder)[:10]:\n",
    "            filepath = 'wiki_expand_corpus/'+sub_folder+'/'+fname\n",
    "#             print(filepath)\n",
    "            wiki_articles.append(open(filepath).read())\n"
   ]
  },
  {
   "cell_type": "code",
   "execution_count": 3,
   "metadata": {},
   "outputs": [],
   "source": [
    "import re\n",
    "tag_pattern = re.compile('<.*?>')\n",
    "def token_wiki(string, del_pattern):\n",
    "    \n",
    "    return ' '.join(re.findall('[\\w|\\d]+', del_pattern.sub('', string)))\n"
   ]
  },
  {
   "cell_type": "code",
   "execution_count": 4,
   "metadata": {
    "collapsed": true
   },
   "outputs": [
    {
     "data": {
      "text/plain": [
       "'李元曉 李元晓 唐高祖李淵第二十一子 母魯才人 生年不详 从异母兄李元祥生年推断 当在626年或之后 亦曾有傳其為628年出生 631年 封密王 635年 任虢州刺史 640年 受实封八百户 649年 加增实封千户 转任泽州刺史 653年 任宣州刺史 後转任徐州刺史 676年去世 追贈司徒 揚州都督 陪葬献陵 谥号貞 子南安王李穎袭位 另一子李亮 李元祥 李元祥 唐高祖李淵第二十子 母为杨素之女楊嬪 601年 657年 631年 封許王 637年 徙封江王 任蘇州刺史 受实封八百户 649年 加增实封千户 唐高宗即位后 历任金州 鄜州 鄭州刺史 李元祥性格贪婪 好搜集金宝 贪得无厌 与弟弟滕王李元嬰 侄儿蒋王李惲 哥哥虢王李鳳以貪欲暴虐闻名 王府官属都不愿做他们的下属 说 宁向儋 崖 振 白 宁可流放到儋州 今海南儋县 崖州 今海南琼山 振州 今海南三亚 白州 今广西博白 不事江 滕 蒋 虢 元祥体态宽大 腰帯相当于十个人的腰围 饭量相当于数人 当時韓王李元嘉 虢王李鳳 魏王李泰都体态宽大 但都不及李元祥 李元祥还瞎了一个眼 据其墓志记载 李元祥逝世于调露二年七月廿七日 680年9月7日 春秋五十有五 追贈司徒 并州大都督 陪葬献陵 谥号安 7子 后来李元祥孙武阳郡王李堪继嗣为澧国公 其为何人之子不详 房陵公主 房陵公主 唐高祖李淵第六女 621年11月 封永嘉公主 下嫁竇奉節 生下女儿竇氏 654年 改封為房陵大長公主 後來又下嫁賀蘭僧伽 房陵公主先後嫁了兩個丈夫 她的前夫名竇奉節 是高祖李淵竇皇后的侄兒 不但出身高貴 且擔任左衛將軍 秦州都督等職務 但是永嘉公主並不把丈夫放在眼裡 一邊監視丈夫 不許拈花惹草 另一邊包養了不少情夫 永嘉公主的情夫裡 有一個人物名叫楊豫之 是唐太宗李世民胞弟巢刺王李元吉之女壽春縣主的丈夫 永嘉公主和壽春縣主的年紀雖然相彷 但永嘉公主卻是壽春縣主的姑姑 不過她卻和侄女的丈夫幽會 而楊豫之也無所顧忌 他宣稱自己死了母親 要做孝子 不忍有房閨之樂 因此要跟老婆分居 趁機躲開壽春縣主的監視 和永嘉公主通姦 楊豫之很快就被竇奉節帶兵殺去 但竇奉節不久後也死了 丈夫和情夫先後死去 永嘉公主嫁给賀蘭僧伽 而身邊的情夫更猶如雜草般不斷地冒出来 賀蘭僧伽對永嘉公主的淫亂不聞不問 賀蘭僧伽在咸亨四年673年死去 永嘉公主於閏五月初三 在九成宮避暑後去世 時年五十五歲 同年10月4日 陪葬献陵 窦奉节和永嘉公主所生的女兒竇氏 686年7月28日卒 嫁武周隰州刺史建平公于遂古 白尚恕 白尚恕 中国著名数学史家 1921年出生于河北省武安县龙泉村 1934年入北京省立第三师范高小 1938年入安阳大公中学 1942年入陕西西北师范学院 1946年西北大学数学系毕业 其后在兰州大学数学系 西北农学院等地任教师 1958年 1995年任北京师范大学数学系讲师 1980年升为副教授 1985年升为教授 1995年在北京逝世 白尚恕从事中国数学史研究四十余年 著有 九章算术今译 测圆海镜今译 主编 中华文明史 副主编 中国数学史大系 等著作 後西遊記 後西遊记 是 西游记 三大续书之一 另两者为 续西游记 西游补 共四十回 作者不详 仅标明 天花才子评点 該書主要劇情是唐憲宗年間 唐玄奘取得的真經遭貪僧歪解 如來封了經書 令唐玄奘選取經人去靈山求得真解 唐玄奘選得大颠和尚 唐半偈 又集合了孫小聖 豬一戒 沙彌 師徒四人歷盡千辛萬苦終於到達靈山見佛 取得真解 後西遊记 的主要角色為大颠和尚 唐半偈 與孙小圣 猪一戒 沙弥 在花果山上又生出一石猴 称为小圣 孙小圣與大颠和尚前往西天取經 路上相繼收留了猪一戒 沙弥 大颠師徒四人多次陷入危难 终於抵達灵山 求得真解 描述 后西游记 蔡志忠 汪象旭 汪象旭 原名淇 字右子 更字澹漪 号残萝道人 西陵人 生卒年不詳 約顺治年間在世 汪象旭是一位書商 崇好道教 曾点评 西游记 並寫有 西遊證道書 一書 倡 证道 观 開啟清代 讲道说 的先河 但此書係据大略堂 释厄传 古本改写 實際的批評者是黃周星 机械迷城 是一款点击式冒险游戏 由Amanita Design制作並发布于2009年10月16日 Microsoft Windows Mac OS X和Linux平台皆可 其中PC和Mac的试玩版发布于2009年9月30日 机械迷城 采用第三人称视角 玩家通过点击场景中的物体或NPC获取信息 实现动作 但只有处于主角附近的物体才能被点击 机械迷城 的游戏任务是解决一系列谜题 谜题之间相互关联 主角是一个机器人 由一辆飞船送到一片杂物堆 第一个场景是教学关 随后进入机械之城 在游戏过程中 通过气泡提示方式逐渐介绍了主角曾经的女友被几个邪恶机器人抓走的情况 这几个邪恶机器人制造炸弹企图炸毁城市 主角在穿过层层障碍后解除了炸弹并将邪恶机器人送入下水道 解救了女友 值得一提 机械迷城 游戏过程没有任何文字提示 所有信息的传递包括解密信息和故事描述都采用图像方式 机械迷城的开发持续了三年 七位捷克程序员用自己的积蓄开发了游戏 營銷預算约1000美元 机械迷城 广受好评 在评论员集中的网站Game Rankings和Metacritic 游戏平均得分为84 32 和85 游戏赢得了第12届独立游戏节最佳视觉奖 游戏网站Kotaku将它与 火炬之光 并列授予 2009年最佳PC游戏 亚军 仅次于 帝国 全面战争 倒霉熊 倒霉熊 中文 呆呆熊 英文 Backkom 是韩国教育放送公社联手RG动画工作室制作的三维动画短篇喜剧 目前已经播出了8季和一个剧场版 倒霉熊在香港無線兒童台在2009年初時每隔30分鐘播映一小集 其後根據空檔時間形式連播 有時以 及 冰鎮企鵝仔 代替 倒霉熊自2002年至今已获得包括 2002韩国动画大赏特别奖 2003入围第三届国际动画电影展 2004日本 TBS数字元影像大赏 2007韩国广播大赏动画大奖 等多项亚洲和国际大奖 吉益東洞 吉益東洞 生於安藝國山口町 現廣島縣廣島市中區橋本町附近 名爲則 字公言 通稱周助 日本江戶時期著名的漢醫學家 為古方派代表人物 三十歲時提出萬病一毒理論 認為 萬病唯一毒 衆藥皆毒物 以毒攻毒 毒去體佳 其子吉益南涯 為華岡青洲之師 著有 類聚方 藥徵 醫事或問 2012 日本漢方の特徴 日本東洋医学雑誌 63 3 176 180 南勢角溪 南勢角溪為新店溪的支流支一 貫穿台灣新北市的中和區 發源於橫路里山區 全長約8公里 目前已被整治為混凝土排水溝 南勢角溪大致分成主流中和溝與東側支流瓦磘溝和西側支流二八張溝 山脇東洋 山脇東洋 やまわき とうよう 生於丹波國龜山 日本江戶時期著名漢醫學者 為古方派代表人物 為實證醫學的先驅 山脇東洋為後藤艮山弟子 後藤艮山提倡古醫方 為古方派代表 山脇東洋曾經親自解剖水獺 發現中國漢醫學書籍的說法並不合理 對於中國漢醫學所傳陰陽五行與五臟六腑學說提出質疑 寶曆四年 1754年 經京都所司代同意 觀察死刑犯的屍體 並加以解剖 寶曆九年 1759年 出版 藏志 實地記錄人體臟腑 與古代醫書的記載進行比較 開啟了日本漢醫學界 以實證方式進行醫學研究的風氣 其弟子杉田玄白受到他的影響 與前野良澤共同翻譯出 解體新書 著有 藏志 加加美高浩 加加美高浩 是日本的動畫師 神奈川縣横滨市出身 現属Studio潮風 委内瑞拉国家图书馆 委内瑞拉国家图书馆 BN 是委内瑞拉的书籍和报纸的中央存储库 有权获得在委内瑞拉印刷和出版的每本书 或其复制品 它1833年在加拉加斯成立 至今拥有大约713万本藏书 臨界馬赫數 飞机飞行时 当随飞行速度增大 上翼面压力最低点的速度等于此点上的音速时的飞机飞行马赫数称为临界马赫数 或者说 当飞行与某马赫数时 上翼面上流速最大点流速达到音速 此时飞机马赫数即为临界马赫数 美德傳奇 是南夢宮萬代遊戲在2009年12月10日於任天堂遊戲主機Wii上推出的角色扮演遊戲 也是傳奇系列第12款本傳作品 之后以之名移植到PlayStation 3平台 於2010年12月2日在日本发售 內容描述主角阿斯貝爾追求強大力量以保護所愛的故事 故作品性質被官方定義為 見識守護之力有多強的RPG 開頭曲為由韓國歌手寶兒所演唱的日文歌曲 想要守護你 White Wishes 幼年時非常的溫柔 有些懦弱 甚至會因為驚嚇過度而尿褲子 使用的武器是兩把樹枝 在蘇菲喪命後被送到沙漠大城尤 利貝魯迪的勢力大家 奧茲維爾家當養子 有一名身為副官的義兄雷蒙 レイモン 長大後受到勢利主義的養父影響 成長為一名冷酷 不問感情且以成果為第一優先的少校 並對於哥哥艾斯貝爾抱持著又愛又恨的感情 在蘭特遇到危機時率兵前來救援 而後知曉其養父實際上是想要趁勢佔領蘭特 其後與哥哥言歸於好 以守護大輝石任務之身分一同加入眾人之中 並成為一名重視友誼與感情的傑出軍人 對於來路不明的帕絲可以及教官抱持著強大的不信任感 認為不可輕易相信他人 曾多次要求帕絲可及教官表明身分 並對其言辭充滿尖酸刻薄 但因為某次事件之後對其完全改觀 甚至多次有保護她的舉動出現 攻擊方式為使用雙刃劍 A技的劍術以及B技的光束射擊 其實為一漫畫強烈愛好者 甚至會達到忘我的境界 被拉姆達襲擊之後 由於蘇菲的光子進入身體 使得原本非常虛弱的體質突然轉好 同時也獲得了治癒的能力 對於7年未歸也無消息的艾斯貝爾由傷心轉為怒意 並在其回來之時冷漠以對 之後因為蘇菲的關係 兩人言歸於好 對於艾斯貝爾抱持著非常曖昧的感情 但又時常為其遲鈍傷透腦筋 由於溫柔又善解人意而擁有很多的追求者 但她早已心有所屬 充滿愛心 慈悲心且明曉世事 治癒的能力相當傑出 甚至被視為天使 攻擊方式為飛刀為主的A技與治癒 光屬性攻擊技為主的B技 身為隊伍之中的常識人 在skit中會發現她其實經常擔任吐槽的角色 在故事結尾接受了艾斯貝爾的求婚 幼年時不喜說話 因為父親被下毒害死 認為自己隨時都處於生命危險之中 認為人與人之間的一切都是偽善的 只是為了討好自己 但結識艾斯貝爾後 終於擁有真心的朋友 但是 終究自己還是被想奪權的叔父下了毒 在快死之時 不想死 的呼喊引起拉姆達的共鳴 使其寄生其中並奇蹟生還 長大後依然冷靜且誠穩 曾和艾斯貝爾等人一同推翻篡位的叔父 但精神面被拉姆達浸食的他 終究還是步上了魔道 依此與眾人分道揚鏢 並計畫吸收全世界的煇素 進而與星之核融合 心中一直渴望愛斯貝爾拯救他 但終究是沒有達成 因此在絕望之下和拉姆達的精神面達到幾乎完全的契合 攻擊方式為劍術A技與煇術B技 由於位處騎士團 在王位爭奪戰時身為艾斯貝爾等人的敵人 在理查德復位後加入眾人行列 年輕時出身於工業大國芬迪爾 並且加入革命組織誓言推翻腐敗的政府 但隨後失敗 也失去摯愛羅貝莉亞 自此變得有些消極 有一好友卡茲 兩人為了實現理想走向完全不同的道路 最後藉由卡茲的死 喚醒自己的改革之魂 並誓言為摯友完成理想 是一名值得令人敬重的人物 常常給予眾人許多意見 使用投刃的A技以及煇術的B技 非常擅長調酒 其傳奇是為了一名失戀女子調出傳說中的麻婆豆腐湯 並使其喝了之後瘋狂的迷戀上自己再瀟灑而去 初版的美德傳奇由于设计问题导致包括关键道具无法出现 对话无法进行 料理导致非战斗人员HP归0 特定BOSS战无法发生 装备数量显示异常和特定场景死机等BUG NBGI展开光盘更换服务 所有购买了 圣恩传说 正版游戏光盘的玩家均可免费更换光盘 2009年NBGI出售损坏商品的减损处理损失达125亿日元 瑪麗 喬 費爾南德斯 瑪麗 喬 費爾南德斯 是一位美國女子職業網球運動員 費爾南德斯在1986年轉為職業球員 在美國達拉斯獲得首個WTA雙打冠軍 首個WTA單打冠軍在日本東京獲得 另外在大滿貫成績方面 費爾南德斯在1990年 1992年澳網與1993年法網三度闖入大滿貫決賽 分別負於施特菲 葛拉芙與莫妮卡 莎莉絲兩位90年代網壇天后 在雙打方面獲得1991年澳網與1996年法網大滿貫女雙冠軍 費爾南德斯的職業生涯一共獲得4個WTA單打冠軍17個WTA雙打冠軍 在2000年宣布退役 貝特朗 弗朗索瓦 馬埃 德 拉布爾多內 貝特朗 弗朗索瓦 馬埃 德 拉布爾多內 1699年2月11日生於法國聖馬洛 1753年11月10日歿於巴黎 是一位法國海軍軍官和地方長官 服役於法國東印度公司 拉布爾多內於1699年2月11日出生於法國布列塔尼聖馬洛 年少就開始出海 1718年即他19歲時便以中尉身份加入法屬東印度公司 1724年25歲時晉升為船長 在奪取印度馬拉巴爾海岸上的馬埃港時展現出其果敢的領導能力 更獲將港口名稱加在他的名字中以示紀念 拉布爾多內其後曾效力果阿的葡萄牙總督麾下兩年 後於1735年返回法國並成為毛里裘斯 當時法國稱之為 法國島 及留尼汪 當時法國稱之為 波旁島 兩地的總督 並對兩地實施了五年成功的管治 1740年在他回法國的途中 法國與英國交惡 戰事一觸即發 他被任命為印度洋海域其中一支艦隊的指揮 拉布爾多內先援救他之前所奪取的馬埃港 又在本地治里解救杜布雷 將軍 打敗了英國的艾德華 佩頓勳爵 後於1746年又參與圍攻印度港口馬德拉斯市的戰事 可是他與杜布雷將軍就指揮印度戰事的問題上發生爭執 回到法國島 毛里裘斯 後更發現杜布雷任命了他人繼任他的總督一職 這讓拉布爾多內怒不可遏 他開了一艘荷蘭的船 打算航回法國告上法院 中途被英軍捕獲 但英國人讓他假釋回國 他回國後並沒能解決與杜布雷之間的爭執 反而更於1748年被逮捕並秘密囚禁於巴士底監獄逾兩年 罪名是 投機性統治 和 管治不善 他於1751年被判無罪 但由於已被囚禁多時而且失去個人財產 健康一落千丈 後來他多次對杜布雷作出不正當的指控 最後於1753年11月10日死於巴黎 法國政府發放了2 400里弗爾的撫恤金予他的遺孀 印度洋多處地方都以拉布爾多內命名 包括塞舌爾的馬埃島 毛里裘斯的馬埃堡 以及本地治里市的兩條街道 拉布爾多內街和馬埃 德 拉布爾多內街 毛里裘斯首都路易港一家酒店亦以他命名 名為 拉布爾多內海濱酒店 市內亦有一條名為 拉布爾多內街 的街道 另外 法國巴黎艾菲爾鐵塔附近亦有一條拉布爾多內大街 拉布爾多內著有回憶錄 由他的孫兒 著名國際象棋高手路易 查爾斯 馬埃 德 拉布爾多內 伯爵 1795 1840 代為出版 德 拉布爾多內亦著有 船舶桅杆的條約 巴黎 1723年 一書 全亞洲航空公司 亚洲航空长途公司 AirAsia X 亚航长途 在馬來西亞簡稱亚航X 是位於馬來西亞的低成本航空公司 由AirAsia X Bhd經營 前身為FlyAsianXpress Sdn Bhd 有別於亞洲航空直飞短途航线 亚洲航空长途公司專門飛航航程四小時以上的中長途航線 於2007年11月2日投入商業營運 首發航班是從吉隆坡飛往澳洲黃金海岸 飛行航點在亞洲和大洋洲 亚洲航空长途公司獲得亞洲航空授權 以相同品牌名稱營運 使用同一個售票系統 飛機塗裝 員工制服和管理方法 大幅減低營運成本 FlyAsianXpress FAX 是一間總部設在馬來西亞砂拉越的航空公司 經營馬來西亞航空停飛的部分小航線 其航線後來由馬來西亞之翼航空接手 FAX是Kamarudin Meranun Raja Razali Raja Azmi和东尼 费南德斯擁有的私人公司 亞洲航空將許多馬航撤出的東部國內航線外包給FAX經營 於2006年8月1日首航 儘管首航當天天氣惡劣 班機延誤 50 分鐘 當時 FAX並不是低成本航空公司 但採納了亞航部分經營特色以降低成本 包含網際網路和電話語音訂票 以及無紙本票券的登機手續系統 FAX在營運期間飽受乘客 公務員及旅遊業者的批評 批評者認為 FAX是由馬來西亞政府資助營運 其以渦輪螺旋槳飛機投入的航線服務不應該比先前由馬來西亞航空經營的偏遠地區航線更加昂貴 而且成本管理以及服務品質極為不佳 例如臨時無預警地取消航班 砂拉越旅遊發展局的首席執行官還指出 內地的貨運航班時常中斷 造成遊客須自行攜帶食物前往內地旅遊 無法仰賴透過空運供應的食品和燃料 2007年4月11日 FAX母公司的首席執行官東尼 費南德斯 宣布將FAX偏遠地區航線移交給附屬於馬來西亞航空的飛螢航空 表示這是 合乎邏輯的做法 因為飛螢航空可以成為唯一以渦輪螺旋槳飛機投入服務的國營航空公司 2007年4月26日 當地政府宣布 馬來西亞航空將接手FAX的偏遠地區航線 任何的財務損失將由政府支應 馬來西亞航空宣布 2007年10月1日開始正式接手FAX的航點 由其設立的子公司馬來西亞之翼航空經營 FAX的偏遠地區航線由馬來西亞之翼接手後 企業名稱從FlyAsianXpress Sdn Bhd變更為AirAsia X Sdn Bhd 投入低成本的長途航線市場 2007年1月5日 亞洲航空长途公司正式成立 目標鎖定國際的長途航線 5月17日 亞洲航空總裁東尼 费南德斯宣布吉隆坡飛往澳洲的航班計畫 費南德斯表示 由於雪梨機場服務費用過高 暫時不會選擇這個機場 則會選擇場站費用低廉的機場作為航點 例如墨爾本的阿瓦隆機場 Williamtown 的紐卡斯爾機場以及阿德萊德機場 來回票價含稅估計落在800令吉左右 285澳幣 同時也表示 可能會選擇黃金海岸機場作為澳洲航線的目的地 2007年8月10日 亞洲航空长途公司宣布有幾項重大發展 吉隆坡飛往黃金海岸的航線確認開航 此航線的單程票價從50馬幣 17澳幣 起跳 不含稅和相關費用 平均來回票價含稅及其他費用約為800馬幣 598澳幣 2007年8月 亞洲航空长途公司宣布理察 布蘭森爵士持有的維珍集團將購買20 的股份 協助長途航線的營運 並資助購買飛機的費用 布蘭森還表示 維珍澳洲航空和亞洲航空长途公司未來非常有可能建立正式的合作關係 包括代碼共享協議和飛行常客獎勵計劃 2007年9月15日 首架亞洲航空长途公司客機抵達吉隆坡國際機場 被命名為 Semangat Sir Freddie 意指 弗雷迪爵士精神 向這位低成本模式的先驅和創始人致意 2008年2月 ORIX股份有限公司取得10 的股份 2010年1月 亞洲航空长途公司宣布 計劃翻修其A330和A340客機座位 亞航长途首席執行官Azran Osman Rani表示 商務艙會設置平躺座椅 票價會提高 但也強調其票價與一般航空經濟艙相同 相當具有競爭力 亞洲航空长途公司經濟艙機票價格將保持不變 改裝成本約10億美元 2011年6月 該航空公司獲得政府的批准 經營以下五個城市的空運服務 北京 上海 大阪 吉達 伊斯坦布尔和悉尼 由於油價和機場附加稅過高 以及載客率表現不佳 亞洲航空长途公司於2012年3月31日 停飛德里 孟买 伦敦和巴黎等航線 2012年4月1日起 提供吉隆坡飛往雪梨的航班服務 悉尼航線公佈後不久 亞洲航空长途公司也希望在阿德萊德機場投入服務 拓展其在澳大利亞的營運規模 截至2008年2月14日 亞洲航空长途公司48 股份是由托尼 費爾南德斯和其他顯赫的馬來西亞人成立的合資企業Aero Ventures以及加拿大航空的Robert Milton所持有 維珍集團和亞洲航空分別各持有16 的股份 總部位於巴林的馬納拉聯盟與日本ORIX公司以2億5000萬令吉取得亞洲航空长途公司20 的股份 目前 亞洲航空长途公司的航班皆由吉隆坡出發 亞洲航空集團完整航點列表 可參見亞洲航空集團航點 亞航X所售出的機票只包含機位 其餘服務必須付費取得 亞航X所有航班皆設有 豪華平躺座位 即商務艙 為180度平躺座位 費用約為經濟艙的2至3倍 包含以下服務 據2018年12月統計 亞洲航空长途公司的機隊如下 平均年齡為4 3年 龍山 新興 龙山位于广东省新兴县六祖镇 原集成镇 内 其上建有国恩寺 通常当地人认为龙山即为国恩寺 国恩寺是中国佛教禅宗六祖惠能大师的圆寂之地 建于唐高宗弘道元年 683年 名 报恩寺 唐中宗神龙二年 706年 赐名为 国恩寺 再有武则天手写 敕赐国恩寺 迄今已有1300多年历史 该寺依山而筑 古朴典雅 有六祖父母坟 六祖浴身池 七层报恩塔等景点 国恩寺在佛教界视为岭南第一胜域 六祖镇 原集成镇 内有六祖故居 藏佛坑景点 水月庵景点 自由民主党 马来西亚 自由民主党 简称自民党 是一个于1989年在沙巴斗湖創立的馬來西亞政党 前身为沙华公会和团结党 党员多数为华人 該党主要活跃于沙巴州 因此常被称为 沙巴自由民主党 沙巴自民党 沙自民党 等 该党曾经是執政的国民阵线的成員之一 在马来西亚国会下议院佔有一席 由前任党主席劉偉強在2008年大選時於取得 但其於2013年大选大选中失去 2018年5月11日 该党主席张志刚宣布退出国阵 成为一个独立政党 梅花路 梅花路可以指 擲標槍 掷标枪是一项田径运动 在田径场中 运动员会掷出标枪 并比较掷出的距离长短 掷标枪也是十项全能和七项全能的参赛项目之一 在标枪的长度 形状 最小重量和标枪重心上 国际田联有着明确的规定 在国际竞赛中 男子在比赛中使用的标枪长度要在2 6米到2 7米之间 至少达到800克 女子在比赛中使用的标枪长度要在2 2米到2 3米之间 至少达到600克 标枪一般配有一个把手 大约150毫米宽 安装在标枪的重心或中心上 关于重心 男女各有不同 男子的在标枪顶端位置以下0 9米到1 06米 女子的在标枪顶端位置以下0 8米到0 92米 不像其他的投掷运动 铅球 铁饼或链球 掷标枪的方式完全是国际田联制定的 其他的一切 不正规 方法都是不允许使用的 运动员在拿标枪和投掷标枪时 必须将标枪举过其肩部和膀臂的上方 此外 运动员在投掷时禁止将其背部转向投掷方向 在实践 他是为了防止運动员像掷铁饼那样原地旋转地将标枪掷出 掷标枪的范围并不是像掷链球那样被局限在一个圈里 运动员有一个4米宽 30米长的跑道以供助跑 运动员一般在这个区域获得了一定速度后才将标枪掷出 如同其他比赛一样 在完成一掷 标枪落地 implement lands 以前 运动员是不得离开投掷区的 在投掷时 运动员不得超过远端的投掷区终点 这也意味着运动员必须在到达终点前达到最快速度 标枪的投掷区是一块从跑道末端以29度角向外延展到外弧的区域 规则规定 只有标枪完全被投掷到到规定范围内才能作为成绩 如果投掷到范围以外的话则不算成绩 丈量成绩从标枪的最近落点开始 并且必须是标枪头首先着地才能算作成绩 比赛过程与其他投掷项目类似 比赛一般由3到6轮构成 结束前三轮比赛后 按成绩提取前8名运动员参加最后三轮的比赛 第四 五轮比赛排序按前三轮成绩的倒序排列 第六轮比赛排序则按前五轮成绩的倒序排列 成绩最好的在最后投掷 最终 谁投掷的最远谁获得第一名 每位运动员如果想改善自己的成绩的话 只能在其他轮中尝试了 在1986年4月1日 男子标枪 800克 1 76磅 被国际田联技术委员会重新设计 因为当时竞赛官员为标枪时常水平落地而讨论争执不已 新的世界纪录也使得标枪需要重新设计的问题被再次提起 乌韦霍恩 104 80米 最终 标枪得到了重新设计 他的重心被向前移动了4厘米 进一步让他远离了压力中心 关系到空气动力學的阻力及升力 这样就增加其向下的俯仰力矩 pitching moment 这样一来 使得标枪头会更早的下落 也减少了其10 的飞行距离 但这样也让标枪能更稳的插在地上 1999年 女子标枪 600克 1 32磅 也得到了同样的设计 掷标枪与奥林匹克有很大联系 在邁錫尼和罗马帝国时期 标枪是一种常用的的攻击性武器 由于标枪比矛轻 所以标枪是用来投掷来进行远距离攻击而不是用来刺杀的 然而标枪对运动员来说他不是武器 而是一件比试的工具 因为现在已经不再比试标枪的渗透力 而是来比较投掷标枪的距离 北欧人十分擅长投掷标枪 在已经产生的69个男子标枪奥运金牌获得者中 32名是挪威 瑞典和芬兰的运动员 芬兰曾在1920年和1932年横扫了投掷标枪项目的所有奖牌 在1912年 芬兰也横扫了双手投掷标枪项目的奖牌 这个项目在芬兰和瑞典很受欢迎 但是现在已经没有这个项目了 和其他的项目不同 运动员在投掷时会有一定的初速度 除了需要上肢力量以外 运动员们还需要奔跑和跳跃的技巧 因此 投掷标枪的运动员需要更好的运动素质 投掷标枪运动员经常使用传统的自由重量训练来训练 运动员也会使用金属杆和阻力带来替代标枪训练 这样的话 运动员就能更加有力量和爆发力 重心的平稳能够保证你在投掷标枪时获得更大的力量 伸展和短跑运动也是必须的 这些训练可以帮助提高标枪出手时的速度 一般情况下 标枪出手时能够达到113公里每小时 70英里每小时 埃塞俄比亞航空409號班機空難 埃塞俄比亞航空409號班機是埃塞俄比亞航空一班从黎巴嫩贝鲁特貝魯特 拉菲克 哈里里國際機場飛往埃塞俄比亚亚的斯亚贝巴博莱国际机场的航班 2010年1月25日 执飞此航班的一架波音737 8AS型客機 編號 ET ANB 于当地时间凌晨2时35分在貝魯特起飛後不久从雷达上消失 其后证实飞机失事并墜入地中海中 機上共載有8名機組人員及82名乘客 無人生還 空中浩劫制作了一集有关此航班的节目 节目中称空难原因是机师缺乏经验且疲劳飞行 失事飞机是波音737 8AS 这架飞机于2002年2月4日交付给瑞安航空 飛機註冊編號为EI CSW 配有两台CFM56 7B27发动机 2009年9月飞机被交付至埃塞俄比亚航空 并重新登记飛機註冊編號为ET ANB 最近一次的飞机检查是在2009年12月25日 当时没有发现任何问题 据新闻报道 法国驻黎巴嫩大使丹尼斯 皮耶东 Denis Pietton 的夫人玛勒 桑切斯 皮耶东 Marla Sanchez Pietton 在班机上 刀语 刀语 是西尾维新所作的轻小说 插画作者是竹 共12册 這是西尾首次發表的時代小說 由此改编的动画于2010年1月开始每月播放一話 為 西尾維新動畫PROJECT 第二個項目 全12話 講談社BOX的企劃 大河小說2007 的作品之一 另一部為清涼院流水的 連續12個月發行小說 日本在2010年的1月至12月播映改編的電視動畫作品 以 刀語 兩百年前 描述真庭忍軍的外傳作品 真庭語 亦由講談社BOX發行 大陸地區的簡體中文版小說由時代華語代理發行 江蘇文藝出版社 2010年4月1日後改名為江蘇鳳凰文藝出版社 出版 前3卷涉及抄襲網絡翻譯問題 台灣地區的繁體中文小說由尖端出版代理出版 主人公鑢七花是 虚刀流 的第七代掌门人 和姐姐鑢七實二十年一起在不承島生活 有一天他被專門造訪的奇策士咎说服離島 开始寻找传说的刀匠 四季崎記紀 所打造的最好的十二把刀 虛刀流的繼承人貌似有將除自己以外的虛刀流使用者清除的本能 是奉家鳴幕府的大御所 家鳴匡綱御用護衛兵與側近 歷代將軍心腹中的心腹家臣 其戰鬥能力等 身受將軍深厚的信賴 對於七花入侵尾張城的事件 在否定姬的提案下 除了炎刀 銃 以外的十一把完成形變體刀 交給十一人衆使用並安排他們一層樓一位護衛兵 以作家鳴家有千年繁榮的儀式 是為了騙家鳴匡綱支開十一人衆 好讓否定姬能確實完成四季崎一族的宿願 傳說對於四季崎記紀而言 1000把變體刀中只有12把刀是已完成 也就是其餘988把變體刀只是為了這12把完成形變體刀而試作的 習作 从2010年1月开始以 大河动画 的名义 作为每个月一集的一小时特别节目播放 2013年4月开始于noitaminA栏目进行重播 更换了新的片头与片尾曲 人肉路障截停非法賽車事件 人肉路障截停非法賽車事件發生於2009年7月13日的香港九龍觀塘繞道 警務人員截停香港市民的私家車等的車輛 作為路障以堵非法賽車 最後因為意外而導致部分被徵用的車輛損毀 警察透過指揮及控制中心知悉多輛車輛正在進行非法賽車的報警 於凌晨1時29分 一名警長發現約20輛私家車沿秀茂坪道飛馳往將軍澳 涉及10多輛車的車隊沿著寶琳北路折返 高速向觀塘繞道往秀茂坪駛去 遂響起警察電單車的警號作出追截 至翠林路時 車隊失蹤 當時觀塘繞道近麗港城一段正在進行加建隔音屏障工程 該路段的車速限制是每小時50公里 按照目擊者的引述 當時的車速高達每小時160公里 比較當時的觀塘繞道每路段車速限制超出2至3 2倍 同時 一隊警務人接獲報警 遂駕駛往觀塘繞道近觀塘碼頭對開一個彎位時 並且隨即設立路障 並且將衝鋒車斜向泊於觀塘繞道西行線的中線 同時示意幾輛途經的車輛 包括3輛的士 一輛私家車及1輛輕型貨車分別停泊於3條行車線上 以製造阻塞屏風 以堵截隨後而至的飛車車隊 正當人員打算拿出工具設置路障之際 10多輛私家車高速駛至 並且衝向停在3條線的車輛 造成嚴重的連環碰撞 部分私家車在碰撞後更利用車與車之間的空隙向前逃走 亦有私家車向後逆線逃 其中3名被告當場被拘捕 其他人員接報窮追 其中一輛逆線駛入偉發道麗港公園外 因為車身撞毀至拋錨 司機棄車逃去 一名警署警長駕駛警察電單車追至 下車後與司機糾纏間被襲受傷 司機棄下車上受傷的女乘客逃去 女乘客及警署警長其後被一併送進醫院 至於案中其他被告 分別則在案發現場附近和長沙灣批發市場被捕 同月14日 警務處處長鄧竟成向外界道歉 期後 警隊作出檢討 並且制訂有關路障指引 同時向前線人員發出處長訓令 日後設立路障前亦須先進行風險評估等 於2010年11月 5名被告被控危險駕駛罪名成立 分別被判入獄12至16月 停牌3年 帕斯科 科拉斯 帕斯科 科拉斯 巴洛克时代的法国作曲家 科拉斯生于里姆斯 Rheims 在吕利 Jean Baptiste Lully 成为法国歌剧界的主宰者后 科拉斯成为了吕利的追随者 1687年吕利逝世后 科拉斯续写了吕利未完成的抒情悲剧Achille et Polyxène 补写了四幕 其后 科拉斯写了数量众多的歌剧 芭蕾音乐以及宗教音乐 包括拉辛 Jean Racine 的颂歌 科拉斯原本想在里尔 Lille 建立自己的歌剧院 但这座剧院在一次火灾后被完全焚毁 他的宏伟计划也宣告终结 科拉斯的音乐风格接近于吕利 Jean Baptiste Lully 朱由棪 趙王朱由棪 是明朝第二次封第十代亦為末代趙王 趙恪王朱常㳛子 母妃杨氏 朱由棪在隆武二年 1646年 四月襲封趙王 在位一年後 於永曆元年 1647年 十二月去世 明朝第二次封趙國滅亡 花咲 花咲 是許茹芸第9張國語專輯 也是與上華合約中的最後一張專輯 於2000年12月28日發行 許茹芸這次在這張專輯沒有參與自我創作 1 沒有你的聖誕節 2 愛只剩一秒 3 深淵 4 寧願愛你 5 捨不得 6 完美 7 TRY 8 憑感覺 9 討厭 10 紅色愛情海 戴维 法拉格特 戴维 格拉斯哥 法拉格特 又譯法拉古特 是美国南北战争的一位海军将領 亦為美国海军第一位少将 中将和上将 他出生在田纳西州诺克斯县的一个小镇 如今以他的名字 法拉格特 命名 他参加过的战役包括1812年战争 美国南北战争 新奥尔良战役 维克斯堡包围战 哈德森港口包围战和莫比尔湾战役等 在内战的莫比尔湾之战中 他留下了一句被后世反复引用的名言 去他妈的鱼雷 全速前进 Damn the torpedoes full speed ahead 1870年他在新罕布什尔州朴次茅斯去世 享年69岁 被埋葬在纽约伍德劳恩公墓 朱見沛 徽莊王朱見沛 是明英宗朱祁鎮庶九子 母恭端莊惠德妃韋氏 明朝第一代徽王 朱見沛在成化二年 1466年 受封徽王 成化十七年 1481年 就藩鈞州 他在位三十九年後 於弘治十八年五月十二 1505年6月13日 去世 子朱祐檯在三年後嗣封徽王 徽莊王妃黄氏 神策卫指挥佥事黄昱之女 成化十三年十一月十一冊封 徽莊王夫人刘氏 朱祐檯的生母 PIERROT PIERROT是日本視覺系樂團 1994年組成 經過團員的變換後 1995年組成現在的團員型態 1998年出道 2006年4月12日解散 2014年重組 並於10月24日 25日 舉行演唱會 DICTATORS CIRCUS FINAL キリト KIRITO 主唱 アイジ AIJI 吉他 潤 JUN 吉他 KOHTA 貝斯 TAKEO 鼓 1996 パンドラの匣 1997 CELLULOID 1999 FINALE 2000 PRIVATE ENEMY 2002 HEAVEN THE CUSTOMIZED LANDSCAPE 2003 07 23 ID ATTACK 2003 12 17 DICTATORS CIRCUS 奇術的旋律 2004 FREEZE 2005 02 06 DICTATORS CIRCUS A variant BUD 2005 06 08 DICTATORS CIRCUS A deformed BUD 扶风窦氏世系图 張嘉雲 張嘉雲 Jade Chang 原名張家云 藝名 花花 暱稱 小嘴花 出生於台灣台北市 台灣女模特兒 主持人 远东联邦大学 远东联邦大学 是在一所位于俄罗斯滨海边疆区海參崴的高等教育机构 远东联邦大学于2011年由远东国立大学 远东技术大学和太平洋经济大学合并而成 是符拉迪沃斯托克以及远东地区最现代化的大学 俄罗斯远东联邦大学是俄罗斯贝加尔湖以东至太平洋广阔土地上的第一所古典式大学 成立于1899年10月21日的东方学院 1920年 东方学院和一些私立学校合并成了远东国立大学 大学共有三个系 东方系 历史语文系和社会科学系 1930年 斯大林下令学校停办 1956年 根据赫鲁晓夫的命令重新开放 1950年到1990年是远东国立大学蓬勃发展的时期 学校规模扩大并成立了一些新的院系和研究所 开始招收副博士生和全博士生 创办了答辩委员会 生物研究所 物理研究所等 2009年 俄罗斯联邦总统德米特里 梅德韦杰夫签署命令 在俄罗斯各联邦区成立联邦级别的高水平大学 2010年10月7日 被任命为远东联邦大学校长 远东联邦大学的现代发展战略立足于将古典大学结构中的自然科学知识 工程知识和技术与现代的创新信息技术的完美融合 2010年12月17日 俄罗斯联邦政府总理弗拉基米尔 普京签署了 远东联邦大学发展纲要 2010 2019年 该纲要指出 学校的优先发展方向是 海洋资源 能源技术 纳米技术和纳米材料 物流运输 亚太国家区域研究 以及生物医学 2011年1月27日 俄罗斯教育科学部长签署命令 将远东国立大学 远东国立技术大学 太平洋国立经济大学和乌苏里斯克国立师范学院合并为远东联邦大学 同年6月1日 学校合并工作完成 2012年7月 原俄罗斯教育科学副部长被任命为远东联邦大学校长 2012年9月 亚太经合组织领导人第二十四次峰会在刚刚落成的远东联邦大学新校区举行 新校区位于符拉迪沃斯托克以南的俄罗斯岛 占地面积50万平方米 是俄罗斯远东地区乃至全俄罗斯最现代化的校园 为了本次峰会 当地政府特地修建了俄罗斯岛大桥和金角湾大桥 以便俄罗斯岛和市区 市区金角湾南北两侧的联系 2016年3月 谢尔盖 伊万涅茨因涉嫌滥用职权被司法机关调查 拘留和起诉 同年8月 被任命为代理校长 次年12月被正式任命为校长 联合公民诉联邦选举委员会案 联合公民诉联邦选举委员会案 558 U S 08 205 2010 是由美国联邦最高法院判决的一场具有重要意义的诉讼案 最高法院于2010年1月21日做出判决 认定两党选举改革法案 又称麦凯恩 费恩古尔德法案 由共和党议员约翰 麦凯恩与民主党议员拉斯 法因戈尔德于2002年提出 违反宪法第一修正案 联邦不得通过法律限制言论自由 该法案的203条规定 公司和工会不得在大选60天前和初选30天前在广播 有线电视和卫星等 选举通讯渠道 中攻击或支持某一候选人 这一案件自哥伦比亚区地区法院上诉而来 在2008年的判决中 当时地区法院站在了联邦选举委员会 FEC 一边 认定原本计划在2008年美国总统选举前夕播放的批评总统候选人的电影 希拉里 一部电影 Hillary The Movie 违法 最高法院的判决则认为 两党选举改革法案中关于竞选最后阶段限制各种企业或组织以赢利或非赢利的目的资助候选人的相关条款违宪 同时推翻了之前最高法院伦奎斯特法庭的两个判例 分别是1990年的奥斯丁诉密歇根商会案 Austin v Michigan Chamber of Commerce 以及2002年的麦康奈尔诉联邦选举委员会案 McConnell v FEC 判决认定通过资助来播放批评其他候选人的竞选广告是合法的 但仍旧限制企业或组织对于候选人的直接金钱资助 支持者认为这符合言论自由的原则 而反对者则认为这一判决将会造成大量金钱介入竞选活动 使民主政治腐化 著名法学家埃尔温 乔姆伦斯基将其称为 近年来关于第一修正案最为重要的案件 联合公民是一个保守派的501 c 4非营利组织 原先计划在DirecTV上播出宣传其电影 希拉里 一部电影 的广告 这是一部批评时任参议员 总统候选人希拉里 克林顿的纪录片 根据2002年颁布的两党选举改革法案441b条款 企业或团体在初选前30天或大选前60天资助跟竞选有关的 或抵毁候选人的言论是不被允许的 2008年1月 哥伦比亚区地区法院就以初选前30天内资助该广告为由判联合公民败诉 法庭认为此电影的唯一目的就是抵毁希拉里 克林顿 而联合公民则辩称电影是基于事实和超越党派的 最高法院于2008年8月18日收到此案件的上诉 并于2009年3月24日举行了一次口头辩论 该案原本应于2009年夏天作出判决 然而 到了2009年6月29日 法庭决定让双方在9月9日再举行一次辩论 致使法庭决定进行再次辩论的一个重要原因或许是时任副检察长马尔科姆 L 斯图尔特的一席话 当时他代表联邦选举委员会 认为政府也应该获得禁止图书出版的权力 如果这些书是由企业或组织资助并且涉及 表达支持 express advocacy 的话 在口头辩论阶段 联合公民就曾提出这样的问题 1990年奥斯丁诉密歇根商会案和以及2002年麦康奈尔诉联邦选举委员会案为2002年两党选举改革法案提供了合法性的支持 那是否应该推翻这两个先前的判例 该案是大法官索托马约尔在2009年8月任职以来第一次主持聆讯 也是联邦总检察长艾蕾娜 卡根第一次在最高法院进行辩论 参加辩论的还有的前任布什政府总检察长西奥多 奥尔森 著名的第一修正案律师弗洛伊德 艾布拉姆斯 以及前任克林顿政府总检察长塞斯 范克斯曼 九位最高法院大法官最后的判决结果为5 4 其中法庭的多数意见由大法官肯尼迪提交 认为两党选举改革法案441b条款对于资助的限制是不合法的 也不适用于本案中的竞选电影 法庭推翻了1990年奥斯丁诉密歇根商会案的判例 当时的案件中 密歇根州制定了法律限制企业或组织通过资助来支持或反对竞选候选人 最后最高法院的判决支持了密歇根州的做法 认为该法律不违反宪法第一修正案和第四修正案的原则 还认为资金的介入会对选举带来不公平的影响 判决同时推翻了2002年麦康奈尔诉联邦选举委员会案的判例 当时最高法院支持了两党选举改革法案203条款和441b条款对于企业资助的限制 而持不同意见的自由派大法官约翰 保罗 斯蒂文斯则认为这一判决不仅会威胁到民主 还会对构成对最高法院本身的伤害 胜诉的联合公民在判决后说到 今天美国最高法院的判决允许联合公民播放有关竞选的纪录片与广告 无论是对联合公民 还是对每一个想要参与政治的美国人来说 都是一场巨大的胜利 著名专栏作家 保守派时事评论员米歇尔 马尔金评论到 没错 各大企业是会从判决中得利从而花费更多金钱投入竞选活动 但是阳光是最好的杀菌剂 对于竞选候选人完全的 透明的揭露将会带来选举的革命 保守派的脱口秀主持人拉什 林博说道 今天 自由正从昏迷中苏醒 一切都来源于最高法院伟大的 伟大的 伟大的判决 我无法形容这有多么伟大 曾参加过1976年巴克莱诉瓦莱奥案辩论的布鲁克林法学院教授约耳 强罗 代表美国公民自由联盟评论此案 关乎第一修正案的重要的一天 还说最高法院 去除了第一修正案在竞选中的等级制度 知名律师 曾四度参加总统大选的拉尔夫 纳德则对判决进行了指责 财政律师克勒塔 米契尔在 华盛顿邮报 写到 最高法院正确地消灭了这样一个与宪法相悖的制度 只允许媒体 如 华盛顿邮报 通过企业资金自由地传皤它们对于候选人的评论 却不允许其他企业这么做 限制企业资助的真正受害者是各种非赢利的支持组织 左派 自由派普遍反对该判决 总统巴拉克 奥巴马 对于最高法院的判决他评论到 这会给特殊利益集团更多的权力 还会掩盖普通美国人的声音 并说这是大石油公司 华尔街银行 健保公司和其他强大利益集团的一大胜利 判决在国会也引起反弹 国会民主党领袖呼吁采取立法行动以削弱这一判决的影响 纽约时报 的社论则说 眼下 商业公司可以随心所欲地用现金支持或击败候选人 如果一位国会议员站到一个特种利益集团的对立面 后者的游说人现在可以威胁说 我们会调用一切资源将你拉下马 社论还认为 这一判决 否决了业已建立的法律体系 侵蚀了矗立了整整一个世纪的商业公司与选举政治之间的大墙 曾是改革党总统候选人的帕特 乔特说 这一判决会使外国政府与外国企业介入我们的总统竞选成为可能 奥巴马总统在其随后的每周电台演讲中谈到 判决打击了我们的民主政治 还说 我无法想像有比这对于公众利益影响更大的了 一些媒体 如在线媒体 今日老兵 将支持这一判决的五名大法官的行为称为 叛国 而自由派媒体MSNBC的主播基思 奥尔伯曼甚至预言 未来十年内所有的政治家都将出卖自己的贞节 还将该判决与曾引发美国内战的1857年斯科特诉桑弗特案相提并论 凯姆 吉甘特 凯姆 乔斯林 吉甘特 是一位美国籍演员 由于出演福克斯电视剧 橘郡风云 中的Kevin Volchok和电影 中的Ryan McCarthy而成名 2008年 吉甘特在根据史蒂芬妮 梅爾的小说改编的电影 暮光之城 無懼的愛 中饰演詹姆斯一角 吉甘特出生在华盛顿州塔科马市 2001年吉甘特从华盛顿州澳本市当地的澳本高中毕业后 前往加州的圣莫尼卡社区大学学习表演 吉甘特喜欢篮球 高尔夫球 滑雪 冲浪 他也练习由以色列军队创制的自卫术Krav Maga 以色列军用格斗术 吉甘特的女友多米尼克 吉森多夫在2009年4月14日为他生下女儿艾福蕾 蕾 吉甘特 2003年 吉甘特在 CSI犯罪現場 第四季中出演马克 杨 他也参演了电视剧 兩兄弟 和 橘郡风云 他参演了2004年的电影 Mistaken 2007年的 以及2008年的 和 暮光之城 無懼的愛 吉甘特也参演了一些新电影 包括2009年电影 和 Making Change 2008年 吉甘特获得了若干奖项 包括第10届好莱坞年度新星奖中的 最受瞩目 奖项 他也和肖恩 法李斯一起因在电影 地下拳擊社 的出色表演荣获了MTV电影奖 最佳打斗 奖项 他最新获取的奖项是由 家庭娱乐 颁发的 年度新星 奖 2009年 他因在电影 暮光之城 無懼的愛 中的表演再度获得了MTV电影奖 最佳打斗 奖项 吉甘特和克里斯蒂娜 阿奎莱拉 雪儿一起出演了阿奎莱拉的第一部电影 该片已於2009年11月开拍 俄罗斯国家图书馆 俄罗斯国家图书馆位于俄罗斯圣彼得堡涅瓦大街 紧邻奥斯特罗夫斯基广场 至今已经有218年的历史 是俄罗斯帝国最古老的公共图书馆 目前是俄罗斯第二大图书馆 仅次于位于莫斯科的俄罗斯国立图书馆 现隶属于俄罗斯联邦文化部 该图书馆是1795年5月由叶卡捷琳娜二世 1729 1796年 批准兴建的 1795年 1918年 它叫皇家公共图书馆 1918年 1932年 二月革命后 改名为俄罗斯公共图书馆 在1932年到1992年期间 即苏联时期 被称为萨尔蒂科夫 谢德林国立公共图书馆 以俄国作家M E 萨尔蒂柯夫 谢德林的名字命名 在1992年根据俄总统叶利钦的命令再次更名 被称为俄罗斯国家图书馆 是欧洲第一座公共图书馆 也是俄罗斯帝国最古老的公共图书馆 发展时间表 目前俄罗斯国家图书馆包含有典藏服务部 报刊部 民族文学部 舆图部 亚洲和美洲国家各语种文学部 乐谱和音乐录音部 版画部 馆际互借部 书目信息部 复制与翻译部 采选部 机械化与自动化部 亚非文献部 手稿部 家谱研究所 法律信息中心 联邦保存中心 修复中心等诸多部门 截止到2008年1月1日 俄罗斯国家图书馆馆藏总量为35 067 459册件 藏书量为世界第四 俄罗斯国家图书馆读者访问量在2005年 2006年 2007年分别为1 292 600人次 1 197 500人次 1 149 900人次 目前总馆舍面积 123 000平方米 其中 旧馆60 000多平方米 新馆63 000多平方米 俄罗斯国家图书馆是俄罗斯图书馆学 目录学以及图书学研究领域的中心 它是是俄罗斯文化 历史遗产的巨大宝库 承载着人类文化传承和保持文化历史传统的重任 该馆成立伊始就有组建和组织馆藏 编辑和出版书目的职能并在218年的发展中逐渐增加了许多新智能 现在 俄罗斯国家图书馆的主要职能是组建 保存并最大限度地向图书馆用户提供最全面的本国文献和有重要意义的外国文献 组织 指导和参与全俄书籍印刷品及其它文献目录的组织和登记 作为科研机构开展图书馆学 目录学和图书学研究 是国家科学情报和文化中心 并参与制定和实施图书馆事业联邦政策 简单来说 它有馆藏建设 读者服务 科研和科学组织工作 国际合作这四项工作 因此该馆在除了承担作为俄罗斯的两大国家图书馆职能外还面向广大提供护照和学位证明并办理读者卡的读者和其他相关图书馆提供包括报纸 信息 书目 编目 馆际互借和国际图书交换等多种服务 当然使用古老和稀有资料要受限制 对于那些未注册的参观者则限制更多 该图书馆的所有的可开发资料都免费供用户在阅览室使用 另外对于只有专业团体在图书馆工作人员提供必要的帮助才能进行的对印刷本乐谱进行静电 翻拍或缩微复制 对录音资料进行转录等一切复制服务都要收费 同时会不定期举办办展览 讲座 会议以及音乐会 外国公民要想使用图书馆资料则必须出示护照 签证 访问学者或研究生资格证明 上交照片两张并填表注册 霍元甲故居 霍元甲故居是清末时期的爱国武术家霍元甲在天津的旧居 地址位于天津市西青区小南河村 该建筑目前是天津市文物保护单位和重点保护等级历史风貌建筑和天津市青少年爱国主义教育基地 霍元甲故居建于清同治初年 1986年 天津市人民政府对霍元甲故居进行了整修 1997年 故居进行了再次修葺 霍元甲故居东西长11 6米 南北长12米 总占地面积为139 2平方米 其中建筑面积46平方米 原为青砖瓦房的三合院 小院门楼内设有影壁墙 墙上镶有 福 字 影壁墙后为正房 房内现挂有霍元甲遗像 遗像是1909年在天津拍摄的 遗像两侧为霍元甲次子霍东阁在霍元甲遇害后为他所写的唁联 一生侠义 盖世英雄 院内东 西各有一间厢房 西屋为霍元甲书房 房中墙上挂着孙中山为精武体育会的题词 尚武精神 东屋为霍元甲卧室 内有土坑 衣柜和一套明式家具 此外 霍元甲故居内还陈列有一些他生前用过的遗物 其中包括 霍元甲练武时所用的石锁 石墩 刀剑 七节鞭等兵器 霍元甲务农时所用的农具 还有一些他的生活用品 文房四宝 家具以及霍元甲创办的精武会的会旗 会章 会员证书等文物 此外 霍元甲和其家属的一些照片也在故居中陈列 霍元甲故居纪念馆于1997年建成 占地1万平方米 由霍元甲故居 霍元甲陵园和霍元甲纪念馆三部分组成 主要景点含牌坊 纪念碑 陈列厅和演武场等 威乐比市 威乐比市是澳大利亚的一個地方政府 位於新南威尔士州雪梨中央商業區以北6公 里 處 威乐比座落於一塊平坦的高地上 车士活是威乐比市的主要商業中心 乃悉尼郊區商業大廈的集中區段 全雪梨的電視台皆自车士活向全區域發送 市內的皇家北岸醫院 Royal North Shore Hospital 為悉尼地區的一個重要的醫療中心 威乐比市议会有议席12座 全市分4選區 各區選出議員3名代表市民和納稅人問政 市長為直選 顾林凯议会 顾林凯议会 又译古莹盖议会 英文 Ku ring gai Council 是澳大利亚的一個地方政府 位於新南威尔士州悉尼北岸地區 命名源自曾於此生活的澳大利亞原住民顾林凯族 早期此地原為大片森林所覆蓋著 爾後即於此成立顾林凯蔡斯国家公园 部份則闢為住宅區內的公園 顾林凯於2008年公布的 BankWest生活品質指數 中 名列第一 顾林凯议会有议席10個 全市分5個選區 各區選出議員2名代表市民和納稅人問政 市長非直選 竹仔室總督官邸 竹仔室總督官邸 原稱聖珊澤宮 俗稱澳督官邸 位於澳門西望洋山邊 面對西灣 回歸前為澳門總督官邸 現為政府禮賓府 為澳門文物之一 大宅最初為澳門著名土生葡人建築師托馬斯 德阿基諾 住所 於1846年以前已建成 後來成為居於廣州英租界的英籍商人Herbert Dent的物業 1923年 總督羅德禮以 政府財政廳 名義買下 並先後用作兒童醫院及賈梅士博物館 1937年 總督巴波沙把住所遷入聖珊澤 成為首位以聖珊澤作為官邸的澳督 以後歷任澳督均以此作為其官邸 直至最後一任澳督韋奇立 回歸後行政長官並沒有承襲聖珊澤作為官邸 而把它用作禮賓府 國家或外國元首來澳參觀訪問時 行政長官都會在禮賓府會見他們 樓高兩層 屬於典型二十世紀初期的歐洲式建築 與澳督府同樣以傳統的蓬巴爾式粉紅磚砌成 窗框 柱子等以白色襯托 大門前設有門廊 屋頂山牆原飾有葡萄牙國徽 回歸後被區徽所取代 雷蒙 拉米雷斯 1982年出生 雷蒙 拉米雷斯 Ramón A Ramírez 出生于委内瑞拉卡瓜 是效力于美国职棒大联盟波士顿红袜的投手 他和辛辛那提红人签约 并在8月30日首次登上大联盟 赛季结束后被坦帕湾光芒签下 但随后即被球队释出 12月9日又被波士顿红袜签下 倫敦交通局 zh hans 伦敦交通局 zh hk 倫敦運輸局 或稱 zh hans 伦敦运输局 zh hk 倫敦交通局 縮寫 TfL 是負責管理英國首都大倫敦區主要運輸系統的地方政府機關 其主要角色是將運輸政策或者計畫付諸執行 並且管理在倫敦的運輸服務 倫敦交通局是由其董事会管理掌控 董事会的成員則是由倫敦市長指定 該董事局主席一職目前由萨迪克 汗擔任 倫敦交通局專員 彼得 亨第 Peter Hendy 自2006年1月17日起擔任 負責向董事會報告 並領導一個管理團隊 倫敦交通局根據1999年大倫敦權限法 Greater London Authority Act 1999 在2000年以大倫敦政府轄下單位的身分成立 在2000年成立之初 TfL接收了前任單位倫敦區域交通局 London Regional Transport 大部份的管轄範圍 但直到2003年 在與民營維護商簽訂爭議性的公私合作關係 Public private partnership PPP 合約之後 倫敦交通局才正式接管倫敦地鐵 而計程車的管理則曾經是倫敦警察廳的職權範圍 倫敦交通局旗下有三個主要單位 每個單位負責管理不同的運輸工具 這三個主要單位分別是 倫敦交通局擁有並經營位於科芬園的倫敦運輸博物館 其中保存並展示倫敦許多與運輸相關的文物 此外 博物館也在艾頓 Acton 有一間倉庫 存放無法在倫敦市中心博物館中展示的物品 包括許多路面車輛 火車 標誌收藏和廣告文宣 倉庫會在每一年的數個週末開放 在大都會線上偶爾會有古老的列車運行 眼灰蝶亞科 眼灰蝶亞科 Blue 学名 Polyommatinae 是灰蝶科裡的一個亞科 安德烈 齐卡提洛 安德烈 罗曼诺维奇 齊卡提洛 俄羅斯籍連環殺手 他在1978年至1990年之間共殺害53名女子及小童 他亦是俄羅斯最有名的殺人犯 直至另一名俄羅斯籍連環殺手亞歷山大 皮丘希金在2006年被捕為止 他報稱共殺害63人 但俄羅斯警方只能證實其中48人 因為其大部分受害者均在羅斯托夫州遇害而有 羅斯托夫屠夫 Butcher of Rostov 紅色撕裂者 Red Ripper 及 羅斯托夫撕裂者 Rostov Ripper 之稱 只有小部分是在蘇聯 俄羅斯前身 因事發時仍未改名為俄羅斯 因而在他被拘捕前的內容仍使用蘇聯一詞 其他州份 烏克蘭及烏茲別克遇害 齊卡提洛出生于於乌克兰苏维埃社会主义共和国苏梅州Yabluchne村 他出生正逢因斯大林农业集体化运动而造成的乌克兰大饥荒 乌克兰农民被迫上缴所有粮食 由国家负责分配 大规模饥荒在整个乌克兰愈演愈烈以至于同类相食 齐卡提洛的母亲曾告诉他他的兄長史提芬被一群受饑餓折磨的鄰居擄走 並將他吃掉 然而并沒有實質的証據證明此事发生 齐卡提洛的父母都是农业工人 全家住在一间小屋子里 年幼的齐卡提洛患有夜间遗尿症 每次尿床都会遭其母亲打骂 苏联卷入二战后 其父被紅軍徵召入伍 其后在一次战斗中因伤被俘入狱 战争期间 齐卡提洛目睹了闪电战 并因此受到了打击和刺激 齐卡提洛曾和其母亲被迫眼睁睁地看着自家的房子毁于大火 1943年其父开赴前线后 家中又添一女塔季扬娜 1949年 其父被美军释放回家 但他并未因战绩而受到奖赏 反而因向纳粹投降而称为叛徒 齐卡提洛性格内向专一 也因此造就了他的阅读能力 青年时已经非常热爱共产主义的文献 也因而被任命为其所在学校学生共产主义委员会主席 在他的童年和青年时期 齐卡提洛一直是同龄人欺负的对象 齐卡提洛青春期时 他发现自己患有慢性勃起功能障碍 嚴重的社交障礙和自我憎恨 在和女性相处时 齐卡提洛非常羞涩 他青年时期的唯一一次性行为是在17岁 他将其妹妹11岁的朋友按倒在地并与之打斗 女孩在试图挣扎出齐卡提洛的控制时 齐卡提洛获得了性高潮 1953年 齐卡提洛完成学业并申请莫斯科国立大学奖学金 虽然他通过了入学测试 但因为成绩不够好而遭拒 在1957年至1960年期间 齐卡提洛在部队服強制性兵役 1963年 齐卡提洛与其妹妹的朋友结婚 后育有一子一女 齐卡提洛之后表示他的夫妻间性生活会很少 在其妻了解齐卡提洛不能持续射精后 他们同意为了怀孕将精子通过手指推送到其妻阴道中 1965年 其女柳德米拉出生 4年后其子尤里出生 1971年 齐卡提洛完成了俄语文学的函授课程并在罗斯托夫大学获得学位 齐卡提洛之后在新沙赫京斯克开始俄语和俄语文学的老师生涯 不过在因多次关于他骚扰学生而被投诉后 他的教师生涯也就此结束 齐卡提洛随后在一家工厂谋得一个职位 1978年9月 齊卡提洛搬往一个靠近顿河畔罗斯托夫名为沙赫特的煤矿小镇 在那 他杀害了第一名受害者 同年12月22日 齐卡提洛诱骗名叫叶蕾娜 扎科特诺娃的九岁小女孩到他此前偷偷购买的旧房子中并试图强奸她 不过他没能勃起 当小女孩试图挣脱时 齐卡提洛异常愤怒并对她的腹部连刺三刀 而杀死女孩的过程却让齐卡提洛获得了性高潮 在齐卡提洛被捕后的审讯中 他回忆道在刺杀叶蕾娜时 小女孩 沙哑的说了些什么 这之后他毫无意识地掐死了女孩并弃尸河中 女孩的尸体在案发后两天被发现 大量的证据都将扎科特诺娃之死与齐卡提洛相关联 齐卡提洛购买的旧屋附近的雪地中发现血迹 邻居注意到齐卡提洛在12月22日傍晚出现在那栋房子里 扎科特诺娃的书包在街道末端的河的对岸 表明女孩在此被抛入河中 以及有目击人向警方提供证据说就在扎科特诺娃失踪前 有长相形似齐卡提洛的男子曾在公交车站与扎科特诺娃对话 尽管种种证据指向齐卡提洛 一个名为亚历山大 克拉夫琴科的25岁男子因其曾在青年时犯下奸杀一名女孩的罪行 而被逮捕并将定罪其杀害了扎科特诺娃 在克拉夫琴科的审讯中 他否认此前的认罪并坚称他是无辜的 并表示此前为屈打成招 尽管如此 克拉夫琴科未能因此摆脱牢狱之灾 他因此被判刑15年 最长监禁时间 在受害者家属的施压下 1983年7月 克拉夫琴科最终因杀害扎科特诺娃的罪名被处死 在杀害扎科特诺娃同时 齐卡提洛感受到了性冲动和高潮 并且了解自己在刺砍女性和小孩致其死亡时能获得快感 齐卡提洛被逮捕后也表明 其之后的诸项谋杀均为重现当日经历 齐卡提洛交代了他在1981年的第二次行凶 当他在试图和一名17岁的寄宿学校女孩拉里萨 特卡琴科在顿河旁的树林发生性关系失败后 齐卡提洛因此狂怒 殴打并最终掐死了女孩 由于他没有刀 齐卡提洛用牙齿和树棍破坏了尸体 1982年6月12日 齐卡提洛在东斯科伊的小村庄购物回家时偶遇了的13岁女孩柳博芙 伯约克 他和女孩走在一起并与之搭讪 并通过灌木丛防范潜在的目击者 齐卡提洛突然将伯约克扑倒在地 将她拖到附近的小树林中 撕扯她的裙子并且连刺带砍杀死女孩 杀害伯约克后 齐卡提洛不在克制自己杀人的欲望 1982年7月到9月间 他先后杀害了不少于五名年龄界于9至19岁之间的孩子 他建立一种侵犯孩子或在汽车或火车站的年輕流浪者的方式 他先引诱他们到附近的树林或者其他比较隐秘的地方然后杀害他们 通常的手段是先刺杀或砍杀致死 再用刀碎尸 尽管部分受害者被殴打然后被掐死 但身上仍有多处刀伤 14歲少女柳博芙 沃洛布耶娃 Lyubov Volobuyeva 1982年7月25日在克拉斯諾達爾 Krasnodar 遇害 9歲男童奥列格 波日达耶夫 Oleg Pozhidayev 1982年8月13日遇害 他的遺體直至現在都仍未尋回 16歲少女奥莉加 库普林娜 Olga Kuprina 1982年8月16日遇害 19歲少女Irina Karabelnikova 1982年9月8日遇害 15歲少年謝爾蓋 库兹明 Sergey Kuzmin 1982年9月15日遇害 10歲女童Olga Stalmachenok 1982年12月11日遇害 齊卡提洛在這6個月期間在車站或鐵路站找尋獵物 然後將他們誘至附近的森林行兇 而遇害者都是一些無家可歸或離家出走的年靑人士 在1983年6月18日 或之後 齊卡提洛再次行兇 遇害者是15歲少女劳拉 萨尔基相 Laura Sarkisyan 她的遺體直至現在都仍未尋回 他在往後的3個月裏再殺害5名婦孺及孩童 包括 13歲少女伊琳娜 杜年科娃 Irina Dunenkova 1983年7月遇害 24歲女子Lyudmila Kushuba 1983年7月遇害 7歲男童伊戈尔 古德科夫 Igor Gudkov 1983年8月9日遇害 他是53名受害者中年齡最小 22歲女子Valentina Chuchulina 1983年9月19日之後遇害 約18至25歲的女子 身分不能辨認 預計在1983年7月至10月之間遇害 遇害的3名女子都是妓女或是無家可歸的年靑女子 齊卡提洛 承諾 會給她們伏特加或金錢來進行性行為 然後誘至附近森林行兇 而該2名較年少的受害者則以玩具或糖果來引誘 當齊卡提洛在1983年6月至9月行兇後 莫斯科警方派遣米哈伊尔 费季索夫 Mikhail Fetisov 前往羅斯托夫調查該6件謀殺案 费季索夫抵達後將調查範圍收窄在沙赫特一帶的精神病患者及有記錄的性侵犯者 费季索夫亦安排法證專家布维克托 拉科夫 Victor Burakov 來調查沙赫特一帶的可疑人士 雖然警方曾拘捕一些有殘疾及有刑事記錄的年輕疑犯及對他們進行嚴刑迫供 期間有一名年幼疑犯因受不住嚴刑迫供的痛苦而自殺 進展仍是緩慢 警方集中調查該6件謀殺案期間 在1983年10月至1984年9月 齊卡提洛殺害了15名人士 因此警方唯有派出大量便衣警察及軍裝警察 高調地在公共交通轉運點及總站巡邏 遇害者包括 19歲少女薇拉 舍夫昆 Vera Shevkun 1983年10月27日遇害 14歲少年謝爾蓋 马尔科夫 Sergey Markov 1983年12月27日遇害 17歲少女Natalya Shalapinina 1984年1月9日遇害 45歲女子瑪塔 里亚边科 Marta Ryabenko 1984年2月21日遇害 10歲男童德米特里 普塔什尼科夫 Dmitriy Ptashnikov 1984年3月24日遇害 32歲女子塔季扬娜 彼得罗相 Tatyana Petrosyan 及其11歲女兒斯韦特兰娜 彼得罗相 Svetlana Petrosyan 1984年5月25日遇害 22歲女子叶连娜 巴库琳娜 Yelena Bakulina 1984年6月遇害 10歲男童德米特里 伊拉里奥诺夫 Dmitriy Illarionov 1984年7月10日遇害 19歲少女安娜 列梅舍娃 Anna Lemesheva 1984年7月19日遇害 20歲女子斯韦特兰娜 灿娜Svetlana Tsana 1984年7月遇害 16歲少女Natalya Golosovskaya 1984年8月2日遇害 17歲少女柳德米拉 阿列克谢耶娃 Lyudmila Alekseyeva 1984年8月7日遇害 約20至25歲的女子 身分不能辨認 預計在1983年8月8日至11日之間在烏茲別克的塔什爾遇害 12歲的哈薩克籍無家女童Akmaral Seydaliyeva 1984年8月13日遇害 11歲男童Alexander Chepel 1984年8月28日遇害 24歲女子Irina Luchinskaya 1984年9月6日遇害 1983年9月13日 齊卡提洛繼續在位於羅斯托夫的某一個車站找尋獵物 但今次他被一名便衣警探截停及拘捕 因為在搜查齊卡提洛的攜身物品時發現一把刀及繩子 而且警方其後發現原來齊卡提洛因被懷疑涉及一件偷竊案而被調查 令警方得以合法地拘留齊卡提洛一段合理時間 不過因為不能証明齊卡提洛與近1年多發生的多宗謀殺案有關而沒有被起訴 最後他只因為干涉輕微罪行而被判處監禁1年 而且他只坐牢3個月便被釋放 齊卡提洛被釋放後便低調地搬往新切爾卡斯克工作 直至1985年8月才再行兇 分別是18歲少女Natalya Pokhlistova 她在莫斯科遇害 及伊琳娜 古利亚耶夫 Irina Gulyayeva 1985年中旬 伊萨 科斯托耶夫 Issa Kostoyev 接任费季索夫的謀殺案件 他不單將在羅斯托夫發生的謀殺案再一次調查 重新審問所有位於羅斯托夫的性侵犯者及重新規劃在羅斯托夫所有車站的巡邏模式之外 他還向一名姓氏為Bukhanovsky的精神科醫生研究這名行兇者的作案手法 不過很遺憾的是齊卡提洛已感受到警方加強對 他干犯的謀殺案 的調查工作 因此他才在該2名少女殺害後便在往後2年沒有再在羅斯托夫行動 在1987年5月16日 齊卡提洛再次行兇 不過他不在羅斯托夫行動 他在烏克蘭的列夫達進行商務工作時將13歲男童奥列格 马卡连科夫 Oleg Makarenkov 殺害 他的遺體直至齊卡提洛在1990年被捕後才尋回 同年7月27日 他在烏克蘭的札波羅結殺害12歲男童Ivan Bilovetskiy 及後在同年9月15日在列寧格勒殺害16歲少年Yuri Tereshonok 齊卡提洛在1988年4月才再次在羅斯托夫行兇 在4月1日至4日之間 他在紅蘇林將一名年約18至25歲的女子 身分不詳 殺害 同年5月15日 他在烏克蘭的伊洛瓦伊斯克將9歲男童阿列克谢 沃龙科 Alexey Voronko 殺害及在7月14日將15歲少年叶夫根尼 穆拉托夫 Yevgeniy Muratov 殺害 齊卡提洛之後直至翌年3月才行兇 在1989年3月至8月 齊卡提洛共殺害5人 包括 16歲少女塔季扬娜 雷若娃 Tatyana Ryzhova 1989年3月8日遇害 8歲男童亞歷山大 季亚科诺夫 Alexander Dyakonov 他在生日過後翌日 即1989年5月11日 遇害 10歲男童莫阿列克谢 伊谢耶夫 Alexey Moiseyev 1989年6月20日遇害 19歲匈牙利籍女學生海伦娜 沃尔高 Helena Varga 1989年8月19日遇害 10歲男童阿列克谢 霍博托夫 Alexey Khobotov 1989年8月29日遇害 他的遺體直至齊卡提洛在1990年被捕後才尋回 齊卡提洛的行兇令警方進行大規模的行動 包括出動大量軍裝警察高調地巡邏羅斯托夫的所有繁忙車站及公共地方 而較為人流較少的或規模較少的車站則由便衣警察及喬裝打扮成妓女或流浪者的女警巡邏 希望可以迫使行兇者要在便衣警察及女警的巡邏地方找尋獵物 1990年11月6日 當齊卡提洛將最後一名受害者 22歲女子Svetlana Korostik支解及離開現場時 他被一名正在在Leskhoz火車站巡邏的便衣警察截停 在Svetlana Korostik遇害前 齊卡提洛已在1990年間殺害另外7人 11歲男童安德烈 克拉夫琴科 Andrei Kravchenko 1990年1月14日遇害 10歲男童雅罗斯拉夫 马卡罗夫 Yaroslav Makarov 1990年3月10日在羅斯托夫植物公園內遇害 31歲女子柳博芙 祖耶娃 Lyubov Zuyeva 1990年4月4日遇害 13歲男童维克托 彼得罗夫 Viktor Petrov 1990年7月28日遇害 11歲男童伊万 福明 Ivan Fomin 1990年8月14日遇害 16歲少年瓦迪姆 格罗莫夫 Vadim Gromov 1990年10月16日遇害 16歲少年维克托 季先科 Viktor Tishchenko 1990年10月30日沙赫特遇害 雖然該名便衣警察調查齊卡提洛時發現多項可疑行為 包括當時齊卡提洛從森林出來及攜著一個不適宜裝野生草菇的尼龍運動袋 當時市民們只在想採集草菇來打發時間才會進入森林 他的衣著並非行山裝束 只是穿著一般性衣著 而且他的衣物上 耳朵及臉頰沾有類似血液的污漬等等 該名便衣警察仍然在檢查齊卡提洛的証件後讓他放行 不過該名便衣警察在巡邏完畢後 將截停及調查齊卡提洛的情況記錄在當日調查報告上 數天後 警方在Leskhoz火車站附近發現2具屍體 警方隨即 亦是第2次 便想到齊卡提洛並懷疑他便是兇手 因為其中一名受害者 Svetlana Korostik 的遇害日期正是便衣警察在Leskhoz火車站附近截停齊卡提洛的日期 齊卡提洛第1次被警方懷疑是在1978年 女童叶蕾娜 扎科特诺娃遇害後 因為有証人指出叶蕾娜 扎科特诺娃遇害前當與齊卡提洛一起 其實 如果該名便衣警察當時搜查齊卡提洛的尼龍運動袋便可立即拘捕他 不需要再等一段時間才行動 因為原來當時該尼龍運動袋內正裝著Svetlana Korostik的乳房 其實當警方發現叶蕾娜 扎科特诺娃的遺體時 他們仍沒有足夠証據來拘捕及檢控齊卡提洛 不過他已被警方24小時跟蹤及將他每日的活動拍下來 1990年11月20日 齊卡提洛外出買啤酒 途中他漫無目的地與素不相識的小童一起玩樂 當齊卡提洛用1加侖的瓶買了300毫升啤酒 警方才拘捕他 不過 就算警方拘捕了齊卡提洛 只要警方在10天內不進行檢控 他們要被迫要放走齊卡提洛 但是警方拘捕齊卡提洛後發現他身上的手指傷痕 包括一隻斷骨手指 經醫生診斷後 是由人類咬成的 與被遇害少年维克托 季先科的牙印及環境証據吻合 令他們相信齊卡提洛便是要找的疑犯 警方雖然用盡一切方法 包括以 因精神問題而不作檢控 為條件 引誘齊卡提洛告白 但齊卡提洛不為所動 在被警方拘留的9日中 他只對他的所作所為說出一些含糊的話 直至警方邀請精神科醫生Bukhanovsky協助 齊卡提洛才開始說出他的所作所為 雖然如此 警方仍需要實質証據才能檢控齊卡提洛 謀殺案是需要有 找到屍體才可檢控 只有極端的情況下才在沒有找到屍體而仍作出檢控 不過齊卡提洛願意協助警方找尋他們仍未發現的屍體 在同年11月30日至12月5日之間 齊卡提洛承認及描述他所干犯的56件謀殺案 不過其中3件是因為完全不能找回屍體及不能辦認其 失踪者 身分而沒有被檢控 而齊卡提洛描述的56件謀殺案中 只有其中36件是被警方調查 因為其餘17件謀殺案 不計3件沒有檢控的 是發生在羅斯托夫以外的地方及在齊卡提洛下協助才揭發 齊卡提洛其後被還押監禁 在蘇聯的社會上 極度嚴重的小童性侵犯 甚至殺害被性侵犯的小童是不可容忍的 干犯這些案件的牢人會隨時被其他牢人性侵犯 甚至殺害 不過齊卡提洛則沒有這些事情發生 在齊卡提洛被還押監禁期間 他被24小時監察 但他與一般人一樣沒有任何異樣 1991年 蘇聯解體並改名為俄羅斯 齊卡提洛的謀殺案是在前蘇聯時期中最嚴重的案件 所以就算當時政局不穩 俄羅斯市民仍關注齊卡提洛的案件 1992年4月14日 審訊開始 雖然齊卡提洛在法庭上作出怪異行為 他被認定適合審訊 審訊期間 齊卡提洛被關在一個鐵籠裏 以防他被庭上聽眾襲擊 受害者的親友在庭上大喊 要求當庭釋放齊卡提洛 好讓令他們進行私刑 當中亦有受害者的親友在聽到受害者名字後暈倒 齊卡提洛在自辯時 他說出一些無稽的說話 包括他說他是孕婦或他被輻射所感染 甚至他在庭上兩度除下褲子並大叫他不是同性戀者 同時他否認部分早已承認的謀殺案件 審訊尾聲時 他在籠裏大唱大叫 令審訊暫時要停止 當法庭要求齊卡提洛結案陳詞時 他沒有說任何話 1992年7月 審訊完畢並在同年10月15日所出裁決 法官Leonid Akhobzyanov裁定齊卡提洛的53件謀殺案中有52件成立 判處52次死刑 法官判詞指出 死刑是唯一我可以判處的刑罰 庭上聽眾及受害者的親友聽見判處結果後大肆叫好 當齊卡提洛為他的罪名給予最後發表機會時 他歸咎於當時的社會制度 某一些政治要員 他的不舉 再一次除下褲子 及烏克蘭大饑荒 他亦有說明他只是為社會鏟除 社會垃圾 1994年1月4日 时任俄羅斯總統葉利欽拒絕齊卡提洛的減刑上訴 同年2月14日 齊卡提洛被帶往一間隔音房 劊子手從齊卡提洛的右耳打下一槍 結束該名罪惡滔天的屠夫生命 白灰蝶属 白灰蝶属 Large Blue 学名 是属于灰蝶科眼灰蝶亚科的一个属 这个属的蝴蝶通常譯作大蓝蝶 但有时大蓝蝶也特指霾灰蝶 现今 白灰蝶属也包含了霾灰蝶属 Maculinea 后者的模式种是霾灰蝶 Alcon Blue 学名為 Phengaris alcon 但该种比起霾灰蝶属的其他物种而言更接近于原先的白灰蝶属蝴蝶 因此 目前这两个属已合二为一 成为了一个单系群 原先还有另一种方案是将霾灰蝶属变为一个只有一到两个物种的属 而余下的成为一个新的属 但这样就会产生两个很小的属 因此生物分类学家最终抛弃了这一方案 由于白灰蝶属相比霾灰蝶属是个历史更悠久的名称 因而前者取代了后者 另外 而霾灰蝶又被認為是甜灰蝶属的近親 視作其亚属 但有學者認為霾灰蝶跟白灰蝶的關係更為密切 物种按种系发生学所推测的从祖征到新征的顺序排列 基种 严格意义上的霾灰蝶種 Maculinea sensu stricto 严格意义上的白灰蝶種 Phengaris sensu stricto 其他 霾灰蝶種 地位未定 乌兹别克斯坦历史 zh hans 乌兹别克斯坦 zh hant 烏茲別克 位於中亞的心臟 地處阿姆河 錫爾河之間 具有悠久且多彩多姿歷史傳承 古代貫通歐 亞文明的絲綢之路上 幾個重要的歷史名城都在烏茲別克境內 包括撒馬爾罕 布哈拉 以及希瓦 當俄羅斯在19世紀下半葉將其帝國邊界拓展至中亞時 烏茲別克落入帝俄手中 其後也變成蘇聯的一部分 直到1991年 烏茲別克才脫離控制 成為獨立國家 最早佔有中亞地區的是伊朗遊牧民族 他們在公元前1000年左右由今屬哈薩克的北部草原地帶向南遷徙 這些遊牧民族操伊朗方言 在中亞定居下來 並且在河流附近地區建立了灌溉系統 在這時期 布哈拉 撒馬爾罕等城市逐漸形成 成為統治與文化中心 到了公元前第5世紀 巴克特里亞 粟特 吐火羅等國家控制此一地區 當中國人開始與西方進行絲綢貿易之際 這些伊朗人城市佔有地利之便而成為貿易中心 粟特人利用位於今乌兹别克斯坦境內河中省份 甚至沿伸至中國新疆維吾爾自治區的一些城市與聚居地網絡 很快成為這些伊朗商人中最富有的一群 因為這些後來稱為絲綢之路的貿易 布哈拉與撒馬爾罕終於成為極為富裕的城市 而河中也成為古代最有影響力與權力的波斯省份 河中地區的富裕 經常引起來自北方歐亞大草原以及中國的侵略 許多地區性的戰爭在粟特與其他河中地區國家之間展開 而波斯與中國也經常在此地區發生衝突 公元前328年 亞歷山大大帝將此地納入他的馬其頓帝國管轄之內 在同一時期 此地區也是重要的文化與宗教中心 直到公元一世紀 瑣羅亞斯德教 中國稱為祅教 是當地最佔優勢的宗教 但是佛教 摩尼教與基督教也吸引很多追隨者 公元7世紀中期以後 穆斯林阿拉伯人開始征討河中地區 直到8世紀中期才完成 他們帶來新的宗教 而且興盛至今 最初阿拉伯人只是在征討波斯時 偶而侵擾河中地區而已 公元704年 阿拉伯著名将領屈底波 伊本 穆斯林被瓦立德一世任命为呼罗珊总督 進軍河中地區 他以木鹿为基地 在中亚征战初期颇为顺利 先后攻占吐火罗 花剌子模和昭武九姓中的安国 布哈拉 康国 撒马尔罕 石国 塔什干 等地 但是不久后东突厥汗国默啜可汗遣军西进 夺取了阿姆河外的几乎所有河间地区 穆斯林仅保有撒马尔罕 714年 穆斯林再度起兵东征 据传说一直到达了今日的喀什 但在途中得知瓦立德一世逝世的消息而回师 穆斯林以在中亚地区强力推行伊斯兰教信仰而闻名 對中亚地區文化發展影響甚巨 公元9世紀到11世纪 由黑汗王朝統治 12世纪 13世纪 由西遼監督下的西喀喇汗統治 以玉龙杰赤为发源地的花剌子模在1210年代開始管理河中 1219年底 1221年 河中地區被蒙古帝国征服并彻底屠杀和摧毁 1227年 成吉思汗死后 他的帝国被他的四个儿子和他们的家族成员所瓜分 此地分为欽察汗國與察合台汗國 14世纪初期 在帝国开始分裂成几个部分的同时 由于众部落互相争夺影响力 察合台的统治遭到破坏 在14世纪80年代 一个部落的首领 帖木儿在互相纷争中出现 并且控制了河中地区 尽管他并不是成吉思汗的后代 但是他是河中地区实际统治者 随后他继续扩张 征服了中亚的西部地区 伊朗 小亚细亚以及鹹海北部的干草原南部地区 帖木兒帝國時代 河中特別是撒馬爾罕成為帝國最繁榮地區 在中文史書上 烏茲別克族的記載最早出自 元史 當時名月祖伯 在阿布海兒汗時代 15世纪中期以前時期 建立 烏茲別克汗國 後來朮赤系的克烈汗和賈尼別克与阿布海尔汗闹翻逃亡蒙兀兒斯坦 另建哈萨克汗国 而今天的乌孜别克斯坦却是帖木兒帝国的领土 烏茲別克汗國解體後一部分人隨穆罕默德 昔班尼汗南下 前往河中農業區定居下來 征服了当地的撒爾塔人並與他們融合 形成了今天的乌孜别克族 16世紀至17世紀 他們來到南疆塔里木盆地通商 稱為布哈拉人 浩罕人或安集延人 主要從事商業活動 乌孜别克的意思是 自己的领袖 到清宣宗時代 旗人认为已與卡內回民 維吾爾人 無異 烏茲別克族是由粟特人和突厥人溶合而成 烏茲別克人有七十二部落 在錫爾河以北的哈薩克南部城市 他們是人口中的多數 在塔吉克佔人口中的15 3 在吉爾吉斯有14 3 人口 在中亞最大的民族 也是全世界第二大突厥語民族 哈薩克與烏茲別克沒分裂時 欽察草原有92部落 後來有70部落到哈薩克汗國 有時部落如克烈 乃蠻 弘吉剌 兩國也有 希瓦汗國的烏茲別克人分四部 基雅特 乞顏 弘吉剌 畏兀兒 乃蠻 弘吉剌 欽察 努庫茲 曼吉特 烏茲別克人其實是由粟特與公元前後進入中亞的突厥語民族構成 黑汗王朝與葛邏祿有特別重要性 隨昔班尼南下的欽察草原烏茲別克部落是最後構成階段 16世紀中葉的烏茲別克人還沒有完全定居 與哈薩克人一樣吃肉與奶 不種田地與不吃麵包 16末定居化加快 17世紀河中只有他們與塔吉克人 乌兹别克人与伊朗的争斗导致了中亚地区与剩余伊斯兰世界的文化隔离 除了这些问题之外 与游牧民族和北部草原的争斗依然持续 在17和18世纪 哈萨克汗国和准噶尔汗国持续突击乌兹别克汗国 造成大范围的破坏和混乱 在18世纪之初 布哈拉汗国失去了肥沃的费尔干纳地区 一个新的乌兹别克汗国在浩罕建立 接下来的时期充满了虚弱和混乱 此地受到来自伊朗和北部持续的入侵 在这一时期 一群新的人群 俄罗斯人开始进入中亚地区 由于俄罗斯商人已经扩张进去今哈萨克斯坦草原 他们与塔什干的对手建立了强大的贸易关系 1867年 中亞人阿古柏建立的 哲德沙尔汗国 改稱 洪福汗国 攻占库车 库尔勒 佔領天山以南的南疆 随着阿古柏的扩张 大批乌孜别克族人进入新疆 成為今天新疆一個重要的少數民族之一 有些烏茲別克人是在明代前住費爾干納盆地與河中的維吾爾人後人 有些是受阿古柏裹挾至浩罕汗國 1785年后 烏兹别克朮赤家族绝后由诺蓋人控制 改称埃米尔国 在二十世纪也有塔吉克被烏兹别克化 1873年 布哈拉汗国的曼吉特王朝被沙俄征服 成为附庸国 1918年 划归突厥斯坦苏维埃社会主义共和国 1920年苏俄红军侵入希瓦汗国 推翻阿布德 阿拉汗 1918 1920年在位 的统治 希瓦汗国灭亡 苏俄随后在其领土上建立花剌子模苏维埃人民共和国 见花剌子模 又见突厥斯坦苏维埃社会主义自治共和国 1924年花剌子模苏维埃人民共和国解散 其领土并入乌兹别克和土库曼两个加盟共和国 同年10月 原布哈拉汗国的一部分和希瓦汗国的一部分合并 成立乌兹别克苏维埃社会主义共和国 并加入苏联 1991年8月31日宣告独立 改称乌兹别克斯坦共和国 同年12月21日加入独立国家联合体 花剌子模人民苏维埃共和国 花剌子模人民苏维埃共和国 1920年建立 1924年解散 其领土并入乌兹别克蘇維埃社會主義共和國和土库曼蘇維埃社會主義共和國两个苏联加盟共和国 花剌子模在公元前6世纪为波斯帝国的一个省 公元前4世纪初独立 后受印度的贵霜帝国控制 3世纪时 波斯萨珊王朝重新控制花剌子模 7世纪末前后为阿拉伯人征服 11世纪到13世纪受塞尔柱突厥统治 领土包括波斯的东部和阿富汗 1219年被成吉思汗的蒙古帝国征服 1388年又为帖木儿征服 后又归波斯统治 16世纪初 花剌子模南部地区出现了独立的布哈拉汗国 1512年 花剌子模绿洲居民起义 摆脱波斯统治 拥立乌兹别克汗国王族成员为汗 建立独立的国家 即希瓦汗国 1873年被沙俄吞并 蔚州 北魏 州 中国南北朝时设置的州 北魏永安中以怀荒 御夷二镇置 后徙治今山西省平遥县西北 北周徙治灵丘县 今属山西省 隋朝大业二年 606年 省 唐朝武德六年 623年 复置蔚州 侨治阳曲县 即今山西省太原市北阳曲镇 七年侨治繁峙县 今山西省繁峙县西 八年又侨治恒州城 今山西省忻州市西北 贞观五年 631年 破突厥 复故地 还治灵丘县 天宝初年移治安边县 至德二载757年改兴唐县 五代后梁开平二年908年改隆化县 后唐同光初年复兴唐县 后晋初改为灵仙县 即今河北省蔚县 辖境相当今山西省灵丘 广灵 天镇及河北省蔚县 阳原 涞源等地 后晋向辽朝献地 升忠顺军 后更为武安军 统和四年 986年 蔚州入北宋 寻复之 降刺史 隶奉圣州 升观察 复忠顺军节度 兵事属西京都部署司 辽朝开始 蔚州辖境有缩小 下统五县 灵仙县 定安县 飞狐县 灵丘县 广陵县 金朝时仍为蔚州 元朝时 属上都路 至元二年 1265年 省蔚州为灵仙县 隶弘州 其年 复改为蔚州 隶宣德府 后改为顺宁府 领五县 灵仙县 灵丘县 飞狐县 定安县 广灵县 1913年省州改为蔚县 古羌人 古羌人 为古代中国先秦时代中原王朝对其西方 位于今甘肃一带 多个以牧羊为生的人群的称呼 上古時期 古羌又被稱为羌戎 他们还被认为是现代羌族和藏族祖先之一 與漢族的形成也有較深淵源 对古羌人最早的记载出现于商代的甲骨文中 根据学者对甲骨文的解读 古羌人曾分布于今河南西部 山西南部 陕西东部一带 是殷商在西方的主要敌人 两者间曾经频繁发生战争 商朝在战争中获取大量羌人战俘 用于人牲祭祀和殉葬 或使其成为商人的奴隶 古羌人早期历史的其他记载 则多来自于后世 詩經大雅中已提到羌人 东汉 说文解字 中称 羌 西戎牧羊人也 东汉 风俗通义 也说 羌 本西戎卑贱者也 主牧羊 故 羌 从羊 人 因以为号 山海经 记载 古羌人為炎帝神農氏的後裔 為姜姓之祖 據載 炎帝後裔有四支 属于古羌人的四个氏族部落 其中一支是烈山氏 一說大禹即是羌人 西汉司马迁 史记 中称 禹兴于西羌 漢魏時亦有 禹出西羌 的説法 汉学家白桂思推测上古汉语中 羌 的读音 klaŋ起源于吐火罗语klānk 推断古羌人可能有一个原始印欧人的起源 蒲立本重构上古汉语词汇 klaŋ并与吐火罗语进行对比 认为 羌 可能有 战车兵 之意 多名现代学者认为 周人的姬姓氏族始祖姜嫄起源于姜姓氏族 而姜姓氏族既为羌人 以姜尚为酋长的姜姓氏族作为周人在西方的盟友 其部族普遍参加了周灭商的战争 在牧野之战中扮演了重要角色 西周时 渭水流域的姜姓氏族主要为西申国 周王经常娶姜姓女子为妻 周幽王统治期间因废申后激怒申侯 后者勾结犬戎攻入镐京杀死周幽王 终结了西周的统治 留在西方的姜姓氏族又被称为 姜姓之戎 或 姜戎氏 东周春秋时期 羌人聚居於今陝西 甘肅 青海一带 有绵诸 绲 翟 豲 义渠 大荔 乌氏 朐衍等西戎部族 秦国积极向西扩张 与羌人为主的西戎发生战争 秦穆公时 西戎八国臣服于秦 而晋国则招揽姜戎氏定居以对抗秦国 春秋左氏传 中记载了姜戎首领戎子驹支与晋国贵族的对话 驹支所作的诗 青蝇 被收录于 诗经 小雅 中 战国时期 秦国不断兼并西戎诸国 统治区的羌人逐渐与秦人融合 在东周时期的文献记载中多次出现了氐羌的记录 并大量存在氐 羌两者混用的情况 随年代推移 逐渐出现了对氐人的单独记载 氐人定居于陕西 甘肃 四川的山区 主营农业和纺织业 与同时期羌人的风俗存在区别 学者普遍认为氐人起源于羌人 而羌族與氐族是否為同一民族至今未有定論 戰國時代 在秦國的威脅下 羌人向西迁移到今天的青海 川西 新疆一带 后汉书 西羌传 记载了羌人奴隶无弋爰剑逃离秦国追杀 迁到湟水流域成为羌人领袖的事迹 西漢時 羌族主体居住在今甘肅 青海一带 在新疆 西藏 四川亦有分布 甘肃青海一带的西羌 有先零羌 烧当羌 钟羌 勒姐羌 卑湳羌 当煎羌等众多部落 新疆东部有婼羌 阿钩羌等部族 西藏东部有发羌 唐牦 四川有牦牛羌 白马羌 参狼羌 青衣羌等诸多部落 漢武帝時 畿內關中地區已有大量羌族移民與漢族雜居 永平元年 58年 以馬武為捕虜將軍 中郎將王豐為副將 率四萬大軍前去平定羌族 追擊到東 西邯 今青海化隆回族自治縣南 斬首四千六百級 俘一千六百人 东汉后期 大部分羌族人口已纳入中原王朝的统治 但羌人時叛時降 反復不定 三國時羌族更大规模地遷居中原 並進入河套地區 五胡十六国时期 羌人姚苌利用前秦淝水之战兵败后 关中空虚之际 于384年自称万年秦王 386年姚苌称帝于长安 建立了十六国中的后秦 原始藏族在汉文史籍中被称为发羌 亦即羌族的一支 藏人建立了吐蕃王朝 松贊干布 569年 650年 在位時盛極一時 北宋時建立西夏的党項族亦被唐 宋時人認為是羌人的一支 稱之為党項羌 西夏滅亡後 党項人多被蒙古軍殺戮 一部分殘存者南遷 融入川西各族之中 有現代學者考證 現在的嘉絨藏族即保留了較多党項人的特點 有學者指出 現在的羌族并不等同于古代的羌人 有必要加以区分以免引起不必要的误解 例如 西夏人是党项羌构建的一个地方割据政权 但他们是历史上的羌 不是现在羌族中的一支 把西夏文当作现在羌族的文字 把西夏人的历史当作羌族历史的一部分是大有问题的 又指出應在名称上区分历史上的 羌人 和现实生活中的 羌族 即把历史上的各种 羌 称为 羌人 把岷江上游30多万现实生活中的 羌 称为羌族 以免混淆 池田乾 池田 乾 是日本漫画家 女性 作品主要發表於新書館的BL系的雑誌上 树枝状聚合物 树枝状聚合物 又称树枝化聚合物 是每个重复单元上带有树枝化基元 dendron 的线状聚合物 一个树枝状聚合物大分子往往包含数千树枝化基元 在这方面 他们与球状的树枝状化合物 dendrimer 不同 对于树枝状化合物 少数几个树枝化基元会连接到一个各向同性的点 根据不同的代数 树枝状聚合物拥有不同的粗细度 即直径 这一点可以通过原子力显微镜清楚的观察到 如图二所示 中性的树枝状聚合物通常溶解于有机溶剂 带电的树枝状聚合物可溶于水 已经合成的树枝状聚合物包括多种多样的主链 例如 聚甲基丙烯酸甲酯 聚苯乙烯 聚乙炔 聚苯 聚噻吩 聚芴 聚对苯乙炔 聚对苯乙炔 聚硅氧烷 聚氧杂降冰片烯 polyoxanorbornene 聚乙烯亚胺 摩尔质量高达2亿克 摩尔的树枝状聚合物已经被成功合成 树枝聚合物的应用包括 结构控制 外刺激应答 responsivity to external stimuli 单分子化学 纳米粒子合成的模板 催化 光电器件 生物相关的应用 树枝状聚合物的合成主要存在两种路线 大单体路线和attach to路线 在大单体路线中 首先合成包含树枝化基元的大单体 然后进行聚合 在attach to路线中 首先合成聚合物主链 然后一代接一代的添加树枝化基元 直到特定的代数 图三用简单的卡通图说明了两者的区别 大单体路线通常较难得到较长的聚合物主链 尤其当树枝化基元代数比较高的时候 Attach to路线通常不可避免的在合成的树枝状聚合物中引入结构缺陷 树枝状聚合物 这一名称国际公认的是由A D 施吕特 A D Schlüter 在1998年首先提出 最早的关于树枝状聚合物的合成报告可以追溯到唐纳德 托马里亚 Donald A Tomalia 于1987年获得的专利 当时被称为 棒型树枝状化合物 随后于1992年 Percec在公开文献中报道了聚合物具有 锥形的侧链 tapered side chains 在1994年 树枝状聚合物作为圆柱形纳米级对象 nanoobjects 的潜力得到了广泛承认和关注 当今世界各地许多课题组为树枝状聚合物领域的发展做出了杰出的贡献 他们的工作可以参见近年的综述论文 厚企鵝 厚企鵝 學名 Pachydyptes ponderosus 是一種已滅絕的企鵝 牠們屬於厚頭企鵝屬 屬內只有一個物種 牠們的遺骸包括從新西蘭奧塔哥大區發現的一些始新世晚期骨頭 及在近卡菲亞港 Kawhia Harbour 發現的一個標本 厚企鵝高約1 4 1 6米 重約80 100公斤 是已知第二高的企鵝 牠們比伊卡企鵝稍大 黃周星 黄周星 字景虞 号九烟 圃庵 而庵笑仓道人 直隸上元縣 今江苏南京 人 明朝政治人物 進士出身 黄周星初生時被周氏乞養 故從周姓 由湖廣湘潭入籍 崇禎六年 1633年 癸酉科順天鄉試中式 崇祯十三年 1640年 中庚辰科进士 崇祯十七年 1644年 南京福王朝廷授户部主事 同年請復黃姓 加於原名之前 清軍破南都 黃周星不再出仕 浪迹吴越之间 授徒為生 晚年 依其吴婿侨寓吴兴之南 康熙十九年 1680年 五月五日自撰墓志 解脱吟 十二章 飲酒大醉 自沉而亡 曾與書商汪象旭合作 推出 西遊證道書 黄周星好猜謎 有 谜坛宗匠 之称 著有 廋词 有 夏為堂詩略刻 十一卷 九煙先生遺集 六卷 查为仁 查为仁 字心谷 号莲坡 又号莲坡居士 天津人 祖籍浙江海宁 盐商查日乾之子 生于康熙三十三年 1694年 康熙五十年 1711年 乡试第一 以主试者赵申楼被讦 獲罪下獄 康熙五十九年 1720年 出獄 雍正元年 1723年 其父曾建查氏园林别墅水西庄 查为仁于此广置图书金石鼎彝 结纳国内著名文人 学者 常与谈汝龙 朝琦 方龙眠 杭世骏 江沆 厉鹗等著名文学家 经学家 诗坛领袖等都曾寓居水西庄 或吟诗作赋 或挥毫书画 或埋头经史 或著书立说 或鉴赏金石 书画 图籍 产生了大量诗词 文章 书法 绘画作品 使天津古代文学艺术事业以水西庄为中心进入了极盛时期 其文人之盛 与扬州马氏玲珑山馆 杭州赵氏小山堂南北并称 成为蜚声海内外的文化胜地 编著和辑刊有 赏菊倡和诗 花影庵杂记 拟乐府补题 沽上题襟集 昨非斋草 蔗糖未定稿 与厉鹗合撰有 绝妙好词笺 被收入 四库全书 著有 庶塘未定稿 9卷 外集 8卷 莲坡诗话 為愛妻金至雲病逝故時念妻而作的 悼亡姬 已亡失 反而是佟宏小妾趙豔雪 和查為仁悼亡诗 兩句 美人自古如名將 不許人間見白頭 流傳至今 庞家堡站 庞家堡站 Pangjiabu Railway Station 是位于中国河北省张家口市宣化区庞家堡镇的一个火车站 是宣庞铁路的终点站 王恂 元朝 王恂 字敬甫 元朝数学家 祖籍中山唐县 年少聪慧 年十三 数学已頗有造诣 1249年到磁州紫金山从刘秉忠学习天文 地理 律历 1258年奉忽必烈之招为太子伴读 1260年忽必烈登汗位 升王恂为太子赞善 有以算术妙天下之美名 1279年任太史令 与郭守敬等学者一同改革中国历法 编成 授时历 于1291年初颁布 在编 授时历 时 郭守敬负责观测 王恂负责计算 王恂推广隋唐时代二次内插法为三次内插法 用以计算太阳盈缩 太阴迟疾的差分 定差 平差 立差 并归纳出计算公式 王恂应用高超的数学 将球面上的弧线化为平面几何进行计算 王恂还将解四次方程的天元术用来解决历法问题 白庙站 白庙站 Baimiao Railway Station 是位于中国河北省张家口市宣化区庞家堡镇境内 宣庞铁路上的一个火车站 该站因临近白庙村得名 张行简 张行简 字敬甫 山东日照人 金朝数学家 天文学家 金大定十九年 1179年 进士 任翰林文字 升礼部侍郎 主掌金代天文台 承安六年迁侍讲学士 仍掌管天文台 金泰和六年 1206年 奉召为礼部尚书兼侍讲 同修国史 张行简著作包括 礼例篡 一百二十卷 和记述关于天文台的 清台 张行简还制作一台莲花漏计时器 華嚴 作家 嚴停雲 筆名華嚴 福建省閩侯縣人 出身學者家族 亦自認受佛教影響 上海聖約翰大學中文系畢業後赴臺灣探親 因而居留在此地 婚後成為家庭主婦 但後來抽空創作成為臺灣知名作家 作品多以小說為主 擅長描寫人的七情六慾及生老病死 忠實呈現人生的不完滿 也提供智慧的心語 創作生涯長達45年 多部作品被改編為電視劇與電影 而最滿意的作品是其首創的對話體小說 華嚴的祖父是清末學者嚴復 民國成立時之第一任國立北京大學校長 父嚴琥 別名普賢 字叔夏 以字行 是嚴復的三子 出身學者世家 停雲這個名字是晉陶淵明的一首古詩的名 華嚴三姊是嚴倬雲 而三姊夫是鹿港辜家的辜振甫 華嚴的外祖父是臺灣板橋林家林維讓的兒子林爾康 外祖母陳芷芳是清朝進士 溥儀老師陳宝琛的妹妹 母親是林慕蘭 她也是臺灣鄉土歷史學家林衡道的表妹 華南金控董事長林明成的表姐 夫葉明勳是中央通訊社第一位臺灣特派員 為臺灣新聞界大老 兩人於於1949年結婚 婚後育有三女文心 文可 文茲和兒子文立 長女葉文心是美國加州大學柏克萊分校教授 該校東亞研究所所長 兒子葉文立曾任聯太國際公司總經理 聯廣公司總經理 和信國際傳播公司總經理 凱絡媒體服務公司董事長等 目前為安吉斯媒體 Aegis Media 集團大中華地區董事長 父母皆信佛教 兄弟姊妹年幼時即皈依圓覺宗第五代祖師諾那呼圖克圖 抗日戰爭時母親帶小孩到上海避難 華嚴進入南洋模範高中 後來又考進聖約翰大學 華嚴的父親嚴琥曾任福建協和學院 福州大學前身之一 中文系主任 文學院院長等職位 夫婿葉明勳是福建協和學院外文系的畢業生 1945年中華民國接管臺灣後被中央社派赴台灣 華嚴1947年冬季從上海聖約翰大學畢業 赴臺探望為華嚴舅父林熊徵奔喪的母親林慕蘭 結果剛到臺灣不久 國共形勢就緊張了 於是母親把華嚴留在臺灣 葉明勳在臺灣很照顧師母林慕蘭 進而結識華嚴 葉明勳與華嚴結婚後 林慕蘭一直與他們同住了40多年 活到102歲 嚴琥留在大陸曾任福州市的第一任副市長 1957年反右被打成了 右派 1962年去世前曾讀過華嚴的第一本作品 智慧的燈 婚後華嚴的長兄嚴僑要來臺灣 她請夫婿葉明勳作保 嚴僑來臺後曾在臺中一中任數學教師 李敖是其學生 故李敖稱嚴僑是他最難忘的一位老师 1953年因有人檢舉嚴僑是匪諜 曾在大陸參加過讀書會 於深夜被拘捕入獄 時任中華日報社長的保人葉明勳亦被請進警備總部連夜詢問 經華嚴徹夜奔走 找尋認識的長官為葉作證 終於下半夜才被放出來 葉明勳因而辭去了中華日報社長的職位 經辜 嚴兩家奔走 嚴僑也放了出來 後因病去世 葉明勳一直到4年後 1959年9月 才受邀擔任自立晚報社長 2005年隨著李敖拜訪大陸 嚴僑由中國共產黨追認為 烈士 證實他的地下黨員身份 華嚴婚後一連生了四個小孩 後來才開始寫作 第一本作品 智慧的燈 花了三年的時間 到1961年才完成 據說她以姑姑的姓名作為筆名 葉明勳將稿子拿給大華晚報的耿修業 於是在大華晚報連載了120天 華嚴的寫作生涯也就此展開 後來日記體小說 蒂蒂日記 被拍成電影 她又自創全對話形式長篇小說 成為個人風格最特殊之處 1993年華嚴獲得 中國文藝協會 頒發的中國文藝獎章榮譽獎章小說創作獎 2006年6月20日 華嚴參加廣東省社會科學院哲學與文化研究所於廣州舉辦的 華嚴文學創作學術研討會 來自海峽兩岸三地的學者共提供了23篇論文 會議當天共發表了19篇 這是兩岸第一次舉辦全面性討論華嚴作品的會議 與會學者熱烈討論盛況空前 論文集結成 華嚴文學創作論文集 廣東省文學藝術界聯合會主席劉斯奮說 華嚴的小說文化筆韻豐厚 儒家哲學的滋潤使得作品迥異於時下的一般作品 加上佛家思想的智慧提升 其作品蘊涵著豐富的思想 使閱讀者能獲得心靈滋潤 國立中央大學碩士生林宛庭在碩士論文中評論華嚴的小說 宛若清溪 潺湲流向人的心靈深處 不以波濤翻滾惱人心神 其小說中非圓滿人生的佈局 使得華嚴能藉著高低起伏的情節中 透露出智慧的心語 不但強化了她的說理性 也為苦海中的男女指點了明路 李敖曾擁有一些辜振甫等人籌組成立中國合成橡膠的股票 並在股東大會裡興風作浪 辜振甫與華嚴曾為此事前去拜訪 李敖後來以風華絕代的女作家形容華嚴 由葉明勳與華嚴的結婚照 可見李敖所言非虛 貢納古冠企鵝 貢納古冠企鵝 學名 Palaeeudyptes gunnari 是一種已滅絕的古冠企鵝屬 牠們比新西蘭的南極古冠企鵝稍為細小 高約1 1 1 25米 約有皇帝企鵝的大小 牠們的化石是在南極西摩爾島 Seymour Island 的La Meseta組發現 屬於始新世中或晚期 起初貢納古冠企鵝被認為是屬於 Eosphaeniscus 但基於發現更多的遺骸後 牠們被重置到現有的古冠企鵝屬中 另外 維曼企鵝可能也是貢納古冠企鵝 房彦谦 房彦谦 字孝冲 出身清河房氏 房彦谦一生经历东魏 北齐 北周 隋四朝 终于隋泾阳县令任上 七世祖房谌 在后燕担任太尉掾 随着慕容德南迁青州 高祖房法寿 曾擔任魏青 冀二州刺史 祖房翼 庄武伯 镇远将军 宋安太守 父房伯熊 清河内史 兄房彦诩 释褐仪同开府行参军 寻除殿中侍御史 改授青州法曹参军 行益都县事 寻除千乘县令 房彦谦行六 在十八歲時被广宁王高孝珩聘为主簿 清简守法 州境肃然 齐亡後 称病 归于家 當時北朝政教严切 人士不敢隐退 开皇七年 587年 由刺史韦艺坚持推荐入朝廷 吏部尚书卢恺很看重他 授承奉郎 不久再迁监察御史 大业九年 613年 随隋炀帝至辽东 担任扶余道 今东北地区 监军 後因得罪權貴 迁为泾阳县令 卒於任上 房彦谦工書法 楷法瘦劲宽博 有子房玄龄 他曾经和玄龄说过 人皆因禄富 我独以官贫 所遗子孙 在于清白耳 今山东省济南市历城区彩石镇西彩石村东北有房彦谦墓 立于唐贞观五年三月二日 公元631年 李百药撰文 欧阳询隶书 碑首和碑身为一整块巨石 高约4米 宽约1 4米 厚0 4米 碑首凸雕螭龙 碑额篆书 唐故徐州都督房公碑 9个大字 斯皮瑞達提斯 斯皮瑞達提斯 生存於前四世紀 為波斯阿契美尼德帝國大流士三世時期的呂底亞和愛奧尼亞總督 前334年亞歷山大大帝東征時 他在格拉尼庫斯河戰役中與其他波斯總督一同出戰 於戰場上 斯皮瑞達提斯在亞歷山大背後 正要舉刀往亞歷山大砍過去時 克利圖斯即時砍下斯皮瑞達提斯的手臂 西西里的狄奧多羅斯把他與大流士三世的女婿米特里達梯搞混 並記載羅薩塞斯是他的兄弟 斯里兰卡佛教 佛教是斯里兰卡的最重要宗教 主要是南傳上座部佛教 斯里蘭卡也是南傳上座部佛教的中心地之一 佛教徒约佔斯里兰卡人口的70 据斯里兰卡的传统编年史 如 岛史 大史 记载 在公元前2世纪 阿育王之子摩哂陀比丘將佛教传入斯里兰卡 并在斯里兰卡王 的统治下广为弘扬 在此期间 一棵菩提树苗被带到斯里兰卡 首批寺院也相应建立 大约公元前30年 此前一直作为口头传统传承的 巴利文大藏经 也在斯里兰卡首次进行书面化 斯里蘭卡佛教最重要的特征是曾分為保守的上座部大寺住派 摩诃毗诃罗住派 Mahāvihāra 和更開放的大眾部無畏山寺住派 阿跋耶祇釐毘訶羅 Abhayagiri vihāra 上座部即傳承至現代的南傳上座部佛教 長期在斯里蘭卡乃至東南亞地區佔據主導地位 而大眾部則發展為大乘佛教 北傳至漢地 藏地等 斯里兰卡拥有比其他佛教国家更为持续的佛教历史 在公元2世纪中 僧伽正统一直得以传承 在衰退时期 斯里兰卡寺院凭借通过与缅甸和泰国的联系 得以恢复僧伽制度 在大乘佛教影响 以及殖民主义的统治下 斯里兰卡的上座部佛教受到巨大挑战 尤其受到英國殖民者的破壞和打壓 但在19世纪 维系了两千余年的上座部传统仍旧得以存续和复兴 公元410年 中国东晋高僧法显由南印度搭乘海舶到达狮子国 即斯里兰卡 并在此住二年 求得 弥沙塞律 长阿含经 杂阿含经 和 杂藏 中国唐朝 义朗法师 明远 灵运 窥冲 慧琰 无行禅师 高丽僧玄游等都到此求经学习 从16世纪起 基督教传教士和葡萄牙 荷兰 英国的殖民者曾试图將斯里兰卡基督教化 受到佛教徒的反抗 在19世纪末 一项全国性的佛教运动爆发 由基督教牧师与佛教高僧尊者 进行辩论 这场辩论的高峰即是著名的辩论 瞿那难陀尊者最终在辩论中获胜 这场胜利极大地鼓舞了斯里兰卡人民的民族自豪感和对本国文化的自信 神智学会创办人之一的亨利 奥尔科特正是因为在美国看到了记录这场辩论的小册子之后决定前往斯里兰卡 并且在斯里兰卡佛教复兴运动中发挥了重要作用 不同的斯里兰卡佛教僧侣教派被称为尼伽耶 各派在教义上没有差别 三个主要部派分别为 波斯的米特里達梯 米特里達梯 生存於前四世紀 為波斯阿契美尼德帝國貴族 大流士三世的女婿 前334年亞歷山大大帝東征時 他在格拉尼庫斯河戰役中與其他波斯總督一同出戰 於戰場上 與亞歷山大對決時戰死 有机园艺 有機園藝以不使用農藥來病蟲害防治和使用有機肥料中的基本原則種植水果 蔬菜 花卉或觀賞植物的科學和藝術 覆蓋 覆蓋作物 堆肥 肥料 蚯蚓糞和礦物質補充劑是將這種類型的農業與其商業對應通過注意健康的土壤條件 預計昆蟲 真菌或其他問題可以最小化 然而 有機農民可以使用益蟲或是捕捉有害生物控制方法 園藝涉及五個學習領域 這些領域是花卉 包括花卉作物的生產和銷售 景觀園藝 包括景觀植物的生產 營銷和維護 養殖 包括蔬菜的生產和銷售 植物學 包括水果的生產和銷售 以及收穫 涉及保持品質 防止園藝作物的腐敗 有機園藝是基於數千年來收集的知識和技術 一般來說 有機園藝涉及自然過程 通常發生在較長時間內 並且採用可持續的整體方法 而化學品園藝則側重於立即 孤立的效果和還原性策略 有一些正式的有機園藝和農耕系統規定了具體的技術 它們往往比一般有機標準更具體 更適合 森林園藝是一個從史前時期開始的全面有機食品生產系統 被認為是世界上最古老 最具彈性的農業生態系統 生物動力學農業是基於Rudolf Steiner的深奧教義的一種方法 日本農民和作家Masanobu Fukuoka發明了一種稱為自然農業的小型糧食生產免耕農業免耕制度 此後 該方法由生態行動總監John Jeavons推動 花園不僅僅是一種提供食物的手段 它是社區中可能的一個模範 每個人都可以擁有一種特殊的花園 生產健康 有營養的有機食品 農民市場 傳遞園藝經驗的地方 分享獎金 促進更可持續的生活方式 鼓勵當地經濟發展 一個簡單的4 8 32平方英尺 的升高的花園 基於生物密集種植和平方英尺園藝的原則 使用更少的營養和更少的水 並可以保持一個家庭或社區 提供豐富的健康 營養有機蔬菜 同時促進更可持續的生活方式 有機園藝旨在與生態系統協調工作 最小程度地擾亂地球的自然平衡 由於這種有機農民一直對減耕方法感興趣 傳統農業使用機械耕作 這是犁耕還是播種 對環境有害 耕作有機農業的影響要少得多 犁耕加速侵蝕 因為土壤長時間未被覆蓋 如果土壤有機質含量低 則土壤結構穩定性降低 有機農民使用覆蓋 種植覆蓋作物和間作的技術 在一年的大部分時間內保持土壤覆蓋 使用堆肥 肥料覆蓋物和其他有機肥料 有機農場的土壤有機質含量較高 有助於限制土壤退化和侵蝕 其他方法也可用於補充現有花園 方法如堆肥或蚯蚓糞 這些做法是將有機物回收到一些最好的有機肥料和土壤調理劑中 蚯蚓糞是特別容易 副產品也是有機花園的營養物質的極好來源 不同的有害生物控制方法同樣值得注意 在化學園藝中 可以應用特定的殺蟲劑來快速殺滅特定的害蟲 化學防治可以在短期內大幅度減少害蟲種群 但不可避免地會殺死 或餓死 自然控制昆蟲和動物 從長遠來看 有害生物種群數量增加 從而造成日益嚴重的問題 反複使用殺蟲劑和除草劑也有助於快速自然選擇抗性昆蟲 植物和其他生物 增加使用需要 或需要新的更強大的控制 相比之下 有機園藝往往容忍一些害蟲種群 而長期看待 有機蟲害防治需要對病蟲害生命週期和相互作用進行徹底了解 並涉及許多技術的累積效應 包括 允許可接受的害蟲損害程度 鼓勵掠食性有益昆蟲繁殖和吃害蟲 鼓勵有益微生物 仔細選擇植物 選擇抗病品種 種植伴侶作物 遏製或轉移有害生物 在蟲害遷移期間使用排蓋保護作物 每年向不同的地方旋轉作物以中斷有害生物繁殖週期 使用昆蟲陷阱監測和控制昆蟲種群 這些技術中的每一種還提供了其他益處 如土壤保護和改良 受精 授粉 節水和季節延長 這些好處是對現場健康的總體影響是互補和累積的 有機害蟲防治和生物蟲害防治可以作為病蟲害綜合防治的一部分 然而 IPM可以包括使用不屬於有機或生物技術的化學農藥 與有機食品生產相關的一個爭議是每英畝生產的食物問題 即使有機的做法很好 根據作物 有機農業的生產率可能比傳統農業低 5 至25 常規農業的大部分生產力優勢與氮肥的使用有關 然而 氮肥的使用 特別是過度使用 如氮氣徑流對天然水供應的危害和全球變暖的增加都有負面影響 面對諸如氣候變化等挑戰 有機方法具有其他優點 如健康的土壤 可能使有機農業更有彈性 因此在生產食物方面更可靠 同樣 世界飢餓不是主要的農業產量問題 而是分配和浪費的問題 難得好天氣 難得好天氣 是許茹芸第8張國語專輯 於2000年5月18日發行 1 難得好天氣 2 新世界 電影28天中文主題曲 3 愛不愛你都一樣 4 不知不覺 5 Little by Little 6 時間的祕密 華視懷玉公主片尾曲 7 想要的感覺 金車麥根沙士2000年廣告主題曲 8 隱瞞 9 Together you and I 10 相片生活 Bonus track You are my No 1 feat Enrique Iglesias 難得好天氣 第二版MV 赵川站 赵川站 Zhaochuan Railway Station 是位于中国河北省张家口市宣化县赵川镇境内 宣庞铁路上的一个火车站 西漢丞相 相國 大司徒列表 漢書 卷十九上 百官公卿表第七上 載 相國 丞相 皆秦官 金印紫綬 掌丞天子助理萬機 秦有左右 高祖即位 置一丞相 十一年更名相國 綠綬 孝惠 高 后 置左右丞相 文帝一年復置一丞相 有兩長史 秩千石 哀帝元壽二年更名大司徒 武帝元狩五年初置司直 秩比二千石 掌佐丞相舉不法 玆据該表立此列表 在位年數不足一年者 按一年計算 史记 卷五十三 蕭相國世家第二十三 载 沛公為漢王 以何為丞相 汉王二年 前205年 派曹参以假左丞相的名义镇守关中 杜佑 通典 卷第二十一 職官三 載 漢高帝即位 一丞相 綠綬 高帝二年 拜曹參為假左丞相 即漢初丞相當有左右 今言一丞相 或漢書之誤 以蕭何為之 史记 卷五十三 蕭相國世家第二十三 载 汉十一年 前196年 上已闻淮阴侯诛 使使拜丞相何为相国 益封五千户 令卒五百人一都尉为相国卫 汉书 卷三 高后世家 载 七年 前181年 春正月丁丑 赵王友幽死于邸 己丑晦 日有蚀之 以梁王吕产为相国 赵王禄为上将军 立营陵侯刘泽为琅邪王 高 后 八年九月丙戌 前180年 復為丞相 後九月免 查表知此丞相當為陳平 漢書 卷六十六 公孫劉田王楊蔡陳鄭傳第三十六 載 征和二年春 前91年 制詔御史 其以涿郡太守 屈氂 為左丞相 分丞相長史為兩府 以待天下遠方之選 夫親親任賢 周唐之道也 以澎戶二千二百封左丞相為澎侯 故 劉屈氂 為此左 右丞相時期之左丞相 右丞相空缺 直到前90年 劉屈氂 被杀而罷 骨利干 骨利干 铁勒部落之一 居安加拉河至貝加爾湖以南 分三姓 据记载 其地夏天幾乎没有日落 出好馬 先是東突厥臣下 後臣服於薛延陀 曾向唐太宗貢馬 唐先於其地设置玄闕州 662年尹余吾州 694年再貢馬一次 後融入回紇汗國 另一部分成為雅庫特人一族源 即是元代前的三姓豁里 十驥是貞觀年間骨利干進贡的馬中唐太宗最愛的十匹 騰霜白 皎雪驄 凝露驄 懸光驄 决波騟 飛霞驃 發電赤 流金 翺麟紫 奔虹赤 贾家营站 贾家营站 Jiajiaying Railway Station 是位于中国河北省张家口市宣化县贾家营乡境内 宣庞铁路上的一个火车站 僧伽蜜多 僧伽蜜多 梵文 巴利文 意譯為慈僧 为阿育王的女儿 佛教高僧 僧伽蜜多和其孪生兄弟摩哂陀一同加入佛教僧众 此后 摩哂陀被阿育王派往斯里兰卡宣传佛法教义 建立僧團 後來因為錫蘭國王天愛帝須王的王妃阿耨羅 Anual 想出家 摩哂陀根據戒律 不能直接渡她 於是國王派遣一個代表團 到印度請阿育王派比丘尼僧團到錫蘭受比丘尼戒 使臣團傳達這訊息時 阿育王最初并不同意僧伽蜜多到海外 但僧伽蜜多向父親解釋兄長的呼換是難得的機緣 她可以在錫蘭建立比丘尼僧團 能將佛法傳給錫蘭人民 尤其婦女 阿育王最终同意 大長老Mahinda建議僧伽蜜多拿釋迦佛證果的菩提樹的樹苗一起去錫蘭 阿育王安排僧伽蜜多拿南面的樹苗及與十一位阿羅漢比丘尼去錫蘭 另外剎帝利族家庭 婆羅門 大臣及貴族等也陪伴菩提樹 僧迦蜜多從港口Tamluk離開國家 阿育王滿懷傷感的站在港口望到船隻離開視線 其他几位比丘尼一道来到斯里兰卡 并在錫蘭建立了比丘尼僧團 錫蘭是印度以外第一個國家擁有完整的佛陀的四眾弟子 僧伽蜜多建立女居士精舍 她住的尼寺在城市裡 當菩提樹苗與儀式相連時 王妃阿耨羅及其他女眾出家剃度 在阿羅漢比丘尼僧團的指導下 成立了比丘尼僧團 歷史亦告知我們僧迦羅的比丘尼亦曾到過中國 並在中國成立比丘尼僧團 大長老尼僧伽蜜多79歲時 在她住的Hatthalhaka尼寺中般涅槃 她的葬禮由Uttiya以崇敬及適當的儀式進行 在菩提樹不遠處 东海岛跨海大桥 东海岛跨海大桥 是连接广东东海岛与湛江的一条桥梁 是广东的一部分 已于2010年12月28日通车 东海岛跨海大桥于2009年1月18日开工 2010年8月30日上午 东海岛跨海大桥胜利合拢 2010年12月28日开始试通车 东海岛跨海大桥桥梁全长4 38公里 桥宽20米 设计时速100公里 小时 湛江疏港公路东海岛跨海大桥全长4 38公里 双幅8车道 分远 近两期建设 近期实施右半幅4车道 桥宽20 25米 总造价4 32亿元 远期左半幅前期各项工作已基本完成 东海岛跨海大桥连接 毛茛属 毛茛属是植物中一个大属 包含有大约400余种 绝大多数为草本植物 有一年生或二年生的 花为黄色或白色 少数为橙色甚至红色 花期在春季或夏季 叶基生或互生 单叶分裂或复叶 果实为瘦果 许多品种可入药或作为观赏花卉 许多品种的毛茛属植物生长在水边 其拉丁语名称意思就是 小青蛙 言其在水边像青蛙一样 几乎所有毛茛属植物都有毒 味苦 但干燥后的植物毒性逐渐消失 等 侯家庙站 侯家庙站 Houjiamiao Railway Station 是位于中国河北省张家口市宣化区侯家庙村境内 宣庞铁路上的一个火车站 蘭科夫自治市 蘭科夫自治市是澳大利亞的一個地方政府 位於雪梨中央商業區西北10公 里 之處 澳大利亞統計局數據指出 兰科夫自治市 至2006年6月30日有居民32 375人 是新南威尔士州人口第66大城 等於佔州內6 827 694人口的0 5 兰科夫自治市议会有议席9座 全市分3選區 各區選出議員3名代表市民和納稅人問政 市長非直選 亨利 諾利斯 羅素講座 亨利 諾利斯 羅素講座 是美國天文學會的天文終身成就獎 用來表彰天文學家的貢獻 以美國知名天文學家亨利 諾利斯 羅素命名 高盧入侵巴爾幹 高盧人 源自於拉登地區的凱爾特人 Celtic groups 開始於前四世紀南遷至巴爾幹半島 儘管凱爾特人原本的據點多數集中於喀爾巴阡盆地西部 但在巴爾幹半島本身也有許多他們的據點與他們顯著的侵略行為 在凱爾特人佔領了北方的伊利里亞與潘諾尼亞 並將其作為基地後 他們的侵略行動在前三世紀達到高峰 其中緊接而來的是對馬其頓 色雷斯 希臘地區的入侵 在前279年入侵希臘之前 由於亞歷山大大帝去世造成帝國內部的紛亂 凱爾特人趁虛而入 發動一系列對南巴爾幹與馬其頓帝國的攻擊 一部分的衝突發生安那托利亞 而最後凱爾特人就在此處定居 加拉太 Galatia 這個地名也是由此而來 自前四世紀以來 凱爾特人推進到喀爾巴阡地區與多瑙河 與他們在義大利半島的遷移進度相仿 波伊人 Boii 與 Volcae 二者皆是沃爾卡的大部族 他們常在戰爭中相互合作 一小部份的凱爾特人南遷經由兩條較主要的路徑 一條是跟著多瑙河 另一條由東義大利 約有三十萬凱爾特人進入義大利與伊利里亞而約在前三世紀時 潘諾尼亞當地原居民已幾乎完全被他們同化了 拉登文化史前遺物在潘諾尼亞隨處可見 但在蒂薩河西部與南部卻甚為稀疏 這些出土的文物被認為是凱爾特與潘諾尼亞文化的局部變異 然而有些特點顯示凱爾特人仍與偏遠地區如伊比利亞半島保持接觸 凱爾特人在潘諾尼亞河附近的肥沃土地安置 在開發農業和製作陶器的同時 開採位於現今斯洛文尼亞的豐富礦產 在歐洲東南部維也納至蒂薩河一帶建立新家園 当时巴尔干北部的政治局势处在不断的动乱中 在任何一个时间 个别势力都在争取获得优势超越其它势力 当自己的领土确立的同时 这个势力就能够在大片区域控制并且组织另外的主要势力 有时是不同语言的相似性 征发军队由该势力的军事部门领导 一个上进且机动性强的武士阶级能够不时地征服大片土地并且利用他们的人口 四世纪时 凯尔特人在巴尔干的政局中发挥了优势 伊利里亚人发动了对马其顿的战争 留下他们脆弱的西侧 在亞歷山大大帝统治马其顿期间 凯尔特人不敢向南接近 因此在早期 凯尔特人的军事征发主要集中在对伊利里亚人的势力中 我们不知道有关伊利里亚腹地的政治事务 但我们知道第一个被凯尔特人打败的巴尔干势力就是伊利里亚人 它享有超出巴尔干中部地区的势力范围 集中于摩拉瓦河 Morava valley 一项有趣的记录表明凯尔特人将狡猾的战术用在对阿尔迪安人 Ardiaei 的进攻中 西元前335年 凯尔特人派遣代表向亚历山大大帝表示敬意 与此同时 马其顿王国正陷于对色雷斯人 Thracian 北部边境地区势力的战争中 一些历史学家指出 这一 外交 举动实际上是对马其顿军事实力的评价 因为凯尔特人主要的目标还是希腊人的财富 亚历山大大帝死后 赛尔特人的部队开始压向南方地区 威胁到了马其顿和希腊 西元前310年 凯尔特的莫里斯托莫斯 Molistomos 将军全面进攻深入伊利里亚领土 并降服达达尼亚人 Dardanians 派奥尼亚人 Paeonians 以及特里巴利人 Triballi 新任的马其顿國王卡山德不得不把他的老敌人 伊利里亚人納入自己的保護之下 西元前298年 塞尔特人發動一場深入色雷斯和马其顿的一次入侵 但在哈伊莫司山 Haemus Mons 附近 凯尔特人在卡山德的攻擊下遭受慘敗 然而 凯尔特的另一队人马在坎鲍雷斯 Cambaules 将军带领下到达色雷斯 并占领了大片土地 公元前281年标志着凯尔特人南侵巴爾幹的軍事转折点 色雷斯利西馬科斯的繼業者王国崩溃結果 讓凯尔特人直指希臘本土的迁徙之路因此被打開保萨尼亚斯认为大迁徙的原因是由于对财物的贪婪 而查士丁认为是人口过剩引起的 门农则认为是饥荒引起的 萨尼雅斯认为 初步探测行动是由坎鲍勒斯带领的 他们因人数太少而撤退 公元前280年 一个由8 5万人组成的大军从潘诺尼亚而来并且分散为3路 向南往马其顿和希腊中部进行大远征 其中20 000人由Cerethrius帶領 並往色雷斯和特里巴利前進 另外兩路 分別為布倫努斯 Brennus 和阿喀科里俄斯 Acichorius 帶領並往派歐尼亞前進 第三路由玻爾癸俄斯 Bolgios 帶領 以馬其頓和伊利里亞為目標 玻爾癸俄斯在馬其頓擊敗大破馬其頓國王托勒密 克勞諾斯的軍隊 年輕的托勒密 克勞諾斯被俘並被處斬 然而玻爾癸俄斯的隊伍遭到馬其頓貴族索斯提尼斯擊退 玻爾癸俄斯的隊伍對掠奪所得戰利品已經感動滿足 就因此撤回 玻爾癸俄斯之後又遭到另一路的布倫努斯軍隊攻擊並遭到擊敗 讓布倫努斯可以自由的蹂躪這個區域 在這次遠征歸來後 玻爾癸俄斯再度力促第三次聯合遠征 並以希臘中部為這次目標 這次出征以玻爾癸俄斯和阿喀科里俄斯帶領 龐大的人數近乎不太可能 據記載步兵高達152 000人 騎兵有24 400人 但騎兵的實際人數可能最多只有上述的一半 因據保薩尼亞斯形容當時凱爾特人運用 三騎手 trimarcisia 的騎兵戰術 即每個騎兵都有兩個騎馬僕役 當騎兵的馬在戰鬥中失去時 他先充作步兵作戰 並等待他後方的僕役把馬給他 若騎兵在戰鬥中受傷或陣亡 他的僕役也可以頂替他的位置戰鬥 由埃陀利亚人 维奥蒂亚人 雅典人 福基斯人以及一些科林斯北部的希腊人组成的希腊同盟来到位于希腊的中部东海岸的温泉关 并在这的狭长过道建立管辖区 在初期的攻击中 布伦努斯的部队损失惨重 因此他决定派出一支由阿喀科里俄斯帶領的強大部队与埃陀利亚人对抗 正如布伦努斯所期望的 埃陀利亚的支队离开温泉关去保卫自己的家乡 埃陀利亚人进行了全民防御 老人和妇女也参与了战争 由于认识到高卢剑只在近距离有威胁 埃托利亚人采用了散兵战术 根据保薩尼亞斯表明 被派去埃托利亚的军队只有半数返回 最终布伦努斯找到了包围该地的方法 但希腊人通过海路逃离了 布伦努斯推进到德爾斐 他曾在这里战败而被迫撤退 这之后他因在战场持续多处负伤而亡 他的部队撤退到Spercheios河 并被色薩利人和马里人击溃 两位与德爾斐战役有关的历史学家 波森尼亚斯和尤斯蒂努斯 查士丁表明 高卢人被打败并且逃离 他们被一场强力的暴风雨袭击 这使的操控部队成为不可能 就连命令都难以听到 当晚随之而来的是寒冷的天气 到了早上 希腊人从两边包抄攻击了他们 布伦努斯受了伤而随后高卢人撤退 那些不能修养伤口的士兵受到伤痛的折磨 当晚惊恐笼罩着营寨 于是高卢人分化成为不同的派系并且相互攻打对方 阿喀科里俄斯和其餘士兵趕到 但仍被希臘人逼至全軍撤退 布倫努斯自殺 保薩尼亞斯記錄他是喝純酒而死 而查士丁則記錄他是自刺而死 埃陀利亞人的進逼 使高盧人退到Spercheios 被色薩利人和馬里人消滅 除了希腊人关于高卢人的失败的描述 古罗马文学传统倾向于远不同的版本 斯特拉波記述生時聽聞關於寶藏的故事 描述寶藏是托洛薩黃金及15 000塔蘭同的金塊和銀錠 有可能是在德爾斐的洗劫中被诅咒的黄金并被屬於侵略军特克托薩季人 带回了現時法國的图卢兹 在所谓的洗劫之后超过一个半世纪 罗马人将统治高卢 西元前105年 在向阿劳西奥前进的同时 山南高卢 的地方总督Quintus Servilius Caepio掠夺了托洛萨的城镇 那里的居民已经成为了辛布里人的同盟 在这里找到了5万塔蘭同的金块和1万塔蘭同的银锭 托洛萨的财务被船运回罗马 但只有白银成功到达 黄金被一队强盗偷走了 这些人据说是Caepio雇佣来杀掉守卫黄金的军团的 托洛萨的黄金永远也没有被找到 据说是被传给了Servilii Caepiones的最后的继承者 西元前105年 Caepio拒绝与他的上司合作 理由是认为他还是个新人 于是Caepio私自决定参加对罗纳河边上的辛布里的战斗 在这里 罗马军队遭到了严重的打击并且完全的崩溃 这一次行动被称为 現今的奧朗日 Caepio一回到罗马就因 军队的损失 和挪用公款的罪名而被审判 他被定罪并遭到最严厉的判决应允 他被剥夺了罗马公民的身份 禁止在罗马800英里内用水和火 罚款黄金15 000塔蘭同 約825 000磅 并接不能与朋友或家人想见或说话知道流亡结束 他整个后半生都流亡在小亚细亚的士麦那 他的失败和随后的毁灭被看做是他亵渎神圣的盗窃行为的惩罚 斯特拉波对这一描述并不感兴趣 他表明到 战败的高卢人无论如何都没有任何理由抢走这些战利品 德爾斐的钱财早已在上个世纪 当时 的期间被福基斯人 Phocians 抢夺 无论怎样 布伦努斯 对德爾斐的传奇掠夺已被一些现代历史学家作为事实 一些学者曾认为希腊战役对凯尔特人来说是灾难 然而 凯尔特人最终的目的并不是要永远占领希腊 确切的说他们是要夺回由他们所创造的希腊财富 之后 虽然他们被赶出了希腊 但在欧洲的东南部 他们的实力仍未消失 而希腊战役中的幸存者 在Comontoris 一位布伦努斯人将军 的领导下定居于色雷斯 并创建了一个短暂的城邦 名叫Tyle 而另一部分高卢人 在281年从布伦努斯的部队中分离出 并被Nicomedes I招致小亚细亚以帮助他战胜自己的兄弟以及保卫卑斯尼亚国的安全 他们最后定居在一个被后人称作加拉太的地方 但不久后 Antiochus I被打败 并囚禁在安纳托利亚荒芜的高原地区Brennus 凯尔特人仍然是北巴尔干超群的政治组织从公元前4世纪到公元前一世纪 波伊人 控制了北潘诺尼亚于公元前2世纪 同时被提到占领了现代斯洛伐克的版图 我们知道居住于潘诺尼亚的其他部落属于波伊部族联盟 他们是居住在萨瓦河流域Sisak以西的 Taurisci 还有在喀尔巴阡山脉盆地居住的 Anarti Osi and Cotini 在下萨瓦河流域 Scordisci 在他们的邻居中称霸了超过一个世纪 在公元前一世纪的后半叶在潘诺尼亚的蛮族部落中带来了更多统治关系的变化变化 Burebista对波伊联盟的胜利较大地减小了凯尔特人部落对喀尔巴阡山盆地的控制 其中的一些部落被消灭了 另外一些凯尔特人部落出现了 Hercuniates和 Latobici从北部区域 德国 移来 整个凯尔特人部落邂逅在一起 他们的拉丁名字 比如说Arabiates 可能代表了战胜波伊帝国的新势力 为了更加削弱在潘诺尼亚的凯尔特人霸权 罗马人迁移了潘诺尼亚 伊利里亚人 Azali 到北潘诺尼亚 过去被凯尔特人所享受的那些政治优势被新的蛮族势力所削弱了 比如说Marcomanni和Iazyges 他们被周围的达基亚人 伊利里亚人和德意志人所吸收使得他们的种族独立逐渐丧失 尽管直到公元3世纪他们的凯尔特名字仍然存留下来 拉金德拉 帕乔里 拉金德拉 帕乔里 Rajendra Kumar Pachauriborn 联合国政府间气候变化专门委员会主席 联合国政府间气候变化委员会2007年的一份报告提出了喜马拉雅冰川的消融速度快于世界所有冰川消融的惊人预测 报告说 喜马拉雅冰川很有可能在2035年之前甚至更早的时间完全消失 英国媒体披露这一数据不是基于科学证据后 联合国政府间气候变化委员会几天前发布声明 收回这一表述 联合国政府间气候变化委员会由于让世界关注气候变化而成为2007年诺贝尔和平奖的共同得奖者 但是对气候变换持怀疑态度的人说 联合国气变委员会的可信度由于这一严重错误而受损 一些媒体报导将这一错误称为 气候门 2010年1月23日帕乔里称公布这一预测是 令人遗憾的错误 并且说 出错的原因是相关程序没有得到严格执行 但帕乔里拒绝辞职 大堡礁受到的环境威胁 大堡礁是世界上最大的珊瑚礁群 由大约3000个礁体和900个岛屿组成 绵延2 600公里 1 616英里 覆盖约344 400平方公里 大堡礁位於澳大利亚东北部昆士兰州的珊瑚海上 其中很大一部分是由大堡礁海洋公园负责保护的 大堡礁受到的环境压力包括 来自径流的低劣水质 其中含有悬浮沉积物 过剩营养物 杀虫剂 且盐度波动不定 气候变化的影响 例如气温上升 风暴天气以及珊瑚礁白化现象 此外棘冠海星的周期性大量出现 过度捕捞导致食物链破坏 以及运输航线上的的石油泄漏或不当的压载水排放都会影响大堡礁的生态环境 水质问题于1989年首次被列为大堡礁的威胁因素 大堡礁的集水区由三个主要河流和成百上千条小溪流组成 占地面积423000平方千米 約163000平方英里 昆士兰州沿岸有几个主要的中心城市 包括凯恩斯 汤斯维尔 麦凯 罗克汉普顿以及工业城市格拉德斯通 凯恩斯和汤斯维尔是其中两个最大的沿海城市 各大约拥有15万人口 影响珊瑚礁健康的主要水质变量有水温 盐浓度 营养含量 悬浮泥沙浓度和农药浓度 在大堡礁区域存活的生物能够适应其水质的变化 然而一旦这种变化超过临界阈值 就会对这些生物造成不利影响 河排放物是最大的营养素的来源 在热带洪水爆发时会对礁石造成极大的污染 这种污染90 来自农场 大堡礁附近的集水区的水被人类用于各种用途 3000座礁石中大约700座成了危险区 由於自然酸性物沉积和耕作化学物质的排放 以及海岸线发展和作为自然过滤器的沿海湿地流失 这些区域的水质已经严重下降 集水区的工业包括大约262平方千米的棉花种植 合计158平方千米的340个奶牛场 平均每个占地2平方千米 288平方千米的放牧场 大约8000平方千米的园艺种植区 包括香蕉种植 甘蔗种植以及谷物种植 1200平方千米的小麦种植区 6000到7000平方千米的大麦种植区以及高粱和玉米种植区 在棉花 奶制品 牛肉生产 园艺业和制糖业中使用肥料对于保证产量和收益是至关重要的 然而 化肥和甘蔗收获方式的副产品构成了大堡礁潟湖地表径流的成分 潮湿热带地区的甘蔗种植业和干燥热带地区的放牧业是首要的农业生产活动 二者都是影响水质的重要因素 在大堡礁水域中常见的工业污染物铜已被证明干扰了珊瑚虫的发育 而洪水泛滥则与水中氮和磷的含量升高有关 据观察 在2007年2月 由於受季风气候的影响 大量的泥沙径流已经达到礁石的最外层区域 雨水径流对凯恩斯南部地区的影响最大 这裡的年降水量达3000毫米 而珊瑚礁距离海岸不到30公里 过度放牧 过量使用化肥与农药让农业径流受到了污染 自从澳大利亚引进了欧洲的农耕模式 农田土壤的污染程度升高了800 无机氮污染程度升高了3000 环境的污染对珊瑚系统的破坏是一系列的 比如 棘冠海星呈爆发式的密集繁殖 依据2000年的珊瑚样本显示 减少的珊瑚中有66 是这种以珊瑚虫为食的动物造成的 有人认为 珊瑚之所以受到了营养物质过剩的影响 背后的原因是海藻导致了光照和氧气竞争的加剧 除非植食生物出现异常性减少 大堡礁的珊瑚被海藻所替代的情况就不可能出现 也有人指出 水质在营养物质过剩的环境下不断恶化 促使了传染病在珊瑚间的蔓延 大堡礁的珊瑚发病率总体呈较低的水平 Skeletal Eroding Band是一种由原生动物Halofolliculina corallasia引起的疾病 会感染珊瑚群落里6科31种珊瑚 尽管人为污染是否引发了大堡礁的珊瑚疾病还尚存争议 但跟据珊瑚长期观察项目所得 珊瑚疾病的发病率在1999年至2002年间呈上升趋势 水体中营养物质浓度的提升会对珊瑚群落产生一系列的影响 这种极端的环境有可能让珊瑚消亡 这一情况还会加速浮游植物的生长 从而使滤食性生物的数量增多 让珊瑚的生存空间面临威胁 来自陆地的过量的沉积物将珊瑚覆盖 干扰了珊瑚再生的进程 也破坏了群落间的互相交换 珊瑚被沉积物颗粒覆盖后 降低了光的吸收率和可利用率 影响了珊瑚进行光合作用 珊瑚的生长受到了抑制 适宜珊瑚礁生长的海水盐度为25 42 盐度变化对珊瑚的影响越来越大 这还和其他某些因素的泛滥有关 澳大利亚和昆士兰政府共同负责珊瑚礁的保护工作 水质监测计划也已到位 然而 世界野生动物基金会还是指责政府行动缓慢 他们表示 已有差不多700处珊瑚礁因为沉积物径流的问题受到了严重威胁 大多数人认为 对于大堡礁以及其他热带珊瑚礁系来说 最大的威胁莫过于气候变化 主要是全球变暖及厄尔尼诺效应 1998年 2002年与2006年夏天 大堡礁的珊瑚白化事件表明了 目前很多珊瑚在所能承受的最高温度下生存 2007年2月 当前的珊瑚褪色被认为威胁 小 是因为考虑了季风气候系统的的因素 尽管发现珊瑚白化的地方处于监测之中 正如1998年 2002年与2006年表明的那样 珊瑚将光合作用产生的共生藻 提供百分之九十能量需求 从体内驱逐出去 颜色变淡 在水压之下显现出碳酸钙的白色骨骼 水温使其无法持久生存 在这个阶段 珊瑚仍是活的 如果水温下降 珊瑚可以重新获得共生藻 如果约一个月内水温未下降 珊瑚将死于食物短缺 此处已修改 2005年是澳大利亚史上气温最高的一年 2005与2006年夏天异常的高温导致了凯珀尔岛群的珊瑚大量白化 联合国政府间气候变化小组的一份报告草案称 大堡礁处于严重的危险之中 将在2030年 频临灭绝 提醒珊瑚白化很有可能每年都会发生 然而还有另一种观点 认为珊瑚白化问题并不如先前担心的那样严重 此处已修改 澳洲人 报纸引用詹姆斯库克大学里德 Ridd 教授的话 人们认为珊瑚白化意味着世界末日 但是当你深究进去 会发现这是一个有争议的命题 当什么问题和钙化问题联系在一起 你就有些受狼来了这个故事的影响 他们总是唤着狼来了 科学家Ray Berkelmans的研究 表明了2006年凯珀尔岛遭白化毁坏的露头 已得到惊人的恢复 澳洲人 一篇相关文章对此进行了解释 那些驱逐出共生藻的珊瑚 在死亡之前还有很小的可能性与新的耐热海藻共同生存 2006年 Berkelmans与他的小队在凯珀尔岛上发现 共生藻的主要类型由原先轻而热敏的C2型变为更加稳健的D型和C1型 2009年9月2日 澳大利亚大堡礁海洋公园当局出具的一份报告显示 若二氧化碳浓度达到450ppm 珊瑚礁的生存环境将高度恶化 若二氧化碳浓度能控制在380ppm以下 则恶化程度是可接受的 礁石将仍保持以珊瑚为主体 全球变暖可能已经引发了整个热带的礁石生态系统的瓦解 有人认为全球温度上升会导致更猛烈的热带风暴 但礁石系统具有自然弹性 可以在受到风暴重创之后复原 大多数人都认为气温的持续上升将导致更多的珊瑚白化现象 也有其他一些人指出 虽然某些区域内的珊瑚礁会死亡 但其他一些区域会变得适宜珊瑚生存 从而形成新的珊瑚礁 然而 大规模白化现象发生的频率 预计将远远超过珊瑚礁复原或调整适应的速度 不过 Kleypas等人在一份2006年的报告中提出 海水的酸化趋势显示 随着海水的PH值下降 珊瑚制造碳酸钙的能力将会降低 2009年的一项研究显示 自1990年以来 滨珊瑚 大堡礁上最强健的珊瑚 的生长速度已减缓了14 2 该项研究认为其原因是热应力以及珊瑚生长所需的钙离子的有效性降低 气候变化和全球变暖是对珊瑚礁的最大的两个威胁 气温升高2到3摄氏度将可能会造成每年97 的大堡礁遭到白化 珊瑚礁科学家泰利 东做出的预测 全球气温提升1摄氏度的话将会造成82 的珊瑚遭漂白 2摄氏度的话则是97 提高3摄氏度将导致珊瑚全部遭到毁坏 一个基于1998年和2002年遭漂白事件的预测 理论 模型也赞成这一预测 气候变化也影响着大堡礁上的其它生命形式 比如 某些鱼种需要在特定的水温里生活 这些鱼不得已要去寻找新的栖息地导致它们寻求新的栖息地 因而造成以捕食这种鱼类的海鸟的雏鸟死亡 同样 在海龟群体裡 由於海龟的性别是由温度决定的 更高的温度意味着它们群体的性别比率也将发生变化 海龟的栖息地也会缩小 热带气旋会干扰大堡礁的生态环境 它们所产生的危害是各种各样的 包括珊瑚破碎 沉积物羽流以及暴雨带来的海水盐分含量减少 例如热带气旋 乔伊 珊瑚礁被气旋破坏后就像一块块 补丁 大多数的热带气旋会在一天之内扫过大堡礁 通常来讲 紧凑型珊瑚 比如滨珊瑚 比分支型珊瑚更能抵御气旋的侵袭 和之前的热带气旋大体相同 气旋 拉里 主要对珊瑚礁的基础结构产生危害 使珊瑚断裂或移位 每过200年到三百年 昆士兰海岸会遭受一次严重的热带气旋袭击 然而 在1969年到1999年期间 该区域的大部分气旋都很弱 在澳大利亚气象局的观测版图上 它们都只达到一级或二级 人类对基石物种 Keystone species 如大法螺和鲨鱼 不可持续的过度捕捞 会破坏珊瑚礁相关的重要食物链 捕鱼活动也对珊瑚礁造成了影响 捕鱼加大了来自船舶的污染 在用拖网 锚 渔网捕捞时也会捕到一些副渔获物 如海豚和海龟 造成对珊瑚礁栖息地的破坏 对草食动物的过度捕捞会导致藻类在珊瑚礁上肆意生长 通过过度捕捞模拟研究 人们发现红边蝙蝠鱼可使藻类明显减少 人类会为了获得鲨鱼肉而捕捞鲨鱼 或者仅将它们作为副渔获物的一部分 通常 他们会将鲨鱼杀死然后扔入大海 因为有人认为鲨鱼会给捕捞带来麻烦 截至2004年7月1日 已有大约三分之一的大堡礁海洋公园纳入保护区 禁止任何未经书面许可的物种清除活动 包括捕鱼在内 然而 在这些禁止捕猎区 非法偷捕行为仍然存在 棘冠海星是一种以珊瑚为食的肉食动物 它们附着在珊瑚礁上 将胃部挤压出体外 覆盖住珊瑚虫 然后释放出消化酶将已被液化的珊瑚虫吸食殆尽 一只成年的棘冠海星可在一年内吞食掉6平方米的活珊瑚 有地质证据表明 棘冠海星已经在大堡礁存在了 至少数千年 早已成为大堡礁生态系统的一部分 但还没有棘冠海星爆发式增长的相关地质证据 这些海星大量爆发式增长会导致珊瑚礁的毁坏 2000年的一次 海星爆发 使CRC珊瑚礁研究中心在研究中损失了覆盖在其样本珊瑚礁上的66 的活珊瑚 尽管棘冠海星的大爆发被认为是自然循环的正常现象 但大堡礁及其周边的人类活动却会使这种现象恶化 农业造成的水质恶化会使棘冠海星幼虫大量繁殖 人类过度捕捞棘冠海星的天敌 大法螺 也是棘冠海星数量暴增的原因之一 根据CRC珊瑚礁研究中心的定义 如果每公顷范围内的成年海星超过30只 即为 海星爆发 运输事故也是一个紧迫的问题 因为有几条商业航运路线都经过大堡礁 大堡礁海洋公园管理局 Great Barrier Reef Marine Park Authority GBRMPA 估计大约6000艘长度在50米 164英尺 以上的大船会经过大堡礁这条路线 从1985年到2001年 有11起船只相撞事故和20起船只搁浅在大堡礁内航线事故 人为失误是造成运输事故的主要原因 尽管通过大堡礁的航线不容易 但是暗礁领航员认为 万一船出现机器故障在暗礁外围是比较安全的 因为这样船在修理时可以保持比较平稳的状态 75 的船利用大堡礁这条航线作为内航线 在外围 海风和波浪起伏将会把船推向暗礁 水的深度可以使船碰到暗礁 所以抛锚是不可能的 奋进号因无风停航 又被起伏的波浪推向暗礁 库克船长几乎因此有麻烦 直到大堡礁80米 262英尺 以内的范围 220米 722英尺 的海岸线 水深到触不到底 无法放锚 在大堡礁水域已知有1600只失事船只 废弃物和外来物种排放到来自船裡的压舱水 当没有按照净化程序来时 这对大堡礁来说是一种生物危害 在一些船体的防污涂料中发现了三丁基锡 Tributyltin TBT 合成物 还滤入海水中 这些物质对海洋生物和人类都是有毒的 努力严格控制这些合成物的使用 1923年 一份研究报告指出 大堡礁的岩层结构适合蕴藏丰富的油田 于是人们猜测 在大堡礁下面可能有一个石油圈闭 1957年通过的 英联邦石油搜索补贴法案 使得昆士兰州的石油勘探活动不断增加 其中包括1959年在大堡礁南部的沉船岛上开钻的油井 二十世纪60年代 人们开始在托雷斯海峡 沿约克角半岛东部到夏洛克公主湾 从库克顿海岸到弗雷泽岛 用地震仪器定向和磁偏角的方法来探测大堡礁可能存在的石油和天然气 60年代末期 摩羯海峡的沉船岛以及托雷斯海峡的达恩利岛附近 新建了更多的勘探油井 但仍然一无所获 在1970年 为了防止出现类似托里坎荣号石油泄漏的事件 两个皇家专门调查委员会介入了大堡礁地区的石油勘探和开采工作 在调查委员会工作结束后 联邦政府和州政府禁止在大堡礁进行石油钻采 1990年 一份研究报告指出 大堡礁还很 年轻 不可能蕴藏着石油储备 尽管依然有效的石油禁采令使得大堡礁地区的生态安全有所保障 但因航运引起的石油泄漏仍威胁着大堡礁的生态系统 从1987年到2002年 总共就有282起石油泄漏事件 法語方言 法語在法國和世界其他地區有多種變體 方言 法國人一般使用以巴黎的法語為標準的 本土法語 français de France 但法國南部人亦使用受奧克語影響的所謂的 南部法語 français méridional 歐洲的法語變體有比利時法語 瑞士法語和義大利瓦萊達奧斯塔地區的奧斯塔法語 Francophonie en Vallée d Aoste 在加拿大 法語與英語同為官方語言 法語方言主要有魁北克法語和阿卡迪亞法語 在黎巴嫩 法語直到1941年為止是官方語言之一 當地的法語方言為黎巴嫩法語 其他地區亦有法語的方言 詳見下述 本篇主要敘述法語的不同方言 而法國本土尚有多種其他語言存在 如奧依語 法蘭克 普羅旺斯語和奧克語 法語衍生的克里奧爾語也被認為是不同的語言 北非的馬格里布諸國 毛里塔尼亞 阿爾及利亞 摩洛哥和突尼斯 是前法國殖民地 現時官方語言為阿拉伯語 但也廣泛使用法語 西非和印度洋等地區多個國家也以法語為官方語言 2006年 31個非洲國家的約1 15億人以法語為第一或第二語言 非洲也是法語使用者最多的大陸 非洲不同國家使用的法語各有不同 共同點有r發為顫音及使用從當地語言借用的詞彙等 阿卡迪亞法語主要使用於加拿大海洋省份 包括新不倫瑞克 新斯科舍和愛德華王子島三個省 亦使用於美國緬因州北部的聖約翰河河谷地區 聖勞倫斯灣的馬格達倫群島以及聖勞倫斯河北岸屬於魁北克省的Havre Saint Pierre鎮 法國本土人甚至加拿大其他地區 如魁北克 的法語使用者理解阿卡迪亞法語可能有一定困難 主要特點包括保留著很多中古法語的發音方式 語法規則以及辭彙的使用 譬如 在前元音之前 和 變為 及 和 變為 而且 r總是讀為 法國的算是陌生的 某些地方仍然保留著中古法語的三合元音 蝦格法語是新不倫瑞克東南部蒙克頓等地使用的一種阿卡迪亞法語和英語的混合語 紐芬蘭法語是曾經在法屬紐芬蘭殖民地使用的法語方言 魁北克法語是加拿大最重要和廣泛使用的法語變種 它雖然有完整的體系 但並沒有官方認定的標準 因為魁北克法語局 Office québécois de la langue française 認為人為的標準化魁北克法語會降低它與其他地區 國家法語的相通程度 主要特點包括 在閉音節中分別與 為相同音位 以及 之前 和 分別顎化為 和 长元音通常读双元音在关闭音节 例如 fête 读 其他方言有和等地的法語方言 路易斯安那主要有兩種法語方言 當地還使用路易斯安那克里奧爾法語 一種法語衍生的克里奧爾語 嚴格的說並不屬於法語 柬埔寨法語在法國殖民柬埔寨時期 始於1863年 形成 受到一定的高棉語及當地使用的漢語方言 潮州話 廣東話等 影響 主要由法國殖民者與當地人通婚留下的後裔使用 現在使用者已經多為老人 年輕一代傾向於學習英語 老撾法語形成於法國殖民印度支那期間 老撾獨立及共產黨執政之後 法語使用者持續減少 印度法語是在前法屬印度地區 本地治里市 Puducherry 卡來卡 Karaikal 雅南 Yanam 馬埃 Mahé 和金德訥格爾 Chandannagar 使用的法語方言 受泰米爾語 泰盧固語和馬拉雅拉姆語等語言影響 奧斯塔法語 是義大利北部瓦萊達奧斯塔地區使用的法語方言 該地有相當人口使用義大利語 法語及當地的本土語 Val d Aosta 一種法蘭克 普羅旺斯語 比利時法語 法語 français de Belgique 比利時法語區使用的法語方言 該地區還使用瓦龍語 皮卡爾語 Picard 向布諾瓦語 Champenois 和洛林語 Lorrain 等語言 比利時法語與法國北部的法語幾乎相同 主要特點有區分長短元音 缺乏無擦通音及部分比利時特有的辭彙 澤西法律法語是澤西島行政用的法語 主要特點有一些古代辭彙的使用以及以septante和nonante表示七十和九十 瑞士法語 是瑞士法語區 亦稱羅曼底 Romandy 使用的法語方言 與巴黎的法語非常接近 僅有部分辭彙不同 用於聯邦政府文件的帶有德語風味的法語稱為聯邦法語 南部法語 法語 français méridional 是奧西塔尼亞地區使用的法語 該地區主要範圍為法國南部 意大利的阿爾卑斯山山谷 以及西班牙的Val d Aran 南部法語受到奧克語的強烈影響 其他在法國使用的法語方言有 等 新喀里多尼亞法語是使用於美拉尼西亞的新喀里多尼亞的法語方言 受塔西提語 爪哇語 越南語 英語等影響 毕士大池 毕士大池 Bethesda 是耶路撒冷旧城的穆斯林区的一组水池 因靠近古代的 羊门 今天的狮子门附近 自从4世纪又被称为 羊池 但今天认为是一个错误的翻译 毕士大池的历史开始于公元前8世纪 当时修建了一道水坝 形成一个用于积蓄雨水的水库 水坝的闸门可以控制水量 通过一条从岩石中开挖的渠道 水库的水源源不断供应这个城市 这个水库称为 上池 בריכה העליונה 大约公元前200年 大祭司Simon II时期 关闭了渠道 并在水坝南侧增加了第二个水池 虽然民间传说认为 这水池清是用于洗羊 但这是不太可能的 因为水池用作城市的水源 而且深达13米 公元前一世纪 两个水池东面的天然洞穴改为小浴室 作为医神阿斯克勒庇俄斯庙的一部分 然而 密西拿 暗示其中至少一个水池供奉的是幸运女神福爾圖娜 而不是医神阿斯克勒庇俄斯 学者认为 这个神庙是由附近安东尼城堡的 罗马驻军所建立 他们也能保护神庙免受攻击 因为阿斯克勒庇俄斯庙的位置 当时在城墙以外 因此犹太人容忍了它的存在 犹太人不能允许非犹太宗教出现在他们的圣城内 公元一世纪中期 希律阿格里帕扩大了城墙 将其圈入城内 哈德良重建耶路撒冷时 沿水坝修筑一条道路 并将医神庙扩建为供奉阿斯克勒庇俄斯和塞拉皮斯的大型神庙 在拜占庭帝国时期 医神庙改为教堂 十字军征服耶路撒冷之后 教堂重建 但规模要小得多 萨拉丁夺取耶路撒冷后 将其改为学校 这座建筑物逐渐荒废 成为垃圾堆 十九世纪初 奥斯曼帝国为表示感谢 准备将毕士大池或者塞浦路斯送给维多利亚女王 圣公会教会建议选择毕士大池 但是维多利亚选择了塞浦路斯 因此在1856年 奥斯曼帝国将这个地方送给法国 法国人在古代遗址的东南角兴建了圣亚纳教堂 Church of Saint Anne 中央昆士蘭大學 中央昆士蘭大學 缩写 是澳大利亞一所位於昆士蘭州中部的公立大學 由於CQU地理位置距離各大城市較遠 因此在各州首府如雪梨 墨爾本 布里斯本皆有校舍 目前在澳大利亚拥有十所校区 该大学是澳洲最早也是目前最大的远程教育提供者 其远程教育课程在世界范围内属于领先水平 CQU 初於1967年時 以 中央昆士蘭大學院 為名正式授課 至1992年升格為中央昆士蘭大學 University of Central Queensland 1994年起始用今日的Central Queensland University 目前 大学官方使用的名称为 依照澳大利亞 大學法 董事長稱 Chancellor 校長稱 Vice Chancellor CQU 校務自治 因此校務由校長主持 學院事務由學務長負責 Executive Deans CQU 學生由學生會自選自治CQU Student Association CQUSA 研究生的權益則由 CQU Postgraduate Research Students Committee 負責 CQU 一度有五間學院 後來縮編成兩大學院 一是 文學 商學 資訊學暨教育學院 另一是 理學 工程學暨健康學院 2006年 CQU 的授課範圍主要有 建築 環境與設計 商學與觀光 創意與表演藝術 教育 工程學與技術 健康 人文與社會學 資訊科技 第一產業與環境 理學 雙學位等 CQU Student Handbook CQU是澳洲最早跨州开设国际校区的大学 大学提供大量从预科到本科 研究生和博士的各类型课程 现有超过2 2万名在校学生 包括分别来自于60多个不同国家和地区的大约5千名的国际学生 CQU在当地被视为澳洲最好的大学之一 大学拥有十个校区 包括 主校区Rockhampton 地区校区Mackay Gladstone Bundaberg Noosa和Emerald 其中后两个为研究中心 都市校区Brisbane Sydney及Melbourne CQU有數座研究中心和課程 包括 毕业生起薪最高大学 中央昆士兰大学在Graduate Careers Council of Australia的报告中连续数年名列最高就业率大学Top 10 毕业起薪为5星级 每年三次入学的公立大学 雪梨 墨尔本 布里斯班可以提供一年三期的课程 学生可快速完成学业 节约时间和金钱 有机会用两年的时间完成普通的三年制本科学位 多个校区间自由转换 除Emerald校区外 其他9个校区均有国际学生可以入读的专业 学生可以在开设有相同专业的不同校区间自由转换 体验更多精彩澳洲生活 小班授课 学生有更多机会和教师同学交流 教师全部都具有针对国际学生的授课经验 授课方式及速度有助于国际学生的理解及学习 迅速提高学生能力 学费低的同时提供高额奖学金 大学为国际学生提供校长奖学金 免费的学习技巧指导课程 LEARNING SKILLS UNIT LSU 及语言辅导 课程内容主要是帮助学生解决学习中的问题 进入专业课后 如学生认为自己在语言方面有困难 可以申请免费的语言课程 每周最多可申请到3个小时的课程 例如帮助学生看作业 论文中的语言及内容是否切题等 无需预约 学生有需要可直接去办公室找老师辅导 更多实习和就业机会 由于中央昆士兰地区仅有中央昆士兰大学一所大学 因此大学享有该地区全部的资源 很多专业的学生都可以很容易获得该行业的实习与就业机会 CQU在国际教育领域取得的成果得到了澳洲各级政府的肯定与认可 同时也获得了多项鼓励和荣誉 主要包括 在澳大利亚研究理事会公布的2010年澳大利亚各大学研究能力的评估报告 Excellence Research Australia 中 中央昆士兰大学在工程学Engineering 医学和健康服务Medical and Health Sciences 护理学Nursing这几个领域上均达到了世界级水准 根据澳洲唯一权威排名Good Universities Guide 2008年中 主要相关排名如下 毕业生起薪 理想的毕业水平 多元文化性 招收国际学生 对待教育或文化背景弱势学生的公平性 按比例从TAFE转学分入学均列为五颗星 Good Universities Guide 2012中 Teaching Quality被评为昆士兰州TOP 3 澳洲排名第14位 列为4星级 原有的5星级项目继续保持 作为当地最好的政府公立大学之一 工程系的毕业生俨然成为企业争相聘用的首选 并且毕业生起薪与就业率均为全澳最高 澳洲全境矿业人员年平均工资在8万澳元以上 Rockhampton地区通常矿业工程师可以拿到10万澳元左右的年收入 而高级采矿工程师等部分高级职务 年收入则可以到达18万左右澳元 王守一 王守一 同州下邽县 在今陕西省渭南市境 人 王仁皎之子 唐朝官员 外戚 驸马 王守一是唐玄宗皇后王氏的孪生兄長 或说弟 他亦在唐玄宗登基后娶其妹靖阳公主為妻 先天二年七月 713年 李隆基发动先天之变 王守一做为他的亲信亦参与其中 壬申 官员论功行赏 授银青光禄大夫 太常卿 封晋国公 实封五百户 或称以诛杀萧至忠 岑羲等有功 由尚乘奉御升迁至殿中少监 累转至太子少保 开元七年 719年 父亲王仁皎逝世 王守一袭封祁国公 当时 玄宗寵愛武惠妃 而皇后王氏久無子息 唐玄宗多有废后之意 开元十年 722年 他的一位妹夫嗣濮王李峤举报姜皎泄露唐玄宗废后之意 姜皎受杖刑后 死于流放途中 王守一惧 王守一用符咒方法替皇后求子 此事為武惠妃探知 立即向玄宗告发 开元十一年 723年 或称开元十二年 724年 王守一为与王皇后诅咒之事 被贬为柳州司马 或称贬为泽州别驾 行至蓝田县驿馆 赐死 王皇后亦在开元十二年秋被废 妻清阳公主后改嫁裴巽 王守一性格贪鄙 积财巨万 及籍没其家 财帛不可胜计 吸附式制冷 吸附式制冷 也称吸附式制冷系统 是一种制冷系统 其基本结构由发生器 冷凝器 储液器 蒸发器 吸附器和阀门等模块组成 吸附式制冷系统的运作机制为 选择工质对是吸附式制冷的重要环节 即选择吸附剂 制冷剂工质 好的制冷剂要求包括吸附性能强 吸附速度快 传热效果好的吸附剂和汽化潜热大 沸点满足要求的制冷剂 而在实际的操作中 其选择应根据具体情况而定 王仁皎 王仁皎 字鸣鹤 唐朝外戚 官员 家族出于太原王氏 根据其女儿王氏的相关记载 当已迁至同州下邽县 王仁皎初以翊卫调同州参军 换晋州司兵 景龙年間 官至长上果毅 或记授甘泉府果毅 迁左卫中郎将 其女王氏早年嫁给临淄王李隆基为郡王妃 710年 唐隆之变后 女婿李隆基成为太子 女儿王氏获封太子妃 王仁皎也由此显贵 升为将作大匠 太仆卿 先天之变后 李隆基登基 女儿成为皇后 做为外戚 王仁皎不再任职 李隆基给予他优待 加特进 开府仪同三司 策上柱国 封祁国公 开元以来 开府仪同三司这个殊荣仅有他与姚崇 宋璟 王毛仲四人得到 仁皎本人不干预朝政 但生活侈華 开元时 他的另一个女婿长孙昕因依杖皇亲国戚的身份 与自己的妹夫杨仙玉一起殴打御史大夫李杰 后被囚禁 根据 太平广记 的记载 王仁皎组织了二百多骑 从万年县衙劫持了长孙昕等人 开元七年 王仁皎在京师逝世 追赠太尉 益州大都督 谥号昭宣 其子駙馬都尉王守一 請求援引睿宗皇后之父竇孝諶之例 墳高五丈二尺 遭到侍中宋璟和門下侍郎苏颋的反對 以為 高墳乃昔賢所誡 厚葬實君子所非 今墓在大荔县羌白镇正西二公里处 张说撰文 全唐文 名 赠太尉益州大都督王公神道碑奉敕撰 大富翁Online 大富翁Online 是由大宇资讯在中国大陆的子公司北京软星研发的一款休闲网络游戏 本作于2006年4月在台港澳由大宇资讯推出 2007年7月 久游网宣布取得本作在中国大陆的代理权 同年11月15日展开封测 2008年3月28日宣布开启 想当年公测 2017年6月30日 大宇资讯发布公告称 大富翁Online僅餘的台港澳營運服務將於2017年7月31日起停止运营 跟单机的大富翁无异 扔骰子前进 购地建屋 经过自己的地产可以加盖 而经过他人的地产须付过路费 如全部对手都破产 或在设定的时限到达后资金最多 则可取得胜利 玩家之间可以使用卡片进行攻击或者陷害 受攻击的玩家会扣除一定现金而不会受卡片上的效果的影响 现金小于0即为破产 类似于PK模式 但不同的是玩家要一起对抗BOSS 游戏中可以使用卡片削弱BOSS的实力 也可以修建各种 奇迹 提升玩家的战力 BOSS若破产 金钱为0 则玩家获胜 这是中国大陆版本推出的一个特别活动 于2008年4月29日至2008年5月27日止 参加活动的玩家进行的交易对象均为实时变化的股票 交易品种 价格 模式等等与中国证券交易所的交易机制无异 2008年6月3日 久游宣布再度举办股神大赛活动 时间至2008年7月1日止 大富翁Online亦被陆续授权至东南亚 北美等地 东南亚地区由ASIASOFT负责代理 代理地区为泰国 越南 新加坡 马来西亚 北美地区由Aeriagames负责代理 但北美版本目前已经停运 2011年2月28日 久游网发布公告称 大富翁Online在中国大陆将于2011年5月31日停止运营 这是大宇资讯于2010年4月19日在台港澳版本加开的新服务器 虽然在玩法上跟常规服务器没有任何区别 但支持的可用于进行游戏的平台更广 如可使用Facebook Yahoo与Google帐号登录 2011年3月31日 大宇发布公告称 该服务器将于2011年5月10日终止营运 藍嶺山脈 藍嶺山脈 是美國東南部的山脈 為阿帕拉契山脈的東段 從賓夕法尼亞州南部起 經馬里蘭州 維吉尼亞州和北卡羅萊納州到喬治亞州 東北 西南走向延伸約1050公里 沿線包含有 Brushy Mountains 和大煙山 Great Smoky Mountains 等較具代表性的山脈 而最高峰米切爾峰海拔2037公尺 大煙山和謝南多厄國家公園 Shenandoah National Park 則以森林景色聞名 硇洲灯塔 硇洲灯塔 位于广东湛江的硇洲岛上 湛江市国家级文物保护单位 始建于1898年 由麻石砌成 底宽5米 顶宽4米 高约23米 座架中央悬挂400千瓦的荧光灯 射程为26海里 属水晶磨镜灯塔 海地第一帝国 海地帝國 是海地在1804年脫離法國而獨立建國 让 雅克 德萨林於同年9月22日稱帝以後 所短暫建立的一個君主制國家 其君主由選舉方式產生 让 雅克 德萨林自稱皇帝雅克一世 10月6日加冕 1805年5月20憲法所載帝國分成6個軍事區 由皇帝任命長官 憲法還禁止所有的外國人在帝國擁有財產 馬丁 史瓦西 馬丁 史瓦西 德裔美國天文學家 物理學家 知名德國天文學家卡爾 史瓦西的兒子 瑞士天文學家羅伯特 埃姆登的外甥 馬丁 史瓦西生於波茨坦一個在學術上相當傑出的德國猶太人家庭 根據他父親卡爾 史瓦西的要求 馬丁和它的家人於1916年舉家遷往哥廷根 馬丁就讀於哥廷根大學並於1936年12月通過了博士考試 同年他離開德國後先前往挪威 再遷往美國 第二次世界大戰期間馬丁任職於美軍情報部門 戰後他獲頒美軍和銅星勳章 之後他和天文學家 Barbara Cherry 結婚 1947年馬丁 史瓦西和他的一生好友萊曼 史匹哲一起進入普林斯頓大學任職 史匹哲在史瓦西去世前十日過世 史瓦西的研究領域主要是恆星結構和恆星演化 他的研究讓人們更進一步了解脈衝星 太陽的較差自轉 恆星在主序星階段以後在赫羅圖上的演化軌跡 包含恆星如何成為紅巨星 氫外層來源 氦閃以及星團的年齡等 他大部分的工作是和 Richard Härm 一起進行 而他在1958年出版的書 Structure and Evolution of the Stars 則教一整個世代的天文學家如何應用電腦計算恆星結構與演化模型 1950和1960年代 史瓦西是使用探空氣球裝載同溫層望遠鏡觀測天文的先驅 同溫層望遠鏡是使用氣球搭載天文儀器上升到前所未有的高度以進行觀測 第一個同溫層望遠鏡拍攝到了高解析度的太陽米粒組織和太陽黑子 確認了太陽大氣層中的對流存在 而第二次升空的望遠鏡則以紅外線波段觀測了行星 紅巨星和星系核 在史瓦西晚年 他對橢圓形星系的動力學有極大貢獻 史瓦西是當時天文界的重要人物 並且擔任數個主要科學學會的領導職務 1980年代史瓦西應用了他的數值計算技術建構了星系的三維模型 史瓦西是普林斯頓大學尤金 希金斯天文講座教授 他一生中多在普林斯頓大學進行研究 Structure and Evolution of the Stars Princeton Princeton University Press 1958 小行星4463 古冠企鵝屬 古冠企鵝屬 學名 Palaeeudyptes 是一類已滅絕的大型企鵝 其下已知共有4個物種 牠們差不多比現有的企鵝都要大 最細小的物種也有皇帝企鵝的大小 最大的可以高達1 5米 古冠企鵝屬下的貢納古冠企鵝及卡氏古冠企鵝都是在南極西摩爾島 Seymour Island 的始新世中或晚期La Meseta組發現 南極古冠企鵝是最先發現的化石企鵝 只在新西蘭卡卡努伊 Kakanui 的漸新世晚期Otekaike灰岩發現一塊不完整的跗蹠骨 後來臨時加入大量其他骨頭 馬普利斯古冠企鵝只有部份的骨骼 主要是腳骨 都是在伯恩赛德 Burnside 的始新世中或晚期的地層發現 馬普利斯古冠企鵝可能演化成較細小的南極古冠企鵝 一些已發現但未確認的標本 很多時是其大小介乎在兩個物種之間 在西摩爾島也有發現一些未確認的物種 但似乎是屬於幼體或是保存度較低 在近澳洲阿德雷得發現的不完整右脛跗骨及左肱骨都被置入此屬中 維曼企鵝 學名 Wimanornis 可能是貢納古冠企鵝的異名 即期券 即期券是美国纸币的一种 发行于1861年8月至1862年4月美国南北战争期间 面额有5美元 10美元 20美元 即期券是美国发行的第一种纸币 在某种意义上 广泛流传到今天的一系列的货币发行额中 即期券排在第一位 美国政府通过用即期券支付内战期间产生的包含政府工作人员和军事人员工资在内的费用 从而将它投放于货币流通市场 因为即期券背面与众不同的绿色油墨以及洲特许银行和联邦注意到了当时其具有代表性的空白面 所以即期券由又了一个 美钞 的绰号 后来名字由法定货币和联邦储备券所代替 即期券的正面含有许多熟悉的元素 例如白頭海雕 亚伯拉罕 林肯和亚历山大 汉密尔顿的头像 但是当时即期券上的图像跟今天所看到的美国货币图像是不同的 当即期券被停用后 它们的替代者法定货币并没有用来支付进口税 在当时进口税占美国联邦税务的一大部分 并且即期券仍然拥有优先支付权 因此 尽管一些保留的即期券是当今美国最古老的有价值的货币 但是许多即期券还是被收回 在宪法通过及内战期间 美国政府发行的纸币与我们如今所知的大相径庭 其多次发行的是短期债券 即期票据是连接这些短期债券和现代纸币的过渡发行物 即期票据本被打算用作货币使用 但由于当时美国普遍没有打算让当局发行纸币 所以它的授权被限制在短期债券的法律体制内 美国国会为了给美国革命戰爭提供资金 在1775到1779年之间发行了大陆券 大陆券纸币在名义上和西班牙銀圓等值 但是大陆券纸币不能够用来换银子 所以即便是美国取得胜利 大陆券纸币在1790年时已贬值了99 美國開國元勳们对大陆纸币的命运仍记忆犹新 于是他们把禁止提供纸币以及国家只能将金和银作为法定货币的规定写入宪法 因此 美国内战前流通的纸币是私人债券 其包括由联邦秘密特许的美国第一银行和美国第二银行发行的债券 虽然宪法没有明确承认发行纸币的权利 但是它许可了借钱的权利 短期债券 作为债务的一种形式 它是在政府遇到困难时通过出售足量的长期公债来帮助填补联邦政府的财政不足 短期债券首次发行于1812年战争时期 到内战结束这期间还不定期发行过 从特点上来讲 短期债券发行的量不大并且总有 上流幻想 说短期债券没有充当货币的职能 而事实上却是 局限来讲在当时它们是有货币职能的 这些债券通常是有利息的 它们的价值随市场情况而变化并且它们在于其发行相关的危机结束后很快便从经济体制中消失了 在短期债券的几种债券中 特殊的是1815年发行的 小债券 它们像即期票据一样没有利息并且被打算作为货币流通 然而 政府只发行了3 392 994美元的 小债券 并且它们很快被兑换成公债 在见证了这些债券所取得的局限流通后 如今只有两种还未被取消发行 小债券 为人所知 联邦财政自1857年 大恐慌 来未曾好转 由于美国南方步步进逼 威胁退出联邦 一场战事或一触即发 至1860年美国总统林肯大选时 要从债券市场集资更是难上加难 在内战爆发之际 聯盟已到了靠现买现卖维持支出的地步 随着1861年4月桑特堡敌对军事行动的展开 为战集资 包括战场上军人在内的人员薪资开销 可谓重担不轻 为此 国会于1861年制订 7月17法令 允许以美利坚合众国之信用借贷250 000 000美圆 其中 有最多50 000 000美圆被批准为见票即付的无息国库券 其面值低于五十美圆 但最低值不低于十美圆 为了当时现有的带息国库券区分 这些无息国库券就被称为即期票据 尽管对于私票而言 见票即付稀松平常 但于国库券 这些带有 见票即付 承诺的票据属新债券 通过立即出售等值债务 国库将这种债券被当作货币使用直接支付给债权人 从而令捉襟见肘的窘境得以缓解 这些票据可在宾夕法尼亚 波士顿与纽约的助理财长部予以赎回 届时 第一或第二通货监理官或是财政登记官将亲笔签署这些票据 同时其他由财长指定的财政官员也将在票据上会签 这些签字条款后来经过几次更改 该法令同时规定在1862年12月31日前 个别即期票据可在呈交赎回后再次被发行进入流通 就在这些票据被发行前 1861年颁布的 8月5日法令 规定几处即期票据发行的变更 该法令允许即期票据以不低于5美圆的面值发行 并通过在圣路易斯的助理财长部或辛辛那提的金银储备处予以赎回 该法令同时还规定美国财政部出纳局长与财政登记官或是任何由财长指定的财政官员应签署该类票据 根据本法令 即期票据无需美国财政部盖章 重要的是 这部法令还将国库券的传统特权赋予了即期票据 即 在支付公债时 这些票据将成为应收款 这项特权在这些票据的最终处置阶段体现出举足轻重的意义 由于当时美国联邦铸币局 the Bureau of Engraving and Printing 还未建立 美国钞票公司 American Bank Note Company 与国家钞票公司 National Bank Note Company 就负责印刷即期券 在美国 这两家公司都是杰出的纸币印刷公司 主要负责私立和州立银行的纸币印刷 很有可能 美国钞票公司负责5美元与10美元的制版 而国家钞票公司则负责20美元印刷板的铸造 所有的即期券都是由美国钞票公司印刷的 设计上 所有的即期券大小统一 而从外观上则与钞票非常相似 为满足美国聯盟政府的债务证券 财政部长萨蒙 蔡斯于1861年8月开始发放即期券 刚开始 各类商人 银行 尤其是铁路工业都以折扣价购买该纸币 或者就完全抵制 为了缓解公众对新发行纸币的不信任 蔡斯部长签署了一项文件 同意用即期券来支付他自己的工资 同年9月3日 聯盟政府温菲尔德 斯科特将军向士兵们发布了一项通告称 对那些希望将自己收入的一部分寄回家的士兵来说 纸币是非常方便的 9月中旬 为消除所有对于新纸币发行后货币状况的疑虑 蔡斯部长向所有财务助理发布了以下通告 这些举措也让银行愿意以纸币兑换硬币 这让即期券的价值和购买力等同于金币 并且在公众的私人交易中广泛流通 纸币还可以用来兑换银币 根据法律 为了避免问题 要把財政部長弗朗西斯 斯平纳 Francis E Spinner 和國庫長盧修斯 齊坦丹 Lucius E Chittenden 的签名加到纸币上 但这並不實際 同时 国会也授权检察官在纸币上签字 70个妇女以1 200美元的年薪被雇来给这些纸币签字 纸币的 for the 这一特征写在签名的后面 表示用签名来代表财政部 一些熟练的女工甚至能模仿财政部长的签名 8月底 for the 被加到了印版上用来简化签名的步骤 在 for the 被加到印版上的几天后 美国银行票据公司停止了印刷可在圣路易斯和辛辛那提行使支付手段的初票 1861年12月 政府用即期券兑换硬币的能力受到了限制 12月10日 秘书长查斯指出战争支出远远超出了预算 与此同时联邦收入不足 12月16日 英国对 特伦特号 事件的反应的消息传到了纽约和几个大银行 聯盟证券需求的急剧直下 当初这些银行用黄金跟政府换取利息为7 3 的国库券和债券然后再进行转卖 到了月底 银行已经中止了用硬币去买它们自己的纸币 于是 司库助理的办公室内堆积了大量收回的即期券 1862年初 由于没有足够的硬币供应 政府不得不跟着中止即期券换金这项活动 由于聯盟政府无力承担起对这些 见票即付 的票据所应有的支付义务 引起了国会的极大关注 于是在1862年早期对是否通过立法来解决这个进行了激烈的探讨 在一个短时期内 票据是由银行进行保值的 因为这些银行通过接收这些票据作为政府在1862年4月借下的1亿5千万的贷款所进行的分期还贷的凭证 自那以后 蔡斯部长通过授权纽约的助理司库約翰 西斯科 John Cisco 以5 的利率来接收这些短期的存款票据 从而使得即期票据相当于有利率的存款 但其实这些票据的贷方是政府 纽约的银行很快便将这些存款的证明票据作为他们清算的标准 并且逐步在那些黄金已经开始退出流通市场的地方使用即期票据作为行使结算功能的单位 而此时黄金的市值已超过这些票据大约1到2个百分点 国会辩论最终决定转向迎合这种见票即付的职能 宣布这些票据为当时的合法货币 并要求各方接受这种货币作为契约债务的全额付款方式 正当关于是否立法的问题还在激烈探讨时 由于政府对现金的需求 在1862年12月的 2月法案 授权增量发行价值10 000 000美元的即期票据 这项法案最终授权发行的即期票据总量达到了60 000 000美元 截止1862年4月这60 000 000美元的即期票据已全部发行完毕 最终 美国政府在1862年2月25日通过的法案中 授权流通150 000 000美元的法定货币 也就是当时的美国券 这些就是当时新一代的美国货币 并且部分用于当债券收回溢价时取代上面我们所提到的即时票据 这项新法律 同时也被称为 第一法定货币法案 承认其美国新货币的合法地位 并且适用于除进口以及偿还美国欠下的债务外的其他任何场合 美国政府承诺继续以硬币的形式支付其所欠下债务的利息 并且在关税中只接受硬币或美国券 于1862年到1863年间发行的面值分别为5美元 10美元以及20美元的法定货币正面的设计与其各自相对应的即时票据非常的相似 最主要的变化就是加盖上了美国财政部的印章并且删去了 见票即付 的付款承诺 关于即期券的地位曾存在一些问题 不过1862年3月17日颁布的法案已清楚表明其将被视为国家券 由此 即期券地位和国家券一样 而且明显优于国家券 因为只有前者才能支付进口税 美国聯邦政府的主要财政收入 此后 助理财政部长Cisco宣布新国家券中他保有兑换未来5 即期券短期存款的权利 投机者们预期即期券会升值 因此在4月份新币流通时 遂将其撤出流通 这种国家券一旦投入流通 便立即成为了美元价格的记账单位 无论是黄金还是储藏的即期券都以此报价 5月 战争形势对聯盟政府不利 也无望立即结束战争 一年过去了 人们紧锣密鼓地储藏商品 造成金价飙升 最后连银元和铜币都退出了流通市场 早在5月的第二周 即期券溢价出售给进口商了 这些进口商们用其代替黄金来支付关税 受黄金以及即期券控制的溢价成了一个政治问题 4月份时 财政部长蔡斯出售225万美元利率为7 3 的 七 三十 带息国库券 购进溢价为3 的即期券 而买主们随即又以６ 的溢价出售这些国库券 因此财长遭到抨击 凭借此举 财政部长蔡斯得以实现两个重要目标 分配 七 三十 债务及收回即期券 但也相当于正式承认 新国家券相对即期券已经贬值 到仲夏 黄金美元溢价15 兑换国家券 而即期券溢价8 各家报纸都以 海关美元 和 海关元 来报道即期券的价格 由于关税平均每月6到9百万美元 因此可以在金融专栏里发现未偿付的即期券在慢慢减少 到12月时 人们估计即期券不久将停止供应 进口商只能以黄金支付关税 别无其他选择 即期券供应即将停止之际 价格与美元黄金持平或稍低 尽管后者在19世纪70年代继续使美元溢价不少 到1863年6月30日 比起4亿美元国家券来 只有价值330万美元的即期券没有偿付 而到1883年6月30日 财政部仅剩下价值58 985美元的即期券 所有面值的即期票据的正面都印有以下共有的内容 所有即期券的正面都印有美利坚合众国 表示面值的大数字以及面值表示 小数字或罗马数字 其中的面值表示以一个小的几何形状重复印刷多次 所有即期券的正面都用绿墨印刷 伍美圆即期券正面右下方印着一尊亚历山大 汉密尔顿的头像 位于左边的是 自由雕像 在华盛顿国会大厦的上面 但在当时 自由雕像 还在建造之中 直到1862年才完成 它是1863年才放到国会大厦上面的 神像底座上写着 E PLURIBUS UNUM 合众为一 但是纸币上只能看到 RIBUS UNUM 纸币的上 下 右边都水平地印着单词 FIVE 的字样 而左边则竖直地印着单词 FIVE 5 发行银行名称印在上边的中间 而在底部的中间写着一句 可支付所有公共所得 伍美圆即期券上有一些常见的独特设计元素 汉密尔顿头像的左边有一个日期 是一种特别的小写印着 Aug 10th 1861 1861年8月10日 ON DEMAND 见票即付 字样同样也印在 FIVE DOLLARS 5美元 的后面 其全称是 THE United States PROMISE TO PAY TO THE BEARER FIVE DOLLARS ON DEMAND 见票即付5美圆整 与10美圆即期券和20美圆即期券不同的是 5美圆即期券上用饱满的手写体写着一句 Payable by the Assistant Treasurer AT 由财政部支付 5美圆即期券可以在其上完整标明出来的地点 费城 被国家收回 5美圆即期券背面印了多个小小的椭圆图案 其中间印着一个小小的阿拉伯数字5 整个背面大部分都是这样的花纹 拾美圆即期券的左边印着亚伯拉罕 林肯的头像 右边是一个代表艺术的雕像 即期券中上方画有一只秃鹰抓着一根写着 E PLURIBUS UNUM 合众为一 的丝带 栖息在橄榄枝上 挨着鹰的是印着章纹的五角星和不同底纹的盾牌 亚伯拉罕林肯头像和秃鹰插图在美国钞票公司早前发行的纸币上是经常使用的元素 初幣的四邊由羅馬數字X環繞 如5美元的初幣 正上方印有發行銀行的名稱 正下方則印有 可用於一切合法交易 的字樣 上方的左右兩角印有 10s 的數位裝飾圖案 正下方印有由美國鈔票公司製作的裝飾圖案 這些裝飾圖案也被印在其它初幣上 之後由佛蒙特州拉特蘭縣銀行發行的10美元初幣中 林肯的頭像旁也印有裝飾圖案 10美元的初幣也有相同的設計 右上角印有手寫體日期 1861年8月10日 與5美元的初幣不同 見票即付的字樣被置於美國之前 字樣為 見票即付 美國承諾支付持有人10美元 中間部分的句子以手寫體印刷 多數初幣都有關於支付地點的簡短說明 由美國 地點 副財政部支付 而辛辛那提的說明中 由存儲代替副財政部 10美元初幣的背面 可見多個小羅馬數字X置於小方塊中 背面的主要設計項目皆疊加在這些數位上 與5 10美元的初幣不同 20美元的初幣上不再出現頭像 取而代之的 中間出現了一位女性 有可能是自由女神 又或者代表美國 她右手握劍 左手持一波浪形狀的盾牌 盾牌上面是一隻白頭海雕 大大的數字2和0分別置於她的左邊和右邊 初幣的四邊圍滿了數字20 另一個與5 10美元不一樣的是 其上緣中部印有 1861 7月17法規 的字樣 下緣的中部是發行銀行的名稱 左邊印有 可支付 右邊印有 法律允許 的字樣 票面日期以手写体标注 1861年8月10日 支付文句与10元初票相同 周围分布着版刻图案 位于票面的中心 上方是代表自由的图样 兑换说明印有 ON DEMAND THE UNITED STATES Promise To Pay Twenty Dollars To the Bearer 见票即付贰拾美元整 20美元初票的背面 是一个盾状的图案 内有阿拉伯数字20 周围簇拥着八边形星状图 每个八边形星状图案内是一个椭圆形图标 内有小号数字20 票面的上边与下边都是几何设计图案 每隔一个几何图案 都平行印有 UNITED STATES 合众国 初票现已不再流通 但可以用于收藏 现存的初票中 大部分都是版刻有 For the 印刷地为纽约 波士顿和费城的5美元和10美元面值的票据 带有弗朗西斯 斯平纳和盧修斯 齊坦丹真正签名的票据还未现世 由于其稀有性 能获得一张5美元和10美元面额的初票 就可以成为收藏了 已修改 仿制品也不少见 初票的价格与价值主要取决于其稀有性 如印刷地是哪里 For the 图样是手写版还是版刻版 其次就是看其保存情况 5美元初票常见的价格是从1000美元到40000美元 10美元面额的初票通常价值为2500美元到60000美元不等 20美元面额 带有版刻 For the 字样 出产于纽约 波士顿和费城的初票通常价值17000美元到100000美元不等 带有手写 For the 字样的票据 不管其面额多少 价格都在25000美元到100000美元之间 辛辛那提与圣路易斯出产的票据很少交易 除了常见的类型外 初票通常只有在拍卖时才见得到 Notes 重新发行了3000张已赎回的10美元票据 因此 比法定的6千万美元多出3万美元 弗朗西斯科 埃爾南德斯 德 科爾多瓦 弗朗西斯科 埃爾南德斯 德科爾多瓦可以指 旱溪東 西路 旱溪東 西路為台灣台中市市區重要的連絡道路之一 闢建於1991年 大約呈南北向 皆位於旱溪兩側而建 目前分為七段 旱溪西路南接大里區元堤路 起於環中東路五段 旱溪東西路目前北至豐原區鎌村 田心路口 鎌村 田心路以北的路段尚在配合河川整治 而松竹路以北路段尚為單行道 由南至北 東區 東區 太平區 北區 北屯區 北屯區 潭子區 豐原區 臺北北站 臺北北站 位於台灣台北市大同區 臺北車站特定專用區交通十號用地 曾為台北市主要的公路長途客運 國道客運 車站之一 今已經停止使用 其路線全數移轉至國道客運臺北總站 原址位於今臺北轉運站承德路出口對面 臺北車站特定專用區交通十號用地 為臺汽客運臺北北站 於臺汽客運民營化之時改為國光客運臺北北站 並與豐原客運 巨業交通分租 2005年8月16日搬入國道客運臺北總站 原址停用 此地原為臺灣省菸酒公賣局香菸廠 香菸廠遷走後 土地被承德路分割 承德路西側轉交臺灣省公路局使用 公路局將台北橋站遷至承德路西側 改名臺北北站 承德路東側轉交臺北市立建成國民中學使用 建成國中遷走後 承德路東側改建台北轉運站 公路局 臺汽客運及國光客運的一個車站管理單位 因位於臺北車站以北而得名 此一名稱伴隨遷站至國道客運臺北總站及臺北轉運站 臺北西站A棟仍繼續使用 SD頑駄無 武者O傳 SD頑駄無 武者O傳 讀作 SD頑駄無 武者丸傳 是SD戰國傳系列第十三作 故事舞台是承接 SD戰國傳 光之變幻篇 之後數十年 特點是將以往武者系列角色 於全新舞台再次出場 而本作更特別加入日昇動畫參與製作 與以往一樣 本作雖然都有單行本及模型漫畫兩種平行世界故事 不過是次以單行本為主軸 模型漫畫則被標示為 武者O傳外傳 主次比以往更加分明 繼 光之變幻篇 及 武者G世紀 之後 武者O傳將小型武者的概念進一步發展 變成透過小型武者裝備鎧甲 變成武者角色 在可玩性增強同時 部件不夠緊密的情況亦時常出現 刀霸大將軍編 發生後一百年 新世大將軍 弓銃壹 烈光 作為天宮之國第二個大將軍的血脈 已經再沒有繼位者 子孫後來下野 成為武者 其中一名是武者O傳2出場擊麟將頑駄無 由以紅零斗丸一族出身的子孫繼位 其中為人所知者 是數十年後 光之變幻篇 中的完美高達大將軍 屬延續昔日二代目大將軍的軍團 普拉斯基特星 普拉斯基特星 正式的名稱是麒麟座HR 2422或HR 2422 是一顆距離大約6 600光年遠的光譜聯星 它是已知質量最大的聯星之一 總質量大約是太陽的100倍 實際上 它常久以來都被認為是已知質量最大的聯星系 但是在2008年 有團體認為過去被認為是質量最大的單獨恆星之一的海山二 可能是聯星系 它的名稱得自於在1922年發現他是聯星的加拿大天文學家約翰 史丹利 普拉斯基特 在他的兒子哈利 漢姆雷 普拉斯基特協助下進行觀測的 這顆恆星位於麒麟座 視星等是6 05等 因為它可能是已知質量最大的恆星之一 因此有時被稱為普拉斯基特星 浒苔属 浒苔属 学名 是绿藻植物石莼科下的一个属 其通常生长于潮间带 肠浒苔 肠浒苔 学名 是绿藻植物浒苔属下的一个种 白角 大嶼山 白角是香港的一個海角 位於大嶼山西南岸的大浪灣和狗嶺涌之間 屬於南大嶼郊野公園的一部分 相信該地名的由來跟大白灣相似 昔日海上人在晚上眺望該海角時 裸露的岩石反映著月光 所以叫做白角 卡氏古冠企鵝 卡氏古冠企鵝 學名 Palaeeudyptes klekowskii 是一種已滅絕的古冠企鵝屬 牠們的大小如南極古冠企鵝 比現今的皇帝企鵝稍大 是世界上最大的企鹅 牠們的遺骸是在南極西摩爾島 Seymour Island La Meseta組發現的 可以追溯至始新世晚期 卡氏古冠企鵝最初並不被分類為獨立的物種 但是根據牠們大量的化石遺骸 以及與貢納古冠企鵝同時存在的可能性不大 故被分類為獨立的物種 羊毛百里香 羊毛百里香 学名 也称假毛百里香 是百里香屬下的一个种 叶子为深绿色 其表面长有白色的绒毛 風雲 幕末傳 為元氣公司在2005年1月20日所發售的PlayStation 2用本格歷史動作遊戲 本作為 風雲 新撰組 的續作 2009年12月10日 由FROM SOFTWARE發售PSP版的 風雲 新撰組 幕末傳 portable 内容和 風雲 幕末傳 一樣 過關後可以看到作為映像特典的美術設定 但和本作不同的是 在會話場景時 人物的嘴巴並不會動 也沒有喜怒哀樂的表情 然後一部分人物的髮型也不一樣 可以更改主角名字 但會讓他們的名字無法被念出來 其他多數 本作的聲優幾乎由Mausu Promotion成員負責 塔拉科西班牙 塔拉科西班牙 Hispania Tarraconensis 位于现今西班牙的罗马帝国行省 是罗马在伊比利亚半岛上的三个行省之一 包括西班牙北部与东南部以及巴利阿里群岛 建于前27年 属于元首行省 随后爆发于前26年至前19年的北西班牙山区战役以顺利征服该地而告终 北西班牙终于被被纳入罗马帝国的版图 銀斑百里香 銀斑百里香 学名 又名 銀葉百里香 是百里香屬下的一个种 有时叶面长有绒毛 原产地为欧洲南部 是通常用作烹調用麝香草 牧区 牧區可以指 鳧 鳧可以指 飛狐外傳 1980年電影 為1980年香港邵氏公司出品 張徹執導的電影 改編自金庸同名武俠小說飛狐外傳 媽打 媽打可以指 南天一柱 南天一柱可指 版納蝴蝶蘭 版纳蝴蝶兰 學名 是兰科蝴蝶蘭屬植物 又名曼氏蝴蝶蘭 曼尼氏蝴蝶蘭 為附生蘭 分布於尼泊爾 印度 缅甸 越南以及中国大陆的云南等地 生长於海拔1350米左右的地区 多见於常绿阔叶林中树干上 放克猴寶貝 放克猴寶貝 是日本3人男子樂團 三位成員都出生在東京都八王子市 成立於2004年 所屬的唱片公司是DREAMUSIC 2012年年底宣布將於2013年的全國巡演後解散 原因是組合中的DJ Chemical由於要回老家繼承寺院 其他成員認為少了他就不再是FUNKY MONKEY BABYS 多次商議得出的結論是決定解散組合 由2位主唱和1位DJ組成的團體 團名由來 是在單獨活動時由Funky加藤和Mon吉最先組成該樂團 所以兩人用 FUNKY 和 MONKEY 組合在一起而變成 FUNKY MONKEY BABYS 通稱放克猴 另外也會簡稱為 FMB DJ Chemical是在結成當時以活動DJ的身分參加 之後加入樂團成為正式成員 加入時 成員對他說 使用BABYS 的名字比較好認 但被他拒絕 本來他們日文團名的 ベイビーズ 不是拼成英文的 BABYS 而應該是英文的 BABIES 但這是有目的的 在官網或有關該團的話題的BBS中 BABYS 是用來指歌迷的意思 並且會在地名之後加上 BABYS 像是 住在 地名 的粉絲 的意思 例 東京BABYS 就是住在東京的粉絲 另外他們的單曲的封面和音樂錄影帶 都會邀請名人來拍並且使用他們的照片 也成為他們團體的一大特色 曲中雖然多用饒舌方式 但曲子押韻很少 三人的興趣和喜歡的音樂種類也是有所不同 但只有他們所尊敬的樂團為南方之星是共通點 黑菲比霸鶲 黑长尾霸鹟 black phoebe 上身是暗黑色 腹部為白色 多生長於美国西部 冬天南飛至阿根廷 保加利亚国家历史博物馆 保加利亚国家历史博物馆 Национален исторически музей Natsionalen istoricheski muzey 是一家位于保加利亚首都索非亚的历史博物馆 也是该国最大的博物馆 该馆成立于1973年5月5日 而第一次展览举行于1984年 为庆祝保加利亚1300年的历史 该馆藏有约650 000件有关美术 历史等文物 现展出的占总量的10 保加利亚国家历史博物馆内有餐厅商店 也专门对文物进行保护和修复 著名的历史学家博日 季米特洛夫曾任该馆主管 分距姬蜂亞科 分距姬蜂亞科 學名 是一個广泛分佈在全世界的姬蜂科亞科 是一类寄生蜂 约有25个属 一般将卵寄生在鳞翅目昆虫的幼虫体内孵化 有时也寄生在鞘翅目的昆虫幼虫中 其特点是所有胫骨上的距刺都生长在一个膜状物上 和跗骨上的膜由一个硬化的部分连接 跗骨上的爪是梳状的 歌舞線上 歌舞線上 是1975年5月21日開演的百老匯音樂劇 描述在百老匯追求明星夢的舞者參加甄選會的過程 歌舞線上 曾經是百老匯上演最久的音樂劇 直到1997年才被 貓 所超越 1983年 貝內特和330位老演員們一起表演 慶祝成為百老匯持續時間最長的音樂劇記錄 此劇於1985年被改編成同名電影 由李察 艾登堡祿 Richard Attenborough 執導 zh hans 迈克尔 道格拉斯 zh tw 麥可 道格拉斯 zh hk 米高 德格拉斯 等主演 莱恩 埃姆登方程 莱恩 埃姆登方程 Lane Emden equation 是天文物理中一個表現自重力位能 球對稱多方流體的無因次泊松方程 此方程式名字由來於強納生 荷馬 萊恩與羅伯特 埃姆登 此方程式的解表示了恆星在半徑 formula_1 時的壓力與密度 方程式中並有重構徑向變數 formula_2 和重構溫度變數 formula_3 當 以及 下標 c 代表核心的壓力與密度 formula_7是多方指數 多方指數與代表氣體壓力及密度的多方方程式有關係 formula_9 是代表壓力 formula_10 則是密度 而 formula_11 則是比例常數 標準的邊界條件則是 formula_12 和 formula_13 因此該方程式的解是描述恆星壓力和密度與半徑的關係 並且給定的多方指數 formula_7 也是多方球的多方指數 formula_7 流體靜力平衡與位能 密度 壓力梯度有關 泊松方程與位能 密度有關 在物理學上 流體靜力平衡與位能梯度 密度和壓力梯度相關 而泊松方程則可以是位能和密度的關係式 因此如果有一個方程式可以進一步指出壓力和密度如何互相反映 就可以得到一個解 以上多方氣體的特定選項在數學上陳述了這個問題 尤其是該陳述特別簡潔並推導出了莱恩 埃姆登方程 這個方程式對於恆星等自重力位能氣體球是相當有用的近似 但它的假設通常是受到限制 考慮到自重力位能 流體靜力平衡下的球對稱流體 質量守恆這些狀況 就可使用以下連續性方程式 這裡 formula_10 是 formula_18 的函數 流體靜力平衡的公式成為 formula_20 也是 formula_18 的公式 再一次求導數可得 這裡已經使用一個連續性方程式取代質量梯度 再將方程式兩側乘上 formula_23 並將帶有 formula_9 的導數的項置於左側 方程式成為 方程式兩側除以 formula_23 在某些意義上這是一維形式所需的方程式 此外 如果我們以多變方程 formula_27 和 formula_28 代入 可得到 將常數聚集並以 formula_30 取代 最後得到莱恩 埃姆登方程 同樣地 也可以使用泊松方程進行推導 我們可以透過以下數學公式以流體靜力平衡取代位能梯度 最後也可以得到莱恩 埃姆登方程 formula_35 只在3個值時有解析解 如果 formula_36 方程式成為 重新整理並進行一次積分後的公式成為 公式兩側都除以 formula_40 並且再積分一次後得到 邊界條件 formula_12 和 formula_13 暗示積分常數是 formula_44 和 formula_45 當 formula_46 方程式可展開如下 兩端都乘以 formula_40 可得到 formula_50 和 formula_36 的球貝索函數 套用了邊界條件以後的解將是 在經過一連串取代的步驟後 方程式可以有進一步的解 當 formula_53 方程式的解將是循著徑向的無限大值 一般情形下莱恩 埃姆登方程的解必須以數值積分方式求得 許多數值積分的標準解法要求該問題必須以一階常微分方程表示 例如 在這裡 formula_58 被視為無因次質量 而質量可使用 formula_59 表示 相關的邊界條件是 formula_60 和 formula_12 第一個方程式表現了流體靜力平衡 而第二個方程式則表示質量守恆 已知如果 formula_62 是莱恩 埃姆登方程的解 那麼完整的解方程式將是 formula_63 和這方式相關的解則稱為 同調 而轉換的過程是同調性的 如果我們選擇不變的變數達到同調性 就可以將莱恩 埃姆登方程降一階計算 而這類可選擇的變數有多個 一個適當的選擇是 和 我們可以將相對於 formula_2 的變數的對數微分 得到 和 最後 我們將以上兩個方程式相除以消去應變量 formula_2 留下 以上即為單一一階方程式 同調性不變的方程式可被視為自主對方程式 和 這些方程式的解的形式可透過以下線性穩定性分析來決定 方程式的臨界點 當 formula_73 和雅可比矩阵的特徵值 特徵向量如下表所示 水手7號 水手7号探测器是美国发射的一枚火星探测器 它和水手6号有着完全相同的结构 并在其之后4天接近火星 主要执行了拍照和研究火星大气及其化学成分的任务 王弘 刘宋 王弘 字休元 琅邪臨沂 今山東臨沂 人 東晉末官員 亦是劉宋的開國功臣 在劉宋官至太保 東晉丞相王導曾孫 衞將軍 東亭侯王珣之子 王弘少時好学 与當時的尚书仆射谢混友善 以清靜恬適聞名 王弘二十歲成年後任會稽王司馬道子的驃騎主簿 當時農業受阻 雜役頻繁 故王弘建議實行屯田 隆安四年 400年 王弘父王珣去世後不久 司馬元顯就以其為自己的諮議參軍 加寧遠將軍 知記室事 但王弘辭讓 後司馬道子又用其為諮議參軍 加建威將軍 領中兵 王弘亦都拒絕受命 當時司馬道子正與桓玄相爭 又有孫恩之亂 內憂外患下 很多人都不能完成喪期 但王弘就始終堅持 元興元年 402年 桓玄率兵攻下建康 收捕司馬道子到廷尉議罪 當時眾官員都因恐懼而不敢送他 但尚在喪期的王弘卻在路邊拜送 更攀扶在道子車上哭泣 此舉得當時人稱許 元興三年 404年 劉裕起義兵擊敗篡位的桓玄 攻陷建康 升鎮軍將軍 召王弘补镇军咨议参军 封华容县五等侯 歷官琅邪王大司马从事中郎 宁远将军 琅邪内史 尚書吏部郎中 豫章相 義熙六年 410年 徐道覆進攻南康 廬陵及豫章三郡 王弘於是出奔尋陽 今江西九江市 後劉裕再命其為中軍諮議參軍 後歷大司馬右長史及吳國內史 義熙十一年 415年 劉裕徵王弘為太尉長史 後又轉左長史 並於次年 416年 隨劉裕出發北伐 義熙十三年 417年 北伐前鋒攻陷洛陽 劉裕派王弘隨使者回朝 要朝廷給他九錫 至義熙十四年 418年 劉裕班師彭城 今江蘇徐州市 王弘領彭城太守 劉裕班師同年受封宋公 受九錫 又加王弘尚書僕射 領選 不久又遷監江州豫州之西陽新蔡二郡諸軍事 撫軍將軍 江州刺史 王弘在江州減省賦稅及力役 安定當地人民 永初元年 420年 劉裕篡晉 建立劉宋 加王弘散騎常侍 更因其是佐命元勳 封華容縣公 永初三年 422年 王弘進衞將軍 開府儀同三司 景平二年 424年 司空徐羨之等人圖謀廢黜宋少帝 召了王弘及檀道濟入朝告知 同年廢宋少帝為營陽王 改立宋文帝劉義隆為帝 宋文帝即位後為安社稷 以王弘為司空 但王弘辭讓下 改加使持節 侍中 改都督江州豫州之西陽新蔡二郡諸軍事 江州刺史 開府儀同三司 進車騎將軍 元嘉三年 426年 宋文帝誅殺主導廢立的徐羨之及傅亮 當時王弘既非廢廢立主事者 其弟王曇首亦很得宋文帝寵信 故此在行事以前就已獲通知 事後王弘被徵召入朝為侍中 司徒 揚州刺史 錄尚書 更得賜班劍三十人的禮遇 不久宋文帝親征另一主導廢立的荊州刺史謝晦 王弘就與彭城王劉義康留守 元嘉五年 428年 王弘以大旱為由引咎求退 時平陸令成粲寫書建議王弘減少權力 並推時為荊州刺史的劉義康入朝主政 以求安身長壽 名垂萬代 范泰亦因王弘兄弟權重朝廷 曾建議王弘藉徵劉義康入朝 共參朝政 削減權勢 宋文帝原本不允 但在王弘堅持下降為衞將軍 開府儀同三司 次年 429年 又上表薦劉義康 終令劉義康入朝接替自己任司徒 共錄尚書 王弘深愔治國之策 留心庶事 考慮當時需要的 所作每每都顯得寛和公允 當時士人犯罪都會有很多上訴 產生寛貸則枉法 依例則士人有怨的情況 又以當時監守自盜者偷五匹布 平常偷竊者偷四十匹布都要處死是過重 於是建議修改為監守者偷十匹 平常偷竊者偷五十匹才處死 四十匹則是發配去做兵役而已 又認為這刑罰不應分士庶 庶人小吏偷竊可能只是無知而一時貪心 或由於輕怠而犯錯 所以將稍稍提升贓物數量以寛饒其命 但作為高官的士人以身試江 亂了法紀以取利 偷了五匹才判死則已經是寛大了 不必憐憫 王弘又曾上奏修改十三歲服半役 十六服全役的制度 以當時四方無事 且平民苦於力役 已經在想辦法逃避 建議將半丁年齡升至十五及十六 全丁年齡升至十七 宋文帝都同意王弘的建議 後王弘因病而屢請告老 都不被允許 至元嘉九年 432年 進位太保 本官加領中書監 王弘於同年去世 享年五十四歲 獲賜諡號文昭 以本官加贈 並給節 加羽葆鼓吹 及加班劍至六十人 更得在劉裕廟廷祭祀的禮遇 同年宋文帝又下詔增王弘食邑一千 賜其家一百萬錢 一千斛米 文森特 亚涅斯 平松 文森特 亚涅斯 平松 西班牙语 Vicente Yáñez Pinzón 1462年 1514年 是一个西班牙航海家 探险家和征服者 也是平松兄弟中最年轻的一个 在克里斯托弗 哥伦布的美洲大发现旅程中 他和兄长马丁 阿隆索 平松分别担任了尼尼亚号和平塔号的船长 陪同哥伦布发现了新大陆 馬普利斯古冠企鵝 馬普利斯古冠企鵝 學名 Palaeeudyptes marplesi 是一種已滅絕的古冠企鵝屬 牠們高1 05 1 45米 有約皇帝企鵝的大小 牠們與南極古冠企鵝的關係未明 有可能是其異名或亞種 馬普利斯古冠企鵝的遺骸是一個骨骼部份 主要是肢骨 是在伯恩賽德 Burnside 的始新世中或晚期地層發現 也有其他骨頭被置於此物種中 但這些骨頭的起源不明 或其大小介乎於馬普利斯古冠企鵝及南極古冠企鵝之間 所以須待詳細的審查才能確定 馬普利斯古冠企鵝的種小名是為紀念20世紀著名的企鵝化石學者Brian J Marples 南極古冠企鵝 南極古冠企鵝 學名 Palaeeudyptes antarcticus 是古冠企鵝屬下已滅絕的模式種 牠們是一巨大的企鵝 估計高達1 1 1 4米 是屬內最大的物種 牠們是最後出現的古冠企鵝屬 雖然確實時期不明 但相信是演化自馬普利斯古冠企鵝 或是與之是同一物種 南極古冠企鵝是最先發現的化石企鵝 其化石是一個跗蹠骨 在新西蘭卡卡努伊 Kakanui 的Otekaike灰岩發現 可以追溯至漸新世晚期 另外在南極西摩爾島 Seymour Island 的La Meseta組也發現了一個屬於始新世晚期的骨頭 可能也是屬於南極古冠企鵝的 除此之外 有大量的其他骨頭也被置於此物種中 這些化石在未確認其他大型企鵝前都毫無置疑地分類在此物種中 但隨著認識較多後 這些化石的分類有待進一步審查 其中一些化石的大小是介乎於南極古冠企鵝及馬普利斯古冠企鵝之間 所以有指這兩個物種其實是同一物種 姿位性低血壓 姿位性低血壓 orthostatic hypotension postural hypotension orthostasis 或称 直立性低血压 主要指患者在站姿时血压变低 卧姿时血压恢复正常的症状 但也有平卧时血压反而降低的姿位性低血壓 多出现在中老年患者身上 男性发病率高于女性 约翰 亨利 约翰 威廉姆斯 亨利二世 John William Henry II 是一位期货和外汇交易的顾问 一手创办约翰 亨利公司 他目前是美国职棒大联盟波士顿红袜最大的老板 英超球队利物浦的老板以及NASCAR罗什芬威车队的老板之一 2006年波士顿杂志预估他的身价为8 6亿美元 亨利1949年9月13日出生于伊利诺伊州昆西 他的父母都是农民 他的童年分别在伊利诺伊州和阿肯色州度过 由于他患有哮喘 因此在他15岁的时候全家搬到加利福尼亚州的苹果谷 高中毕业后 亨利进入加利福尼亚大学河滨分校学习 主修哲学 但是他并没有毕业 与他参加两支摇滚乐队需要到处巡回演出有关 离开校园後 他开始进行玉米和大豆的期货交易 学习基本的商品交易中的价格风险 1981年他创立自己的约翰 亨利公司 JWH 在欧文的机场街道对面开了一个小办公室 他的公司慢慢成为全美最大的商品经纪公司 1989年JWH搬到康涅狄格州的韦斯特波特 两年之后在博卡拉顿开了第二间办公室 亨利从小是圣路易斯红雀的球迷 特别是当时的球星斯坦 穆休 1989年他首次入主职业运动 买下一支3A的球队 太平洋岸联盟的图森公牛 他还是高级职业棒球协会 在佛罗里达州进行的由退役的大联盟球员参加的冬季联盟赛事 的创始人之一 但这个联盟仅仅存在两年就因为商业原因而停办 之后他曾对NBA以及NHL多支球队感兴趣 但最后都有始无终 1999年亨利以1 58亿美元买下佛罗里达马林鱼 2002年1月他把球队卖给杰弗里 洛里亚 随后他和汤姆 维尔纳一起买下波士顿红袜 当时他们提出的目标是打破贝比鲁斯魔咒 两年後红袜就在世界大赛中击败亨利儿时最喜爱的圣路易斯红雀 获得冠军 2010年10月16日 亨利所拥有的新英格兰体育风险投资公司以大约3亿英镑的价格正式收購英超球會利物浦 王利 王利可以是下列人物 秦王 明朝第十六任 秦王朱存 是明朝秦王朱誼漶之四子 為第十六任秦王 明弘光元年 1645年 五月 孫守法以他為主起兵 封漢中王 永曆三年 1649年 趙榮貴又以他襲封秦王 攻打階州 但失敗 他投紫水河自殺而死 至此明朝秦國滅亡 干嘯洲 干嘯洲 字去非 浙江溫州人 台灣知名武術家 為鄭曼青弟子 精通太極拳 干嘯洲早年就讀師範學校 抗日戰爭時投筆從戎 加入軍隊 1954年 隨國民黨政府撤退來台灣 因長期參與戰爭 多次負傷 因而病痛纏身 1960年 從鍾大振老師學習太極拳 病痛逐漸康復 後經介紹 向鄭曼青學拳 半年後完全康復 1963年 正式拜入鄭曼青門下 在鄭曼青身邊 學拳十三載 1967年後 經鄭曼青同意 開始教授太極拳 聲譽鵲起 高雄市鼓山區龍華國民小學 高雄市立龍華國民小學為一間位於高雄市鼓山區的國民小學 成立於1978年 坐落於大順一路上 緊鄰著捷運凹子底站 高雄市立龍華國小 高雄市立龍華國小數位校史室 度牒 度牒 佛教和道教術語 指古代中國為了管理僧道 允許他們出家所頒發的證明文書 因為這個文件由尚書省祠部司所發放 又稱祠部牒 最早始於唐代 擁有度牒的僧人或道士 可以免除赋稅和劳役 沒有度牒而私自出家的僧道 稱為私度 經官府發現 將會給與處罰 勒令還俗 因此 后世僧人游方挂单 必须随身携带戒牒 作为身份證明 从唐朝开始 度牒就不是免费发放的 安史之乱时 御史崔众被委派至河东道向僧尼 道士收取度牒银 此后 度牒银成为各朝政府获得财政收入的手段 明洪武六年 1373年 明太祖朱元璋下诏免费发放度牒 结束 度牒银 制度 戒牒与度牒不同 是由僧官机构及传戒师签发给受戒僧尼以证明其所取得的资格的凭证 涅瓦大街 涅瓦大街 或称涅瓦大道 是俄罗斯圣彼得堡其中一条主要道路 它由彼得大帝设计 原本计划直通大诺夫哥罗德和莫斯科 该大街沿途的著名建筑非常多 例如海军部大厦 起义广场 亚历山大 涅夫斯基修道院 斯特罗加诺夫宫 喀山大教堂 胜家大厦 叶利谢耶夫商场 叶卡捷琳娜二世纪念碑 18世纪大型商场 商场 俄罗斯国家图书馆和阿尼奇科夫桥等 喀山主教座堂 喀山主教座堂 可以指俄罗斯境内的数栋建筑物 鬼督郵 鬼督郵可以指 小美 香港 小美 本名梁美薇 香港乐坛資深女填词人 是四大天王之一郭富城的经纪人 梁美薇中學毕业于香港真光中學及香港樹仁學院新闻系 毕业后曾于无线電視台任职 當時也是譚詠麟的御用音樂特輯導演 亦有无线电视台 才女 之称 后成立有小美工作室運作 在第九届 香港电台十大中文金曲 评选中 小美曾凭写给罗文迴響作的 几许风雨 摘得 最佳填词奖 成为首位获得此奖的女填词人 打破了香港填词界男性垄断的局面 小美在成为郭富城的经理人之前曾为罗文 张国荣 刘德华 張學友 Beyond 王杰 李克勤 黄凯芹等写过多首流传颇广的歌 小美在閒暇時亦會為 蘋果日報 等香港本土傳媒撰文 近期在2013年7月於 蘋果日報 的 周日美言 中發表 友情比酒濃 紀念她與張學友的友情 小美于2016年下半年在香港九龍灣國際展貿中心匯星舉办個人作品演唱會 名为 小美愛的呼喚作品演唱會 由香港旅遊發展局呈獻 大國文化 小美工作室聯合協辦 演出業協會 香港 有限公司統籌及策劃 譚國政擔任音樂總監 表演嘉宾除了旗下藝人郭富城之外 還包括張學友 劉德華 李克勤 黃凱芹 王傑 BEYOND及眾多新晉藝人春夏 白只等 小美 小美可以指 臺中市精密機械科技創新園區 臺中市精密機械科技創新園區 The Taichung City Precision Machinery Innovation Technology Park 簡稱台中精機 臺中精密機械園區 是位於臺灣臺中市南屯區大肚台地上的科技園區 隸屬臺中市政府經濟發展局管理 園區面積共約為161公頃 北臨臺中工業區 南鄰嶺東科技大學 園區第一期總面積為124公頃 第二期之開發位於第一期之西南側已於2012年9月25日動土 2013年4月起陸續交地供廠商建廠營運等作業 上銀科技 大立光電 徠通科技 海德威 六星機械 引興 友嘉 和和 慶鴻 國睦 協鴻 凱柏 維順 合濟 東台 亞太菁英 弘達儀器 等 一期共計有93家廠商核准進駐 園區西距市中心約4公里 往西行約15公里則可抵達臺中港 園區除了北面鄰近40米特三號道路為重要聯外道路以外 東界臨嶺東路 西南界臨培德路為次要之聯外道路 另外 向東行可抵達中山高速公路的南屯交流道之外 並可抵環中路與中彰快速道路 而往西行可抵達福爾摩沙高速公路的龍井交流道 南山洞 首爾 南山洞 是位于韩国首尔中区的一个法定洞 隶属于明洞 本洞位於明洞南部 实际分为三部分 分别是南山洞1街 南山洞2街和南山洞3街 其中南山洞1街東面與南山洞2街 南面與會賢洞1街 西面與會賢洞2街 北面與忠武路1街相接 南山洞2街东面与南山洞3街 南面与藝場洞 西面与會賢洞1街和南山洞1街 北面與忠武路1街相接 南山洞3街东面与鑄字洞和藝場洞 南面与藝場洞 西面与南山洞2街 北面與忠武路2街和退溪路相接 朱載埨 徽悼王朱載埨 是恭王朱厚爝庶第一子 明朝第四代徽王 朱載埨於嘉靖十六年 1537年 受封浦成王 三十年 1551年 襲封徽王 在位五年 嘉靖三十五年 1556年 下旨罪降庶人 廢其國 並發配高牆 同年他自殺 年三十 此後徽國由徽府宗理管理 後隆武時追復朱載埨名號 補諡號曰悼 有南陽人梁高輔 煉製房中密藥 其配方乃用紅鉛梅子 加上出生嬰兒未哭啼時口中之血而成 取名為含真餅 朱載埨將其獻給宰相高拱及道士陶仲文進獻給明世宗 明世宗大悅 封高拱為通妙散人 封朱載埨為清微翊教輔化忠孝真人 且賜予金印如同其父朱厚爝 仗著明世宗的寵信 朱載埨開始恣意妄為 不但毀壞民宅 興建王府臺榭花園 官員王章勸戒朱載埨 反被他杖殺 又曾微服至揚州 鳳陽等地 被巡邏者捕獲 拘留三個月後 方得脫身回到封國 當時高拱聖眷正隆 因此不再像以往般親近朱載埨 朱載埨為此怨恨高拱 後高拱在京訪求梅子不得 寫信向朱載埨索要 朱載埨不給高拱 卻遣人送給陶仲文 高拱為此怨恨朱載埨 遂向明世宗上奏朱載埨擅離封地 以及其他諸多過失 明世宗因此開始懷疑朱載埨 下令遞奪載埨真人金印 明世宗更以密函給陶仲文 其中寫有 莫管徽事 之語 陶仲文知道徽王禍事已成 亦不敢進言 當時有百姓耿安 控告朱載埨強奪其女之事正在審理 負責查驗的官員因為朱載埨之父斫琴之事禍延巡撫駱昂及巡按王三聘 懷恨在心 故揭發朱載埨所做不法之事成大獄 論罪廢為庶人 當時朱載埨居住宮中 防範甚嚴 獄訟結果不得而知 直到明世宗遣宦官連同撫按到達 朱載埨才開始感到恐懼 嘆息道 吾不能自明 徒生奚為 遂自縊死 王妃沈氏 次妃林氏以及眾多宮人皆取帛自縊同死 子四人 安陽王朱翊錡 萬善王朱翊鈁 三子朱翊鉞 未封爵 四子朱翊鏼 未封爵 女三人均未封 朱翊錡子朱常渰後於隆武元年 1645年 十一月襲封徽王 天使危機 天使危機 Angel in Crisis 香港麗的電視1981年製作的劇集 首播時間為1981年9月7日 9月25日 由李兆熊及黎大煒擔任監製 富商鄒子安經營的油厰安興隆産品 天使牌廚中寶即將推出之際 不料食用此産品者都出現不適現象 熱血青年司徒偉与女友陳家茵暗中調查此事 誓要抓出幕後兇手 卻目睹与此案有關的人員接二連三地離奇死去 後來 衆人發現往産品中下毒的人 竟是安興隆經理丁文彬 但丁文彬這樣做 只為了獲得報酬後 帶女友楊詩敏前往美國治病 在衆人努力下 終于成功解除安興隆險些破産的危機 可惜 丁文彬在登機前慘遭殺人滅口 留下了遺憾 亞洲電視本港台曾於2008年重播此劇 由於重播時部分片段已受損 故剪輯成14集播出 神草 神草可以指 Twitese Twitese 即推特中文圈 是Twitter的第三方中文网页界面 采用PHP语言 用户上传twitese程序 对文件 lib config php 进行参数编辑后 不用访问Twitter主站即可使用Twitter的主要功能 无需占用数据库 新版增加了OAuth安全登錄方式 中国法院网 中国法院网 正式名称中国法院国际互联网站 办公地址为北京市东城区东花市北里西区22号 是经中华人民共和国最高人民法院批准成立 经国务院新闻办公室批准从事登载新闻业务的综合性新闻网站 并经国家广电总局批准自办视频播放业务 中国法院网是世界上最大的法律网站 法律新闻网站 中国法院网由中华人民共和国最高人民法院主管 人民法院报社 后改为人民法院新闻传媒总社 主办 中国法院网在中共最高人民法院党组领导下 依托人民法院新闻传媒总社开展工作 2002年2月 中国法院网开始试运行 2002年3月14日 推出测试版 一 2002年3月 山东省青岛市市北区人民法院 中华人民共和国青岛海事法院 西藏自治区高级人民法院成为中国法院网第一批地方频道 2002年4月18日 推出测试版 二 2002年6月26日 最高人民法院院长办公会议确定由人民法院报社负责最高人民法院政府网站的技术管理和维护 并主办中国法院网 2002年7月12日 王运声召集会议 听取了中国法院网工作汇报 确定中国法院网正式版运行 并确定了开通日期 2002年8月16日 在北京人民大会堂举行中国法院网开通仪式 最高人民法院院长肖扬致电祝贺 最高人民法院党组副书记 常务副院长祝铭山 副院长刘家琛 曹建明 政治部主任苏泽林参加仪式 2002年11月11日 中国法院网接管最高人民法院政府网站技术管理和维护工作 2002年12月 决定中国法院网与人民法院报电子版域名合并 2002年12月19日 中国法院网法治论坛开通 中国法院网首开网上征集司法解释意见的先河 承担了司法解释和规范性文件的征求意见工作 2003年起 中国法院网开始直播 其中有嘉宾访谈直播 还有庭审直播 包括最高人民法院首次进行的网上庭审直播 2008年8月 中国法院网的全国人大立法及新法规速递专题获中国人大新闻奖 2007年1月1日 由中国法院网自主研发的全国法院执行案件信息管理系统在全国正式运行 运行仅一个月 该系统便已收集全国各级法院新收执行案件30万件 2009年4月14日 按照最高人民法院 阳光审判 的要求 中国法院网为各地法院开通了专用电子信箱 2009年5月4日 最高人民法院通过中国法院网开通了民意沟通电子邮箱 2012年3月1日 全新改版的中国法院网正式上线 2014年8月19日 中国法院网APP 安卓版正式上线 2014年9月9日 中国法院网新版正式上线 中国法院网还开办有 四川 消歧义 四川可以指 正规扩张 正规扩张是抽象代数中的概念 属于域扩张中的一类 一个域扩张是正规扩张当且仅当扩域是多项式环中的某个多项式的分裂域 布尔巴基学派将这类扩张称为 准伽罗瓦扩张 正规扩张是代数扩张的一种 正规扩张的定义不止一种 以下三个准则都可以刻画正规扩张 是三个等价的定义 域扩张是正规扩张当且仅当它满足以下三个等价条件中任意一个 formula_1是formula_2的一个正规扩张 因为它是formula_2上的多项式formula_4的分裂域 然而 formula_5并不是formula_2的一个正规扩张 因为formula_2上的不可约多项式formula_8有一个根 formula_9在formula_5里面 但它的另外两个根 formula_11和formula_12都是複數 不在formula_5里面 只有在加入了三次单位根 formula_14后的扩域formula_15才是一个正规扩张 也可以用正规扩张的第二个定义来证明formula_5不是formula_2的正规扩张 设域formula_18是由所有复代数数生成的扩域 则formula_18是formula_2的一个代数闭包 并且formula_5在formula_18里面 另一方面 并且 如果记formula_24是formula_8的复根之一 那么映射 是formula_5在formula_18上的一个嵌入 并且它限制在formula_2上的部分是平凡的 将formula_2中元素映射到自己 但是并不是formula_5上的自同构 更一般地 对每一个素数 域扩张formula_32都是formula_2的一个正规扩张 扩张的次数是 1 formula_32是formula_2上的多项式formula_36的分裂域 其中的formula_37是任意一个复数次单位根 设有域扩张 那么 设有域扩张 那么总存在域扩张 使得是正规扩张 在同构意义上 最小 的这样的扩张是唯一 即是说 其他的域扩张如果使得是正规扩张 那么总存在的子扩张 使得同构于 这个唯一的 最小 正规扩张称为域扩张的正规闭包 如果是有限扩张 那么它的正规闭包也是有限扩张 因此也是有限扩张 塞思 吉列姆 塞思 吉列姆 是一名美国演员 他最为出名的电视角色可能就是在HBO剧情剧 监狱风云 中饰演的从狱警沦为阶下囚的克雷顿 休斯 Clayton Hughes 以及在 火线 中饰演的巴尔的摩警探埃利斯 卡佛 Ellis Carver 在两部戏中 他都和兰斯 雷迪克和J D 威廉姆斯演过对手戏 他参演了1997年的动作片 星河战队 吉列姆在 火线 全5季中饰演了警官埃利斯 卡佛 J D 威廉姆斯 J D 威廉姆斯 出生在新泽西紐華克 作为一名演员 他曾出演过是在HBO电视剧 监狱风云 和 火线 威廉姆斯在 火线 前四季中饰演普莱斯顿 布罗德斯 外号博迪 他还曾在该剧制片人大卫 西蒙的另一部作品 凶杀 街头生涯 中客串出演 在 监狱风云 前四季中 他饰演了囚犯肯尼 万格勒 他还曾在 黑道家族 中有过出演 威廉姆斯还在部分节奏布鲁斯和嘻哈音乐电视中出镜 网瘾战争 网瘾战争 是中国大陆个人组织制作的游戏引擎電影 整部作品以网络游戏 魔兽世界 为蓝本 由玩家控制游戏中人物 出演 视频画面由 魔兽世界 里的游戏场景截取编辑而成 电影主要反映出玩家对于游戏审批制度和主流媒体对于网络游戏不公正报道的不满 并讽刺以电击方式 治疗网瘾 的杨永信 电影开头使用了创作共用 署名 非商业性使用 相同方式共享 2 5中国大陆版权声明 本片全称 看你妹之网瘾战争 是以性感玉米 梁志平 为主创的 爱老虎油 团队制作的继 看你妹之骷髅党之歌 看你妹之巫妖王择日再开 系列网络视频的第三部 整个作用时间三个月 累计参与人员100余人 全部为业余时间免费参与 参与人员大多为NGA和AcFun的网友 整个电影以网络游戏 魔兽世界 于2009年在中国大陆面临代理更换 资料片巫妖王之怒通过审批遥遥无期为背景 其内容也多基于魔兽世界特有的文化 视频于2010年1月20日首发于艾泽拉斯国家地理论坛 制作者在视频开场处就已表明遵守知识共享协议中的署名 非商业性使用 相同方式共享 2 5 中国大陆之协议 作者之声明 视频全长64分钟 拍摄场景大多数在魔兽世界游戏内 视频中多处对2009中国国内及魔兽世界内的新闻事件进行的调侃 如欺实马 七十码 钓鱼执法 南京彭宇案 临时性的即意犯罪 电视购物 暴风影音断网事件 瑞星和卡巴斯基误杀 谷歌涉黄事件 绿坝耗资4000万 正龙拍虎 秋雨捐书 九城竞业禁止合同 陈晓薇 告全体员工书 待岗协议 阶梯电价 被自杀 躲貓貓 信春哥死后原地复活 心神不宁等 对于电影中的部分可能敏感词也使用了 嘟 的声音进行 和谐 处理 影片最后10分钟决战的高潮处 看你妹進行了一場極為感人的演說 並呼唤所有玩家讲出自己的心声 与杨教授一决高下 最初没有任何回音 但当钟声响起时 人们都发出了自己的力量 最终打败了杨教授 有评论认为 这场演说实际上打破了第四面墙 许多玩家在观看时也受到感动 片尾曲是邦 乔维在 Have a Nice Day 专辑中的第5首歌曲 Bells Of Freedom 自由钟声 看你妹 殇之晨豹配音 丁撒石 卑鄙马维斯配音 五折叔 大兵雷恩配音 杨永新 孤独背影配音 朱乡长 性感玉米配音 薇薇 晓 风行者 篱落素素配音 贝莉 钉 丢丢配音 日墙 CBI配音 板书大神 白菜配音 萌化大神 林熊猫配音 暴雨大神 天使YLL配音 编剧性感玉米接受 南方日报 记者电子邮件的采访说 制作该电影的主要原因是2009年一年来 魔兽玩家因为不能像其它国家的玩家一样享受网络游戏 本来对社会无害的人却反而成为舆论妖魔化的对象 感到憋屈与无奈的他就把网瘾治疗专家拿来到影片进行调侃 电影时间长达一个小时餘 共有一百多人参与和协助制作 制作时间三个月 电影剧本来自魔兽世界玩家 性感玉米 和 大兵雷恩 创作自 爱老虎游创作团队 参与配音的都是 魔兽世界 中的著名玩家 拍摄过程有很多台服玩家的游戏人物参与 创作过程中 先是由性感玉米写好剧本 后请网友在游戏中进行表演 截取视频 然后再通过网络请网友配音 性感玉米表示这部作品除了他家的电费之外 没花一分钱 这些都要感谢那些志愿付出牺牲自己金钱精力和时间的网友 创作团队成员曾表示将会推出未删节版 而导演性感玉米之后在NGA发贴说 由于担心人身安全 不得已将大部分原始素材删除 已不存在未删节版 视频播出后 凤凰卫视报道前 本片因多方原因受到很大压力 原位于优酷网之视频也遭到删除 目前优酷网的 网瘾战争 视频已经恢复 莱恩 福兰克林 莱恩 福兰克林 Ryan Ray Franklin 出生于美国阿肯色州史密斯堡 是美国职棒大联盟圣路易红雀的中继投手 福兰克林出生于阿肯色州的史密斯堡 在俄克拉荷马州的斯皮罗长大 1991年他从高中毕业 并入选全州最佳阵容 之后他进入大学 在两年的时间里投出惊人的20胜0败的成绩 福兰克林在1992年大联盟选秀大会上被西雅图水手第23轮选中 但他选择回到学校 一年之后他和球队签约 在福兰克林在大联盟第一个完整赛季之后 接下来的四个赛季他都作为球队的先发投手 投出23胜44败的成绩 其中他在被击出34支全垒打 为联盟最高 赛季后 福兰克林成为自由球员 1月13日他和费城费城人签下为期1年250万美元的合同 起他回到中继投手的身份 8月7日他被交易到辛辛那提红人 福兰克林来到了圣路易斯红雀 他从开始成为球队的终结者 是福兰克林职业生涯迄今为止投得最好的一个赛季 这一年他防御率仅为1 92 拿到38次救援成功 并首次入选全明星赛 2011年12月9日 正式引退 2000年福兰克林代表美国棒球队参加了悉尼奥运会 并最终拿到金牌 这是美国队首次也是唯一一次拿到奥运会棒球项目的金牌 福兰克林一共出场4次 拿到3胜0败的成绩 8月2日 福兰克林被检测出使用类固醇 因此被禁赛10天 这是大联盟历史上第八位 也是水手队史上第二位被检测出使用类固醇的球员 他还被列入米歇尔报告中的一员 福兰克林和他的妻子安琪 龙贝格 Angie Romberg 拥有三个小孩 洛根 提根和凯琳 他们生活在俄克拉何马州的肖尼 在老家斯皮罗还拥有一座农场'"
      ]
     },
     "execution_count": 4,
     "metadata": {},
     "output_type": "execute_result"
    }
   ],
   "source": [
    "token_wiki(wiki_articles[0], tag_pattern)"
   ]
  },
  {
   "cell_type": "code",
   "execution_count": 5,
   "metadata": {},
   "outputs": [],
   "source": [
    "WIKI_TEXT = ' '.join([token_wiki(article, tag_pattern) for article in wiki_articles])"
   ]
  },
  {
   "cell_type": "code",
   "execution_count": 7,
   "metadata": {
    "scrolled": true
   },
   "outputs": [
    {
     "name": "stderr",
     "output_type": "stream",
     "text": [
      "IOPub data rate exceeded.\n",
      "The notebook server will temporarily stop sending output\n",
      "to the client in order to avoid crashing it.\n",
      "To change this limit, set the config variable\n",
      "`--NotebookApp.iopub_data_rate_limit`.\n",
      "\n",
      "Current values:\n",
      "NotebookApp.iopub_data_rate_limit=1000000.0 (bytes/sec)\n",
      "NotebookApp.rate_limit_window=3.0 (secs)\n",
      "\n"
     ]
    }
   ],
   "source": [
    "print('length of WIKI_TEXT is:{}'.format(WIKI_TEXT))\n",
    "print('first 100 tokens:'+WIKI_TEXT[:100])"
   ]
  },
  {
   "cell_type": "code",
   "execution_count": 13,
   "metadata": {},
   "outputs": [],
   "source": [
    "# 2. get token (one word and two words)\n",
    "ALL_WIKI_TOKENS = cut(WIKI_TEXT) \n",
    "VALID_WIKI_TOKENS = [t for t in ALL_WIKI_TOKENS if t.strip()]\n",
    "# 3. build language model"
   ]
  },
  {
   "cell_type": "code",
   "execution_count": 236,
   "metadata": {
    "collapsed": true
   },
   "outputs": [
    {
     "data": {
      "text/plain": [
       "[('的', 1011101),\n",
       " ('年', 308915),\n",
       " ('在', 288196),\n",
       " ('是', 228795),\n",
       " ('和', 150958),\n",
       " ('月', 136832),\n",
       " ('了', 136769),\n",
       " ('於', 130712),\n",
       " ('為', 96037),\n",
       " ('有', 87285),\n",
       " ('日', 79657),\n",
       " ('他', 77974),\n",
       " ('被', 75641),\n",
       " ('中', 74761),\n",
       " ('为', 71967),\n",
       " ('人', 71477),\n",
       " ('也', 65909),\n",
       " ('與', 63968),\n",
       " ('後', 59509),\n",
       " ('由', 57155),\n",
       " ('而', 57027),\n",
       " ('1', 50592),\n",
       " ('上', 48804),\n",
       " ('等', 48396),\n",
       " ('以', 43577),\n",
       " ('2', 41098),\n",
       " ('但', 39178),\n",
       " ('3', 39003),\n",
       " ('及', 38395),\n",
       " ('到', 37616),\n",
       " ('一个', 35977),\n",
       " ('与', 35490),\n",
       " ('于', 33782),\n",
       " ('5', 33462),\n",
       " ('4', 32326),\n",
       " ('都', 32178),\n",
       " ('其', 32130),\n",
       " ('至', 30289),\n",
       " ('6', 29203),\n",
       " ('之', 28850),\n",
       " ('或', 28104),\n",
       " ('對', 27305),\n",
       " ('可以', 27220),\n",
       " ('后', 26711),\n",
       " ('10', 26489),\n",
       " ('7', 26473),\n",
       " ('不', 26140),\n",
       " ('8', 26117),\n",
       " ('中国', 25456),\n",
       " ('日本', 24759),\n",
       " ('并', 24590),\n",
       " ('人口', 24279),\n",
       " ('12', 23826),\n",
       " ('9', 23442),\n",
       " ('使用', 22656),\n",
       " ('來', 22601),\n",
       " ('以及', 22248),\n",
       " ('香港', 22178),\n",
       " ('其中', 21199),\n",
       " ('就', 21065),\n",
       " ('一個', 20866),\n",
       " ('她', 20606),\n",
       " ('米', 20338),\n",
       " ('曾', 20235),\n",
       " ('平方公里', 20217),\n",
       " ('軍', 20186),\n",
       " ('位', 20061),\n",
       " ('所', 20018),\n",
       " ('主要', 19755),\n",
       " ('第', 19711),\n",
       " ('11', 19596),\n",
       " ('下', 19491),\n",
       " ('會', 19473),\n",
       " ('包括', 19399),\n",
       " ('時', 19039),\n",
       " ('地', 18963),\n",
       " ('又', 18604),\n",
       " ('公司', 18232),\n",
       " ('将', 18041),\n",
       " ('对', 17545),\n",
       " ('新', 16920),\n",
       " ('时', 16528),\n",
       " ('亦', 16493),\n",
       " ('站', 16342),\n",
       " ('臺', 15985),\n",
       " ('馬', 15796),\n",
       " ('大', 15509),\n",
       " ('最', 15277),\n",
       " ('因此', 15252),\n",
       " ('它', 15251),\n",
       " ('世界', 14935),\n",
       " ('位于', 14860),\n",
       " ('其他', 14697),\n",
       " ('政府', 14517),\n",
       " ('前', 14499),\n",
       " ('该', 14483),\n",
       " ('美国', 14395),\n",
       " ('長', 14247),\n",
       " ('多', 14095),\n",
       " ('從', 14076)]"
      ]
     },
     "execution_count": 236,
     "metadata": {},
     "output_type": "execute_result"
    }
   ],
   "source": [
    "from collections import Counter\n",
    "wiki_counter = Counter(VALID_WIKI_TOKENS)\n",
    "wiki_counter.most_common(100)"
   ]
  },
  {
   "cell_type": "code",
   "execution_count": 235,
   "metadata": {},
   "outputs": [],
   "source": [
    "# 3. build language model\n",
    "class BaseFreqEstimator():\n",
    "    def fit(self, baseCounts):\n",
    "        self.baseCounts = baseCounts\n",
    "        self.freq_sum = sum([f for w,f in baseCounts.most_common()])\n",
    "        self.eps = 1 / self.freq_sum\n",
    "        \n",
    "    def get_smoothed_probability(self, word):\n",
    "        if word in self.baseCounts:\n",
    "            return self.baseCounts[word] / self.freq_sum\n",
    "        else:\n",
    "            return self.eps\n",
    "\n",
    "class LanguageModelTwoGram():\n",
    "    def __init__(self, tokens, corpus=None, token_generator=None, freq_estimator_name=BaseFreqEstimator.__name__):\n",
    "        assert((tokens is not None) or (corpus is not None))\n",
    "    \n",
    "        if tokens is None:\n",
    "            if token_generator is None:\n",
    "                all_tokens = cut(corpus) \n",
    "                self.tokens = [t for t in all_tokens if t.strip()]\n",
    "            else:\n",
    "                self.tokens = token_generator(corpus)\n",
    "        else:\n",
    "            self.tokens = tokens\n",
    "            \n",
    "        self.freq_estimator_1g, self.freq_estimator_2g = (globals()[freq_estimator_name](),globals()[freq_estimator_name]())\n",
    "       \n",
    "    @staticmethod\n",
    "    def cut(sentenct):\n",
    "        return list(jieba.cut(sentence))\n",
    "\n",
    "    def fit(self):\n",
    "        self.word_counter = Counter(self.tokens)\n",
    "        self.freq_estimator_1g.fit(self.word_counter)\n",
    "#         self.freq_sum = sum(self.word_counter.values())\n",
    "#         self.eps = 1 / self.freq_sum\n",
    "        \n",
    "        two_words = [''.join(self.tokens[i:i+2]) for i in range(len(self.tokens)-2)]\n",
    "        self.two_word_counter = Counter(two_words)\n",
    "        self.freq_estimator_2g.fit(self.two_word_counter)\n",
    "#         self.two_word_freq_sum = len(two_words)\n",
    "#         self.two_word_eps = 1 / self.two_word_freq_sum\n",
    "        \n",
    "#     def get_prob(self, word):\n",
    "#         if word in self.word_counter:\n",
    "#             return self.word_counter[word] / self.freq_sum\n",
    "#         else:\n",
    "#             return self.eps\n",
    "        \n",
    "#     def get_combination_prob(self, word1, word2):\n",
    "#         if word1 + word2 in self.two_word_counter:\n",
    "#             return self.two_word_counter[word1 + word2] / self.two_word_freq_sum\n",
    "#         else:\n",
    "#             return self.two_word_eps\n",
    "    \n",
    "    def get_2_gram_prob(self, word1, word2):\n",
    "        return self.freq_estimator_2g.get_smoothed_probability(word1 + word2) / self.freq_estimator_1g.get_smoothed_probability(word1)\n",
    "    \n",
    "    def sentence_prob(self, sentence):\n",
    "        words = cut(sentence)\n",
    "        \n",
    "        prob = self.freq_estimator_1g.get_smoothed_probability(words[0])\n",
    "        for i in range(len(words)-1):\n",
    "            prob *= self.get_2_gram_prob(words[i], words[i+1])\n",
    "            \n",
    "        return prob\n",
    "        "
   ]
  },
  {
   "cell_type": "markdown",
   "metadata": {},
   "source": [
    "Step 4: Try some interested sentence pairs, and check if your model could fit them\n",
    "\n",
    ">"
   ]
  },
  {
   "cell_type": "code",
   "execution_count": 86,
   "metadata": {},
   "outputs": [],
   "source": [
    "samples = \"\"\"\n",
    "小明毕业于清华大学\n",
    "小明毕业于秦华大学\n",
    "小明今天吃了一架飞机\n",
    "小明今天吃了一架喷气式飞机\n",
    "回酋投荒窜死荒岛，雄狮追寇穷极遐方\n",
    "这是怎么回事？\n",
    "为什么我内心好像有一种可鄙可耻的感觉？\n",
    "是不是因为我要去干流血的勾当？\n",
    "怎么肥四？\n",
    "希望各大出版社编辑、设计都能以在书的封面、扉页剧透为耻，切切！\n",
    "\"\"\".split()\n",
    "\n",
    "need_compared = [\n",
    "    \"小明今天抽奖抽到一台波音飞机 小明今天抽奖抽到一台苹果手机\",\n",
    "    \"洋葱奶昔来一杯 养乐多绿来一杯\",\n",
    "    \"小明今天吃了一架飞机 小明今天吃了一个苹果\",\n",
    "    \"卡尔卡西传统理念与塔雷加现代指法的完美结合 卡尔卡西传统老茧与塔雷加现代水泡的完美结合\",\n",
    "    \"今天，让我们来做一份美味的洁厕灵 今天，让我们来做一份美味的Tiramisu\",\n",
    "    \"首先，用滚水冲开HCL 首先，用滚水冲开Expresso粉\",\n",
    "    \"这是一个复杂的优化问题 这是一个不能说不复杂的优化问题\"\n",
    "]\n",
    "\n"
   ]
  },
  {
   "cell_type": "code",
   "execution_count": 103,
   "metadata": {},
   "outputs": [],
   "source": [
    "lm_2g = LanguageModelTwoGram(VALID_WIKI_TOKENS)\n",
    "lm_2g.fit()"
   ]
  },
  {
   "cell_type": "code",
   "execution_count": 96,
   "metadata": {},
   "outputs": [
    {
     "name": "stdout",
     "output_type": "stream",
     "text": [
      "首先 1508\n",
      "， 0\n",
      "用 10389\n",
      "滚水 0\n",
      "冲开 2\n",
      "Expresso 0\n",
      "粉 259\n",
      "首先 ， 0\n",
      "， 用 0\n",
      "用 滚水 0\n",
      "滚水 冲开 0\n",
      "冲开 Expresso 0\n",
      "Expresso 粉 0\n"
     ]
    }
   ],
   "source": [
    "words = cut(\"首先，用滚水冲开Expresso粉\")\n",
    "for word in words:\n",
    "    print(word,lm_2g.word_counter[word])\n",
    "for i in range(len(words)-1):\n",
    "    print(words[i], words[i+1], lm_2g.two_word_counter[words[i]+words[i+1]])"
   ]
  },
  {
   "cell_type": "code",
   "execution_count": 126,
   "metadata": {},
   "outputs": [
    {
     "name": "stdout",
     "output_type": "stream",
     "text": [
      "小明毕业于清华大学 1.6088501168378184e-11\n",
      "小明毕业于秦华大学 6.995001185650172e-13\n",
      "小明今天吃了一架飞机 1.358784116421255e-17\n",
      "小明今天吃了一架喷气式飞机 6.176292036623426e-19\n",
      "回酋投荒窜死荒岛，雄狮追寇穷极遐方 5.4705706575754825e-16\n",
      "这是怎么回事？ 2.42194307552183e-08\n",
      "为什么我内心好像有一种可鄙可耻的感觉？ 2.94062164129477e-28\n",
      "是不是因为我要去干流血的勾当？ 1.3179389622669033e-27\n",
      "怎么肥四？ 4.84388615104366e-08\n",
      "希望各大出版社编辑、设计都能以在书的封面、扉页剧透为耻，切切！ 6.285931536602777e-39\n",
      "小明今天抽奖抽到一台苹果手机 is more possible\n",
      "---- 小明今天抽奖抽到一台波音飞机 with probility 1.6649128233530405e-17\n",
      "---- 小明今天抽奖抽到一台苹果手机 with probility 7.357633977048629e-17\n",
      "养乐多绿来一杯 is more possible\n",
      "---- 洋葱奶昔来一杯 with probility 7.573306160582044e-12\n",
      "---- 养乐多绿来一杯 with probility 4.84388615104366e-08\n",
      "小明今天吃了一架飞机 is more possible\n",
      "---- 小明今天吃了一架飞机 with probility 1.358784116421255e-17\n",
      "---- 小明今天吃了一个苹果 with probility 1.6003113261528598e-18\n",
      "卡尔卡西传统老茧与塔雷加现代水泡的完美结合 is more possible\n",
      "---- 卡尔卡西传统理念与塔雷加现代指法的完美结合 with probility 2.4971089346974124e-34\n",
      "---- 卡尔卡西传统老茧与塔雷加现代水泡的完美结合 with probility 8.379333788413579e-32\n",
      "今天，让我们来做一份美味的Tiramisu is more possible\n",
      "---- 今天，让我们来做一份美味的洁厕灵 with probility 1.492624105047086e-29\n",
      "---- 今天，让我们来做一份美味的Tiramisu with probility 5.970495841780357e-29\n",
      "首先，用滚水冲开Expresso粉 is more possible\n",
      "---- 首先，用滚水冲开HCL with probility 2.3312578490892494e-12\n",
      "---- 首先，用滚水冲开Expresso粉 with probility 2.33125807493618e-12\n",
      "这是一个复杂的优化问题 is more possible\n",
      "---- 这是一个复杂的优化问题 with probility 1.8955574281403726e-16\n",
      "---- 这是一个不能说不复杂的优化问题 with probility 4.3259369209384336e-26\n"
     ]
    }
   ],
   "source": [
    "for sen in samples:\n",
    "    print(sen, lm_2g.sentence_prob(sen))\n",
    "sentence_compare(need_compared, lm_2g.sentence_prob)"
   ]
  },
  {
   "cell_type": "markdown",
   "metadata": {},
   "source": [
    " \n",
    "\n",
    "Step 5: If we need to solve following problems, how can language model help us? \n",
    "\n",
    "+ Voice Recognization.\n",
    "+ Sogou *pinyin* input.\n",
    "  + 前两个问题，可以看成是有输入一组符号或音节，需对应到一组词的问题，这组词假设有很多种可能（路径），语言模型可以用来作为一个指标，即输出概率最大的那一条路径\n",
    "+ Auto correction in search engine. \n",
    "  + 将所有用户搜索过的词按照概率（语言模型）排序，假设输入搜索词A，从上往下找包含词A的搜索词\n",
    "+ Abnormal Detection.\n",
    "  + 把事件看作词语，如果某一事件序列的概率（语言模型）比较低，那么这个事件序列可能是异常的，或者包含异常事件"
   ]
  },
  {
   "cell_type": "markdown",
   "metadata": {},
   "source": [
    "### Compared to the previous learned parsing and pattern match problems. What's the advantage and disavantage of Probability Based Methods? "
   ]
  },
  {
   "cell_type": "markdown",
   "metadata": {},
   "source": [
    "Ans: 优点是代码实现简单，而且代码完成后，可以重复使用，如果想要识别新的模式，只要增加数据即可，不需要设计模式；缺点是需要大量的数据来训练，例如上述使用部分wiki数据训练的模型，对于比较口语化的句子，或是包含没见过的词语的句子，计算的概率就会不准确"
   ]
  },
  {
   "cell_type": "markdown",
   "metadata": {},
   "source": [
    "## (Optional)  How to solve *OOV* problem?\n",
    "\n",
    "If some words are not in our dictionary or corpus. When we using language model, we need to overcome this `out-of-vocabulary`(OOV) problems. There are so many intelligent man to solve this probelm. \n",
    "\n",
    "-- \n",
    "\n",
    "The first question is: \n",
    "\n",
    "**Q1: How did you solve this problem in your programming task?**"
   ]
  },
  {
   "cell_type": "markdown",
   "metadata": {},
   "source": [
    "Ans: 令他们的概率等于一个比较小的常数：1/语料库大小"
   ]
  },
  {
   "cell_type": "markdown",
   "metadata": {},
   "source": [
    "Then, the sencond question is: "
   ]
  },
  {
   "cell_type": "markdown",
   "metadata": {},
   "source": [
    "**Q2: Read about the 'Turing-Good Estimator', can explain the main points about this method, and may implement this method in your programming task**\n",
    "\n",
    "Reference: \n",
    "+ https://www.wikiwand.com/en/Good%E2%80%93Turing_frequency_estimation\n",
    "+ https://github.com/Computing-Intelligence/References/blob/master/NLP/Natural-Language-Processing.pdf, Page-47"
   ]
  },
  {
   "cell_type": "markdown",
   "metadata": {},
   "source": [
    "> coding in here"
   ]
  },
  {
   "cell_type": "markdown",
   "metadata": {},
   "source": [
    "**Good-Turing Estimator**\n",
    "基本思想是把出现次数多的种类（词）的概率分给未出现过的种类，但出现越多的种类反而分的越少。\n",
    "1. 如果某词未出现过，则对他估计的概率为\n",
    "$$p_0=\\frac{N_1}{N}$$\n",
    "2. 如果出现过r次，则估计概率为\n",
    "$$p_r = \\frac{(r+1)E(N_{r+1})}{NE(N_r)}$$\n",
    "这里用$p_r=\\frac{r^*}{N}$估计$p_r$，然后根据基本思想，令$r^*=\\frac{(r+1)E(N_{r+1})}{E(N_r)}$（这里为什么，其实还是不太懂）。\n",
    "3. 对于比较小的r，$E(N_r)$可以认为就等于$N_r$，r比较大时，需要用$S(N_r)$来估计。\n",
    "Church和Gale提出的计算$S(N_r)$的方法（smoothing method）：\n",
    "  - a.用$Z_r$估计$N_r$，r越大，Nr等于0的越多（越稀疏），t-q就越大，$Z_r$对$N_r$修正也越多：\n",
    "$$Z_r=\\frac{N_r}{0.5(t-q)}$$\n",
    "t,q是r前后离他最近的两个非0频率的频率的角标。\n",
    "  - b.用线性回归拟合函数，然后从直线上取$S(N_r)$的值：$S(N_r)=Z_r$\n",
    "$$log(Z_r)=a+blog(r)$$\n",
    "如果拟合结果b不满足：b<-1，则smooth方法不可用。\n",
    "4.未出现的词概率估计：\n",
    "直接用$p_0$存在未出现词的概率可能高于出现过词的概率的情况，且直接用$p_0$，所有词的概率和其实大于1，导致在2gram模型中，w1w2的概率高于w1的概率（假如w1w2未出现过），于是$p(w1w2|w1)>1$。\n",
    "因此，以下代码使用了老师给的解决办法：\n",
    "  用出现次数为1的词中，长度与未出现的词w长度相等的词的个数来估计p(w);如果没有长度相等的词，就在$p_0$的基础上除以一个与词长度相关的衰减系数。"
   ]
  },
  {
   "cell_type": "code",
   "execution_count": 297,
   "metadata": {},
   "outputs": [],
   "source": [
    "from sklearn import linear_model\n",
    "import numpy as np\n",
    "class GoodTuringEstimator():\n",
    "    def __init__(self, N_threshold=5, prior=1e-8, p0_base=1/26.):\n",
    "        self.N_threshold = N_threshold\n",
    "        self.prior = prior\n",
    "        self.p0_base = p0_base\n",
    "        \n",
    "    def fit(self, base_counts):\n",
    "        self.base_counts = base_counts\n",
    "        freq = [f for w,f in base_counts.most_common()]\n",
    "        self.total_count = sum(freq)\n",
    "        \n",
    "        self.ones = Counter([len(w) for w,f in base_counts.most_common()])\n",
    "        self.ones_longest = max(self.ones)\n",
    "        \n",
    "        self.freq_of_freq = Counter(freq)\n",
    "        assert(self.total_count == sum([f*ff for f,ff in self.freq_of_freq.most_common()]))\n",
    "        self.Nr_regression = linear_model.LinearRegression()\n",
    "        \n",
    "        self.fit_line()\n",
    "        \n",
    "    def fit_line(self):\n",
    "        \"\"\"\n",
    "        拟合直线log(Z_r)=a+blog(r)\n",
    "        \"\"\"\n",
    "        freq_counts = list(self.freq_of_freq.items())\n",
    "        freq_counts.sort(key=lambda x:x[0])\n",
    "        pad_freq = [0] + [f[0] for f in freq_counts] + [2*freq_counts[-1][0]-freq_counts[-2][0]]\n",
    "        Zr = [2*freq_counts[i][1]/(pad_freq[i+2]-pad_freq[i]) for i in range(len(freq_counts))]\n",
    "        self.Nr_regression.fit(np.log(pad_freq[1:-1]).reshape(-1,1), np.log(Zr))\n",
    "        if self.Nr_regression.coef_[0]>=-1:\n",
    "            raise Exception(\"Failure: linear regression model's slope is bigger than -1\")\n",
    "    \n",
    "\n",
    "    def get_smoothed_freq_of_freq(self, times):\n",
    "        if times<self.N_threshold:\n",
    "            return self.freq_of_freq[times]\n",
    "        else:\n",
    "            return np.exp(self.Nr_regression.predict([[np.log(times)]])[0])\n",
    "\n",
    "    def get_smoothed_probability(self, species):\n",
    "        naive_count = self.base_counts[species]\n",
    "        if naive_count == 0:\n",
    "            if len(species) in self.ones:\n",
    "                return self.prior * self.ones[len(species)] / self.total_count\n",
    "            else:\n",
    "                return self.prior * self.freq_of_freq[1] / self.total_count * self.p0_base ** (len(species)-self.ones_longest)\n",
    "        else:\n",
    "            return (naive_count+1)*self.get_smoothed_freq_of_freq(naive_count+1) / \\\n",
    "                (self.total_count*self.get_smoothed_freq_of_freq(naive_count))"
   ]
  },
  {
   "cell_type": "code",
   "execution_count": 298,
   "metadata": {},
   "outputs": [
    {
     "data": {
      "text/plain": [
       "1053811.247882889"
      ]
     },
     "execution_count": 298,
     "metadata": {},
     "output_type": "execute_result"
    }
   ],
   "source": [
    "# lm_2g_sgt.freq_estimator_1g.get_smoothed_probability('我')\n",
    "naive_count = lm_2g_sgt.freq_estimator_1g.base_counts['秦华']\n",
    "lm_2g_sgt.freq_estimator_1g.get_smoothed_freq_of_freq(naive_count+1) #/ \\\n",
    "#                 (lm_2g_sgt.freq_estimator_1g.total_count*lm_2g_sgt.freq_estimator_1g.get_smoothed_freq_of_freq(naive_count))"
   ]
  },
  {
   "cell_type": "code",
   "execution_count": 280,
   "metadata": {},
   "outputs": [
    {
     "data": {
      "text/plain": [
       "9297"
      ]
     },
     "execution_count": 280,
     "metadata": {},
     "output_type": "execute_result"
    }
   ],
   "source": [
    "lm_2g_sgt.freq_estimator_1g.base_counts['我']"
   ]
  },
  {
   "cell_type": "code",
   "execution_count": 219,
   "metadata": {},
   "outputs": [
    {
     "data": {
      "text/plain": [
       "0.00045029283811023267"
      ]
     },
     "execution_count": 219,
     "metadata": {},
     "output_type": "execute_result"
    }
   ],
   "source": [
    "lm_2g_sgt.freq_estimator_1g.get_smoothed_probability('我')"
   ]
  },
  {
   "cell_type": "code",
   "execution_count": 287,
   "metadata": {},
   "outputs": [],
   "source": [
    "base_counts = Counter(VALID_WIKI_TOKENS)"
   ]
  },
  {
   "cell_type": "code",
   "execution_count": 288,
   "metadata": {},
   "outputs": [
    {
     "data": {
      "text/plain": [
       "595723"
      ]
     },
     "execution_count": 288,
     "metadata": {},
     "output_type": "execute_result"
    }
   ],
   "source": [
    "# N_1\n",
    "sum([f==1 for w,f in base_counts.most_common()])"
   ]
  },
  {
   "cell_type": "code",
   "execution_count": 289,
   "metadata": {},
   "outputs": [
    {
     "data": {
      "text/plain": [
       "20644585"
      ]
     },
     "execution_count": 289,
     "metadata": {},
     "output_type": "execute_result"
    }
   ],
   "source": [
    "# N\n",
    "sum([f for w,f in base_counts.most_common()])"
   ]
  },
  {
   "cell_type": "code",
   "execution_count": 218,
   "metadata": {},
   "outputs": [
    {
     "data": {
      "text/plain": [
       "0.02885613830454814"
      ]
     },
     "execution_count": 218,
     "metadata": {},
     "output_type": "execute_result"
    }
   ],
   "source": [
    "lm_2g_sgt.freq_estimator_1g.freq_of_freq[1] / lm_2g_sgt.freq_estimator_1g.total_count"
   ]
  },
  {
   "cell_type": "code",
   "execution_count": 224,
   "metadata": {},
   "outputs": [
    {
     "data": {
      "text/plain": [
       "20644585"
      ]
     },
     "execution_count": 224,
     "metadata": {},
     "output_type": "execute_result"
    }
   ],
   "source": [
    "lm_2g_sgt.freq_estimator_1g.total_count"
   ]
  },
  {
   "cell_type": "code",
   "execution_count": 281,
   "metadata": {},
   "outputs": [
    {
     "data": {
      "text/plain": [
       "595723"
      ]
     },
     "execution_count": 281,
     "metadata": {},
     "output_type": "execute_result"
    }
   ],
   "source": [
    "lm_2g_sgt.freq_estimator_1g.freq_of_freq[1]"
   ]
  },
  {
   "cell_type": "code",
   "execution_count": 214,
   "metadata": {},
   "outputs": [
    {
     "data": {
      "text/plain": [
       "array([-1.89131939])"
      ]
     },
     "execution_count": 214,
     "metadata": {},
     "output_type": "execute_result"
    }
   ],
   "source": [
    "lm_2g_sgt.freq_estimator_1g.Nr_regression.coef_"
   ]
  },
  {
   "cell_type": "code",
   "execution_count": 211,
   "metadata": {},
   "outputs": [
    {
     "data": {
      "text/plain": [
       "0.0329056689090447"
      ]
     },
     "execution_count": 211,
     "metadata": {},
     "output_type": "execute_result"
    }
   ],
   "source": [
    "np.exp(lm_2g_sgt.freq_estimator_1g.Nr_regression.predict([[np.log(9298)]])[0])"
   ]
  },
  {
   "cell_type": "code",
   "execution_count": 168,
   "metadata": {},
   "outputs": [],
   "source": [
    "freq, freq_freq = zip(*[(f,ff) for f,ff in lm_2g_sgt.freq_estimator_1g.freq_of_freq.most_common()])"
   ]
  },
  {
   "cell_type": "code",
   "execution_count": 202,
   "metadata": {
    "scrolled": true
   },
   "outputs": [],
   "source": [
    "freq_counts = list(lm_2g_sgt.freq_estimator_1g.freq_of_freq.items())\n",
    "freq_counts.sort(key=lambda x:x[0])\n",
    "pad_freq = [0] + [f[0] for f in freq_counts] + [2*freq_counts[-1][0]-freq_counts[-2][0]]\n",
    "Zr = [2*freq_counts[i][1]/(pad_freq[i+2]-pad_freq[i]) for i in range(len(freq_counts))]"
   ]
  },
  {
   "cell_type": "code",
   "execution_count": 203,
   "metadata": {
    "collapsed": true
   },
   "outputs": [
    {
     "data": {
      "text/plain": [
       "[595723.0,\n",
       " 148717.0,\n",
       " 68240.0,\n",
       " 40465.0,\n",
       " 26616.0,\n",
       " 19715.0,\n",
       " 14930.0,\n",
       " 12037.0,\n",
       " 9893.0,\n",
       " 8123.0,\n",
       " 6909.0,\n",
       " 5991.0,\n",
       " 5207.0,\n",
       " 4655.0,\n",
       " 4131.0,\n",
       " 3735.0,\n",
       " 3239.0,\n",
       " 3099.0,\n",
       " 2765.0,\n",
       " 2470.0,\n",
       " 2370.0,\n",
       " 2175.0,\n",
       " 1960.0,\n",
       " 1861.0,\n",
       " 1832.0,\n",
       " 1668.0,\n",
       " 1480.0,\n",
       " 1474.0,\n",
       " 1323.0,\n",
       " 1295.0,\n",
       " 1162.0,\n",
       " 1152.0,\n",
       " 1066.0,\n",
       " 1017.0,\n",
       " 951.0,\n",
       " 950.0,\n",
       " 888.0,\n",
       " 779.0,\n",
       " 804.0,\n",
       " 789.0,\n",
       " 774.0,\n",
       " 737.0,\n",
       " 724.0,\n",
       " 678.0,\n",
       " 633.0,\n",
       " 603.0,\n",
       " 644.0,\n",
       " 647.0,\n",
       " 598.0,\n",
       " 500.0,\n",
       " 516.0,\n",
       " 523.0,\n",
       " 479.0,\n",
       " 462.0,\n",
       " 485.0,\n",
       " 497.0,\n",
       " 412.0,\n",
       " 441.0,\n",
       " 423.0,\n",
       " 377.0,\n",
       " 379.0,\n",
       " 345.0,\n",
       " 370.0,\n",
       " 344.0,\n",
       " 340.0,\n",
       " 308.0,\n",
       " 309.0,\n",
       " 317.0,\n",
       " 331.0,\n",
       " 282.0,\n",
       " 302.0,\n",
       " 288.0,\n",
       " 288.0,\n",
       " 259.0,\n",
       " 247.0,\n",
       " 270.0,\n",
       " 242.0,\n",
       " 258.0,\n",
       " 246.0,\n",
       " 245.0,\n",
       " 212.0,\n",
       " 230.0,\n",
       " 240.0,\n",
       " 248.0,\n",
       " 217.0,\n",
       " 189.0,\n",
       " 202.0,\n",
       " 203.0,\n",
       " 179.0,\n",
       " 189.0,\n",
       " 163.0,\n",
       " 167.0,\n",
       " 186.0,\n",
       " 194.0,\n",
       " 156.0,\n",
       " 158.0,\n",
       " 167.0,\n",
       " 134.0,\n",
       " 181.0,\n",
       " 151.0,\n",
       " 159.0,\n",
       " 136.0,\n",
       " 155.0,\n",
       " 121.0,\n",
       " 129.0,\n",
       " 152.0,\n",
       " 142.0,\n",
       " 130.0,\n",
       " 132.0,\n",
       " 145.0,\n",
       " 132.0,\n",
       " 139.0,\n",
       " 129.0,\n",
       " 128.0,\n",
       " 118.0,\n",
       " 131.0,\n",
       " 115.0,\n",
       " 133.0,\n",
       " 123.0,\n",
       " 121.0,\n",
       " 105.0,\n",
       " 106.0,\n",
       " 101.0,\n",
       " 103.0,\n",
       " 115.0,\n",
       " 103.0,\n",
       " 94.0,\n",
       " 107.0,\n",
       " 103.0,\n",
       " 92.0,\n",
       " 103.0,\n",
       " 113.0,\n",
       " 101.0,\n",
       " 84.0,\n",
       " 84.0,\n",
       " 84.0,\n",
       " 93.0,\n",
       " 91.0,\n",
       " 92.0,\n",
       " 86.0,\n",
       " 73.0,\n",
       " 83.0,\n",
       " 93.0,\n",
       " 64.0,\n",
       " 87.0,\n",
       " 75.0,\n",
       " 67.0,\n",
       " 94.0,\n",
       " 90.0,\n",
       " 78.0,\n",
       " 65.0,\n",
       " 78.0,\n",
       " 66.0,\n",
       " 70.0,\n",
       " 59.0,\n",
       " 62.0,\n",
       " 72.0,\n",
       " 73.0,\n",
       " 57.0,\n",
       " 64.0,\n",
       " 85.0,\n",
       " 56.0,\n",
       " 69.0,\n",
       " 53.0,\n",
       " 59.0,\n",
       " 67.0,\n",
       " 68.0,\n",
       " 52.0,\n",
       " 65.0,\n",
       " 62.0,\n",
       " 59.0,\n",
       " 52.0,\n",
       " 51.0,\n",
       " 61.0,\n",
       " 59.0,\n",
       " 63.0,\n",
       " 68.0,\n",
       " 67.0,\n",
       " 66.0,\n",
       " 38.0,\n",
       " 68.0,\n",
       " 43.0,\n",
       " 44.0,\n",
       " 61.0,\n",
       " 61.0,\n",
       " 51.0,\n",
       " 59.0,\n",
       " 45.0,\n",
       " 60.0,\n",
       " 35.0,\n",
       " 49.0,\n",
       " 60.0,\n",
       " 52.0,\n",
       " 48.0,\n",
       " 51.0,\n",
       " 50.0,\n",
       " 45.0,\n",
       " 47.0,\n",
       " 40.0,\n",
       " 37.0,\n",
       " 59.0,\n",
       " 43.0,\n",
       " 51.0,\n",
       " 67.0,\n",
       " 52.0,\n",
       " 43.0,\n",
       " 55.0,\n",
       " 42.0,\n",
       " 47.0,\n",
       " 35.0,\n",
       " 51.0,\n",
       " 43.0,\n",
       " 47.0,\n",
       " 31.0,\n",
       " 33.0,\n",
       " 38.0,\n",
       " 37.0,\n",
       " 34.0,\n",
       " 37.0,\n",
       " 40.0,\n",
       " 29.0,\n",
       " 42.0,\n",
       " 41.0,\n",
       " 42.0,\n",
       " 36.0,\n",
       " 51.0,\n",
       " 41.0,\n",
       " 27.0,\n",
       " 33.0,\n",
       " 32.0,\n",
       " 35.0,\n",
       " 44.0,\n",
       " 31.0,\n",
       " 43.0,\n",
       " 38.0,\n",
       " 46.0,\n",
       " 38.0,\n",
       " 30.0,\n",
       " 37.0,\n",
       " 36.0,\n",
       " 30.0,\n",
       " 34.0,\n",
       " 34.0,\n",
       " 40.0,\n",
       " 25.0,\n",
       " 22.0,\n",
       " 24.0,\n",
       " 41.0,\n",
       " 25.0,\n",
       " 30.0,\n",
       " 40.0,\n",
       " 28.0,\n",
       " 39.0,\n",
       " 30.0,\n",
       " 36.0,\n",
       " 25.0,\n",
       " 32.0,\n",
       " 29.0,\n",
       " 38.0,\n",
       " 26.0,\n",
       " 27.0,\n",
       " 34.0,\n",
       " 31.0,\n",
       " 35.0,\n",
       " 16.0,\n",
       " 17.0,\n",
       " 33.0,\n",
       " 18.0,\n",
       " 33.0,\n",
       " 33.0,\n",
       " 24.0,\n",
       " 29.0,\n",
       " 21.0,\n",
       " 26.0,\n",
       " 23.0,\n",
       " 26.0,\n",
       " 30.0,\n",
       " 24.0,\n",
       " 21.0,\n",
       " 33.0,\n",
       " 24.0,\n",
       " 14.0,\n",
       " 23.0,\n",
       " 28.0,\n",
       " 27.0,\n",
       " 21.0,\n",
       " 23.0,\n",
       " 25.0,\n",
       " 26.0,\n",
       " 19.0,\n",
       " 23.0,\n",
       " 19.0,\n",
       " 27.0,\n",
       " 21.0,\n",
       " 15.0,\n",
       " 20.0,\n",
       " 25.0,\n",
       " 22.0,\n",
       " 28.0,\n",
       " 24.0,\n",
       " 14.0,\n",
       " 26.0,\n",
       " 19.0,\n",
       " 25.0,\n",
       " 21.0,\n",
       " 22.0,\n",
       " 28.0,\n",
       " 24.0,\n",
       " 20.0,\n",
       " 18.0,\n",
       " 24.0,\n",
       " 30.0,\n",
       " 17.0,\n",
       " 9.0,\n",
       " 21.0,\n",
       " 15.0,\n",
       " 16.0,\n",
       " 18.0,\n",
       " 23.0,\n",
       " 19.0,\n",
       " 14.0,\n",
       " 22.0,\n",
       " 24.0,\n",
       " 22.0,\n",
       " 29.0,\n",
       " 22.0,\n",
       " 17.0,\n",
       " 15.0,\n",
       " 24.0,\n",
       " 15.0,\n",
       " 18.0,\n",
       " 14.0,\n",
       " 20.0,\n",
       " 8.0,\n",
       " 16.0,\n",
       " 10.0,\n",
       " 14.0,\n",
       " 17.0,\n",
       " 16.0,\n",
       " 17.0,\n",
       " 20.0,\n",
       " 18.0,\n",
       " 14.0,\n",
       " 14.0,\n",
       " 16.0,\n",
       " 19.0,\n",
       " 18.0,\n",
       " 19.0,\n",
       " 16.0,\n",
       " 10.0,\n",
       " 21.0,\n",
       " 13.0,\n",
       " 14.0,\n",
       " 20.0,\n",
       " 20.0,\n",
       " 17.0,\n",
       " 18.0,\n",
       " 13.0,\n",
       " 12.0,\n",
       " 18.0,\n",
       " 12.0,\n",
       " 20.0,\n",
       " 16.0,\n",
       " 16.0,\n",
       " 20.0,\n",
       " 13.0,\n",
       " 9.0,\n",
       " 16.0,\n",
       " 17.0,\n",
       " 10.0,\n",
       " 17.0,\n",
       " 15.0,\n",
       " 6.0,\n",
       " 10.0,\n",
       " 9.0,\n",
       " 15.0,\n",
       " 9.0,\n",
       " 15.0,\n",
       " 14.0,\n",
       " 13.0,\n",
       " 10.0,\n",
       " 12.0,\n",
       " 13.0,\n",
       " 11.0,\n",
       " 9.0,\n",
       " 16.0,\n",
       " 15.0,\n",
       " 11.0,\n",
       " 13.0,\n",
       " 15.0,\n",
       " 20.0,\n",
       " 17.0,\n",
       " 7.0,\n",
       " 17.0,\n",
       " 11.0,\n",
       " 13.0,\n",
       " 16.0,\n",
       " 8.0,\n",
       " 16.0,\n",
       " 11.0,\n",
       " 22.0,\n",
       " 9.0,\n",
       " 12.0,\n",
       " 24.0,\n",
       " 12.0,\n",
       " 9.0,\n",
       " 16.0,\n",
       " 13.0,\n",
       " 7.0,\n",
       " 13.0,\n",
       " 11.0,\n",
       " 9.0,\n",
       " 12.0,\n",
       " 14.0,\n",
       " 13.0,\n",
       " 10.0,\n",
       " 11.0,\n",
       " 13.0,\n",
       " 15.0,\n",
       " 9.0,\n",
       " 20.0,\n",
       " 10.0,\n",
       " 9.0,\n",
       " 9.0,\n",
       " 15.0,\n",
       " 14.0,\n",
       " 8.0,\n",
       " 12.0,\n",
       " 11.0,\n",
       " 16.0,\n",
       " 7.0,\n",
       " 7.0,\n",
       " 10.0,\n",
       " 7.0,\n",
       " 12.0,\n",
       " 16.0,\n",
       " 8.0,\n",
       " 10.0,\n",
       " 11.0,\n",
       " 13.0,\n",
       " 10.0,\n",
       " 9.0,\n",
       " 8.0,\n",
       " 14.0,\n",
       " 9.0,\n",
       " 11.0,\n",
       " 10.0,\n",
       " 15.0,\n",
       " 14.0,\n",
       " 13.0,\n",
       " 9.0,\n",
       " 13.0,\n",
       " 4.0,\n",
       " 16.0,\n",
       " 8.0,\n",
       " 13.0,\n",
       " 9.0,\n",
       " 9.0,\n",
       " 4.0,\n",
       " 5.0,\n",
       " 7.0,\n",
       " 11.0,\n",
       " 9.0,\n",
       " 12.0,\n",
       " 6.0,\n",
       " 12.0,\n",
       " 7.0,\n",
       " 7.0,\n",
       " 11.0,\n",
       " 6.0,\n",
       " 8.0,\n",
       " 16.0,\n",
       " 12.0,\n",
       " 7.0,\n",
       " 12.0,\n",
       " 4.0,\n",
       " 14.0,\n",
       " 5.0,\n",
       " 9.0,\n",
       " 10.0,\n",
       " 8.0,\n",
       " 12.0,\n",
       " 2.0,\n",
       " 8.0,\n",
       " 10.0,\n",
       " 9.0,\n",
       " 7.0,\n",
       " 7.0,\n",
       " 9.0,\n",
       " 12.0,\n",
       " 10.0,\n",
       " 7.0,\n",
       " 10.0,\n",
       " 12.0,\n",
       " 5.0,\n",
       " 6.0,\n",
       " 4.0,\n",
       " 11.0,\n",
       " 6.0,\n",
       " 6.0,\n",
       " 11.0,\n",
       " 7.0,\n",
       " 4.0,\n",
       " 8.0,\n",
       " 11.0,\n",
       " 7.0,\n",
       " 10.0,\n",
       " 12.0,\n",
       " 10.0,\n",
       " 6.0,\n",
       " 6.0,\n",
       " 3.0,\n",
       " 11.0,\n",
       " 9.0,\n",
       " 8.0,\n",
       " 7.0,\n",
       " 7.0,\n",
       " 11.0,\n",
       " 5.0,\n",
       " 4.0,\n",
       " 8.0,\n",
       " 6.0,\n",
       " 6.0,\n",
       " 7.0,\n",
       " 7.0,\n",
       " 10.0,\n",
       " 6.0,\n",
       " 11.0,\n",
       " 6.0,\n",
       " 6.0,\n",
       " 4.0,\n",
       " 11.0,\n",
       " 7.0,\n",
       " 8.0,\n",
       " 6.0,\n",
       " 11.0,\n",
       " 7.0,\n",
       " 11.0,\n",
       " 7.0,\n",
       " 8.0,\n",
       " 7.0,\n",
       " 8.0,\n",
       " 6.0,\n",
       " 8.0,\n",
       " 12.0,\n",
       " 7.0,\n",
       " 10.0,\n",
       " 9.0,\n",
       " 3.0,\n",
       " 7.0,\n",
       " 7.0,\n",
       " 11.0,\n",
       " 9.0,\n",
       " 8.0,\n",
       " 8.0,\n",
       " 7.0,\n",
       " 9.0,\n",
       " 4.0,\n",
       " 10.0,\n",
       " 9.0,\n",
       " 6.0,\n",
       " 6.0,\n",
       " 2.0,\n",
       " 5.0,\n",
       " 3.0,\n",
       " 11.0,\n",
       " 6.0,\n",
       " 12.0,\n",
       " 7.0,\n",
       " 7.0,\n",
       " 10.0,\n",
       " 8.0,\n",
       " 5.0,\n",
       " 9.0,\n",
       " 6.0,\n",
       " 4.0,\n",
       " 4.0,\n",
       " 5.0,\n",
       " 8.0,\n",
       " 6.0,\n",
       " 4.0,\n",
       " 10.0,\n",
       " 4.0,\n",
       " 8.0,\n",
       " 7.0,\n",
       " 4.0,\n",
       " 13.0,\n",
       " 8.0,\n",
       " 4.0,\n",
       " 9.0,\n",
       " 10.0,\n",
       " 4.0,\n",
       " 7.0,\n",
       " 8.0,\n",
       " 4.0,\n",
       " 1.0,\n",
       " 5.0,\n",
       " 7.0,\n",
       " 6.0,\n",
       " 2.0,\n",
       " 4.0,\n",
       " 8.0,\n",
       " 5.0,\n",
       " 2.0,\n",
       " 10.0,\n",
       " 9.0,\n",
       " 7.0,\n",
       " 5.0,\n",
       " 8.0,\n",
       " 4.0,\n",
       " 6.0,\n",
       " 6.0,\n",
       " 6.0,\n",
       " 11.0,\n",
       " 3.0,\n",
       " 5.0,\n",
       " 14.0,\n",
       " 5.0,\n",
       " 7.0,\n",
       " 5.0,\n",
       " 7.0,\n",
       " 2.0,\n",
       " 9.0,\n",
       " 4.0,\n",
       " 3.0,\n",
       " 5.0,\n",
       " 4.0,\n",
       " 7.0,\n",
       " 5.0,\n",
       " 3.0,\n",
       " 2.0,\n",
       " 5.0,\n",
       " 7.0,\n",
       " 5.0,\n",
       " 4.0,\n",
       " 6.0,\n",
       " 4.0,\n",
       " 5.0,\n",
       " 9.0,\n",
       " 6.0,\n",
       " 8.0,\n",
       " 6.0,\n",
       " 8.0,\n",
       " 4.0,\n",
       " 8.0,\n",
       " 3.0,\n",
       " 1.0,\n",
       " 4.0,\n",
       " 5.0,\n",
       " 7.0,\n",
       " 6.0,\n",
       " 5.0,\n",
       " 10.0,\n",
       " 3.0,\n",
       " 8.0,\n",
       " 9.0,\n",
       " 7.0,\n",
       " 5.0,\n",
       " 10.0,\n",
       " 8.0,\n",
       " 6.0,\n",
       " 4.0,\n",
       " 3.0,\n",
       " 4.0,\n",
       " 3.0,\n",
       " 5.0,\n",
       " 7.0,\n",
       " 3.0,\n",
       " 3.0,\n",
       " 8.0,\n",
       " 10.0,\n",
       " 4.0,\n",
       " 6.0,\n",
       " 4.0,\n",
       " 8.0,\n",
       " 4.0,\n",
       " 2.0,\n",
       " 4.0,\n",
       " 5.0,\n",
       " 8.0,\n",
       " 6.0,\n",
       " 5.0,\n",
       " 6.0,\n",
       " 3.0,\n",
       " 6.0,\n",
       " 3.0,\n",
       " 4.0,\n",
       " 3.0,\n",
       " 7.0,\n",
       " 7.0,\n",
       " 7.0,\n",
       " 3.0,\n",
       " 6.0,\n",
       " 7.0,\n",
       " 2.0,\n",
       " 3.0,\n",
       " 5.0,\n",
       " 5.0,\n",
       " 4.0,\n",
       " 7.0,\n",
       " 8.0,\n",
       " 6.0,\n",
       " 3.0,\n",
       " 1.0,\n",
       " 5.0,\n",
       " 5.0,\n",
       " 6.0,\n",
       " 8.0,\n",
       " 5.0,\n",
       " 4.0,\n",
       " 5.0,\n",
       " 2.0,\n",
       " 7.0,\n",
       " 6.0,\n",
       " 5.0,\n",
       " 1.0,\n",
       " 6.0,\n",
       " 9.0,\n",
       " 7.0,\n",
       " 4.0,\n",
       " 4.0,\n",
       " 7.0,\n",
       " 2.0,\n",
       " 3.0,\n",
       " 5.0,\n",
       " 4.0,\n",
       " 3.0,\n",
       " 6.0,\n",
       " 9.0,\n",
       " 6.0,\n",
       " 3.0,\n",
       " 3.0,\n",
       " 7.0,\n",
       " 3.0,\n",
       " 6.0,\n",
       " 2.0,\n",
       " 4.0,\n",
       " 9.0,\n",
       " 4.0,\n",
       " 2.0,\n",
       " 5.0,\n",
       " 7.0,\n",
       " 3.0,\n",
       " 3.0,\n",
       " 4.0,\n",
       " 3.3333333333333335,\n",
       " 1.0,\n",
       " 4.0,\n",
       " 3.0,\n",
       " 5.0,\n",
       " 4.0,\n",
       " 1.0,\n",
       " 1.0,\n",
       " 8.0,\n",
       " 4.0,\n",
       " 3.0,\n",
       " 4.0,\n",
       " 4.0,\n",
       " 1.3333333333333333,\n",
       " 4.666666666666667,\n",
       " 2.0,\n",
       " 2.0,\n",
       " 10.0,\n",
       " 4.0,\n",
       " 3.0,\n",
       " 5.0,\n",
       " 7.0,\n",
       " 3.0,\n",
       " 2.0,\n",
       " 5.0,\n",
       " 3.0,\n",
       " 4.0,\n",
       " 3.0,\n",
       " 2.0,\n",
       " 6.0,\n",
       " 3.0,\n",
       " 3.0,\n",
       " 6.0,\n",
       " 2.0,\n",
       " 10.0,\n",
       " 7.0,\n",
       " 4.0,\n",
       " 6.0,\n",
       " 2.0,\n",
       " 8.0,\n",
       " 7.0,\n",
       " 4.0,\n",
       " 3.0,\n",
       " 2.0,\n",
       " 3.0,\n",
       " 5.0,\n",
       " 3.0,\n",
       " 4.0,\n",
       " 3.0,\n",
       " 5.0,\n",
       " 4.0,\n",
       " 2.0,\n",
       " 2.0,\n",
       " 7.0,\n",
       " 2.0,\n",
       " 1.0,\n",
       " 5.0,\n",
       " 1.0,\n",
       " 4.0,\n",
       " 2.6666666666666665,\n",
       " 2.6666666666666665,\n",
       " 1.0,\n",
       " 7.0,\n",
       " 3.0,\n",
       " 1.0,\n",
       " 4.0,\n",
       " 5.0,\n",
       " 5.0,\n",
       " 7.0,\n",
       " 3.0,\n",
       " 5.0,\n",
       " 2.0,\n",
       " 1.0,\n",
       " 1.0,\n",
       " 5.0,\n",
       " 1.0,\n",
       " 3.0,\n",
       " 2.0,\n",
       " 4.0,\n",
       " 3.0,\n",
       " 2.0,\n",
       " 4.0,\n",
       " 3.0,\n",
       " 4.0,\n",
       " 1.0,\n",
       " 3.0,\n",
       " 9.0,\n",
       " 2.0,\n",
       " 1.0,\n",
       " 2.0,\n",
       " 1.0,\n",
       " 3.0,\n",
       " 6.0,\n",
       " 9.0,\n",
       " 7.0,\n",
       " 1.0,\n",
       " 3.0,\n",
       " 2.0,\n",
       " 3.0,\n",
       " 4.0,\n",
       " 7.0,\n",
       " 1.0,\n",
       " 2.0,\n",
       " 3.0,\n",
       " 2.0,\n",
       " 5.0,\n",
       " 1.0,\n",
       " 5.0,\n",
       " 7.0,\n",
       " 5.0,\n",
       " 1.0,\n",
       " 5.0,\n",
       " 7.0,\n",
       " 4.0,\n",
       " 3.0,\n",
       " 4.0,\n",
       " 4.0,\n",
       " 3.0,\n",
       " 4.0,\n",
       " 2.0,\n",
       " 2.0,\n",
       " 4.0,\n",
       " 3.0,\n",
       " 4.0,\n",
       " 6.0,\n",
       " 3.0,\n",
       " 2.0,\n",
       " 4.0,\n",
       " 4.666666666666667,\n",
       " 4.0,\n",
       " 5.0,\n",
       " 6.0,\n",
       " 3.0,\n",
       " 0.6666666666666666,\n",
       " 2.0,\n",
       " 5.0,\n",
       " 3.0,\n",
       " 1.0,\n",
       " 5.0,\n",
       " 0.5,\n",
       " 0.5,\n",
       " 3.0,\n",
       " 4.0,\n",
       " 2.0,\n",
       " 2.0,\n",
       " 3.0,\n",
       " 1.0,\n",
       " 1.0,\n",
       " 2.0,\n",
       " 1.0,\n",
       " 0.6666666666666666,\n",
       " 3.3333333333333335,\n",
       " 2.0,\n",
       " 4.0,\n",
       " 5.0,\n",
       " 3.0,\n",
       " 1.0,\n",
       " 3.0,\n",
       " 3.0,\n",
       " 4.0,\n",
       " 1.0,\n",
       " 2.0,\n",
       " 2.0,\n",
       " 4.0,\n",
       " 5.0,\n",
       " 2.0,\n",
       " 3.0,\n",
       " 4.0,\n",
       " 2.0,\n",
       " 2.0,\n",
       " 1.3333333333333333,\n",
       " 0.6666666666666666,\n",
       " 3.0,\n",
       " 5.0,\n",
       " 5.0,\n",
       " 6.0,\n",
       " 6.0,\n",
       " 2.0,\n",
       " 4.0,\n",
       " 5.0,\n",
       " 7.0,\n",
       " 3.0,\n",
       " 1.0,\n",
       " 4.0,\n",
       " 2.0,\n",
       " 2.0,\n",
       " 4.0,\n",
       " 1.0,\n",
       " 3.0,\n",
       " 2.0,\n",
       " 2.0,\n",
       " 2.0,\n",
       " 3.3333333333333335,\n",
       " 2.6666666666666665,\n",
       " 3.0,\n",
       " 1.0,\n",
       " 5.0,\n",
       " 2.0,\n",
       " 1.0,\n",
       " 1.0,\n",
       " 1.0,\n",
       " 2.0,\n",
       " 3.0,\n",
       " 2.0,\n",
       " 2.0,\n",
       " 1.0,\n",
       " 4.0,\n",
       " 4.0,\n",
       " 2.0,\n",
       " 6.0,\n",
       " 2.0,\n",
       " 2.0,\n",
       " 2.0,\n",
       " 5.0,\n",
       " 4.0,\n",
       " 3.0,\n",
       " 1.0,\n",
       " 4.0,\n",
       " 3.0,\n",
       " 2.0,\n",
       " 2.0,\n",
       " 4.0,\n",
       " 3.0,\n",
       " 1.0,\n",
       " 4.0,\n",
       " 1.0,\n",
       " 5.0,\n",
       " 6.0,\n",
       " 1.0,\n",
       " 4.0,\n",
       " 4.0,\n",
       " 1.0,\n",
       " 3.0,\n",
       " 3.0,\n",
       " 3.0,\n",
       " 2.0,\n",
       " 5.0,\n",
       " 4.0,\n",
       " 2.0,\n",
       " 7.0,\n",
       " 3.0,\n",
       " 3.0,\n",
       " 1.0,\n",
       " 3.0,\n",
       " 3.0,\n",
       " 2.0,\n",
       " 3.0,\n",
       " 2.0,\n",
       " 3.0,\n",
       " 1.0,\n",
       " 1.0,\n",
       " 2.0,\n",
       " 3.0,\n",
       " 3.0,\n",
       " 1.0,\n",
       " ...]"
      ]
     },
     "execution_count": 203,
     "metadata": {},
     "output_type": "execute_result"
    }
   ],
   "source": [
    "Zr"
   ]
  },
  {
   "cell_type": "code",
   "execution_count": 199,
   "metadata": {
    "scrolled": true
   },
   "outputs": [
    {
     "data": {
      "text/plain": [
       "(1011101, 1)"
      ]
     },
     "execution_count": 199,
     "metadata": {},
     "output_type": "execute_result"
    }
   ],
   "source": [
    "freq_counts[-1]"
   ]
  },
  {
   "cell_type": "code",
   "execution_count": 194,
   "metadata": {},
   "outputs": [
    {
     "data": {
      "text/plain": [
       "329634"
      ]
     },
     "execution_count": 194,
     "metadata": {},
     "output_type": "execute_result"
    }
   ],
   "source": [
    "308915*2-288196"
   ]
  },
  {
   "cell_type": "code",
   "execution_count": 200,
   "metadata": {},
   "outputs": [
    {
     "data": {
      "text/plain": [
       "[(1011101, 1), (1713287, -1)]"
      ]
     },
     "execution_count": 200,
     "metadata": {},
     "output_type": "execute_result"
    }
   ],
   "source": [
    "pad_freq_counts[-2:]"
   ]
  },
  {
   "cell_type": "code",
   "execution_count": 184,
   "metadata": {},
   "outputs": [
    {
     "data": {
      "text/plain": [
       "[(150958, 1), (228795, 1), (288196, 1), (308915, 1)]"
      ]
     },
     "execution_count": 184,
     "metadata": {},
     "output_type": "execute_result"
    }
   ],
   "source": [
    "freq_counts[-5:-1]"
   ]
  },
  {
   "cell_type": "code",
   "execution_count": 299,
   "metadata": {
    "scrolled": true
   },
   "outputs": [],
   "source": [
    "lm_2g_sgt = LanguageModelTwoGram(tokens=VALID_WIKI_TOKENS, freq_estimator_name=GoodTuringEstimator.__name__)\n",
    "lm_2g_sgt.fit()"
   ]
  },
  {
   "cell_type": "code",
   "execution_count": 300,
   "metadata": {},
   "outputs": [
    {
     "name": "stdout",
     "output_type": "stream",
     "text": [
      "小明毕业于清华大学 5.973362875979885e-13\n",
      "小明毕业于秦华大学 5.966930198231084e-15\n",
      "小明今天吃了一架飞机 1.1536593866980703e-19\n",
      "小明今天吃了一架喷气式飞机 8.63023568326057e-23\n",
      "回酋投荒窜死荒岛，雄狮追寇穷极遐方 6.107219560230259e-22\n",
      "这是怎么回事？ 1.4103144220922233e-10\n",
      "为什么我内心好像有一种可鄙可耻的感觉？ 1.0728254830912797e-34\n",
      "是不是因为我要去干流血的勾当？ 3.6949028797951556e-35\n",
      "怎么肥四？ 1.0585679772446538e-08\n",
      "希望各大出版社编辑、设计都能以在书的封面、扉页剧透为耻，切切！ 5.945928398190028e-45\n",
      "小明今天抽奖抽到一台苹果手机 is more possible\n",
      "---- 小明今天抽奖抽到一台波音飞机 with probility 1.25989233377729e-25\n",
      "---- 小明今天抽奖抽到一台苹果手机 with probility 9.670488371033475e-24\n",
      "养乐多绿来一杯 is more possible\n",
      "---- 洋葱奶昔来一杯 with probility 3.693161180765263e-14\n",
      "---- 养乐多绿来一杯 with probility 7.505022130579898e-09\n",
      "小明今天吃了一架飞机 is more possible\n",
      "---- 小明今天吃了一架飞机 with probility 1.1536593866980703e-19\n",
      "---- 小明今天吃了一个苹果 with probility 8.315674330231443e-21\n",
      "卡尔卡西传统老茧与塔雷加现代水泡的完美结合 is more possible\n",
      "---- 卡尔卡西传统理念与塔雷加现代指法的完美结合 with probility 5.384165867663883e-43\n",
      "---- 卡尔卡西传统老茧与塔雷加现代水泡的完美结合 with probility 2.3368123421202087e-40\n",
      "今天，让我们来做一份美味的Tiramisu is more possible\n",
      "---- 今天，让我们来做一份美味的洁厕灵 with probility 1.5138052140596915e-37\n",
      "---- 今天，让我们来做一份美味的Tiramisu with probility 1.0262643897223507e-35\n",
      "首先，用滚水冲开HCL is more possible\n",
      "---- 首先，用滚水冲开HCL with probility 5.755340119557623e-15\n",
      "---- 首先，用滚水冲开Expresso粉 with probility 9.783385785856265e-16\n",
      "这是一个复杂的优化问题 is more possible\n",
      "---- 这是一个复杂的优化问题 with probility 8.295854261834917e-17\n",
      "---- 这是一个不能说不复杂的优化问题 with probility 3.24673350844314e-27\n"
     ]
    }
   ],
   "source": [
    "for sen in samples:\n",
    "    print(sen, lm_2g_sgt.sentence_prob(sen))\n",
    "sentence_compare(need_compared, lm_2g_sgt.sentence_prob)"
   ]
  }
 ],
 "metadata": {
  "kernelspec": {
   "display_name": "Python 3",
   "language": "python",
   "name": "python3"
  },
  "language_info": {
   "codemirror_mode": {
    "name": "ipython",
    "version": 3
   },
   "file_extension": ".py",
   "mimetype": "text/x-python",
   "name": "python",
   "nbconvert_exporter": "python",
   "pygments_lexer": "ipython3",
   "version": "3.7.1"
  }
 },
 "nbformat": 4,
 "nbformat_minor": 2
}
