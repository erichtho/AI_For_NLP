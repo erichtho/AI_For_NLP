{
 "cells": [
  {
   "cell_type": "code",
   "execution_count": 1,
   "metadata": {},
   "outputs": [
    {
     "name": "stdout",
     "output_type": "stream",
     "text": [
      "/Users/charlene/Library/Mobile Documents/com~apple~CloudDocs/NLPCourse/Lecture/jupyters_and_slides/2019-spring/assignments\r\n"
     ]
    }
   ],
   "source": [
    "!pwd"
   ]
  },
  {
   "cell_type": "markdown",
   "metadata": {},
   "source": [
    "## Assignments for Week-03"
   ]
  },
  {
   "cell_type": "markdown",
   "metadata": {},
   "source": [
    "### 1. Re-code the titanic machine learning\n",
    "\n",
    "###### 1. Random Choose Method to get optimal *k* and *b*\n",
    "###### 2.Supervised Direction to get optimal *k* and *b*\n",
    "###### 3.Gradient Descent to get optimal *k* and *b*"
   ]
  },
  {
   "cell_type": "markdown",
   "metadata": {},
   "source": [
    "## 2. Answer following questions:\n",
    "\n",
    "\n",
    "###### 1. Why we need machine learning methods instead of creating a complicated formula?\n"
   ]
  },
  {
   "cell_type": "markdown",
   "metadata": {},
   "source": [
    "Ans:"
   ]
  },
  {
   "cell_type": "markdown",
   "metadata": {},
   "source": [
    "###### 2.  Wha't's the disadvantages of `the 1st Random Choosen` methods in our course? "
   ]
  },
  {
   "cell_type": "markdown",
   "metadata": {},
   "source": [
    "Ans:"
   ]
  },
  {
   "cell_type": "markdown",
   "metadata": {},
   "source": [
    "###### 3. Is the `2nd method supervised direction` better than 1st one?  What's the disadvantages of `the 2nd supversied directin` method? "
   ]
  },
  {
   "cell_type": "markdown",
   "metadata": {},
   "source": [
    "Ans:"
   ]
  },
  {
   "cell_type": "markdown",
   "metadata": {},
   "source": [
    "###### 4. Why do we use `Derivative / Gredient` to fit a target function? "
   ]
  },
  {
   "cell_type": "markdown",
   "metadata": {},
   "source": [
    "Ans:"
   ]
  },
  {
   "cell_type": "markdown",
   "metadata": {},
   "source": [
    "###### 5. In the words 'Gredient Descent', what's the `Gredient` and what's the `Descent`?"
   ]
  },
  {
   "cell_type": "markdown",
   "metadata": {},
   "source": [
    "Ans:"
   ]
  },
  {
   "cell_type": "markdown",
   "metadata": {},
   "source": [
    "###### 6. What's the advantages of `the 3rd gradient descent method` compared to the previous methods?"
   ]
  },
  {
   "cell_type": "markdown",
   "metadata": {},
   "source": [
    "Ans:"
   ]
  },
  {
   "cell_type": "markdown",
   "metadata": {},
   "source": [
    "###### 7. Using the simple words to describe: What's the machine leanring."
   ]
  },
  {
   "cell_type": "markdown",
   "metadata": {},
   "source": [
    "Ans:"
   ]
  },
  {
   "cell_type": "markdown",
   "metadata": {},
   "source": [
    "## 3. Finish the search problem"
   ]
  },
  {
   "cell_type": "markdown",
   "metadata": {},
   "source": [
    "Please using the search policy to implement an agent. This agent receives two input, one is @param start station and the other is @param destination. Your agent should give the optimal route based on Beijing Subway system. "
   ]
  },
  {
   "cell_type": "markdown",
   "metadata": {},
   "source": [
    "> Deadline: 2019-April-20\n",
    "\n",
    ">Submit: Submit the source code and result to github. \n",
    "\n"
   ]
  },
  {
   "cell_type": "markdown",
   "metadata": {},
   "source": [
    "#### Dataflow: "
   ]
  },
  {
   "cell_type": "markdown",
   "metadata": {},
   "source": [
    "##### 1.\tGet data from web page.\n",
    "\n",
    "> a.\tGet web page source from: https://baike.baidu.com/item/%E5%8C%97%E4%BA%AC%E5%9C%B0%E9%93%81/408485\n",
    "\n",
    "> b.\tYou may need @package requests page to get the response via url\n",
    "\n",
    "> c.\tYou may need save the page source to file system.\n",
    "\n",
    "> d.\tThe target of this step is get station information of all the subway lines;\n",
    "\n",
    "> e.\tYou may need install @package beautiful soup  to get the url information, or just use > Regular Expression to get the url.  Our recommendation is that using the Regular Expression and BeautiflSoup both. \n",
    "\n",
    "> f.\tYou may need BFS to get all the related page url from one url. \n",
    "Question: Why do we use BFS to traverse web page (or someone said, build a web spider)?  Can DFS do this job? which is better? "
   ]
  },
  {
   "cell_type": "code",
   "execution_count": 26,
   "metadata": {},
   "outputs": [],
   "source": [
    "headers_strs = \"\"\"\n",
    "Connection: keep-alive\n",
    "Cache-Control: no-cache\n",
    "Accept: application/json, text/javascript, */*; q=0.01\n",
    "X-Requested-With: XMLHttpRequest\n",
    "User-Agent: Mozilla/5.0 (Macintosh; Intel Mac OS X 10_13_6) AppleWebKit/537.36 (KHTML, like Gecko) Chrome/73.0.3683.103 Safari/537.36\n",
    "Accept-Encoding: gzip, deflate, br\n",
    "Accept-Language: zh-CN,zh;q=0.9\n",
    "Cookie: BAIDUID=343548C5C045A1498BAA1D382DC6D1CC:FG=1; BIDUPSID=343548C5C045A1498BAA1D382DC6D1CC; PSTM=1501732771; MCITY=-75%3A; pgv_pvi=9675362304; BDUSS=JDS3V-U0h2bUE4ckFFZjhreDhlUXN-fmlBRERuVWd-RFA0QWtyYTdYVUFMTjFjRVFBQUFBJCQAAAAAAAAAAAEAAAAlaCBMb2xkaXJvbnNpZGUAAAAAAAAAAAAAAAAAAAAAAAAAAAAAAAAAAAAAAAAAAAAAAAAAAAAAAAAAAAAAAAAAAAAAAACftVwAn7VcS3; pgv_si=s5658319872; H_PS_PSSID=28884_1440_28777_21086_28722_28558_28831_28585_26350_20718; Hm_lvt_55b574651fcae74b0a9f1cf9c8d7c93a=1555495877,1555498044,1555498060,1555546970; Hm_lpvt_55b574651fcae74b0a9f1cf9c8d7c93a=1555546970\n",
    "\"\"\".split('\\n')\n",
    "headers = dict([(pair[:pair.find(':')], pair[pair.find(':')+1:].strip()) for pair in headers_strs if pair.strip()])"
   ]
  },
  {
   "cell_type": "code",
   "execution_count": 27,
   "metadata": {},
   "outputs": [
    {
     "data": {
      "text/plain": [
       "'Mozilla/5.0 (Macintosh; Intel Mac OS X 10_13_6) AppleWebKit/537.36 (KHTML, like Gecko) Chrome/73.0.3683.103 Safari/537.36'"
      ]
     },
     "execution_count": 27,
     "metadata": {},
     "output_type": "execute_result"
    }
   ],
   "source": [
    "headers['User-Agent']"
   ]
  },
  {
   "cell_type": "code",
   "execution_count": 36,
   "metadata": {},
   "outputs": [],
   "source": [
    "import requests\n",
    "from bs4 import BeautifulSoup \n",
    "start_url = \"https://baike.baidu.com/item/北京地铁/408485\"\n",
    "start_content = requests.get(start_url, allow_redirects=False, headers=headers)\n",
    "start_content.encoding = 'utf-8'\n",
    "start_soup = BeautifulSoup(start_content.text)"
   ]
  },
  {
   "cell_type": "code",
   "execution_count": 51,
   "metadata": {},
   "outputs": [],
   "source": [
    "start_table = start_soup.find('caption',text='北京地铁开通简表').parent\n"
   ]
  },
  {
   "cell_type": "code",
   "execution_count": 73,
   "metadata": {},
   "outputs": [],
   "source": [
    "all_subway_url = dict([(a.string, 'https://baike.baidu.com'+a.attrs['href']) for a in start_table.select('a')])"
   ]
  },
  {
   "cell_type": "code",
   "execution_count": 137,
   "metadata": {},
   "outputs": [],
   "source": [
    "import re\n",
    "class SubwayLine():\n",
    "    def __init__(self, soup):\n",
    "        self.soup = soup\n",
    "        self.stations, self.station_distaneces, self.bidirections = SubwayLine.parse_station_distance(soup)\n",
    "    \n",
    "    @staticmethod\n",
    "    def parse_station_distance(soup):\n",
    "        table = None\n",
    "        for caption in soup.find_all('caption'):\n",
    "            print(caption, caption.string)\n",
    "            if caption.string is not None and re.match('\\w+相邻站间距信息统计表', caption.string):\n",
    "                table = caption.parent\n",
    "                break\n",
    "        if table is None:\n",
    "            print(\"Error in parse station distance, cannot find table 相邻站间距信息统计表\")\n",
    "            return None,None,None\n",
    "        \n",
    "        stations = []\n",
    "        distances = {}\n",
    "        bidirections = {}\n",
    "        s = None\n",
    "        print('table:{}\\n'.format(table))\n",
    "        for tr in table.select('tr'):\n",
    "            t = tr.contents\n",
    "            print('t:{}\\n'.format(t))\n",
    "            if len(t)!=3:\n",
    "                print('Warning: tr has unexpected numbers of children:{}'.format(tr))\n",
    "                continue\n",
    "            if not re.match('[\\d|.]+[千米|米]', t[1].string):\n",
    "                continue\n",
    "            s = next(t[0].strings)\n",
    "            print(\"s in loop:{}\".format(s))\n",
    "            stations.append(s.split('——')[0])\n",
    "            distances[s] = float(t[1].string[:-2])*1000 if '千米' in t[1].string else float(t[1].string[:-1])\n",
    "            bidirections[s] = t[1].string\n",
    "               \n",
    "#         s = next(tr.contents[0].strings)\n",
    "        if s is None:\n",
    "            print(\"out of loop is None\")\n",
    "        print(s.split('——'))\n",
    "        stations.append(s.split('——')[1])\n",
    "        return stations, distances, bidirections\n",
    "                "
   ]
  },
  {
   "cell_type": "code",
   "execution_count": 138,
   "metadata": {},
   "outputs": [
    {
     "name": "stdout",
     "output_type": "stream",
     "text": [
      "<caption>北京地铁4号线、大兴线线路数据表</caption> 北京地铁4号线、大兴线线路数据表\n",
      "<caption>北京地铁4号线、大兴线车站列表</caption> 北京地铁4号线、大兴线车站列表\n",
      "<caption>4号线相邻站间距信息统计表</caption> 4号线相邻站间距信息统计表\n",
      "table:<table class=\"four\" log-set-param=\"table_view\" width=\"658\"><caption>4号线相邻站间距信息统计表</caption><tr><th>起始/终到车站</th><th>区间距离（米）</th><th>方向</th></tr><tr><th>安河桥北——北宫门</th><td align=\"center\" valign=\"middle\" width=\"198\">1363</td><td align=\"center\" valign=\"middle\" width=\"198\">上行/下行</td></tr><tr><th>北宫门——西苑</th><td align=\"center\" valign=\"middle\" width=\"198\">1251</td><td align=\"center\" valign=\"middle\" width=\"198\">上行/下行</td></tr><tr><th>西苑——圆明园</th><td align=\"center\" valign=\"middle\" width=\"198\">1672</td><td align=\"center\" valign=\"middle\" width=\"198\">上行/下行</td></tr><tr><th>圆明园——北京大学东门</th><td align=\"center\" valign=\"middle\" width=\"198\">1295</td><td align=\"center\" valign=\"middle\" width=\"198\">上行/下行</td></tr><tr><th>北京大学东门——中关村</th><td align=\"center\" valign=\"middle\" width=\"198\">887</td><td align=\"center\" valign=\"middle\" width=\"198\">上行/下行</td></tr><tr><th>中关村——海淀黄庄</th><td align=\"center\" valign=\"middle\" width=\"198\">900</td><td align=\"center\" valign=\"middle\" width=\"198\">上行/下行</td></tr><tr><th>海淀黄庄——人民大学</th><td align=\"center\" valign=\"middle\" width=\"198\">1063</td><td align=\"center\" valign=\"middle\" width=\"198\">上行/下行</td></tr><tr><th>人民大学——魏公村</th><td align=\"center\" valign=\"middle\" width=\"198\">1051</td><td align=\"center\" valign=\"middle\" width=\"198\">上行/下行</td></tr><tr><th>魏公村——国家图书馆</th><td align=\"center\" valign=\"middle\" width=\"198\">1658</td><td align=\"center\" valign=\"middle\" width=\"198\">上行/下行</td></tr><tr><th>国家图书馆——动物园</th><td align=\"center\" valign=\"middle\" width=\"198\">1517</td><td align=\"center\" valign=\"middle\" width=\"198\">上行/下行</td></tr><tr><th>动物园——西直门</th><td align=\"center\" valign=\"middle\" width=\"198\">1441</td><td align=\"center\" valign=\"middle\" width=\"198\">上行/下行</td></tr><tr><th>西直门——新街口</th><td align=\"center\" valign=\"middle\" width=\"198\">1025</td><td align=\"center\" valign=\"middle\" width=\"198\">上行/下行</td></tr><tr><th>新街口——平安里</th><td align=\"center\" valign=\"middle\" width=\"198\">1100</td><td align=\"center\" valign=\"middle\" width=\"198\">上行/下行</td></tr><tr><th>平安里——西四</th><td align=\"center\" valign=\"middle\" width=\"198\">1100</td><td align=\"center\" valign=\"middle\" width=\"198\">上行/下行</td></tr><tr><th>西四——灵境胡同</th><td align=\"center\" valign=\"middle\" width=\"198\">869</td><td align=\"center\" valign=\"middle\" width=\"198\">上行/下行</td></tr><tr><th>灵境胡同——西单</th><td align=\"center\" valign=\"middle\" width=\"198\">1011</td><td align=\"center\" valign=\"middle\" width=\"198\">上行/下行</td></tr><tr><th>西单——宣武门</th><td align=\"center\" valign=\"middle\" width=\"198\">815</td><td align=\"center\" valign=\"middle\" width=\"198\">上行/下行</td></tr><tr><th>宣武门——菜市口</th><td align=\"center\" valign=\"middle\" width=\"198\">1152</td><td align=\"center\" valign=\"middle\" width=\"198\">上行/下行</td></tr><tr><th>菜市口——陶然亭</th><td align=\"center\" valign=\"middle\" width=\"198\">1200</td><td align=\"center\" valign=\"middle\" width=\"198\">上行/下行</td></tr><tr><th>陶然亭——北京南站</th><td align=\"center\" valign=\"middle\" width=\"198\">1643</td><td align=\"center\" valign=\"middle\" width=\"198\">上行/下行</td></tr><tr><th>北京南站——马家堡</th><td align=\"center\" valign=\"middle\" width=\"198\">1480</td><td align=\"center\" valign=\"middle\" width=\"198\">上行/下行</td></tr><tr><th>马家堡——角门西</th><td align=\"center\" valign=\"middle\" width=\"198\">827</td><td align=\"center\" valign=\"middle\" width=\"198\">上行/下行</td></tr><tr><th>角门西——公益西桥</th><td align=\"center\" valign=\"middle\" width=\"198\">989</td><td align=\"center\" valign=\"middle\" width=\"198\">上行/下行</td></tr></table>\n",
      "\n",
      "t:[<th>起始/终到车站</th>, <th>区间距离（米）</th>, <th>方向</th>]\n",
      "\n",
      "t:[<th>安河桥北——北宫门</th>, <td align=\"center\" valign=\"middle\" width=\"198\">1363</td>, <td align=\"center\" valign=\"middle\" width=\"198\">上行/下行</td>]\n",
      "\n",
      "t:[<th>北宫门——西苑</th>, <td align=\"center\" valign=\"middle\" width=\"198\">1251</td>, <td align=\"center\" valign=\"middle\" width=\"198\">上行/下行</td>]\n",
      "\n",
      "t:[<th>西苑——圆明园</th>, <td align=\"center\" valign=\"middle\" width=\"198\">1672</td>, <td align=\"center\" valign=\"middle\" width=\"198\">上行/下行</td>]\n",
      "\n",
      "t:[<th>圆明园——北京大学东门</th>, <td align=\"center\" valign=\"middle\" width=\"198\">1295</td>, <td align=\"center\" valign=\"middle\" width=\"198\">上行/下行</td>]\n",
      "\n",
      "t:[<th>北京大学东门——中关村</th>, <td align=\"center\" valign=\"middle\" width=\"198\">887</td>, <td align=\"center\" valign=\"middle\" width=\"198\">上行/下行</td>]\n",
      "\n",
      "t:[<th>中关村——海淀黄庄</th>, <td align=\"center\" valign=\"middle\" width=\"198\">900</td>, <td align=\"center\" valign=\"middle\" width=\"198\">上行/下行</td>]\n",
      "\n",
      "t:[<th>海淀黄庄——人民大学</th>, <td align=\"center\" valign=\"middle\" width=\"198\">1063</td>, <td align=\"center\" valign=\"middle\" width=\"198\">上行/下行</td>]\n",
      "\n",
      "t:[<th>人民大学——魏公村</th>, <td align=\"center\" valign=\"middle\" width=\"198\">1051</td>, <td align=\"center\" valign=\"middle\" width=\"198\">上行/下行</td>]\n",
      "\n",
      "t:[<th>魏公村——国家图书馆</th>, <td align=\"center\" valign=\"middle\" width=\"198\">1658</td>, <td align=\"center\" valign=\"middle\" width=\"198\">上行/下行</td>]\n",
      "\n",
      "t:[<th>国家图书馆——动物园</th>, <td align=\"center\" valign=\"middle\" width=\"198\">1517</td>, <td align=\"center\" valign=\"middle\" width=\"198\">上行/下行</td>]\n",
      "\n",
      "t:[<th>动物园——西直门</th>, <td align=\"center\" valign=\"middle\" width=\"198\">1441</td>, <td align=\"center\" valign=\"middle\" width=\"198\">上行/下行</td>]\n",
      "\n",
      "t:[<th>西直门——新街口</th>, <td align=\"center\" valign=\"middle\" width=\"198\">1025</td>, <td align=\"center\" valign=\"middle\" width=\"198\">上行/下行</td>]\n",
      "\n",
      "t:[<th>新街口——平安里</th>, <td align=\"center\" valign=\"middle\" width=\"198\">1100</td>, <td align=\"center\" valign=\"middle\" width=\"198\">上行/下行</td>]\n",
      "\n",
      "t:[<th>平安里——西四</th>, <td align=\"center\" valign=\"middle\" width=\"198\">1100</td>, <td align=\"center\" valign=\"middle\" width=\"198\">上行/下行</td>]\n",
      "\n",
      "t:[<th>西四——灵境胡同</th>, <td align=\"center\" valign=\"middle\" width=\"198\">869</td>, <td align=\"center\" valign=\"middle\" width=\"198\">上行/下行</td>]\n",
      "\n",
      "t:[<th>灵境胡同——西单</th>, <td align=\"center\" valign=\"middle\" width=\"198\">1011</td>, <td align=\"center\" valign=\"middle\" width=\"198\">上行/下行</td>]\n",
      "\n",
      "t:[<th>西单——宣武门</th>, <td align=\"center\" valign=\"middle\" width=\"198\">815</td>, <td align=\"center\" valign=\"middle\" width=\"198\">上行/下行</td>]\n",
      "\n",
      "t:[<th>宣武门——菜市口</th>, <td align=\"center\" valign=\"middle\" width=\"198\">1152</td>, <td align=\"center\" valign=\"middle\" width=\"198\">上行/下行</td>]\n",
      "\n",
      "t:[<th>菜市口——陶然亭</th>, <td align=\"center\" valign=\"middle\" width=\"198\">1200</td>, <td align=\"center\" valign=\"middle\" width=\"198\">上行/下行</td>]\n",
      "\n",
      "t:[<th>陶然亭——北京南站</th>, <td align=\"center\" valign=\"middle\" width=\"198\">1643</td>, <td align=\"center\" valign=\"middle\" width=\"198\">上行/下行</td>]\n",
      "\n",
      "t:[<th>北京南站——马家堡</th>, <td align=\"center\" valign=\"middle\" width=\"198\">1480</td>, <td align=\"center\" valign=\"middle\" width=\"198\">上行/下行</td>]\n",
      "\n",
      "t:[<th>马家堡——角门西</th>, <td align=\"center\" valign=\"middle\" width=\"198\">827</td>, <td align=\"center\" valign=\"middle\" width=\"198\">上行/下行</td>]\n",
      "\n",
      "t:[<th>角门西——公益西桥</th>, <td align=\"center\" valign=\"middle\" width=\"198\">989</td>, <td align=\"center\" valign=\"middle\" width=\"198\">上行/下行</td>]\n",
      "\n",
      "out of loop is None\n"
     ]
    },
    {
     "ename": "AttributeError",
     "evalue": "'NoneType' object has no attribute 'split'",
     "output_type": "error",
     "traceback": [
      "\u001b[0;31m---------------------------------------------------------------------------\u001b[0m",
      "\u001b[0;31mAttributeError\u001b[0m                            Traceback (most recent call last)",
      "\u001b[0;32m<ipython-input-138-210a99ed250a>\u001b[0m in \u001b[0;36m<module>\u001b[0;34m\u001b[0m\n\u001b[1;32m      2\u001b[0m \u001b[0mcurrent_response\u001b[0m \u001b[0;34m=\u001b[0m \u001b[0mrequests\u001b[0m\u001b[0;34m.\u001b[0m\u001b[0mget\u001b[0m\u001b[0;34m(\u001b[0m\u001b[0mall_subway_url\u001b[0m\u001b[0;34m[\u001b[0m\u001b[0;34m'北京地铁4号线'\u001b[0m\u001b[0;34m]\u001b[0m\u001b[0;34m,\u001b[0m \u001b[0mheaders\u001b[0m\u001b[0;34m=\u001b[0m\u001b[0mheaders\u001b[0m\u001b[0;34m)\u001b[0m\u001b[0;34m\u001b[0m\u001b[0;34m\u001b[0m\u001b[0m\n\u001b[1;32m      3\u001b[0m \u001b[0mcurrent_response\u001b[0m\u001b[0;34m.\u001b[0m\u001b[0mencoding\u001b[0m \u001b[0;34m=\u001b[0m \u001b[0;34m'utf-8'\u001b[0m\u001b[0;34m\u001b[0m\u001b[0;34m\u001b[0m\u001b[0m\n\u001b[0;32m----> 4\u001b[0;31m \u001b[0msubways\u001b[0m\u001b[0;34m[\u001b[0m\u001b[0;34m'北京地铁4号线'\u001b[0m\u001b[0;34m]\u001b[0m \u001b[0;34m=\u001b[0m \u001b[0mSubwayLine\u001b[0m\u001b[0;34m(\u001b[0m\u001b[0mBeautifulSoup\u001b[0m\u001b[0;34m(\u001b[0m\u001b[0mcurrent_response\u001b[0m\u001b[0;34m.\u001b[0m\u001b[0mtext\u001b[0m\u001b[0;34m)\u001b[0m\u001b[0;34m)\u001b[0m\u001b[0;34m\u001b[0m\u001b[0;34m\u001b[0m\u001b[0m\n\u001b[0m",
      "\u001b[0;32m<ipython-input-137-8ce68237f476>\u001b[0m in \u001b[0;36m__init__\u001b[0;34m(self, soup)\u001b[0m\n\u001b[1;32m      3\u001b[0m     \u001b[0;32mdef\u001b[0m \u001b[0m__init__\u001b[0m\u001b[0;34m(\u001b[0m\u001b[0mself\u001b[0m\u001b[0;34m,\u001b[0m \u001b[0msoup\u001b[0m\u001b[0;34m)\u001b[0m\u001b[0;34m:\u001b[0m\u001b[0;34m\u001b[0m\u001b[0;34m\u001b[0m\u001b[0m\n\u001b[1;32m      4\u001b[0m         \u001b[0mself\u001b[0m\u001b[0;34m.\u001b[0m\u001b[0msoup\u001b[0m \u001b[0;34m=\u001b[0m \u001b[0msoup\u001b[0m\u001b[0;34m\u001b[0m\u001b[0;34m\u001b[0m\u001b[0m\n\u001b[0;32m----> 5\u001b[0;31m         \u001b[0mself\u001b[0m\u001b[0;34m.\u001b[0m\u001b[0mstations\u001b[0m\u001b[0;34m,\u001b[0m \u001b[0mself\u001b[0m\u001b[0;34m.\u001b[0m\u001b[0mstation_distaneces\u001b[0m\u001b[0;34m,\u001b[0m \u001b[0mself\u001b[0m\u001b[0;34m.\u001b[0m\u001b[0mbidirections\u001b[0m \u001b[0;34m=\u001b[0m \u001b[0mSubwayLine\u001b[0m\u001b[0;34m.\u001b[0m\u001b[0mparse_station_distance\u001b[0m\u001b[0;34m(\u001b[0m\u001b[0msoup\u001b[0m\u001b[0;34m)\u001b[0m\u001b[0;34m\u001b[0m\u001b[0;34m\u001b[0m\u001b[0m\n\u001b[0m\u001b[1;32m      6\u001b[0m \u001b[0;34m\u001b[0m\u001b[0m\n\u001b[1;32m      7\u001b[0m     \u001b[0;34m@\u001b[0m\u001b[0mstaticmethod\u001b[0m\u001b[0;34m\u001b[0m\u001b[0;34m\u001b[0m\u001b[0m\n",
      "\u001b[0;32m<ipython-input-137-8ce68237f476>\u001b[0m in \u001b[0;36mparse_station_distance\u001b[0;34m(soup)\u001b[0m\n\u001b[1;32m     39\u001b[0m         \u001b[0;32mif\u001b[0m \u001b[0ms\u001b[0m \u001b[0;32mis\u001b[0m \u001b[0;32mNone\u001b[0m\u001b[0;34m:\u001b[0m\u001b[0;34m\u001b[0m\u001b[0;34m\u001b[0m\u001b[0m\n\u001b[1;32m     40\u001b[0m             \u001b[0mprint\u001b[0m\u001b[0;34m(\u001b[0m\u001b[0;34m\"out of loop is None\"\u001b[0m\u001b[0;34m)\u001b[0m\u001b[0;34m\u001b[0m\u001b[0;34m\u001b[0m\u001b[0m\n\u001b[0;32m---> 41\u001b[0;31m         \u001b[0mprint\u001b[0m\u001b[0;34m(\u001b[0m\u001b[0ms\u001b[0m\u001b[0;34m.\u001b[0m\u001b[0msplit\u001b[0m\u001b[0;34m(\u001b[0m\u001b[0;34m'——'\u001b[0m\u001b[0;34m)\u001b[0m\u001b[0;34m)\u001b[0m\u001b[0;34m\u001b[0m\u001b[0;34m\u001b[0m\u001b[0m\n\u001b[0m\u001b[1;32m     42\u001b[0m         \u001b[0mstations\u001b[0m\u001b[0;34m.\u001b[0m\u001b[0mappend\u001b[0m\u001b[0;34m(\u001b[0m\u001b[0ms\u001b[0m\u001b[0;34m.\u001b[0m\u001b[0msplit\u001b[0m\u001b[0;34m(\u001b[0m\u001b[0;34m'——'\u001b[0m\u001b[0;34m)\u001b[0m\u001b[0;34m[\u001b[0m\u001b[0;36m1\u001b[0m\u001b[0;34m]\u001b[0m\u001b[0;34m)\u001b[0m\u001b[0;34m\u001b[0m\u001b[0;34m\u001b[0m\u001b[0m\n\u001b[1;32m     43\u001b[0m         \u001b[0;32mreturn\u001b[0m \u001b[0mstations\u001b[0m\u001b[0;34m,\u001b[0m \u001b[0mdistances\u001b[0m\u001b[0;34m,\u001b[0m \u001b[0mbidirections\u001b[0m\u001b[0;34m\u001b[0m\u001b[0;34m\u001b[0m\u001b[0m\n",
      "\u001b[0;31mAttributeError\u001b[0m: 'NoneType' object has no attribute 'split'"
     ]
    }
   ],
   "source": [
    "\n",
    "current_response = requests.get(all_subway_url['北京地铁4号线'], headers=headers)\n",
    "current_response.encoding = 'utf-8'\n",
    "subways['北京地铁4号线'] = SubwayLine(BeautifulSoup(current_response.text))"
   ]
  },
  {
   "cell_type": "code",
   "execution_count": 133,
   "metadata": {
    "scrolled": false
   },
   "outputs": [
    {
     "name": "stdout",
     "output_type": "stream",
     "text": [
      "<caption>北京地铁1号线线路数据</caption> 北京地铁1号线线路数据\n",
      "<caption>北京地铁1号线车站列表</caption> 北京地铁1号线车站列表\n",
      "<caption>1号线相邻站间距信息统计表</caption> 1号线相邻站间距信息统计表\n",
      "s in loop:苹果园——古城\n",
      "s in loop:古城——八角游乐园\n",
      "s in loop:八角游乐园——八宝山\n",
      "s in loop:八宝山——玉泉路\n",
      "s in loop:玉泉路——五棵松\n",
      "s in loop:五棵松——万寿路\n",
      "s in loop:万寿路——公主坟\n",
      "s in loop:公主坟——军事博物馆\n",
      "s in loop:军事博物馆——木樨地\n",
      "s in loop:木樨地——南礼士路\n",
      "s in loop:南礼士路——复兴门\n",
      "s in loop:复兴门——西单\n",
      "s in loop:西单——天安门西\n",
      "s in loop:天安门西——天安门东\n",
      "s in loop:天安门东——王府井\n",
      "s in loop:王府井——东单\n",
      "s in loop:东单——建国门\n",
      "s in loop:建国门——永安里\n",
      "s in loop:永安里——国贸\n",
      "s in loop:国贸——大望路\n",
      "s in loop:大望路——四惠\n",
      "s in loop:四惠——四惠东\n",
      "['四惠', '四惠东']\n",
      "<caption>北京地铁1号线线路数据</caption> 北京地铁1号线线路数据\n",
      "<caption>北京地铁1号线车站列表</caption> 北京地铁1号线车站列表\n",
      "<caption>1号线相邻站间距信息统计表</caption> 1号线相邻站间距信息统计表\n",
      "s in loop:苹果园——古城\n",
      "s in loop:古城——八角游乐园\n",
      "s in loop:八角游乐园——八宝山\n",
      "s in loop:八宝山——玉泉路\n",
      "s in loop:玉泉路——五棵松\n",
      "s in loop:五棵松——万寿路\n",
      "s in loop:万寿路——公主坟\n",
      "s in loop:公主坟——军事博物馆\n",
      "s in loop:军事博物馆——木樨地\n",
      "s in loop:木樨地——南礼士路\n",
      "s in loop:南礼士路——复兴门\n",
      "s in loop:复兴门——西单\n",
      "s in loop:西单——天安门西\n",
      "s in loop:天安门西——天安门东\n",
      "s in loop:天安门东——王府井\n",
      "s in loop:王府井——东单\n",
      "s in loop:东单——建国门\n",
      "s in loop:建国门——永安里\n",
      "s in loop:永安里——国贸\n",
      "s in loop:国贸——大望路\n",
      "s in loop:大望路——四惠\n",
      "s in loop:四惠——四惠东\n",
      "['四惠', '四惠东']\n",
      "<caption>北京地铁13号线线路数据</caption> 北京地铁13号线线路数据\n",
      "<caption>北京地铁13号线（A/B)车站列表</caption> 北京地铁13号线（A/B)车站列表\n",
      "<caption>13号线相邻站间距信息统计表</caption> 13号线相邻站间距信息统计表\n",
      "s in loop:西直门——大钟寺\n",
      "s in loop:大钟寺——知春路\n",
      "s in loop:知春路——五道口\n",
      "s in loop:五道口——上地\n",
      "s in loop:上地——西二旗\n",
      "s in loop:西二旗——龙泽\n",
      "s in loop:龙泽——回龙观\n",
      "s in loop:回龙观——霍营\n",
      "s in loop:霍营——立水桥\n",
      "s in loop:立水桥——北苑\n",
      "s in loop:北苑——望京西\n",
      "s in loop:望京西——芍药居\n",
      "s in loop:芍药居——光熙门\n",
      "s in loop:光熙门——柳芳\n",
      "s in loop:柳芳——东直门\n",
      "['柳芳', '东直门']\n",
      "<caption>北京地铁八通线车站列表</caption> 北京地铁八通线车站列表\n",
      "<caption>八通线相邻站间距信息统计表</caption> 八通线相邻站间距信息统计表\n",
      "s in loop:四惠——四惠东\n",
      "s in loop:四惠东——高碑店\n",
      "s in loop:高碑店——传媒大学\n",
      "s in loop:传媒大学——双桥\n",
      "s in loop:双桥——管庄\n",
      "s in loop:管庄——八里桥\n",
      "s in loop:八里桥——通州北苑\n",
      "s in loop:通州北苑——果园\n",
      "s in loop:果园——九棵树\n",
      "s in loop:九棵树——梨园\n",
      "s in loop:梨园——临河里\n",
      "s in loop:临河里——土桥\n",
      "['临河里', '土桥']\n",
      "<caption>北京地铁5号线线路数据</caption> 北京地铁5号线线路数据\n",
      "<caption>北京地铁5号线车站列表</caption> 北京地铁5号线车站列表\n",
      "<caption>5号线相邻站间距信息统计表</caption> 5号线相邻站间距信息统计表\n",
      "s in loop:天通苑北——天通苑\n",
      "s in loop:天通苑——天通苑南\n",
      "s in loop:天通苑南——立水桥\n",
      "s in loop:立水桥——立水桥南\n",
      "s in loop:立水桥南——北苑路北\n",
      "s in loop:北苑路北——大屯路东\n",
      "s in loop:大屯路东——惠新西街北口\n",
      "s in loop:惠新西街北口——惠新西街南口\n",
      "s in loop:惠新西街南口——和平西桥\n",
      "s in loop:和平西桥——和平里北街\n",
      "s in loop:和平里北街——雍和宫\n",
      "s in loop:雍和宫——北新桥\n",
      "s in loop:北新桥——张自忠路\n",
      "s in loop:张自忠路——东四\n",
      "s in loop:东四——灯市口\n",
      "s in loop:灯市口——东单\n",
      "s in loop:东单——崇文门\n",
      "s in loop:崇文门——磁器口\n",
      "s in loop:磁器口——天坛东门\n",
      "s in loop:天坛东门——蒲黄榆\n",
      "s in loop:蒲黄榆——刘家窑\n",
      "s in loop:刘家窑——宋家庄\n",
      "['刘家窑', '宋家庄']\n",
      "<caption>8号线三期南延计划</caption> 8号线三期南延计划\n",
      "<caption>北京地铁8号线车站列表</caption> 北京地铁8号线车站列表\n",
      "<caption>北京地铁8号线（北段）车站信息</caption> 北京地铁8号线（北段）车站信息\n",
      "<caption>北京地铁8号线（南段）车站信息</caption> 北京地铁8号线（南段）车站信息\n",
      "<caption>北京地铁8号线相邻站间距信息统计表</caption> 北京地铁8号线相邻站间距信息统计表\n",
      "s in loop:朱辛庄——育知路\n",
      "s in loop:育知路——平西府\n",
      "s in loop:平西府——回龙观东大街\n",
      "s in loop:回龙观东大街——霍营\n",
      "s in loop:霍营——育新\n",
      "s in loop:育新——西小口\n",
      "s in loop:西小口——永泰庄\n",
      "s in loop:永泰庄——林萃桥\n",
      "s in loop:林萃桥——森林公园南门\n",
      "s in loop:森林公园南门——奥林匹克公园\n",
      "s in loop:奥林匹克公园——奥体中心\n",
      "s in loop:奥体中心——北土城\n",
      "s in loop:北土城——安华桥\n",
      "s in loop:安华桥——安德里北街\n",
      "s in loop:安德里北街——鼓楼大街\n",
      "s in loop:鼓楼大街——什刹海\n",
      "s in loop:什刹海——南锣鼓巷\n",
      "['什刹海', '南锣鼓巷']\n",
      "<caption>北京地铁10号线车站列表<br/>　　</caption> None\n",
      "<caption>北京地铁10号线车站信息</caption> 北京地铁10号线车站信息\n",
      "<caption>10号线相邻站间距信息统计表</caption> 10号线相邻站间距信息统计表\n",
      "s in loop:巴沟——苏州街\n",
      "s in loop:苏州街——海淀黄庄\n",
      "s in loop:海淀黄庄——知春里\n",
      "s in loop:知春里——知春路\n",
      "s in loop:知春路——西土城\n",
      "s in loop:西土城——牡丹园\n",
      "s in loop:牡丹园——健德门\n",
      "s in loop:健德门——北土城\n",
      "s in loop:北土城——安贞门\n",
      "s in loop:安贞门——惠新西街南口\n",
      "s in loop:惠新西街南口——芍药居\n",
      "s in loop:芍药居——太阳宫\n",
      "s in loop:太阳宫——三元桥\n",
      "s in loop:三元桥——亮马桥\n",
      "s in loop:亮马桥——农业展览馆\n",
      "s in loop:农业展览馆——团结湖\n",
      "s in loop:团结湖——呼家楼\n",
      "s in loop:呼家楼——金台夕照\n",
      "s in loop:金台夕照——国贸\n",
      "s in loop:国贸——双井\n",
      "s in loop:双井——劲松\n",
      "s in loop:劲松——潘家园\n",
      "s in loop:潘家园——十里河\n",
      "s in loop:十里河——分钟寺\n",
      "s in loop:分钟寺——成寿寺\n",
      "s in loop:成寿寺——宋家庄\n",
      "s in loop:宋家庄——石榴庄\n",
      "s in loop:石榴庄——大红门\n",
      "s in loop:大红门——角门东\n",
      "s in loop:角门东——角门西\n",
      "s in loop:角门西——草桥\n",
      "s in loop:草桥——纪家庙\n",
      "s in loop:纪家庙——首经贸\n",
      "s in loop:首经贸——丰台站\n",
      "s in loop:丰台站——泥洼\n",
      "s in loop:泥洼——西局\n",
      "s in loop:西局——六里桥\n",
      "s in loop:六里桥——莲花桥\n",
      "s in loop:莲花桥——公主坟\n",
      "s in loop:公主坟——西钓鱼台\n",
      "s in loop:西钓鱼台——慈寿寺\n",
      "s in loop:慈寿寺——车道沟\n",
      "s in loop:车道沟——长春桥\n",
      "s in loop:长春桥——火器营\n",
      "s in loop:火器营——巴沟\n",
      "['火器营', '巴沟']\n",
      "<caption>北京地铁机场线线路数据</caption> 北京地铁机场线线路数据\n",
      "<caption>北京地铁机场线车站信息</caption> 北京地铁机场线车站信息\n",
      "<caption>北京地铁机场线相邻站间距信息统计表</caption> 北京地铁机场线相邻站间距信息统计表\n",
      "s in loop:东直门——三元桥\n",
      "s in loop:三元桥——T3航站楼\n",
      "s in loop:T3航站楼——T2航站楼\n",
      "s in loop:T2航站楼——三元桥\n",
      "Warning: tr has unexpected numbers of children:<tr><td align=\"center\" colspan=\"3\" rowspan=\"1\" valign=\"middle\">参考资料：<sup class=\"sup--normal\" data-ctrmap=\":20,\" data-sup=\"20\">\n",
      "[20]</sup><a class=\"sup-anchor\" name=\"ref_[20]_1728883\"> </a>\n",
      "</td></tr>\n",
      "['T2航站楼', '三元桥']\n",
      "<caption>北京地铁4号线、大兴线线路数据表</caption> 北京地铁4号线、大兴线线路数据表\n",
      "<caption>北京地铁4号线、大兴线车站列表</caption> 北京地铁4号线、大兴线车站列表\n",
      "<caption>4号线相邻站间距信息统计表</caption> 4号线相邻站间距信息统计表\n"
     ]
    },
    {
     "ename": "UnboundLocalError",
     "evalue": "local variable 's' referenced before assignment",
     "output_type": "error",
     "traceback": [
      "\u001b[0;31m---------------------------------------------------------------------------\u001b[0m",
      "\u001b[0;31mUnboundLocalError\u001b[0m                         Traceback (most recent call last)",
      "\u001b[0;32m<ipython-input-133-6a201fd0eecc>\u001b[0m in \u001b[0;36m<module>\u001b[0;34m\u001b[0m\n\u001b[1;32m      3\u001b[0m     \u001b[0mcurrent_response\u001b[0m \u001b[0;34m=\u001b[0m \u001b[0mrequests\u001b[0m\u001b[0;34m.\u001b[0m\u001b[0mget\u001b[0m\u001b[0;34m(\u001b[0m\u001b[0msubway_url\u001b[0m\u001b[0;34m,\u001b[0m \u001b[0mheaders\u001b[0m\u001b[0;34m=\u001b[0m\u001b[0mheaders\u001b[0m\u001b[0;34m)\u001b[0m\u001b[0;34m\u001b[0m\u001b[0;34m\u001b[0m\u001b[0m\n\u001b[1;32m      4\u001b[0m     \u001b[0mcurrent_response\u001b[0m\u001b[0;34m.\u001b[0m\u001b[0mencoding\u001b[0m \u001b[0;34m=\u001b[0m \u001b[0;34m'utf-8'\u001b[0m\u001b[0;34m\u001b[0m\u001b[0;34m\u001b[0m\u001b[0m\n\u001b[0;32m----> 5\u001b[0;31m     \u001b[0msubways\u001b[0m\u001b[0;34m[\u001b[0m\u001b[0msubway_name\u001b[0m\u001b[0;34m]\u001b[0m \u001b[0;34m=\u001b[0m \u001b[0mSubwayLine\u001b[0m\u001b[0;34m(\u001b[0m\u001b[0mBeautifulSoup\u001b[0m\u001b[0;34m(\u001b[0m\u001b[0mcurrent_response\u001b[0m\u001b[0;34m.\u001b[0m\u001b[0mtext\u001b[0m\u001b[0;34m)\u001b[0m\u001b[0;34m)\u001b[0m\u001b[0;34m\u001b[0m\u001b[0;34m\u001b[0m\u001b[0m\n\u001b[0m\u001b[1;32m      6\u001b[0m \u001b[0;34m\u001b[0m\u001b[0m\n",
      "\u001b[0;32m<ipython-input-132-3b003641def0>\u001b[0m in \u001b[0;36m__init__\u001b[0;34m(self, soup)\u001b[0m\n\u001b[1;32m      3\u001b[0m     \u001b[0;32mdef\u001b[0m \u001b[0m__init__\u001b[0m\u001b[0;34m(\u001b[0m\u001b[0mself\u001b[0m\u001b[0;34m,\u001b[0m \u001b[0msoup\u001b[0m\u001b[0;34m)\u001b[0m\u001b[0;34m:\u001b[0m\u001b[0;34m\u001b[0m\u001b[0;34m\u001b[0m\u001b[0m\n\u001b[1;32m      4\u001b[0m         \u001b[0mself\u001b[0m\u001b[0;34m.\u001b[0m\u001b[0msoup\u001b[0m \u001b[0;34m=\u001b[0m \u001b[0msoup\u001b[0m\u001b[0;34m\u001b[0m\u001b[0;34m\u001b[0m\u001b[0m\n\u001b[0;32m----> 5\u001b[0;31m         \u001b[0mself\u001b[0m\u001b[0;34m.\u001b[0m\u001b[0mstations\u001b[0m\u001b[0;34m,\u001b[0m \u001b[0mself\u001b[0m\u001b[0;34m.\u001b[0m\u001b[0mstation_distaneces\u001b[0m\u001b[0;34m,\u001b[0m \u001b[0mself\u001b[0m\u001b[0;34m.\u001b[0m\u001b[0mbidirections\u001b[0m \u001b[0;34m=\u001b[0m \u001b[0mSubwayLine\u001b[0m\u001b[0;34m.\u001b[0m\u001b[0mparse_station_distance\u001b[0m\u001b[0;34m(\u001b[0m\u001b[0msoup\u001b[0m\u001b[0;34m)\u001b[0m\u001b[0;34m\u001b[0m\u001b[0;34m\u001b[0m\u001b[0m\n\u001b[0m\u001b[1;32m      6\u001b[0m \u001b[0;34m\u001b[0m\u001b[0m\n\u001b[1;32m      7\u001b[0m     \u001b[0;34m@\u001b[0m\u001b[0mstaticmethod\u001b[0m\u001b[0;34m\u001b[0m\u001b[0;34m\u001b[0m\u001b[0m\n",
      "\u001b[0;32m<ipython-input-132-3b003641def0>\u001b[0m in \u001b[0;36mparse_station_distance\u001b[0;34m(soup)\u001b[0m\n\u001b[1;32m     35\u001b[0m \u001b[0;34m\u001b[0m\u001b[0m\n\u001b[1;32m     36\u001b[0m \u001b[0;31m#         s = next(tr.contents[0].strings)\u001b[0m\u001b[0;34m\u001b[0m\u001b[0;34m\u001b[0m\u001b[0;34m\u001b[0m\u001b[0m\n\u001b[0;32m---> 37\u001b[0;31m         \u001b[0;32mif\u001b[0m \u001b[0ms\u001b[0m \u001b[0;32mis\u001b[0m \u001b[0;32mNone\u001b[0m\u001b[0;34m:\u001b[0m\u001b[0;34m\u001b[0m\u001b[0;34m\u001b[0m\u001b[0m\n\u001b[0m\u001b[1;32m     38\u001b[0m             \u001b[0mprint\u001b[0m\u001b[0;34m(\u001b[0m\u001b[0;34m\"out of loop is None\"\u001b[0m\u001b[0;34m)\u001b[0m\u001b[0;34m\u001b[0m\u001b[0;34m\u001b[0m\u001b[0m\n\u001b[1;32m     39\u001b[0m         \u001b[0mprint\u001b[0m\u001b[0;34m(\u001b[0m\u001b[0ms\u001b[0m\u001b[0;34m.\u001b[0m\u001b[0msplit\u001b[0m\u001b[0;34m(\u001b[0m\u001b[0;34m'——'\u001b[0m\u001b[0;34m)\u001b[0m\u001b[0;34m)\u001b[0m\u001b[0;34m\u001b[0m\u001b[0;34m\u001b[0m\u001b[0m\n",
      "\u001b[0;31mUnboundLocalError\u001b[0m: local variable 's' referenced before assignment"
     ]
    }
   ],
   "source": [
    "subways = {}\n",
    "for subway_name,subway_url in all_subway_url.items():\n",
    "    current_response = requests.get(subway_url, headers=headers)\n",
    "    current_response.encoding = 'utf-8'\n",
    "    subways[subway_name] = SubwayLine(BeautifulSoup(current_response.text))\n",
    "    "
   ]
  },
  {
   "cell_type": "code",
   "execution_count": 142,
   "metadata": {},
   "outputs": [
    {
     "name": "stdout",
     "output_type": "stream",
     "text": [
      "/anaconda3/bin/python\n"
     ]
    }
   ],
   "source": [
    "import sys\n",
    "print(sys.executable)\n"
   ]
  },
  {
   "cell_type": "code",
   "execution_count": 140,
   "metadata": {},
   "outputs": [
    {
     "data": {
      "text/plain": [
       "[]"
      ]
     },
     "execution_count": 140,
     "metadata": {},
     "output_type": "execute_result"
    }
   ],
   "source": [
    "user_paths"
   ]
  },
  {
   "cell_type": "code",
   "execution_count": 99,
   "metadata": {
    "scrolled": true
   },
   "outputs": [
    {
     "data": {
      "text/plain": [
       "(['苹果园',\n",
       "  '古城',\n",
       "  '八角游乐园',\n",
       "  '八宝山',\n",
       "  '玉泉路',\n",
       "  '五棵松',\n",
       "  '万寿路',\n",
       "  '公主坟',\n",
       "  '军事博物馆',\n",
       "  '木樨地',\n",
       "  '南礼士路',\n",
       "  '复兴门',\n",
       "  '西单',\n",
       "  '天安门西',\n",
       "  '天安门东',\n",
       "  '王府井',\n",
       "  '东单',\n",
       "  '建国门',\n",
       "  '永安里',\n",
       "  '国贸',\n",
       "  '大望路',\n",
       "  '四惠',\n",
       "  '四惠东'],\n",
       " {'苹果园——古城': 2606.0,\n",
       "  '古城——八角游乐园': 1921.0,\n",
       "  '八角游乐园——八宝山': 1953.0,\n",
       "  '八宝山——玉泉路': 1479.0,\n",
       "  '玉泉路——五棵松': 1810.0,\n",
       "  '五棵松——万寿路': 1778.0,\n",
       "  '万寿路——公主坟': 1313.0,\n",
       "  '公主坟——军事博物馆': 1172.0,\n",
       "  '军事博物馆——木樨地': 1166.0,\n",
       "  '木樨地——南礼士路': 1291.0,\n",
       "  '南礼士路——复兴门': 424.0,\n",
       "  '复兴门——西单': 1590.0,\n",
       "  '西单——天安门西': 1217.0,\n",
       "  '天安门西——天安门东': 925.0,\n",
       "  '天安门东——王府井': 852.0,\n",
       "  '王府井——东单': 774.0,\n",
       "  '东单——建国门': 1230.0,\n",
       "  '建国门——永安里': 1377.0,\n",
       "  '永安里——国贸': 790.0,\n",
       "  '国贸——大望路': 1385.0,\n",
       "  '大望路——四惠': 1673.0,\n",
       "  '四惠——四惠东': 1714.0},\n",
       " {'苹果园——古城': '上行/下行',\n",
       "  '古城——八角游乐园': '上行/下行',\n",
       "  '八角游乐园——八宝山': '上行/下行',\n",
       "  '八宝山——玉泉路': '上行/下行',\n",
       "  '玉泉路——五棵松': '上行/下行',\n",
       "  '五棵松——万寿路': '上行/下行',\n",
       "  '万寿路——公主坟': '上行/下行',\n",
       "  '公主坟——军事博物馆': '上行/下行',\n",
       "  '军事博物馆——木樨地': '上行/下行',\n",
       "  '木樨地——南礼士路': '上行/下行',\n",
       "  '南礼士路——复兴门': '上行/下行',\n",
       "  '复兴门——西单': '上行/下行',\n",
       "  '西单——天安门西': '上行/下行',\n",
       "  '天安门西——天安门东': '上行/下行',\n",
       "  '天安门东——王府井': '上行/下行',\n",
       "  '王府井——东单': '上行/下行',\n",
       "  '东单——建国门': '上行/下行',\n",
       "  '建国门——永安里': '上行/下行',\n",
       "  '永安里——国贸': '上行/下行',\n",
       "  '国贸——大望路': '上行/下行',\n",
       "  '大望路——四惠': '上行/下行',\n",
       "  '四惠——四惠东': '上行/下行'})"
      ]
     },
     "execution_count": 99,
     "metadata": {},
     "output_type": "execute_result"
    }
   ],
   "source": [
    "subways['北京地铁1号线'].stations, subways['北京地铁1号线'].station_distaneces, subways['北京地铁1号线'].bidirections"
   ]
  },
  {
   "cell_type": "markdown",
   "metadata": {},
   "source": [
    "##### 2.\tPreprocessing data from page source.\n",
    "\n",
    "> a.\tBased on the page source gotten from url. You may need some more preprocessing of the page. \n",
    "\n",
    "> b.\tthe Regular Expression you may need to process the text information.\n",
    "\n",
    "> c.\tYou may need @package networkx, @package matplotlib to visualize data. \n",
    "\n",
    "> d.\tYou should build a dictionary or graph which could represent the connection information of Beijing subway routes. \n",
    "\n",
    "> e.\tYou may need the defaultdict, set data structures to implement this procedure. "
   ]
  },
  {
   "cell_type": "markdown",
   "metadata": {},
   "source": [
    "##### 3. Build the search agent\n",
    "\n",
    "> a.\tBuild the search agent based on the graph we build.\n",
    "\n",
    "> b.\tAs much as you can to use the already implemented search agent. You just need to define the is_goal, get_successor, strategy three functions. \n"
   ]
  },
  {
   "cell_type": "markdown",
   "metadata": {},
   "source": [
    "##### 4.\tCreate different policies for transfer system.\n",
    "\n",
    "> a.\tDefine different policies for transfer system. \n",
    "\n",
    "> b.\tSuch as Shortest Path Priority（路程最短优先）, Minimum Transfer Priority(最少换乘优先), Comprehensive Priority(综合优先)\n",
    "\n",
    "> c.\tImplement Continuous transfer. Based on the Agent you implemented, please add this feature: Besides the @param start and @param destination two stations, add some more stations, we called @param by_way, it means, our path should from the start and end, but also include the  @param by_way stations. \n",
    "\n",
    "e.g \n",
    "```\n",
    "1. Input:  start=A,  destination=B, by_way=[C] \n",
    "    Output: [A, … .., C, …. B]\n",
    "2. Input: start=A, destination=B, by_way=[C, D, E]\n",
    "    Output: [A … C … E … D … B]  \n",
    "    # based on your policy, the E station could be reached firstly. \n",
    "![image.png](attachment:image.png)\n",
    "```"
   ]
  },
  {
   "cell_type": "markdown",
   "metadata": {},
   "source": [
    "##### 5.\tTest your result with commercial applications. \n",
    "\n",
    "将你的结果和高德地图或者百度地图进行比较，如果有不同，请分析原因\n"
   ]
  }
 ],
 "metadata": {
  "kernelspec": {
   "display_name": "Python 3",
   "language": "python",
   "name": "python3"
  },
  "language_info": {
   "codemirror_mode": {
    "name": "ipython",
    "version": 3
   },
   "file_extension": ".py",
   "mimetype": "text/x-python",
   "name": "python",
   "nbconvert_exporter": "python",
   "pygments_lexer": "ipython3",
   "version": "3.7.1"
  }
 },
 "nbformat": 4,
 "nbformat_minor": 2
}
