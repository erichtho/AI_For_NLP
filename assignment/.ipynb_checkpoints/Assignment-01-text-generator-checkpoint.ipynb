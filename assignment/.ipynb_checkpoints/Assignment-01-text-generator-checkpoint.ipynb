{
 "cells": [
  {
   "cell_type": "code",
   "execution_count": 1,
   "metadata": {},
   "outputs": [],
   "source": [
    "decimal_grammar = \"\"\"\n",
    "expression = operator op operator\n",
    "operator = num op num\n",
    "num = 0 | 1 | 2 | 3 | 4 | 5 | 6 | 7 | 8 | 9 | num num\n",
    "op = + | - | * | /\n",
    "\"\"\"\n",
    "\n",
    "text_grammar = \"\"\"\n",
    "sentence => noun_phrase verb_phrase \n",
    "noun_phrase => Article Adj* noun\n",
    "Adj* => null | Adj Adj*\n",
    "verb_phrase => verb noun_phrase\n",
    "Article =>  一个 | 这个\n",
    "noun =>   女人 |  篮球 | 桌子 | 小猫\n",
    "verb => 看着   |  坐在 |  听着 | 看见\n",
    "Adj =>   蓝色的 |  好看的 | 小小的\n",
    "\"\"\""
   ]
  },
  {
   "cell_type": "code",
   "execution_count": 12,
   "metadata": {},
   "outputs": [
    {
     "name": "stdout",
     "output_type": "stream",
     "text": [
      "{'sentence': [['noun_phrase', 'verb_phrase']], 'noun_phrase': [['Article', 'Adj*', 'noun']], 'Adj*': [['null'], ['Adj', 'Adj*']], 'verb_phrase': [['verb', 'noun_phrase']], 'Article': [['一个'], ['这个']], 'noun': [['女人'], ['篮球'], ['桌子'], ['小猫']], 'verb': [['看着'], ['坐在'], ['听着'], ['看见']], 'Adj': [['蓝色的'], ['好看的'], ['小小的']]}\n"
     ]
    }
   ],
   "source": [
    "def grammar_parser(gram_str, sep1='=>', sep2='|'):\n",
    "    gram = {}\n",
    "    for line in gram_str.strip().split('\\n'):\n",
    "        pre_state, post_state = (w.strip() for w in line.strip().split(sep1))\n",
    "        post_state = [[ww.strip() for ww in w.strip().split()] for w in post_state.split(sep2)]\n",
    "        gram[pre_state] = post_state\n",
    "    return gram\n",
    "print(grammar_parser(text_grammar))"
   ]
  },
  {
   "cell_type": "code",
   "execution_count": 23,
   "metadata": {},
   "outputs": [
    {
     "name": "stdout",
     "output_type": "stream",
     "text": [
      "一个小猫听着这个蓝色的桌子\n",
      "2+2+0+4\n"
     ]
    }
   ],
   "source": [
    "import random\n",
    "def text_generator(parsed_grammar, start):\n",
    "    if start not in parsed_grammar:\n",
    "        return start if start!='null' else ''\n",
    "    \n",
    "    states = random.choice(parsed_grammar[start])\n",
    "    return ''.join([text_generator(parsed_grammar, state) for state in states])\n",
    "\n",
    "print(text_generator(grammar_parser(text_grammar), 'sentence'))\n",
    "print(text_generator(grammar_parser(decimal_grammar, '='), 'expression'))"
   ]
  },
  {
   "cell_type": "code",
   "execution_count": null,
   "metadata": {},
   "outputs": [],
   "source": []
  }
 ],
 "metadata": {
  "kernelspec": {
   "display_name": "Python 3",
   "language": "python",
   "name": "python3"
  },
  "language_info": {
   "codemirror_mode": {
    "name": "ipython",
    "version": 3
   },
   "file_extension": ".py",
   "mimetype": "text/x-python",
   "name": "python",
   "nbconvert_exporter": "python",
   "pygments_lexer": "ipython3",
   "version": "3.7.1"
  }
 },
 "nbformat": 4,
 "nbformat_minor": 2
}
